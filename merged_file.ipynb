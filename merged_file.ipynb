{
 "cells": [
  {
   "attachments": {},
   "cell_type": "markdown",
   "metadata": {},
   "source": [
    "# OBJECTIVE\n",
    "A research project to measure the impact of Clean Water and Sanitation on standard of living\n",
    "\n",
    "## ABOUT DATASET\n",
    "* Total official development assistance (gross disbursement) for water supply and sanitation, by recipient countries (millions of constant 2020 United States dollars).\n",
    "* Population by country, available from 10,000 BCE to 2100 based on Gapminder data, HYDE, and UN Population Division (2022) estimates.\n",
    "* GDP per capita based on purchasing power parity (PPP). PPP GDP is gross domestic product converted to international dollars using purchasing power parity rates."
   ]
  },
  {
   "cell_type": "code",
   "execution_count": 1,
   "metadata": {},
   "outputs": [],
   "source": [
    "import pandas as pd\n",
    "import numpy as np\n",
    "import plotly.express as px\n",
    "import seaborn as sns"
   ]
  },
  {
   "cell_type": "code",
   "execution_count": 2,
   "metadata": {},
   "outputs": [],
   "source": [
    "df_wat_san=pd.read_csv('water-and-sanitation.csv')\n",
    "df_sup = pd.read_csv(\"total-oda-for-water-supply-and-sanitation-by-recipient (1).csv\")\n",
    "df_pop = pd.read_csv(\"population.csv\")\n",
    "df_gdp = pd.read_csv(\"gdp-per-capita-in-us-dollar-world-bank.csv\")"
   ]
  },
  {
   "attachments": {},
   "cell_type": "markdown",
   "metadata": {},
   "source": [
    "The column name was changed in order to make it more practical in my work, as the column name was too long, with .rename"
   ]
  },
  {
   "cell_type": "code",
   "execution_count": 3,
   "metadata": {},
   "outputs": [],
   "source": [
    "df_sup = df_sup.rename(columns={'6.a.1 - Total official development assistance (gross disbursement) for water supply and sanitation, by recipient countries (millions of constant 2020 United States dollars) - DC_TOF_WASHL': 'flow'})"
   ]
  },
  {
   "attachments": {},
   "cell_type": "markdown",
   "metadata": {},
   "source": [
    "\"I don't need such a large dataset as the 'population.csv' file spans from 10000 BC to 2021. Since the dataset containing investment funds only goes from 2000 to 2020, I extracted those years from 'population.csv' and created a new CSV file called 'new_population.csv'"
   ]
  },
  {
   "cell_type": "code",
   "execution_count": 4,
   "metadata": {},
   "outputs": [],
   "source": [
    "# Convert year column to integer\n",
    "df_pop['Year'] = pd.to_numeric(df_pop['Year'], errors='coerce')\n",
    "\n",
    "# Filter data between 2000 and 2020\n",
    "df_pop_2000_to_2020 = df_pop[(df_pop['Year'] >= 2000) & (df_pop['Year'] <= 2020)]\n",
    "\n",
    "df_pop_2000_to_2020.to_csv('new_population.csv', index=False)"
   ]
  },
  {
   "cell_type": "code",
   "execution_count": 5,
   "metadata": {},
   "outputs": [],
   "source": [
    "df_new_pop = pd.read_csv(\"new_population.csv\")"
   ]
  },
  {
   "attachments": {},
   "cell_type": "markdown",
   "metadata": {},
   "source": [
    "We are performing the process of merging the 'new_population' and investment files."
   ]
  },
  {
   "cell_type": "code",
   "execution_count": 6,
   "metadata": {},
   "outputs": [],
   "source": [
    "merged_df = pd.merge(df_new_pop, df_sup, on=['Entity', 'Year'])"
   ]
  },
  {
   "attachments": {},
   "cell_type": "markdown",
   "metadata": {},
   "source": [
    "The a/b ratio represents the investment/population for all countries. With this calculation, we can see the per capita aid fund."
   ]
  },
  {
   "cell_type": "code",
   "execution_count": 7,
   "metadata": {},
   "outputs": [],
   "source": [
    "all_countries = merged_df[['Entity', 'Year', 'Population (historical estimates)', 'flow']].groupby(['Entity', 'Year']).sum().reset_index()"
   ]
  },
  {
   "cell_type": "code",
   "execution_count": 8,
   "metadata": {},
   "outputs": [],
   "source": [
    "a_b_list = []\n",
    "for country in all_countries['Entity'].unique():\n",
    "    country_data = all_countries[all_countries['Entity'] == country]\n",
    "    for year in country_data['Year']:\n",
    "        b = country_data[country_data['Year'] == year]['Population (historical estimates)'].values[0]\n",
    "        a = country_data[country_data['Year'] == year]['flow'].values[0]\n",
    "        a_b = a / b\n",
    "        a_b_list.append({'Entity': country, 'Year': year, 'a_b_ratio': a_b})\n",
    "\n",
    "a_b_df = pd.DataFrame(a_b_list)"
   ]
  },
  {
   "cell_type": "code",
   "execution_count": 9,
   "metadata": {},
   "outputs": [],
   "source": [
    "a_b_df.to_csv(\"new_ratio.csv\", index=False)"
   ]
  },
  {
   "cell_type": "code",
   "execution_count": 10,
   "metadata": {},
   "outputs": [],
   "source": [
    "a_b_df_2 = pd.read_csv(\"new_ratio.csv\")"
   ]
  },
  {
   "attachments": {},
   "cell_type": "markdown",
   "metadata": {},
   "source": [
    "We have created the a/b dataframe and converted it to a CSV file. Let's take a general overview of it."
   ]
  },
  {
   "cell_type": "code",
   "execution_count": 11,
   "metadata": {},
   "outputs": [
    {
     "name": "stdout",
     "output_type": "stream",
     "text": [
      "<class 'pandas.core.frame.DataFrame'>\n",
      "RangeIndex: 2993 entries, 0 to 2992\n",
      "Data columns (total 3 columns):\n",
      " #   Column     Non-Null Count  Dtype  \n",
      "---  ------     --------------  -----  \n",
      " 0   Entity     2993 non-null   object \n",
      " 1   Year       2993 non-null   int64  \n",
      " 2   a_b_ratio  2993 non-null   float64\n",
      "dtypes: float64(1), int64(1), object(1)\n",
      "memory usage: 70.3+ KB\n"
     ]
    }
   ],
   "source": [
    "a_b_df.info()"
   ]
  },
  {
   "cell_type": "code",
   "execution_count": 12,
   "metadata": {},
   "outputs": [
    {
     "data": {
      "text/html": [
       "<div>\n",
       "<style scoped>\n",
       "    .dataframe tbody tr th:only-of-type {\n",
       "        vertical-align: middle;\n",
       "    }\n",
       "\n",
       "    .dataframe tbody tr th {\n",
       "        vertical-align: top;\n",
       "    }\n",
       "\n",
       "    .dataframe thead th {\n",
       "        text-align: right;\n",
       "    }\n",
       "</style>\n",
       "<table border=\"1\" class=\"dataframe\">\n",
       "  <thead>\n",
       "    <tr style=\"text-align: right;\">\n",
       "      <th></th>\n",
       "      <th>Entity</th>\n",
       "      <th>Year</th>\n",
       "      <th>a_b_ratio</th>\n",
       "    </tr>\n",
       "  </thead>\n",
       "  <tbody>\n",
       "    <tr>\n",
       "      <th>0</th>\n",
       "      <td>Afghanistan</td>\n",
       "      <td>2000</td>\n",
       "      <td>0.237425</td>\n",
       "    </tr>\n",
       "    <tr>\n",
       "      <th>1</th>\n",
       "      <td>Afghanistan</td>\n",
       "      <td>2001</td>\n",
       "      <td>0.067044</td>\n",
       "    </tr>\n",
       "    <tr>\n",
       "      <th>2</th>\n",
       "      <td>Afghanistan</td>\n",
       "      <td>2002</td>\n",
       "      <td>0.629516</td>\n",
       "    </tr>\n",
       "    <tr>\n",
       "      <th>3</th>\n",
       "      <td>Afghanistan</td>\n",
       "      <td>2003</td>\n",
       "      <td>1.139759</td>\n",
       "    </tr>\n",
       "    <tr>\n",
       "      <th>4</th>\n",
       "      <td>Afghanistan</td>\n",
       "      <td>2004</td>\n",
       "      <td>1.778500</td>\n",
       "    </tr>\n",
       "    <tr>\n",
       "      <th>5</th>\n",
       "      <td>Afghanistan</td>\n",
       "      <td>2005</td>\n",
       "      <td>4.293112</td>\n",
       "    </tr>\n",
       "    <tr>\n",
       "      <th>6</th>\n",
       "      <td>Afghanistan</td>\n",
       "      <td>2006</td>\n",
       "      <td>2.488706</td>\n",
       "    </tr>\n",
       "    <tr>\n",
       "      <th>7</th>\n",
       "      <td>Afghanistan</td>\n",
       "      <td>2007</td>\n",
       "      <td>1.906320</td>\n",
       "    </tr>\n",
       "    <tr>\n",
       "      <th>8</th>\n",
       "      <td>Afghanistan</td>\n",
       "      <td>2008</td>\n",
       "      <td>3.689758</td>\n",
       "    </tr>\n",
       "    <tr>\n",
       "      <th>9</th>\n",
       "      <td>Afghanistan</td>\n",
       "      <td>2009</td>\n",
       "      <td>3.037395</td>\n",
       "    </tr>\n",
       "    <tr>\n",
       "      <th>10</th>\n",
       "      <td>Afghanistan</td>\n",
       "      <td>2010</td>\n",
       "      <td>3.819839</td>\n",
       "    </tr>\n",
       "    <tr>\n",
       "      <th>11</th>\n",
       "      <td>Afghanistan</td>\n",
       "      <td>2011</td>\n",
       "      <td>5.534519</td>\n",
       "    </tr>\n",
       "    <tr>\n",
       "      <th>12</th>\n",
       "      <td>Afghanistan</td>\n",
       "      <td>2012</td>\n",
       "      <td>4.290945</td>\n",
       "    </tr>\n",
       "    <tr>\n",
       "      <th>13</th>\n",
       "      <td>Afghanistan</td>\n",
       "      <td>2013</td>\n",
       "      <td>4.634888</td>\n",
       "    </tr>\n",
       "    <tr>\n",
       "      <th>14</th>\n",
       "      <td>Afghanistan</td>\n",
       "      <td>2014</td>\n",
       "      <td>2.919959</td>\n",
       "    </tr>\n",
       "    <tr>\n",
       "      <th>15</th>\n",
       "      <td>Afghanistan</td>\n",
       "      <td>2015</td>\n",
       "      <td>2.287466</td>\n",
       "    </tr>\n",
       "    <tr>\n",
       "      <th>16</th>\n",
       "      <td>Afghanistan</td>\n",
       "      <td>2016</td>\n",
       "      <td>3.994952</td>\n",
       "    </tr>\n",
       "    <tr>\n",
       "      <th>17</th>\n",
       "      <td>Afghanistan</td>\n",
       "      <td>2017</td>\n",
       "      <td>2.676511</td>\n",
       "    </tr>\n",
       "    <tr>\n",
       "      <th>18</th>\n",
       "      <td>Afghanistan</td>\n",
       "      <td>2018</td>\n",
       "      <td>3.813362</td>\n",
       "    </tr>\n",
       "    <tr>\n",
       "      <th>19</th>\n",
       "      <td>Afghanistan</td>\n",
       "      <td>2019</td>\n",
       "      <td>3.877468</td>\n",
       "    </tr>\n",
       "    <tr>\n",
       "      <th>20</th>\n",
       "      <td>Afghanistan</td>\n",
       "      <td>2020</td>\n",
       "      <td>3.599742</td>\n",
       "    </tr>\n",
       "  </tbody>\n",
       "</table>\n",
       "</div>"
      ],
      "text/plain": [
       "         Entity  Year  a_b_ratio\n",
       "0   Afghanistan  2000   0.237425\n",
       "1   Afghanistan  2001   0.067044\n",
       "2   Afghanistan  2002   0.629516\n",
       "3   Afghanistan  2003   1.139759\n",
       "4   Afghanistan  2004   1.778500\n",
       "5   Afghanistan  2005   4.293112\n",
       "6   Afghanistan  2006   2.488706\n",
       "7   Afghanistan  2007   1.906320\n",
       "8   Afghanistan  2008   3.689758\n",
       "9   Afghanistan  2009   3.037395\n",
       "10  Afghanistan  2010   3.819839\n",
       "11  Afghanistan  2011   5.534519\n",
       "12  Afghanistan  2012   4.290945\n",
       "13  Afghanistan  2013   4.634888\n",
       "14  Afghanistan  2014   2.919959\n",
       "15  Afghanistan  2015   2.287466\n",
       "16  Afghanistan  2016   3.994952\n",
       "17  Afghanistan  2017   2.676511\n",
       "18  Afghanistan  2018   3.813362\n",
       "19  Afghanistan  2019   3.877468\n",
       "20  Afghanistan  2020   3.599742"
      ]
     },
     "execution_count": 12,
     "metadata": {},
     "output_type": "execute_result"
    }
   ],
   "source": [
    "a_b_df.head(21)"
   ]
  },
  {
   "cell_type": "code",
   "execution_count": 13,
   "metadata": {},
   "outputs": [
    {
     "name": "stdout",
     "output_type": "stream",
     "text": [
      "Minimum a_b_ratio value: 0.0\n",
      "Mean a_b_ratio value: 8.265309157417203\n",
      "Maximum a_b_ratio value: 471.23015873015873\n"
     ]
    }
   ],
   "source": [
    "# Minimum value of a_b_ratio column\n",
    "min_value = a_b_df['a_b_ratio'].min()\n",
    "print(\"Minimum a_b_ratio value:\", min_value)\n",
    "\n",
    "# Mean value of a_b_ratio column\n",
    "mean_value = a_b_df['a_b_ratio'].mean()\n",
    "print(\"Mean a_b_ratio value:\", mean_value)\n",
    "\n",
    "# Maximum value of a_b_ratio column\n",
    "max_value = a_b_df['a_b_ratio'].max()\n",
    "print(\"Maximum a_b_ratio value:\", max_value)"
   ]
  },
  {
   "attachments": {},
   "cell_type": "markdown",
   "metadata": {},
   "source": [
    "When creating the map, we performed the plotting process by taking the minimum value as the lower limit and average value as the upper limit in the numerical values of the color scale. The reason for taking the average value as the upper limit is to give meaning to the map within each range. If we had taken the maximum value as the upper limit, the a/b values would have been close to the lower and upper limits, resulting in insufficient distinct colors and rendering the map meaningless.\n",
    "\n",
    "This way, we can visualize each range with its corresponding colors."
   ]
  },
  {
   "cell_type": "code",
   "execution_count": 41,
   "metadata": {},
   "outputs": [
    {
     "data": {
      "application/vnd.plotly.v1+json": {
       "config": {
        "plotlyServerURL": "https://plot.ly"
       },
       "data": [
        {
         "coloraxis": "coloraxis",
         "geo": "geo",
         "hovertemplate": "Year=2000<br>Entity=%{location}<br>a_b_ratio=%{z}<extra></extra>",
         "locationmode": "country names",
         "locations": [
          "Afghanistan",
          "Africa (UN)",
          "Algeria",
          "Angola",
          "Anguilla",
          "Argentina",
          "Armenia",
          "Asia (UN)",
          "Azerbaijan",
          "Bangladesh",
          "Benin",
          "Bhutan",
          "Bolivia",
          "Bosnia and Herzegovina",
          "Brazil",
          "Burkina Faso",
          "Burundi",
          "Cambodia",
          "Cameroon",
          "Cape Verde",
          "Central African Republic",
          "Chad",
          "Chile",
          "China",
          "Colombia",
          "Congo",
          "Cook Islands",
          "Costa Rica",
          "Cote d'Ivoire",
          "Croatia",
          "Cuba",
          "Democratic Republic of Congo",
          "Djibouti",
          "Dominican Republic",
          "Ecuador",
          "Egypt",
          "El Salvador",
          "Equatorial Guinea",
          "Eritrea",
          "Eswatini",
          "Ethiopia",
          "Europe (UN)",
          "Fiji",
          "Gabon",
          "Gambia",
          "Georgia",
          "Ghana",
          "Grenada",
          "Guatemala",
          "Guinea",
          "Guinea-Bissau",
          "Guyana",
          "Haiti",
          "Honduras",
          "India",
          "Indonesia",
          "Iran",
          "Iraq",
          "Jamaica",
          "Jordan",
          "Kazakhstan",
          "Kenya",
          "Kyrgyzstan",
          "Laos",
          "Latin America and the Caribbean (UN)",
          "Lebanon",
          "Lesotho",
          "Liberia",
          "Madagascar",
          "Malawi",
          "Malaysia",
          "Mali",
          "Mauritania",
          "Mauritius",
          "Mayotte",
          "Mexico",
          "Moldova",
          "Mongolia",
          "Montserrat",
          "Morocco",
          "Mozambique",
          "Myanmar",
          "Namibia",
          "Nepal",
          "Nicaragua",
          "Niger",
          "Nigeria",
          "North Korea",
          "North Macedonia",
          "Oceania (UN)",
          "Oman",
          "Pakistan",
          "Palestine",
          "Panama",
          "Papua New Guinea",
          "Paraguay",
          "Peru",
          "Philippines",
          "Rwanda",
          "Saint Helena",
          "Saint Lucia",
          "Samoa",
          "Sao Tome and Principe",
          "Saudi Arabia",
          "Senegal",
          "Serbia",
          "Sierra Leone",
          "Slovenia",
          "Solomon Islands",
          "Somalia",
          "South Africa",
          "Sri Lanka",
          "Sudan",
          "Suriname",
          "Syria",
          "Tajikistan",
          "Tanzania",
          "Thailand",
          "Timor",
          "Togo",
          "Tonga",
          "Tunisia",
          "Turkey",
          "Turkmenistan",
          "Turks and Caicos Islands",
          "Uganda",
          "Uzbekistan",
          "Venezuela",
          "Vietnam",
          "Yemen",
          "Zambia",
          "Zimbabwe"
         ],
         "name": "",
         "type": "choropleth",
         "z": [
          0.23742533510488112,
          1.7526788967223361,
          0.018196810463062034,
          1.6518170872425981,
          9.032607713846987,
          0.0018882800714266216,
          4.307998201055696,
          0.7154745428534584,
          6.409989523024743,
          0.7251922034121017,
          5.237194167151804,
          9.076820898826655,
          11.019875577469877,
          4.744751283391815,
          0.0171145531971259,
          5.577764881557492,
          1.6852511983436025,
          2.0191694851423123,
          0.3882955270873237,
          1.8112067874428814,
          0.06384381249710708,
          4.489569379102726,
          0.028009739312053444,
          0.47717778879913614,
          0.005865082298834817,
          0.2137819819440376,
          22.613065326633166,
          0.24879441514338727,
          1.0375207504150084,
          0.07914805038564887,
          0.06212970358998934,
          0.044840902011357174,
          2.7895844731997745,
          6.556770509519612,
          5.318967369529081,
          1.5793448151365124,
          0.5706151331832504,
          0.13138954664766872,
          0.2591011363674355,
          0.07763191603331962,
          0.16231084818875416,
          0.36690725812628394,
          0.5165065896631416,
          0.08641406003891774,
          0.16695187612170792,
          0.18756557468333657,
          3.100352464869198,
          78.83323095251392,
          2.256325956618725,
          1.029150508224028,
          0.3655995222832909,
          50.839262824101944,
          0.1076526179202854,
          18.51810957547155,
          0.1735694195536619,
          0.4137852118229002,
          0.9831506530384451,
          0.07511512916147967,
          8.288023557127834,
          36.640367455853955,
          0.504717169362342,
          0.6466438503489154,
          2.9745592110528785,
          7.1903870877219855,
          2.004795570984335,
          0.5230694455695324,
          2.3315948108506217,
          0.01726979109424505,
          1.1704177589743539,
          2.281515097004465,
          24.53895271646054,
          10.757086219425162,
          0.6938729166187387,
          5.60065135328514,
          6.845658659130161,
          1.9490475087788877,
          0.09878701308292864,
          0.1264796074072986,
          92.91521486643438,
          8.388543700064648,
          3.182596627404324,
          0.03293927710144902,
          1.4952054478250258,
          2.4589258805878162,
          14.510397068407915,
          5.852354273410256,
          0.42709932954766117,
          0.010698819500815335,
          27.28735880349765,
          0.8423337603079393,
          0.012797209866990067,
          0.10170375161171295,
          43.17584674915206,
          0.4863848876883992,
          2.2166548662926857,
          0.1190518709001512,
          12.370922067768072,
          0.2678357577771397,
          4.938351372393124,
          471.23015873015873,
          2.633014237084125,
          1.3041918901000966,
          35.41386915653765,
          0.0018563726348768423,
          2.6895318782175845,
          7.726505644659127,
          0.8071422930781659,
          8.92488632234714,
          4.860623369132949,
          0.3474186962855438,
          0.213828249390472,
          1.8011997417605763,
          0.14183168510719396,
          0.5427850299888729,
          0.9314641666225667,
          2.5968432015234812,
          1.6417271921787628,
          1.3206672742359808,
          4.30344036148899,
          0.08386509460881227,
          106.9966868056909,
          8.743267936384589,
          0.9317843398715042,
          0.0043771961213665165,
          2.1311737439394745,
          1.9658036752452364,
          0.09187357009219212,
          0.1346829906272101,
          2.1616142672566867,
          5.59029763959962,
          12.637572615492248,
          0.29996588838615734
         ]
        }
       ],
       "frames": [
        {
         "data": [
          {
           "coloraxis": "coloraxis",
           "geo": "geo",
           "hovertemplate": "Year=2000<br>Entity=%{location}<br>a_b_ratio=%{z}<extra></extra>",
           "locationmode": "country names",
           "locations": [
            "Afghanistan",
            "Africa (UN)",
            "Algeria",
            "Angola",
            "Anguilla",
            "Argentina",
            "Armenia",
            "Asia (UN)",
            "Azerbaijan",
            "Bangladesh",
            "Benin",
            "Bhutan",
            "Bolivia",
            "Bosnia and Herzegovina",
            "Brazil",
            "Burkina Faso",
            "Burundi",
            "Cambodia",
            "Cameroon",
            "Cape Verde",
            "Central African Republic",
            "Chad",
            "Chile",
            "China",
            "Colombia",
            "Congo",
            "Cook Islands",
            "Costa Rica",
            "Cote d'Ivoire",
            "Croatia",
            "Cuba",
            "Democratic Republic of Congo",
            "Djibouti",
            "Dominican Republic",
            "Ecuador",
            "Egypt",
            "El Salvador",
            "Equatorial Guinea",
            "Eritrea",
            "Eswatini",
            "Ethiopia",
            "Europe (UN)",
            "Fiji",
            "Gabon",
            "Gambia",
            "Georgia",
            "Ghana",
            "Grenada",
            "Guatemala",
            "Guinea",
            "Guinea-Bissau",
            "Guyana",
            "Haiti",
            "Honduras",
            "India",
            "Indonesia",
            "Iran",
            "Iraq",
            "Jamaica",
            "Jordan",
            "Kazakhstan",
            "Kenya",
            "Kyrgyzstan",
            "Laos",
            "Latin America and the Caribbean (UN)",
            "Lebanon",
            "Lesotho",
            "Liberia",
            "Madagascar",
            "Malawi",
            "Malaysia",
            "Mali",
            "Mauritania",
            "Mauritius",
            "Mayotte",
            "Mexico",
            "Moldova",
            "Mongolia",
            "Montserrat",
            "Morocco",
            "Mozambique",
            "Myanmar",
            "Namibia",
            "Nepal",
            "Nicaragua",
            "Niger",
            "Nigeria",
            "North Korea",
            "North Macedonia",
            "Oceania (UN)",
            "Oman",
            "Pakistan",
            "Palestine",
            "Panama",
            "Papua New Guinea",
            "Paraguay",
            "Peru",
            "Philippines",
            "Rwanda",
            "Saint Helena",
            "Saint Lucia",
            "Samoa",
            "Sao Tome and Principe",
            "Saudi Arabia",
            "Senegal",
            "Serbia",
            "Sierra Leone",
            "Slovenia",
            "Solomon Islands",
            "Somalia",
            "South Africa",
            "Sri Lanka",
            "Sudan",
            "Suriname",
            "Syria",
            "Tajikistan",
            "Tanzania",
            "Thailand",
            "Timor",
            "Togo",
            "Tonga",
            "Tunisia",
            "Turkey",
            "Turkmenistan",
            "Turks and Caicos Islands",
            "Uganda",
            "Uzbekistan",
            "Venezuela",
            "Vietnam",
            "Yemen",
            "Zambia",
            "Zimbabwe"
           ],
           "name": "",
           "type": "choropleth",
           "z": [
            0.23742533510488112,
            1.7526788967223361,
            0.018196810463062034,
            1.6518170872425981,
            9.032607713846987,
            0.0018882800714266216,
            4.307998201055696,
            0.7154745428534584,
            6.409989523024743,
            0.7251922034121017,
            5.237194167151804,
            9.076820898826655,
            11.019875577469877,
            4.744751283391815,
            0.0171145531971259,
            5.577764881557492,
            1.6852511983436025,
            2.0191694851423123,
            0.3882955270873237,
            1.8112067874428814,
            0.06384381249710708,
            4.489569379102726,
            0.028009739312053444,
            0.47717778879913614,
            0.005865082298834817,
            0.2137819819440376,
            22.613065326633166,
            0.24879441514338727,
            1.0375207504150084,
            0.07914805038564887,
            0.06212970358998934,
            0.044840902011357174,
            2.7895844731997745,
            6.556770509519612,
            5.318967369529081,
            1.5793448151365124,
            0.5706151331832504,
            0.13138954664766872,
            0.2591011363674355,
            0.07763191603331962,
            0.16231084818875416,
            0.36690725812628394,
            0.5165065896631416,
            0.08641406003891774,
            0.16695187612170792,
            0.18756557468333657,
            3.100352464869198,
            78.83323095251392,
            2.256325956618725,
            1.029150508224028,
            0.3655995222832909,
            50.839262824101944,
            0.1076526179202854,
            18.51810957547155,
            0.1735694195536619,
            0.4137852118229002,
            0.9831506530384451,
            0.07511512916147967,
            8.288023557127834,
            36.640367455853955,
            0.504717169362342,
            0.6466438503489154,
            2.9745592110528785,
            7.1903870877219855,
            2.004795570984335,
            0.5230694455695324,
            2.3315948108506217,
            0.01726979109424505,
            1.1704177589743539,
            2.281515097004465,
            24.53895271646054,
            10.757086219425162,
            0.6938729166187387,
            5.60065135328514,
            6.845658659130161,
            1.9490475087788877,
            0.09878701308292864,
            0.1264796074072986,
            92.91521486643438,
            8.388543700064648,
            3.182596627404324,
            0.03293927710144902,
            1.4952054478250258,
            2.4589258805878162,
            14.510397068407915,
            5.852354273410256,
            0.42709932954766117,
            0.010698819500815335,
            27.28735880349765,
            0.8423337603079393,
            0.012797209866990067,
            0.10170375161171295,
            43.17584674915206,
            0.4863848876883992,
            2.2166548662926857,
            0.1190518709001512,
            12.370922067768072,
            0.2678357577771397,
            4.938351372393124,
            471.23015873015873,
            2.633014237084125,
            1.3041918901000966,
            35.41386915653765,
            0.0018563726348768423,
            2.6895318782175845,
            7.726505644659127,
            0.8071422930781659,
            8.92488632234714,
            4.860623369132949,
            0.3474186962855438,
            0.213828249390472,
            1.8011997417605763,
            0.14183168510719396,
            0.5427850299888729,
            0.9314641666225667,
            2.5968432015234812,
            1.6417271921787628,
            1.3206672742359808,
            4.30344036148899,
            0.08386509460881227,
            106.9966868056909,
            8.743267936384589,
            0.9317843398715042,
            0.0043771961213665165,
            2.1311737439394745,
            1.9658036752452364,
            0.09187357009219212,
            0.1346829906272101,
            2.1616142672566867,
            5.59029763959962,
            12.637572615492248,
            0.29996588838615734
           ]
          }
         ],
         "name": "2000"
        },
        {
         "data": [
          {
           "coloraxis": "coloraxis",
           "geo": "geo",
           "hovertemplate": "Year=2001<br>Entity=%{location}<br>a_b_ratio=%{z}<extra></extra>",
           "locationmode": "country names",
           "locations": [
            "Afghanistan",
            "Africa (UN)",
            "Algeria",
            "Angola",
            "Argentina",
            "Armenia",
            "Asia (UN)",
            "Azerbaijan",
            "Bangladesh",
            "Belize",
            "Benin",
            "Bhutan",
            "Bolivia",
            "Bosnia and Herzegovina",
            "Botswana",
            "Brazil",
            "Burkina Faso",
            "Burundi",
            "Cambodia",
            "Cameroon",
            "Cape Verde",
            "Central African Republic",
            "Chad",
            "Chile",
            "China",
            "Colombia",
            "Comoros",
            "Cook Islands",
            "Costa Rica",
            "Cote d'Ivoire",
            "Croatia",
            "Cuba",
            "Democratic Republic of Congo",
            "Djibouti",
            "Dominican Republic",
            "Ecuador",
            "Egypt",
            "El Salvador",
            "Equatorial Guinea",
            "Eritrea",
            "Eswatini",
            "Ethiopia",
            "Europe (UN)",
            "Gambia",
            "Georgia",
            "Ghana",
            "Guatemala",
            "Guinea",
            "Guinea-Bissau",
            "Haiti",
            "Honduras",
            "India",
            "Indonesia",
            "Iraq",
            "Jamaica",
            "Jordan",
            "Kazakhstan",
            "Kenya",
            "Kiribati",
            "Kyrgyzstan",
            "Laos",
            "Latin America and the Caribbean (UN)",
            "Lebanon",
            "Lesotho",
            "Madagascar",
            "Malawi",
            "Malaysia",
            "Maldives",
            "Mali",
            "Mauritania",
            "Mauritius",
            "Mexico",
            "Mongolia",
            "Montserrat",
            "Morocco",
            "Mozambique",
            "Myanmar",
            "Namibia",
            "Nepal",
            "Nicaragua",
            "Niger",
            "Nigeria",
            "North Korea",
            "North Macedonia",
            "Oceania (UN)",
            "Oman",
            "Pakistan",
            "Palestine",
            "Panama",
            "Papua New Guinea",
            "Paraguay",
            "Peru",
            "Philippines",
            "Rwanda",
            "Saint Helena",
            "Saint Kitts and Nevis",
            "Saint Lucia",
            "Sao Tome and Principe",
            "Saudi Arabia",
            "Senegal",
            "Serbia",
            "Sierra Leone",
            "Slovenia",
            "Solomon Islands",
            "Somalia",
            "South Africa",
            "Sri Lanka",
            "Sudan",
            "Suriname",
            "Syria",
            "Tajikistan",
            "Tanzania",
            "Thailand",
            "Timor",
            "Togo",
            "Tunisia",
            "Turkey",
            "Turkmenistan",
            "Uganda",
            "Uzbekistan",
            "Venezuela",
            "Vietnam",
            "Yemen",
            "Zambia",
            "Zimbabwe"
           ],
           "name": "",
           "type": "choropleth",
           "z": [
            0.067043757327197,
            2.1532671747903405,
            0.6759402203468967,
            0.6793933790370488,
            0.0008004163872768799,
            15.546713869609318,
            0.9460353578978435,
            0.05191963805975105,
            1.108752631037564,
            14.147007968272009,
            1.3463591384577158,
            4.691310135384911,
            2.117518382792213,
            9.05137879173986,
            0.028377810822161936,
            0.030637686751851256,
            12.167578371082486,
            1.9843077294740532,
            2.7921419319093435,
            0.4995722009627931,
            24.250488228855936,
            0.08583065871129167,
            0.4965565443224732,
            0.3703948724981678,
            0.645033760496287,
            0.01430799172124538,
            16.594949950434227,
            214.75195822454307,
            35.9763082366798,
            1.436899081323965,
            0.29511223140349163,
            0.16159251216208087,
            0.035723794002633584,
            9.314222412657937,
            0.9505091568407014,
            3.092127895454315,
            2.4179781617699865,
            6.761741867456499,
            0.09731913586168449,
            2.83111217621947,
            21.480699058959093,
            0.5737555849890239,
            0.20365168786650975,
            0.209536478273095,
            11.49720652867606,
            3.104639113184348,
            0.7286082491610388,
            7.256928418908413,
            0.38969611655890374,
            0.5181086613669986,
            1.6891247131230074,
            0.34148280257572844,
            1.3876681184244668,
            0.029104449024068828,
            0.594192907012619,
            21.68762575501427,
            2.247192775896901,
            1.1792325265412222,
            6.516240902112808,
            6.094619571076092,
            6.580051067863299,
            0.6786778633593423,
            11.831310527815882,
            3.06079886850468,
            1.7624531528581304,
            0.7705137100130779,
            0.0016990533129798073,
            2.1229944662931124,
            1.520223242322808,
            2.5454137293026724,
            9.654999053271437,
            0.019618833629554244,
            0.6956206634926951,
            59.23418658768775,
            8.862395912907317,
            3.140380151743696,
            0.14451863212441,
            8.511069238086927,
            12.038353795289082,
            7.235066481922444,
            8.869269166735029,
            0.7196834819521868,
            0.049760714757803116,
            14.191159891126434,
            1.6371008935947482,
            0.008422276077998699,
            0.19526720039617698,
            108.64419976564085,
            2.2966133283938177,
            8.391687912038545,
            0.0019188186217509603,
            0.29872390478266225,
            0.9542098815654487,
            1.4615847615805058,
            40.19427231619494,
            2.8252885054223804,
            51.3663447709061,
            13.05795407155212,
            0.0004527769079430291,
            26.527395575862737,
            5.7667592177213045,
            0.6341224589292471,
            7.324126388595347,
            0.5222489401752486,
            0.411211816970833,
            0.2303634627287162,
            2.8160262761466823,
            0.5952369466096209,
            0,
            0.83632488358256,
            1.0704010243394526,
            0.7415049399025212,
            0.40204310165993684,
            29.473585195122524,
            0.5500026236874275,
            7.261547265839362,
            2.1428566159683755,
            0.00431490151237298,
            2.8820843466597057,
            0.026932357008987485,
            0.006832739755813958,
            6.3056135571217675,
            0.3139454025438249,
            3.389924966390194,
            0.21660684371841413
           ]
          }
         ],
         "name": "2001"
        },
        {
         "data": [
          {
           "coloraxis": "coloraxis",
           "geo": "geo",
           "hovertemplate": "Year=2002<br>Entity=%{location}<br>a_b_ratio=%{z}<extra></extra>",
           "locationmode": "country names",
           "locations": [
            "Afghanistan",
            "Africa (UN)",
            "Algeria",
            "Angola",
            "Anguilla",
            "Argentina",
            "Armenia",
            "Asia (UN)",
            "Azerbaijan",
            "Bangladesh",
            "Belize",
            "Benin",
            "Bhutan",
            "Bolivia",
            "Bosnia and Herzegovina",
            "Botswana",
            "Brazil",
            "Burkina Faso",
            "Burundi",
            "Cambodia",
            "Cameroon",
            "Cape Verde",
            "Central African Republic",
            "Chad",
            "Chile",
            "China",
            "Colombia",
            "Comoros",
            "Cook Islands",
            "Costa Rica",
            "Cote d'Ivoire",
            "Croatia",
            "Cuba",
            "Democratic Republic of Congo",
            "Djibouti",
            "Dominica",
            "Dominican Republic",
            "Ecuador",
            "Egypt",
            "El Salvador",
            "Equatorial Guinea",
            "Eritrea",
            "Eswatini",
            "Ethiopia",
            "Europe (UN)",
            "Fiji",
            "Gambia",
            "Georgia",
            "Ghana",
            "Grenada",
            "Guatemala",
            "Guinea",
            "Guinea-Bissau",
            "Guyana",
            "Haiti",
            "Honduras",
            "India",
            "Indonesia",
            "Iran",
            "Iraq",
            "Jamaica",
            "Jordan",
            "Kazakhstan",
            "Kenya",
            "Kiribati",
            "Kyrgyzstan",
            "Laos",
            "Latin America and the Caribbean (UN)",
            "Lebanon",
            "Lesotho",
            "Liberia",
            "Madagascar",
            "Malawi",
            "Malaysia",
            "Maldives",
            "Mali",
            "Mauritania",
            "Mauritius",
            "Mayotte",
            "Mexico",
            "Moldova",
            "Mongolia",
            "Montserrat",
            "Morocco",
            "Mozambique",
            "Myanmar",
            "Namibia",
            "Nepal",
            "Nicaragua",
            "Niger",
            "Nigeria",
            "Niue",
            "North Korea",
            "North Macedonia",
            "Oceania (UN)",
            "Oman",
            "Pakistan",
            "Palestine",
            "Panama",
            "Papua New Guinea",
            "Paraguay",
            "Peru",
            "Philippines",
            "Rwanda",
            "Saint Helena",
            "Saint Kitts and Nevis",
            "Saint Lucia",
            "Saint Vincent and the Grenadines",
            "Samoa",
            "Sao Tome and Principe",
            "Saudi Arabia",
            "Senegal",
            "Serbia",
            "Sierra Leone",
            "Slovenia",
            "Solomon Islands",
            "Somalia",
            "South Africa",
            "Sri Lanka",
            "Sudan",
            "Suriname",
            "Syria",
            "Tajikistan",
            "Tanzania",
            "Thailand",
            "Timor",
            "Togo",
            "Tonga",
            "Tunisia",
            "Turkey",
            "Turkmenistan",
            "Tuvalu",
            "Uganda",
            "Uruguay",
            "Uzbekistan",
            "Venezuela",
            "Vietnam",
            "Yemen",
            "Zambia",
            "Zimbabwe"
           ],
           "name": "",
           "type": "choropleth",
           "z": [
            0.629516075469168,
            1.098300508795458,
            0.04711507144731808,
            1.0167765272485834,
            1.72666839333506,
            0.06361352707602877,
            7.10457836291964,
            0.3253929981971669,
            2.4032121821357726,
            0.2644255743171394,
            9.1015625,
            1.585083103162133,
            2.4715089935466152,
            3.773906699004594,
            2.186542048061052,
            1.236674415378882,
            0.03147220875418547,
            2.6384789821756613,
            0.6828144770505904,
            2.310181603996821,
            0.4945322143122901,
            12.277146546022395,
            0.24677827150392784,
            2.5932380525777883,
            0.005734749485115076,
            0.2010966940418607,
            0.04276456234697455,
            3.4164918174126604,
            12.625423616187122,
            0.11157931300131857,
            0.7945078190879118,
            0.013384270894073758,
            0.1163826065657337,
            0.0872980723966205,
            6.627467876422434,
            14.645362545949824,
            0.7333625617161548,
            0.7046339128443592,
            2.3958998711719905,
            2.224152667702276,
            9.534203124937841,
            1.931359787204977,
            0.15226233277313483,
            0.3580814062972576,
            0.10300722098227158,
            0.11766131660660056,
            0.6372230214882114,
            1.6547130882634302,
            2.9299089849450275,
            31.04040795964747,
            0.734751645400231,
            1.7067339163352973,
            2.6678447703242325,
            7.9834176392757845,
            0.3936941511365292,
            2.3362116220260307,
            0.20690821449994412,
            0.22733561999166546,
            0.29319537208780055,
            0.05217985336623279,
            1.8724547502736664,
            11.318291940659623,
            0.01238675733077636,
            0.7516818882249032,
            17.74738117911869,
            1.9356843509568806,
            2.0994976367719254,
            0.34818336858642623,
            0.6949031217342083,
            1.9724290463706053,
            0.07514859000007515,
            0.6756938120506825,
            3.0989859561288133,
            0.20751830965940157,
            0.7526694104887903,
            3.2486492546428996,
            2.7182108431450587,
            19.959901910413024,
            0.7550062723598011,
            0.04379833423638496,
            0.9692249383023229,
            1.7357339107888892,
            108.06137886319429,
            1.5821542825667485,
            3.117419743558527,
            0.13382031881249484,
            1.4826338566854342,
            1.8131090031026942,
            5.539057964634836,
            1.7573126362740155,
            0.08658541034909571,
            50.25125628140704,
            0.008037764293323571,
            5.022426563357403,
            0.5842382148013385,
            0.016641267931486237,
            0.6220645486908224,
            24.227275899964134,
            0.08330681933602542,
            1.7072260122865968,
            0.0680977922128283,
            0.6581423994796322,
            0.2482605277964691,
            0.7859240759121437,
            127.65957446808511,
            1.0801935706878674,
            48.01809484964218,
            14.98246170659052,
            28.021109593077767,
            15.882337239409551,
            0.0008840399494116979,
            4.514316157715827,
            2.5340727140968835,
            1.2567799973541474,
            0,
            0.4880505265399658,
            0.17107443671882205,
            0.23310211114560436,
            1.0119981961943216,
            0.20239151325232788,
            6.3952808072982865,
            0.11302709515821055,
            0.5075088378383914,
            1.0997557100922914,
            0.10743885452368027,
            5.023921341002234,
            0.4316916176848151,
            7.51285854635819,
            3.0868098909472463,
            0.85802616037203,
            0.1042781272159102,
            53.99792315680166,
            1.2569926331854355,
            0.009073186133994023,
            0.29281796121135467,
            0.031187174128573112,
            0.9781466561272852,
            1.8341193190748104,
            3.64093353307397,
            0.16604583048489638
           ]
          }
         ],
         "name": "2002"
        },
        {
         "data": [
          {
           "coloraxis": "coloraxis",
           "geo": "geo",
           "hovertemplate": "Year=2003<br>Entity=%{location}<br>a_b_ratio=%{z}<extra></extra>",
           "locationmode": "country names",
           "locations": [
            "Afghanistan",
            "Africa (UN)",
            "Algeria",
            "Angola",
            "Argentina",
            "Armenia",
            "Asia (UN)",
            "Azerbaijan",
            "Bangladesh",
            "Barbados",
            "Belize",
            "Benin",
            "Bhutan",
            "Bolivia",
            "Bosnia and Herzegovina",
            "Botswana",
            "Brazil",
            "Burkina Faso",
            "Burundi",
            "Cambodia",
            "Cameroon",
            "Cape Verde",
            "Central African Republic",
            "Chad",
            "Chile",
            "China",
            "Colombia",
            "Comoros",
            "Congo",
            "Cook Islands",
            "Costa Rica",
            "Cote d'Ivoire",
            "Croatia",
            "Cuba",
            "Democratic Republic of Congo",
            "Djibouti",
            "Dominica",
            "Dominican Republic",
            "Ecuador",
            "Egypt",
            "El Salvador",
            "Equatorial Guinea",
            "Eritrea",
            "Eswatini",
            "Ethiopia",
            "Europe (UN)",
            "Fiji",
            "Gabon",
            "Gambia",
            "Georgia",
            "Ghana",
            "Grenada",
            "Guatemala",
            "Guinea",
            "Guinea-Bissau",
            "Guyana",
            "Haiti",
            "Honduras",
            "India",
            "Indonesia",
            "Iran",
            "Iraq",
            "Jamaica",
            "Jordan",
            "Kazakhstan",
            "Kenya",
            "Kiribati",
            "Kyrgyzstan",
            "Laos",
            "Latin America and the Caribbean (UN)",
            "Lebanon",
            "Lesotho",
            "Liberia",
            "Madagascar",
            "Malawi",
            "Malaysia",
            "Maldives",
            "Mali",
            "Marshall Islands",
            "Mauritania",
            "Mauritius",
            "Mayotte",
            "Mexico",
            "Micronesia (country)",
            "Moldova",
            "Mongolia",
            "Montserrat",
            "Morocco",
            "Mozambique",
            "Myanmar",
            "Namibia",
            "Nepal",
            "Nicaragua",
            "Niger",
            "Nigeria",
            "North Korea",
            "North Macedonia",
            "Oceania (UN)",
            "Oman",
            "Pakistan",
            "Palau",
            "Palestine",
            "Panama",
            "Papua New Guinea",
            "Paraguay",
            "Peru",
            "Philippines",
            "Rwanda",
            "Saint Helena",
            "Saint Lucia",
            "Saint Vincent and the Grenadines",
            "Samoa",
            "Sao Tome and Principe",
            "Saudi Arabia",
            "Senegal",
            "Serbia",
            "Seychelles",
            "Sierra Leone",
            "Solomon Islands",
            "Somalia",
            "South Africa",
            "Sri Lanka",
            "Sudan",
            "Suriname",
            "Syria",
            "Tajikistan",
            "Tanzania",
            "Thailand",
            "Timor",
            "Togo",
            "Tokelau",
            "Tonga",
            "Tunisia",
            "Turkey",
            "Turkmenistan",
            "Turks and Caicos Islands",
            "Tuvalu",
            "Uganda",
            "Uruguay",
            "Uzbekistan",
            "Vanuatu",
            "Venezuela",
            "Vietnam",
            "Yemen",
            "Zambia",
            "Zimbabwe"
           ],
           "name": "",
           "type": "choropleth",
           "z": [
            1.1397591076511973,
            1.1829329512841609,
            0.11417561369860296,
            0.48498301676650846,
            0.09770583562994296,
            7.720225011648428,
            0.35607346500109505,
            1.5858507137805347,
            0.16131488066918512,
            2.766262069687375,
            0.11363378105043068,
            2.0406801692759213,
            5.70406611674427,
            1.4606863393036358,
            3.2052523114386635,
            0.11495095973103665,
            0.04429738758210074,
            3.9652817214863476,
            0.671928013626292,
            3.069352348668417,
            0.47388079140415706,
            7.540174340495111,
            0.062083219824513085,
            2.578190056211285,
            0.1008883598415397,
            0.19322302005805156,
            0.04919906839371959,
            2.4204496423697957,
            2.21627581567126,
            15.2317880794702,
            0.05013597592900173,
            0.3107672860852982,
            0.01344947402469458,
            0.2107290555632694,
            0.10036529961861186,
            8.432414200185512,
            5.404852681245162,
            1.3688560253824698,
            1.6727829123233202,
            1.5908992296914637,
            1.9678591849080798,
            1.4689308462814523,
            0.4786324528631831,
            1.548911606259114,
            0.5431273156029462,
            0.12283052830472876,
            0.15146113390795357,
            0.02901902632460973,
            0.4852314074966976,
            1.528189622945344,
            2.594995105375086,
            2.3908045977011496,
            1.0071192832556395,
            3.392512692568699,
            4.95564997301755,
            16.921541635275695,
            0.3892309885059976,
            3.6393259929382356,
            0.15845498170291528,
            0.2490136638257622,
            0.14539096513465793,
            0.8411890489820283,
            4.070110002361343,
            18.268675170798584,
            1.1455103680039624,
            0.7969290836766654,
            2.7566902752449214,
            1.4808175057834587,
            3.4399283398065625,
            0.4382379685568548,
            1.7914196990015332,
            4.8970564476070155,
            0,
            1.1317788957651949,
            2.8350505229663083,
            0.14430411060566498,
            0,
            2.7936747250300535,
            0,
            5.937583237148185,
            9.820154337409233,
            0.7829058108387718,
            0.2855626996888704,
            0,
            0.64240602796689,
            2.078315539163929,
            193.4651762682717,
            2.0454281259414633,
            3.1427925447331955,
            0.16089745917551965,
            3.148114890009147,
            3.5307522760658916,
            3.822986159850793,
            2.809129640325211,
            0.08676394725569316,
            0.01892210760657793,
            9.617845158486832,
            0.23598391401759714,
            0.020562567162484995,
            0.25485886966873356,
            1.004823151125402,
            25.03106351732096,
            0.6443258465813013,
            0.5073069438499869,
            0.0709847831041272,
            1.1812472812849886,
            0.32263182693044995,
            0.7189548357474148,
            67.57927568878877,
            11.222862749908009,
            27.758378344928794,
            14.296764556826972,
            20.484607280814704,
            0.0008638991656893807,
            4.76879353644471,
            2.850091524958713,
            0.5979931350388098,
            0.4279640293430079,
            0.28185748418345885,
            0.17318616949597188,
            0.1908363463163305,
            1.9059033893997372,
            0.07698042611255518,
            2.937755316741632,
            0.8704610820427456,
            0.8437620878660568,
            2.0260398078787127,
            0.3819259193392218,
            4.704739809544363,
            1.2451577199778638,
            18.65671641791045,
            5.841457108382969,
            3.351057182023815,
            1.2417126188570071,
            0.0021012853142009904,
            2.7568461679838263,
            2.063344681729083,
            2.6902181543054495,
            0.2175092532061468,
            0.42306945225475945,
            2.5570018429711396,
            0.030253627797839983,
            1.3797959384659615,
            1.4096925027738152,
            4.227728603444317,
            0.17886961853983596
           ]
          }
         ],
         "name": "2003"
        },
        {
         "data": [
          {
           "coloraxis": "coloraxis",
           "geo": "geo",
           "hovertemplate": "Year=2004<br>Entity=%{location}<br>a_b_ratio=%{z}<extra></extra>",
           "locationmode": "country names",
           "locations": [
            "Afghanistan",
            "Africa (UN)",
            "Algeria",
            "Angola",
            "Argentina",
            "Armenia",
            "Asia (UN)",
            "Azerbaijan",
            "Bahrain",
            "Bangladesh",
            "Benin",
            "Bhutan",
            "Bolivia",
            "Bosnia and Herzegovina",
            "Botswana",
            "Brazil",
            "Burkina Faso",
            "Burundi",
            "Cambodia",
            "Cameroon",
            "Cape Verde",
            "Central African Republic",
            "Chad",
            "Chile",
            "China",
            "Colombia",
            "Comoros",
            "Congo",
            "Cook Islands",
            "Costa Rica",
            "Cote d'Ivoire",
            "Croatia",
            "Cuba",
            "Democratic Republic of Congo",
            "Djibouti",
            "Dominica",
            "Dominican Republic",
            "Ecuador",
            "Egypt",
            "El Salvador",
            "Equatorial Guinea",
            "Eritrea",
            "Eswatini",
            "Ethiopia",
            "Europe (UN)",
            "Fiji",
            "Gabon",
            "Gambia",
            "Georgia",
            "Ghana",
            "Grenada",
            "Guatemala",
            "Guinea",
            "Guinea-Bissau",
            "Guyana",
            "Haiti",
            "Honduras",
            "India",
            "Indonesia",
            "Iran",
            "Iraq",
            "Jamaica",
            "Jordan",
            "Kazakhstan",
            "Kenya",
            "Kyrgyzstan",
            "Laos",
            "Latin America and the Caribbean (UN)",
            "Lebanon",
            "Lesotho",
            "Liberia",
            "Madagascar",
            "Malawi",
            "Malaysia",
            "Maldives",
            "Mali",
            "Marshall Islands",
            "Mauritania",
            "Mauritius",
            "Mayotte",
            "Mexico",
            "Moldova",
            "Mongolia",
            "Montenegro",
            "Montserrat",
            "Morocco",
            "Mozambique",
            "Myanmar",
            "Namibia",
            "Nepal",
            "Nicaragua",
            "Niger",
            "Nigeria",
            "Niue",
            "North Korea",
            "North Macedonia",
            "Oceania (UN)",
            "Oman",
            "Pakistan",
            "Palestine",
            "Panama",
            "Papua New Guinea",
            "Paraguay",
            "Peru",
            "Philippines",
            "Rwanda",
            "Saint Helena",
            "Saint Lucia",
            "Saint Vincent and the Grenadines",
            "Samoa",
            "Sao Tome and Principe",
            "Saudi Arabia",
            "Senegal",
            "Serbia",
            "Seychelles",
            "Sierra Leone",
            "Solomon Islands",
            "Somalia",
            "South Africa",
            "Sri Lanka",
            "Sudan",
            "Suriname",
            "Syria",
            "Tajikistan",
            "Tanzania",
            "Thailand",
            "Timor",
            "Togo",
            "Tokelau",
            "Tonga",
            "Trinidad and Tobago",
            "Tunisia",
            "Turkey",
            "Turkmenistan",
            "Uganda",
            "Uruguay",
            "Uzbekistan",
            "Vanuatu",
            "Venezuela",
            "Vietnam",
            "Yemen",
            "Zambia",
            "Zimbabwe"
           ],
           "name": "",
           "type": "choropleth",
           "z": [
            1.7785001787840595,
            1.5524856463878864,
            0.07935974770244303,
            0.5987919319499606,
            0.03180859316126626,
            8.017619191140302,
            0.37818177520112595,
            1.6642964467270862,
            0.023996525303136104,
            0.14028415705231442,
            5.602593584086658,
            7.000053846568051,
            3.8323480119206423,
            10.17172203343682,
            0.19902242337233275,
            0.019380469406662274,
            4.397596575512043,
            0.692366914579899,
            1.8246244711566053,
            0.5556412879788851,
            18.783742403784697,
            0.04374085390895001,
            1.8765260426759887,
            0.3002878143204949,
            0.19026589267544078,
            0.023050176007302296,
            1.204485504016959,
            0.8382683915238365,
            13.214403700033037,
            0.1528403737487958,
            0.28579285949236716,
            0.0022505536924721905,
            0.5665774871326333,
            0.18151764366090767,
            4.0812336567364795,
            17.20342318963129,
            2.982372816506665,
            0.7839168921012653,
            4.021288085625392,
            1.4447483975636108,
            3.860265644361834,
            0.5754316732793054,
            6.380327573523893,
            0.48060435406562335,
            0.15096889040532535,
            0.23076062162296254,
            0.04233954195672193,
            1.2032970338728115,
            3.083587018951024,
            2.8658228846593476,
            1.0043002309890532,
            1.0013668229198316,
            3.040939640305384,
            2.887873307735937,
            8.61357025254199,
            0.3715897849633348,
            3.6067355345932395,
            0.20000623516753901,
            0.3209279094737388,
            0.10034508283030473,
            3.2158426645656064,
            1.9669470316929971,
            20.509989650110096,
            0.804024192624096,
            1.1951079557859494,
            1.8006467923278042,
            2.5207301449159787,
            0.4751215643476124,
            1.610999740097871,
            3.248738532456661,
            0.10888892305011964,
            1.2876164827183239,
            1.4913776857186205,
            1.6811897407557261,
            0.06619404121241006,
            3.0120772456267044,
            0.36729596709028134,
            3.624537303038808,
            18.41028544739713,
            0,
            0.3711549101697369,
            0.34346446427697763,
            2.2025607231018673,
            0.6955971859932021,
            46.98846646732166,
            2.833871028535027,
            2.9013305906264173,
            0.04626261057503284,
            4.351850180854437,
            1.9654691187537903,
            4.2311676834589,
            4.405662379630742,
            0.16803546101033273,
            47.02194357366771,
            0.01878997881158478,
            7.818374770398467,
            0.3218299509436198,
            0.008100904871074099,
            0.30964210997681413,
            17.08606324039848,
            0.009249809608085567,
            0.9661261551007488,
            0.0387716620506849,
            1.3275297256598697,
            0.3419318456670226,
            2.3237416904623656,
            165.96045197740114,
            3.409395319387283,
            14.295735253638309,
            7.124514177251532,
            17.30981396705429,
            0.0021131102260841987,
            8.066401344686863,
            3.0826364018918535,
            3.0684621103938254,
            5.405425919911865,
            0.2543472178653486,
            0.12849203038065565,
            0.2800886002621629,
            2.4345276251929535,
            0.06867475345416668,
            7.912446042601863,
            0.61159001792191,
            2.770096950452611,
            1.0729679743563783,
            0.2426843900684422,
            6.279116230246947,
            1.221875964136503,
            65.14657980456026,
            22.36944809336151,
            0.08815880339117531,
            3.961240664073772,
            0.7604918368466925,
            0.002074777900212727,
            2.46444404021177,
            0.3681569579854451,
            0.40404157450579997,
            0.9885562841581502,
            0.012201199301633854,
            1.3708943148852395,
            1.4069082523151286,
            5.2493536850588,
            0.07647469735960828
           ]
          }
         ],
         "name": "2004"
        },
        {
         "data": [
          {
           "coloraxis": "coloraxis",
           "geo": "geo",
           "hovertemplate": "Year=2005<br>Entity=%{location}<br>a_b_ratio=%{z}<extra></extra>",
           "locationmode": "country names",
           "locations": [
            "Afghanistan",
            "Africa (UN)",
            "Algeria",
            "Angola",
            "Argentina",
            "Armenia",
            "Asia (UN)",
            "Azerbaijan",
            "Bangladesh",
            "Belarus",
            "Benin",
            "Bhutan",
            "Bolivia",
            "Bosnia and Herzegovina",
            "Botswana",
            "Brazil",
            "Burkina Faso",
            "Burundi",
            "Cambodia",
            "Cameroon",
            "Cape Verde",
            "Central African Republic",
            "Chad",
            "Chile",
            "China",
            "Colombia",
            "Comoros",
            "Congo",
            "Cook Islands",
            "Costa Rica",
            "Cote d'Ivoire",
            "Croatia",
            "Cuba",
            "Democratic Republic of Congo",
            "Djibouti",
            "Dominica",
            "Dominican Republic",
            "Ecuador",
            "Egypt",
            "El Salvador",
            "Equatorial Guinea",
            "Eritrea",
            "Eswatini",
            "Ethiopia",
            "Europe (UN)",
            "Fiji",
            "Gabon",
            "Gambia",
            "Georgia",
            "Ghana",
            "Grenada",
            "Guatemala",
            "Guinea",
            "Guinea-Bissau",
            "Guyana",
            "Haiti",
            "Honduras",
            "India",
            "Indonesia",
            "Iran",
            "Iraq",
            "Jamaica",
            "Jordan",
            "Kazakhstan",
            "Kenya",
            "Kiribati",
            "Kyrgyzstan",
            "Laos",
            "Latin America and the Caribbean (UN)",
            "Lebanon",
            "Lesotho",
            "Liberia",
            "Libya",
            "Madagascar",
            "Malawi",
            "Malaysia",
            "Mali",
            "Marshall Islands",
            "Mauritania",
            "Mauritius",
            "Mayotte",
            "Mexico",
            "Moldova",
            "Mongolia",
            "Montenegro",
            "Montserrat",
            "Morocco",
            "Mozambique",
            "Myanmar",
            "Namibia",
            "Nauru",
            "Nepal",
            "Nicaragua",
            "Niger",
            "Nigeria",
            "Niue",
            "North Korea",
            "North Macedonia",
            "Oceania (UN)",
            "Oman",
            "Pakistan",
            "Palau",
            "Palestine",
            "Panama",
            "Papua New Guinea",
            "Paraguay",
            "Peru",
            "Philippines",
            "Rwanda",
            "Saint Helena",
            "Saint Lucia",
            "Saint Vincent and the Grenadines",
            "Samoa",
            "Sao Tome and Principe",
            "Saudi Arabia",
            "Senegal",
            "Serbia",
            "Sierra Leone",
            "Solomon Islands",
            "Somalia",
            "South Africa",
            "Sri Lanka",
            "Sudan",
            "Suriname",
            "Syria",
            "Tajikistan",
            "Tanzania",
            "Thailand",
            "Timor",
            "Togo",
            "Tokelau",
            "Tonga",
            "Trinidad and Tobago",
            "Tunisia",
            "Turkey",
            "Uganda",
            "Ukraine",
            "Uruguay",
            "Uzbekistan",
            "Vanuatu",
            "Venezuela",
            "Vietnam",
            "Yemen",
            "Zambia",
            "Zimbabwe"
           ],
           "name": "",
           "type": "choropleth",
           "z": [
            4.293112062186547,
            1.7650537045170753,
            1.4558500868867597,
            0.9562509041969235,
            0.010749797340725372,
            8.935914104961386,
            0.7855911085221899,
            2.55076018545228,
            0.1783375044296964,
            0.010065257087803063,
            6.321922296310658,
            4.854281114132893,
            4.890483977693165,
            4.92392222645304,
            0.052831253278839654,
            0.03383345750354994,
            5.154173345400095,
            0.8431601642957806,
            1.7000604231066898,
            0.30332545420381873,
            13.716391290497342,
            0.08553415485721141,
            2.0769588205432616,
            1.0175999663685065,
            0.3302660059401042,
            0.01847424349393988,
            2.1258969682347124,
            0.9311582710405694,
            6.5928270042194095,
            0.47267147895661943,
            0.19187973399986588,
            0.46955913589380016,
            0.36457040757104253,
            0.42068784000295384,
            2.1664221417971437,
            21.110561104155142,
            1.4195664484760666,
            0.7741458524191877,
            1.705209838438576,
            3.027584307374669,
            1.572727062469644,
            1.786890369331876,
            4.244818755568409,
            1.656900642654395,
            0.1544412213996478,
            0.28573747126909727,
            0.11656913715524678,
            1.355113928945053,
            1.7873448411749722,
            3.247551046026146,
            1.0882576994232234,
            1.388125534062834,
            2.7647363620927186,
            1.8192176059676135,
            9.740520433374183,
            0.6606744300667885,
            4.0834860729858695,
            0.35156451361686536,
            0.42870538159909966,
            0.02949449344931575,
            40.90500583162547,
            1.8491759772988432,
            29.23286104652586,
            0.4209180292477352,
            1.3726523459967765,
            0.10185270062435706,
            2.7112837158143326,
            1.6248163966014513,
            0.7253514147664629,
            1.5140903009486002,
            3.5905226384980895,
            0.27247739509161056,
            0.001712917142429403,
            1.4309148052801128,
            1.3021683651170342,
            0.8266617907893752,
            4.2813064942025205,
            0.18397233056148354,
            2.4897397823569074,
            9.188823973609951,
            0.21372773224189703,
            1.2430483372912604,
            0.6622715163268672,
            3.196238909871533,
            2.180490926471634,
            2.1199915200339197,
            4.564289746239291,
            5.945735625589156,
            0.019067785600645305,
            1.2023186409316136,
            0.9673986649898423,
            2.0163505485538735,
            4.531888213424069,
            4.142841419031448,
            0.2934001619466396,
            244.55077086656033,
            0.028214620318343903,
            9.448362820980947,
            0.3004759349533482,
            0.01590329524229068,
            0.2603627589588646,
            13.5999597038231,
            14.613698528012272,
            1.0012477785760199,
            0.34160005465600873,
            0.1351133975706246,
            1.542956579077324,
            0.29514991482618014,
            3.000122863229517,
            39.58970667626417,
            3.809086182086412,
            11.601342186049832,
            9.171199253581008,
            11.379308212273573,
            0.0016395020307691905,
            5.923055319696455,
            3.134998794525922,
            1.4780046514917817,
            1.8445748773046824,
            0.15094636684514642,
            0.7748307551747801,
            4.306220241613926,
            0.40723636337047364,
            15.167716590343801,
            0.3008035706406244,
            3.4448654835591017,
            1.5395729581616484,
            0.2518939140728784,
            12.163191027093276,
            0.20659691977999178,
            20.66115702479339,
            36.25383362992692,
            0.21912557210034783,
            8.558626592156271,
            0.2615541129114987,
            3.443712230180817,
            0.1023178924833354,
            0.4400684095385129,
            0.3717999800402116,
            1.6540925005283906,
            0.11024122204269485,
            1.7803255765887835,
            3.536004205495173,
            5.0817674278163345,
            0.0924353676367254
           ]
          }
         ],
         "name": "2005"
        },
        {
         "data": [
          {
           "coloraxis": "coloraxis",
           "geo": "geo",
           "hovertemplate": "Year=2006<br>Entity=%{location}<br>a_b_ratio=%{z}<extra></extra>",
           "locationmode": "country names",
           "locations": [
            "Afghanistan",
            "Africa (UN)",
            "Algeria",
            "Angola",
            "Argentina",
            "Armenia",
            "Asia (UN)",
            "Azerbaijan",
            "Bangladesh",
            "Barbados",
            "Belarus",
            "Benin",
            "Bhutan",
            "Bolivia",
            "Bosnia and Herzegovina",
            "Botswana",
            "Brazil",
            "Burkina Faso",
            "Burundi",
            "Cambodia",
            "Cameroon",
            "Cape Verde",
            "Central African Republic",
            "Chad",
            "Chile",
            "China",
            "Colombia",
            "Comoros",
            "Congo",
            "Cook Islands",
            "Costa Rica",
            "Cote d'Ivoire",
            "Croatia",
            "Cuba",
            "Democratic Republic of Congo",
            "Djibouti",
            "Dominica",
            "Dominican Republic",
            "Ecuador",
            "Egypt",
            "El Salvador",
            "Equatorial Guinea",
            "Eritrea",
            "Eswatini",
            "Ethiopia",
            "Europe (UN)",
            "Fiji",
            "Gabon",
            "Gambia",
            "Georgia",
            "Ghana",
            "Grenada",
            "Guatemala",
            "Guinea",
            "Guinea-Bissau",
            "Guyana",
            "Haiti",
            "Honduras",
            "India",
            "Indonesia",
            "Iran",
            "Iraq",
            "Jamaica",
            "Jordan",
            "Kazakhstan",
            "Kenya",
            "Kiribati",
            "Kyrgyzstan",
            "Laos",
            "Latin America and the Caribbean (UN)",
            "Lebanon",
            "Lesotho",
            "Liberia",
            "Libya",
            "Madagascar",
            "Malawi",
            "Malaysia",
            "Maldives",
            "Mali",
            "Marshall Islands",
            "Mauritania",
            "Mauritius",
            "Mexico",
            "Micronesia (country)",
            "Moldova",
            "Mongolia",
            "Montenegro",
            "Morocco",
            "Mozambique",
            "Myanmar",
            "Namibia",
            "Nepal",
            "Nicaragua",
            "Niger",
            "Nigeria",
            "North Korea",
            "North Macedonia",
            "Oceania (UN)",
            "Oman",
            "Pakistan",
            "Palau",
            "Palestine",
            "Panama",
            "Papua New Guinea",
            "Paraguay",
            "Peru",
            "Philippines",
            "Rwanda",
            "Saint Helena",
            "Saint Lucia",
            "Saint Vincent and the Grenadines",
            "Samoa",
            "Sao Tome and Principe",
            "Saudi Arabia",
            "Senegal",
            "Serbia",
            "Sierra Leone",
            "Solomon Islands",
            "Somalia",
            "South Africa",
            "Sri Lanka",
            "Sudan",
            "Suriname",
            "Syria",
            "Tajikistan",
            "Tanzania",
            "Thailand",
            "Timor",
            "Togo",
            "Tonga",
            "Tunisia",
            "Turkey",
            "Turkmenistan",
            "Uganda",
            "Ukraine",
            "Uruguay",
            "Uzbekistan",
            "Vanuatu",
            "Venezuela",
            "Vietnam",
            "Yemen",
            "Zambia",
            "Zimbabwe"
           ],
           "name": "",
           "type": "choropleth",
           "z": [
            2.488705513897644,
            1.8508305492684995,
            0.25631760077633425,
            0.7568566700945099,
            0.0063328244782208595,
            6.076345866003192,
            0.7177310947613428,
            2.4203064740174223,
            0.26179839991958986,
            0.4067505805440104,
            0.008101511944666673,
            4.765171877631243,
            4.084524405404642,
            4.507127622551483,
            3.8195346279009366,
            0.07777202840856653,
            0.09087987223094961,
            6.794378442897779,
            1.0472442980681869,
            1.6538330753408146,
            0.16618465605240573,
            11.926357249521443,
            0.2119062433633759,
            2.244921191400032,
            0.8215702975523144,
            0.21532471789948793,
            0.055175107086466314,
            2.2326449069235146,
            0.5270990539752054,
            27.586206896551722,
            2.65407693168607,
            0.06496833927828012,
            1.9241382463902035,
            0.22290037614216462,
            0.4343831680222185,
            0.6729975665824829,
            20.6512412559445,
            1.8763122472242804,
            1.0743044645952078,
            1.6191311426028019,
            1.7880701089198183,
            3.4569401109975977,
            2.7394939192956898,
            2.6722412588483198,
            1.7398439292861172,
            0.18920125759084927,
            1.2456176904889162,
            0.01331079372262968,
            3.435990362865125,
            3.4851212522236397,
            3.4015063257107903,
            2.2521305154676323,
            2.0182814396915214,
            2.2602970516895318,
            1.6547697677806426,
            13.990421637815542,
            0.7413968023674624,
            2.9218081279718393,
            0.2975245710037045,
            0.9048849481605973,
            0.04700054582365216,
            28.89611685813005,
            2.8219201102891147,
            21.181621416991053,
            1.4295870547416185,
            1.6024260898907685,
            0.2997152704930316,
            2.7083251934279753,
            1.2107765163840765,
            0.7519505803485865,
            3.26279896454863,
            2.6457074029726013,
            0.13023094287202638,
            0.0016740963060730186,
            0.765879519606464,
            1.0542517332073822,
            6.915278707007352,
            2.5444402390501604,
            4.501766464386902,
            3.319563293006787,
            3.631668931997243,
            12.025835384419546,
            1.1189408697007204,
            0.5438871615435518,
            1.5141723488287864,
            4.637297118251077,
            2.355541292322674,
            6.6007148698745866,
            3.4471467241255422,
            0.029944928780561816,
            2.3004498209978212,
            1.8081393345006485,
            3.056162317301622,
            3.8370583963114675,
            0.418901825929732,
            0.007839653827294242,
            12.983636869492345,
            0.3785375379569649,
            0.04295780918297371,
            0.5663503625630696,
            60.57520997709341,
            19.279587371622178,
            0.7748078788164854,
            0.5605066144997993,
            0.11202088936636287,
            1.9995715455507683,
            0.3308235942113243,
            3.446574800435768,
            42.21732745961821,
            22.645906917513635,
            10.678104501852966,
            19.48422253199848,
            5.2492171426158,
            0.004333631303315977,
            4.176362904628438,
            4.472216834009169,
            0.953564835007465,
            1.7631394420372974,
            0.5275856844585126,
            1.7602928842867673,
            5.04712816947722,
            0.6959424019474519,
            13.849646096526095,
            0.869184312977987,
            1.6011505612882886,
            2.409148096437715,
            0.08172555148462456,
            11.50242365316573,
            0.21109099315588525,
            13.276586128321501,
            10.83601372053005,
            0.1298825792519361,
            0.01009278906555307,
            3.057008198245383,
            0.1070986624643355,
            0.19865863283128884,
            0.3799185525927603,
            1.345689755712453,
            0.18891536163787256,
            1.9764912723729569,
            3.088821860973972,
            4.93168356934942,
            0.1694985357435106
           ]
          }
         ],
         "name": "2006"
        },
        {
         "data": [
          {
           "coloraxis": "coloraxis",
           "geo": "geo",
           "hovertemplate": "Year=2007<br>Entity=%{location}<br>a_b_ratio=%{z}<extra></extra>",
           "locationmode": "country names",
           "locations": [
            "Afghanistan",
            "Africa (UN)",
            "Algeria",
            "Angola",
            "Argentina",
            "Armenia",
            "Asia (UN)",
            "Azerbaijan",
            "Bangladesh",
            "Barbados",
            "Belarus",
            "Belize",
            "Benin",
            "Bhutan",
            "Bolivia",
            "Bosnia and Herzegovina",
            "Botswana",
            "Brazil",
            "Burkina Faso",
            "Burundi",
            "Cambodia",
            "Cameroon",
            "Cape Verde",
            "Central African Republic",
            "Chad",
            "Chile",
            "China",
            "Colombia",
            "Comoros",
            "Congo",
            "Cook Islands",
            "Costa Rica",
            "Cote d'Ivoire",
            "Croatia",
            "Cuba",
            "Democratic Republic of Congo",
            "Djibouti",
            "Dominica",
            "Dominican Republic",
            "Ecuador",
            "Egypt",
            "El Salvador",
            "Equatorial Guinea",
            "Eritrea",
            "Eswatini",
            "Ethiopia",
            "Europe (UN)",
            "Fiji",
            "Gambia",
            "Georgia",
            "Ghana",
            "Grenada",
            "Guatemala",
            "Guinea",
            "Guinea-Bissau",
            "Guyana",
            "Haiti",
            "Honduras",
            "India",
            "Indonesia",
            "Iran",
            "Iraq",
            "Jamaica",
            "Jordan",
            "Kazakhstan",
            "Kenya",
            "Kiribati",
            "Kyrgyzstan",
            "Laos",
            "Latin America and the Caribbean (UN)",
            "Lebanon",
            "Lesotho",
            "Liberia",
            "Libya",
            "Madagascar",
            "Malawi",
            "Malaysia",
            "Maldives",
            "Mali",
            "Marshall Islands",
            "Mauritania",
            "Mauritius",
            "Mayotte",
            "Mexico",
            "Micronesia (country)",
            "Moldova",
            "Mongolia",
            "Montenegro",
            "Montserrat",
            "Morocco",
            "Mozambique",
            "Myanmar",
            "Namibia",
            "Nauru",
            "Nepal",
            "Nicaragua",
            "Niger",
            "Nigeria",
            "Niue",
            "North Korea",
            "North Macedonia",
            "Oceania (UN)",
            "Oman",
            "Pakistan",
            "Palau",
            "Palestine",
            "Panama",
            "Papua New Guinea",
            "Paraguay",
            "Peru",
            "Philippines",
            "Rwanda",
            "Saint Helena",
            "Saint Lucia",
            "Saint Vincent and the Grenadines",
            "Samoa",
            "Sao Tome and Principe",
            "Saudi Arabia",
            "Senegal",
            "Serbia",
            "Seychelles",
            "Sierra Leone",
            "Solomon Islands",
            "Somalia",
            "South Africa",
            "Sri Lanka",
            "Sudan",
            "Suriname",
            "Syria",
            "Tajikistan",
            "Tanzania",
            "Thailand",
            "Timor",
            "Togo",
            "Tonga",
            "Tunisia",
            "Turkey",
            "Turkmenistan",
            "Tuvalu",
            "Uganda",
            "Ukraine",
            "Uruguay",
            "Uzbekistan",
            "Vanuatu",
            "Venezuela",
            "Vietnam",
            "Wallis and Futuna",
            "Yemen",
            "Zambia",
            "Zimbabwe"
           ],
           "name": "",
           "type": "choropleth",
           "z": [
            1.9063203747042945,
            1.9743636778939269,
            0.18979611365826976,
            1.9149014724846258,
            0.028086988211188872,
            7.029694467910044,
            0.6418876323588107,
            2.1479075978486235,
            0.3445358692505386,
            0.3683783982907242,
            0.005088545785208411,
            0,
            5.949516874946012,
            2.787460535427156,
            3.1479262765345624,
            4.1618043667507765,
            0.6304080366856806,
            0.17575267643073686,
            6.048625364164382,
            1.6665380679965154,
            2.021174500710838,
            0.2366881022808186,
            7.984277115833438,
            0.41594466747509246,
            1.9416682567456185,
            1.117271495700384,
            0.2616318897260275,
            0.06950443018005203,
            2.6584492487449363,
            0.3285867710460459,
            21.245091096375457,
            5.5315028773499595,
            0.22908813838134598,
            2.660285612984736,
            0.2573228310125476,
            0.4604455998783468,
            2.2422509425544557,
            1.5990928782218088,
            0.4339405771558577,
            1.542257216227128,
            1.4898059761543472,
            2.210409107679683,
            0.6323644105309754,
            1.213189108500799,
            2.3708159019939763,
            1.6778829609924286,
            0.20645531009839152,
            0.9655815102368481,
            9.048727710354589,
            2.595689823769556,
            4.988120630016591,
            1.163415070699839,
            1.104652983815191,
            2.086500311561003,
            2.2818553207213146,
            9.160269018463296,
            0.8544892850228091,
            3.2696225939376076,
            0.24668574324918255,
            0.8643935955115197,
            0.03581333833632303,
            21.141354727041257,
            0.9995476121547952,
            18.826099180345597,
            0.06747411524254009,
            2.704223562888946,
            0,
            2.175729025037315,
            2.143558853932603,
            0.8247226444722492,
            1.9523420619726182,
            4.431625166185944,
            0.16516422278671683,
            0.001640103280583785,
            0.6665007106664204,
            1.9391702233558048,
            3.248857141971292,
            7.412305657649899,
            4.760343716275276,
            0.5549286916631213,
            3.9638258085649714,
            9.578219899243738,
            9.405991207443002,
            0.2767236977864763,
            0,
            2.2647269804560253,
            5.326891938931099,
            3.971952634069226,
            191.9465887752973,
            3.520356304242543,
            4.022458097828436,
            0.05222346888839477,
            3.0375462591946674,
            0,
            1.083341206960396,
            6.020551194301876,
            2.1539981837680635,
            0.5744668133374377,
            10.834236186348862,
            0.03859338128437788,
            12.719019109246295,
            0.38409028415946606,
            0.06907916702805304,
            0.6311408431962512,
            47.464272816385495,
            13.677141985678944,
            0.12530528593063509,
            0.4825844100094942,
            0.12343143687787872,
            6.299916294818461,
            0.6505036278138469,
            5.573770181946634,
            41.21393780442113,
            6.9840739237363,
            5.232956801039373,
            11.916636043886818,
            4.415426912910119,
            0.023863576704694602,
            7.115260122944915,
            5.314390061278539,
            0.4528011410588755,
            5.822363364302312,
            0.25761755287104854,
            0.2752270803299703,
            0.23221813159171467,
            3.8897033525955824,
            0.6912213098271921,
            8.618109773883528,
            0.854948558179974,
            1.0057875211956158,
            3.6419642108038786,
            0.055367048214463574,
            9.378350724811133,
            0.22653843158349207,
            20.346738427206496,
            8.7151722728037,
            0.09564507808725284,
            0.013930633802046092,
            0,
            5.5113425657490005,
            0.07449301993925515,
            0.18926608919479898,
            0.3899724426797266,
            14.75746521923813,
            0.20490391750132317,
            3.1366549495039493,
            1.4301036825169824,
            3.0360128362304715,
            4.296054258004183,
            0.027307995475868325
           ]
          }
         ],
         "name": "2007"
        },
        {
         "data": [
          {
           "coloraxis": "coloraxis",
           "geo": "geo",
           "hovertemplate": "Year=2008<br>Entity=%{location}<br>a_b_ratio=%{z}<extra></extra>",
           "locationmode": "country names",
           "locations": [
            "Afghanistan",
            "Africa (UN)",
            "Algeria",
            "Angola",
            "Argentina",
            "Armenia",
            "Asia (UN)",
            "Azerbaijan",
            "Bangladesh",
            "Barbados",
            "Belarus",
            "Belize",
            "Benin",
            "Bhutan",
            "Bolivia",
            "Bosnia and Herzegovina",
            "Botswana",
            "Brazil",
            "Burkina Faso",
            "Burundi",
            "Cambodia",
            "Cameroon",
            "Cape Verde",
            "Central African Republic",
            "Chad",
            "Chile",
            "China",
            "Colombia",
            "Comoros",
            "Congo",
            "Cook Islands",
            "Costa Rica",
            "Cote d'Ivoire",
            "Croatia",
            "Cuba",
            "Democratic Republic of Congo",
            "Djibouti",
            "Dominica",
            "Dominican Republic",
            "Ecuador",
            "Egypt",
            "El Salvador",
            "Equatorial Guinea",
            "Eritrea",
            "Eswatini",
            "Ethiopia",
            "Europe (UN)",
            "Fiji",
            "Gabon",
            "Gambia",
            "Georgia",
            "Ghana",
            "Grenada",
            "Guatemala",
            "Guinea",
            "Guinea-Bissau",
            "Guyana",
            "Haiti",
            "Honduras",
            "India",
            "Indonesia",
            "Iran",
            "Iraq",
            "Jamaica",
            "Jordan",
            "Kazakhstan",
            "Kenya",
            "Kyrgyzstan",
            "Laos",
            "Latin America and the Caribbean (UN)",
            "Lebanon",
            "Lesotho",
            "Liberia",
            "Libya",
            "Madagascar",
            "Malawi",
            "Malaysia",
            "Maldives",
            "Mali",
            "Mauritania",
            "Mauritius",
            "Mayotte",
            "Mexico",
            "Moldova",
            "Mongolia",
            "Montenegro",
            "Montserrat",
            "Morocco",
            "Mozambique",
            "Myanmar",
            "Namibia",
            "Nauru",
            "Nepal",
            "Nicaragua",
            "Niger",
            "Nigeria",
            "Niue",
            "North Korea",
            "North Macedonia",
            "Oceania (UN)",
            "Pakistan",
            "Palau",
            "Palestine",
            "Panama",
            "Papua New Guinea",
            "Paraguay",
            "Peru",
            "Philippines",
            "Rwanda",
            "Saint Lucia",
            "Saint Vincent and the Grenadines",
            "Samoa",
            "Sao Tome and Principe",
            "Senegal",
            "Serbia",
            "Seychelles",
            "Sierra Leone",
            "Solomon Islands",
            "Somalia",
            "South Africa",
            "Sri Lanka",
            "Sudan",
            "Suriname",
            "Syria",
            "Tajikistan",
            "Tanzania",
            "Thailand",
            "Timor",
            "Togo",
            "Tonga",
            "Trinidad and Tobago",
            "Tunisia",
            "Turkey",
            "Uganda",
            "Ukraine",
            "Uruguay",
            "Uzbekistan",
            "Vanuatu",
            "Venezuela",
            "Vietnam",
            "Yemen",
            "Zambia",
            "Zimbabwe"
           ],
           "name": "",
           "type": "choropleth",
           "z": [
            3.689758477665666,
            2.2062487329105,
            0.13046147608568825,
            0.969964120547731,
            0.01539463603206931,
            10.20303845412571,
            0.6379472926114591,
            1.5444964424913417,
            0.37841766924312503,
            0,
            0.09092925509834714,
            1.6683732052720592,
            6.735551405764258,
            2.015249202236782,
            3.892478923076783,
            3.661823963645493,
            1.0112976393423676,
            0.7638876201833247,
            5.938313783395448,
            1.8687836066967927,
            2.1457416101108606,
            0.8899146310379855,
            18.39942626709148,
            0.6379782402411155,
            2.1416976733793014,
            1.5292774710119994,
            0.21591271150664876,
            0.08581474112842186,
            1.9698924184559856,
            0.4279139780423889,
            11.186377478093345,
            4.833492191444496,
            0.37442357046760266,
            5.457856832995499,
            0.22879222446964764,
            0.7309269355154089,
            2.8316002052343827,
            11.483559612756926,
            0.44944037322872715,
            1.375475967109983,
            1.7860383539183546,
            2.124220597260299,
            0.020100866146322244,
            2.628266910818246,
            6.661253251489836,
            1.700745914653495,
            0.2158727082389234,
            2.3976055169460526,
            9.66257246929352,
            4.866677212964916,
            4.678195561977585,
            5.051777326173066,
            0.08889125932247083,
            0.5643998466034181,
            1.864047633728035,
            1.9013233344777105,
            8.844288803819884,
            1.6104016490011595,
            3.1264749852378046,
            0.3039441519467912,
            0.8363994729620011,
            0.029324153282122904,
            7.06644145685812,
            6.697701316452372,
            13.603442245299176,
            3.1093097091653203,
            2.909901309866441,
            1.3768783585963698,
            3.665336074159413,
            1.0125454123865127,
            12.636019817436521,
            8.721734562529825,
            1.1786805754498277,
            0.0016055547055035364,
            0.8584551298031929,
            1.556580476362584,
            3.2753399471029527,
            1.60289708807029,
            4.372858670279859,
            41.467930085960596,
            6.968772218350682,
            1.940279201201978,
            0.20185168193688924,
            1.0754324025159872,
            4.590158457281532,
            16.105150639376063,
            258.4780810587262,
            4.907539738585711,
            4.084580618900709,
            0.08885791516757413,
            5.356732903094151,
            13.635920911658712,
            1.7993759435377628,
            6.730251248647972,
            2.7427695605764826,
            0.7035584240795295,
            16.242555495397944,
            0.09890044770843168,
            13.713745573350565,
            0.7494799800720575,
            0.3503432266445522,
            28.241200774018097,
            14.658067687034109,
            1.1386771432593175,
            0.6374335440506506,
            0.4924576915957135,
            5.382871955549544,
            1.0638632693294137,
            4.319158078016569,
            8.601053480757367,
            3.4441191665231616,
            46.50896027446544,
            4.5971991564139545,
            6.732961434213434,
            3.9920748961419568,
            2.0075842070042382,
            2.763156144919413,
            0.6589019592643554,
            0.44474074410631137,
            0.9605303314001696,
            6.36903740774262,
            1.0550365442454197,
            7.322933893197537,
            0.28173526571128144,
            1.9850823925239667,
            3.652361947809432,
            0.045151930304430946,
            13.124529640441574,
            0.42908860776174684,
            15.615503296086773,
            0.10769610743189298,
            9.994025494034341,
            2.463098806282516,
            3.176349369980886,
            0.030176105144491875,
            0.1378842737290592,
            0.48508988769718275,
            35.34686515619724,
            0.12064222042400478,
            3.3888946315460293,
            2.9379731877154827,
            3.0739981613585283,
            0.9840360665552594
           ]
          }
         ],
         "name": "2008"
        },
        {
         "data": [
          {
           "coloraxis": "coloraxis",
           "geo": "geo",
           "hovertemplate": "Year=2009<br>Entity=%{location}<br>a_b_ratio=%{z}<extra></extra>",
           "locationmode": "country names",
           "locations": [
            "Afghanistan",
            "Africa (UN)",
            "Algeria",
            "Angola",
            "Argentina",
            "Armenia",
            "Asia (UN)",
            "Azerbaijan",
            "Bangladesh",
            "Barbados",
            "Belarus",
            "Belize",
            "Benin",
            "Bhutan",
            "Bolivia",
            "Bosnia and Herzegovina",
            "Botswana",
            "Brazil",
            "Burkina Faso",
            "Burundi",
            "Cambodia",
            "Cameroon",
            "Cape Verde",
            "Central African Republic",
            "Chad",
            "Chile",
            "China",
            "Colombia",
            "Comoros",
            "Congo",
            "Cook Islands",
            "Costa Rica",
            "Cote d'Ivoire",
            "Croatia",
            "Cuba",
            "Democratic Republic of Congo",
            "Djibouti",
            "Dominica",
            "Dominican Republic",
            "Ecuador",
            "Egypt",
            "El Salvador",
            "Equatorial Guinea",
            "Eritrea",
            "Eswatini",
            "Ethiopia",
            "Europe (UN)",
            "Fiji",
            "Gabon",
            "Gambia",
            "Georgia",
            "Ghana",
            "Grenada",
            "Guatemala",
            "Guinea",
            "Guinea-Bissau",
            "Guyana",
            "Haiti",
            "Honduras",
            "India",
            "Indonesia",
            "Iran",
            "Iraq",
            "Jamaica",
            "Jordan",
            "Kazakhstan",
            "Kenya",
            "Kiribati",
            "Kyrgyzstan",
            "Laos",
            "Latin America and the Caribbean (UN)",
            "Lebanon",
            "Lesotho",
            "Liberia",
            "Libya",
            "Madagascar",
            "Malawi",
            "Malaysia",
            "Maldives",
            "Mali",
            "Marshall Islands",
            "Mauritania",
            "Mauritius",
            "Mayotte",
            "Mexico",
            "Micronesia (country)",
            "Moldova",
            "Mongolia",
            "Montenegro",
            "Montserrat",
            "Morocco",
            "Mozambique",
            "Myanmar",
            "Namibia",
            "Nauru",
            "Nepal",
            "Nicaragua",
            "Niger",
            "Nigeria",
            "Niue",
            "North Korea",
            "North Macedonia",
            "Oceania (UN)",
            "Oman",
            "Pakistan",
            "Palau",
            "Palestine",
            "Panama",
            "Papua New Guinea",
            "Paraguay",
            "Peru",
            "Philippines",
            "Rwanda",
            "Saint Helena",
            "Saint Kitts and Nevis",
            "Saint Lucia",
            "Samoa",
            "Sao Tome and Principe",
            "Senegal",
            "Serbia",
            "Seychelles",
            "Sierra Leone",
            "Solomon Islands",
            "Somalia",
            "South Africa",
            "Sri Lanka",
            "Sudan",
            "Suriname",
            "Syria",
            "Tajikistan",
            "Tanzania",
            "Thailand",
            "Timor",
            "Togo",
            "Tonga",
            "Trinidad and Tobago",
            "Tunisia",
            "Turkey",
            "Turkmenistan",
            "Tuvalu",
            "Uganda",
            "Ukraine",
            "Uruguay",
            "Uzbekistan",
            "Vanuatu",
            "Venezuela",
            "Vietnam",
            "Yemen",
            "Zambia",
            "Zimbabwe"
           ],
           "name": "",
           "type": "choropleth",
           "z": [
            3.037394866079661,
            2.3210264596549566,
            0.4361286099231618,
            0.6455575995991412,
            0.06488982592419335,
            12.350301926255778,
            0.6291578829550992,
            2.232546715162786,
            0.5427832337387787,
            0.10956862831034218,
            0.04816703919259745,
            0.06365818103113521,
            5.814109414278354,
            2.794969627996709,
            6.899589924589025,
            4.592863654356709,
            0.18545659168851883,
            0.47065161502752206,
            4.103509657305186,
            2.2171520767688047,
            1.200926097692371,
            0.3385220025843619,
            42.99486272479215,
            2.1031673700593094,
            2.459956552365673,
            0.7479156085056836,
            0.2509323934738933,
            1.2819900637984691,
            2.0389168526594634,
            0.09160877696645287,
            107.45587705606916,
            13.262823267620412,
            1.4488995472527442,
            2.706438997184482,
            0.30310593180081086,
            1.052275582121715,
            7.302137595355042,
            2.7614272218588765,
            0.5286036230492324,
            0.9794632866772373,
            2.318567637941909,
            6.688358136131565,
            0.028743947003826778,
            2.260125166185674,
            1.644000767200358,
            1.6976428860187258,
            0.22492770962206615,
            4.359932992378438,
            1.1974244488672545,
            4.504494910879154,
            8.928193923899727,
            2.4235726932333304,
            30.637471304962034,
            2.1613789906528424,
            1.5167664056996888,
            2.422723311247264,
            17.037929359147572,
            11.27057751355871,
            4.267087286459887,
            0.24923176109599382,
            1.0254322808522036,
            0.0201822625145097,
            4.7951331841308695,
            4.297670625788595,
            22.31248750093651,
            3.1629585123852566,
            2.8247630191796502,
            0,
            2.6874352152644843,
            4.99684346525075,
            1.456206656052456,
            9.741194852577326,
            11.93025207323592,
            2.181781306641168,
            0.001572279084568804,
            0.6691262224931349,
            1.3686332067901272,
            3.466678914512024,
            4.068301627320651,
            6.473245393608377,
            1.1190689346463742,
            28.278845792107145,
            0.7891438804626727,
            7.414586866973589,
            0.10202664356007826,
            0.18538773845497858,
            7.6650301800562,
            5.0661524765648265,
            12.880493419541278,
            18.38235294117647,
            4.264285856951685,
            4.267569237132443,
            0.153419804978946,
            5.6771802499893615,
            10.726474890297416,
            2.1604359973703287,
            19.30458775087516,
            2.6549582467598505,
            0.6502731006533613,
            54.31830526887561,
            0.028069880822608605,
            14.723946343011006,
            0.5344560641996965,
            0.14457600861228162,
            0.4054738560303877,
            11.6723259762309,
            13.507202772938715,
            8.577435304701238,
            0.1766571493759858,
            2.505883741373859,
            3.8818550972194252,
            0.4876975417117497,
            2.37461438651912,
            58.42442517904259,
            0.2113718030014796,
            0.11785920539323724,
            45.603010523373484,
            5.3327345701535265,
            5.803184707734989,
            4.310593198237729,
            6.480240757419327,
            3.6965771516706885,
            0.8904145921901168,
            0.4816694920347637,
            1.12837834404713,
            4.45160850607768,
            2.364927493969617,
            11.981570233853583,
            0.35826822121477486,
            1.9695785142147735,
            5.000234314892827,
            0.029934973569335357,
            15.42875322722781,
            0.7829805961467352,
            10.35843932847451,
            0.2997437191201523,
            9.315221782671593,
            1.8876950747468544,
            0.007720575391322189,
            31.64860458425242,
            5.8928721618885405,
            0.02616437805398252,
            0.586096183766272,
            0.32732364284943394,
            5.173133083020442,
            0.0070601784191808665,
            3.7807465335351766,
            2.5177287639566446,
            4.309926029955938,
            0.9085308204885056
           ]
          }
         ],
         "name": "2009"
        },
        {
         "data": [
          {
           "coloraxis": "coloraxis",
           "geo": "geo",
           "hovertemplate": "Year=2010<br>Entity=%{location}<br>a_b_ratio=%{z}<extra></extra>",
           "locationmode": "country names",
           "locations": [
            "Afghanistan",
            "Africa (UN)",
            "Algeria",
            "Angola",
            "Antigua and Barbuda",
            "Argentina",
            "Armenia",
            "Asia (UN)",
            "Azerbaijan",
            "Bangladesh",
            "Barbados",
            "Belarus",
            "Belize",
            "Benin",
            "Bhutan",
            "Bolivia",
            "Bosnia and Herzegovina",
            "Botswana",
            "Brazil",
            "Burkina Faso",
            "Burundi",
            "Cambodia",
            "Cameroon",
            "Cape Verde",
            "Central African Republic",
            "Chad",
            "Chile",
            "China",
            "Colombia",
            "Comoros",
            "Congo",
            "Cook Islands",
            "Costa Rica",
            "Cote d'Ivoire",
            "Croatia",
            "Cuba",
            "Democratic Republic of Congo",
            "Djibouti",
            "Dominica",
            "Dominican Republic",
            "Ecuador",
            "Egypt",
            "El Salvador",
            "Eritrea",
            "Eswatini",
            "Ethiopia",
            "Europe (UN)",
            "Fiji",
            "Gabon",
            "Gambia",
            "Georgia",
            "Ghana",
            "Grenada",
            "Guatemala",
            "Guinea",
            "Guinea-Bissau",
            "Guyana",
            "Haiti",
            "Honduras",
            "India",
            "Indonesia",
            "Iran",
            "Iraq",
            "Jamaica",
            "Jordan",
            "Kazakhstan",
            "Kenya",
            "Kiribati",
            "Kyrgyzstan",
            "Laos",
            "Latin America and the Caribbean (UN)",
            "Lebanon",
            "Lesotho",
            "Liberia",
            "Madagascar",
            "Malawi",
            "Malaysia",
            "Maldives",
            "Mali",
            "Marshall Islands",
            "Mauritania",
            "Mauritius",
            "Mexico",
            "Micronesia (country)",
            "Moldova",
            "Mongolia",
            "Montenegro",
            "Morocco",
            "Mozambique",
            "Myanmar",
            "Namibia",
            "Nauru",
            "Nepal",
            "Nicaragua",
            "Niger",
            "Nigeria",
            "Niue",
            "North Korea",
            "North Macedonia",
            "Oceania (UN)",
            "Oman",
            "Pakistan",
            "Palau",
            "Palestine",
            "Panama",
            "Papua New Guinea",
            "Paraguay",
            "Peru",
            "Philippines",
            "Rwanda",
            "Saint Helena",
            "Saint Kitts and Nevis",
            "Saint Lucia",
            "Saint Vincent and the Grenadines",
            "Samoa",
            "Sao Tome and Principe",
            "Senegal",
            "Serbia",
            "Seychelles",
            "Sierra Leone",
            "Solomon Islands",
            "Somalia",
            "South Africa",
            "Sri Lanka",
            "Sudan",
            "Suriname",
            "Syria",
            "Tajikistan",
            "Tanzania",
            "Thailand",
            "Timor",
            "Togo",
            "Tonga",
            "Trinidad and Tobago",
            "Tunisia",
            "Turkey",
            "Turkmenistan",
            "Tuvalu",
            "Uganda",
            "Ukraine",
            "Uruguay",
            "Uzbekistan",
            "Vanuatu",
            "Venezuela",
            "Vietnam",
            "Yemen",
            "Zambia",
            "Zimbabwe"
           ],
           "name": "",
           "type": "choropleth",
           "z": [
            3.819838698371517,
            2.417124003716152,
            0.3126364123864483,
            0.37792869054856415,
            0.5833625014584063,
            0.034306465839373135,
            28.330486821419164,
            0.7552004034641626,
            1.929155394766143,
            1.2096409855639896,
            1.2740383740358259,
            0.19421614057384806,
            0.37253775825403973,
            7.255140849036748,
            3.69938329437878,
            6.246529366268761,
            7.512280597718292,
            0.5641436061015478,
            0.0694156188829714,
            4.779469637089776,
            3.4985600352025483,
            2.864197627129925,
            0.9397302873461796,
            24.231656942667094,
            1.1437606248495193,
            2.817213062519935,
            0.5081107770883911,
            0.21719468666525202,
            0.044849949473519606,
            1.1127505975318277,
            0.45517198177599544,
            30.16766258629692,
            10.912434420466223,
            1.7542580411779523,
            2.3325123378228665,
            1.2213894611537923,
            1.6835047263751284,
            8.594373840031505,
            1.4540167211922936,
            1.7584317775525493,
            1.8893123163349261,
            1.5591545338985227,
            4.568174982200801,
            2.2524146743068743,
            3.827530215669054,
            1.4408692280625475,
            0.23775025914167064,
            2.087991727575632,
            4.862320928376025,
            1.8118148913633727,
            13.834322777581725,
            4.158011961967759,
            4.383734591172912,
            2.4857104311686498,
            1.0203755761032713,
            1.320805040243079,
            22.542005543247626,
            4.034387079476613,
            7.5896918400518,
            0.37480645706785204,
            1.141973473102865,
            0.015257278040037858,
            5.843937350791047,
            5.570788147645272,
            15.966787005485148,
            1.302634695945757,
            3.9103619316354568,
            1.388747442390127,
            2.0752105162478225,
            4.282489315521256,
            1.350375142362926,
            10.40474206428241,
            19.26088813655851,
            1.970169837595318,
            0.6065053822520879,
            1.6971923492362566,
            2.1042751014286365,
            5.80785941661435,
            8.167203644905209,
            3.3688308285452266,
            24.345935120788006,
            0.374021990934642,
            0.26516807603854536,
            1.3939743136999796,
            5.105777684978411,
            9.283903546569562,
            18.936752830212598,
            4.985081410778039,
            4.038358424202899,
            0.40533710319785465,
            6.597515809029308,
            17.540440459949327,
            2.806538590623547,
            8.555713577251433,
            2.456218018933122,
            0.6849210213494554,
            190.42437431991294,
            0.3252798419342508,
            13.30577296702499,
            1.0848248394647904,
            0.083277959273608,
            0.41824695069020157,
            8.619296449927274,
            32.943556356100004,
            24.812190675517478,
            1.829026505587498,
            1.4561546630406104,
            7.210162747485629,
            0.47571394709604425,
            3.8374116987899543,
            46.83402023229674,
            0.42168293659997047,
            0.4094764551038315,
            0.182942446306392,
            78.63945019159056,
            16.579377889038945,
            5.243362238598041,
            4.167892100982146,
            6.8164113217346145,
            1.8689704148042343,
            10.399665434250798,
            0.2910203589528256,
            0.9184139446906251,
            8.168446794251132,
            3.0435745987869804,
            12.580459086039719,
            0.5103512210242498,
            2.924511777752849,
            4.85429876996352,
            0.10853884624348957,
            16.10484964519721,
            0.6603912255004746,
            9.497118276366141,
            0.014181410015053566,
            11.932927785731941,
            1.4905318031669552,
            0.0037965252302829835,
            4.7303689687795645,
            4.76165092497852,
            0.11557903872563252,
            0.22966886224133545,
            1.108888674077384,
            3.34061206531304,
            0.010099242118046489,
            4.371760190958082,
            2.3836135419640456,
            2.840757694896968,
            1.264040940284463
           ]
          }
         ],
         "name": "2010"
        },
        {
         "data": [
          {
           "coloraxis": "coloraxis",
           "geo": "geo",
           "hovertemplate": "Year=2011<br>Entity=%{location}<br>a_b_ratio=%{z}<extra></extra>",
           "locationmode": "country names",
           "locations": [
            "Afghanistan",
            "Africa (UN)",
            "Algeria",
            "Angola",
            "Antigua and Barbuda",
            "Argentina",
            "Armenia",
            "Asia (UN)",
            "Azerbaijan",
            "Bangladesh",
            "Belarus",
            "Belize",
            "Benin",
            "Bhutan",
            "Bolivia",
            "Bosnia and Herzegovina",
            "Botswana",
            "Brazil",
            "Burkina Faso",
            "Burundi",
            "Cambodia",
            "Cameroon",
            "Cape Verde",
            "Central African Republic",
            "Chad",
            "Chile",
            "China",
            "Colombia",
            "Comoros",
            "Congo",
            "Cook Islands",
            "Costa Rica",
            "Cote d'Ivoire",
            "Cuba",
            "Democratic Republic of Congo",
            "Djibouti",
            "Dominica",
            "Dominican Republic",
            "Ecuador",
            "Egypt",
            "El Salvador",
            "Equatorial Guinea",
            "Eritrea",
            "Eswatini",
            "Ethiopia",
            "Europe (UN)",
            "Fiji",
            "Gabon",
            "Gambia",
            "Georgia",
            "Ghana",
            "Grenada",
            "Guatemala",
            "Guinea",
            "Guinea-Bissau",
            "Guyana",
            "Haiti",
            "Honduras",
            "India",
            "Indonesia",
            "Iran",
            "Iraq",
            "Jamaica",
            "Jordan",
            "Kazakhstan",
            "Kenya",
            "Kiribati",
            "Kyrgyzstan",
            "Laos",
            "Latin America and the Caribbean (UN)",
            "Lebanon",
            "Lesotho",
            "Liberia",
            "Libya",
            "Madagascar",
            "Malawi",
            "Malaysia",
            "Maldives",
            "Mali",
            "Marshall Islands",
            "Mauritania",
            "Mauritius",
            "Mexico",
            "Micronesia (country)",
            "Moldova",
            "Mongolia",
            "Montenegro",
            "Morocco",
            "Mozambique",
            "Myanmar",
            "Namibia",
            "Nauru",
            "Nepal",
            "Nicaragua",
            "Niger",
            "Nigeria",
            "Niue",
            "North Korea",
            "North Macedonia",
            "Oceania (UN)",
            "Pakistan",
            "Palau",
            "Palestine",
            "Panama",
            "Papua New Guinea",
            "Paraguay",
            "Peru",
            "Philippines",
            "Rwanda",
            "Saint Kitts and Nevis",
            "Saint Lucia",
            "Samoa",
            "Sao Tome and Principe",
            "Senegal",
            "Serbia",
            "Seychelles",
            "Sierra Leone",
            "Solomon Islands",
            "Somalia",
            "South Africa",
            "South Sudan",
            "Sri Lanka",
            "Sudan",
            "Suriname",
            "Syria",
            "Tajikistan",
            "Tanzania",
            "Thailand",
            "Timor",
            "Togo",
            "Tonga",
            "Tunisia",
            "Turkey",
            "Turkmenistan",
            "Tuvalu",
            "Uganda",
            "Ukraine",
            "Uruguay",
            "Uzbekistan",
            "Vanuatu",
            "Venezuela",
            "Vietnam",
            "Yemen",
            "Zambia",
            "Zimbabwe"
           ],
           "name": "",
           "type": "choropleth",
           "z": [
            5.534518671239608,
            2.5903136436479453,
            0.47313413574401697,
            0.4344757765327019,
            0.2305502080715628,
            0.02890122178951741,
            34.60927065494383,
            0.7483820477174451,
            2.3538794347868546,
            1.187795770600248,
            0.01545279310780703,
            3.1255120681179562,
            4.853807452614718,
            4.780342558506627,
            7.854756075965476,
            11.69338173828785,
            0.36550341300526745,
            1.1863645020365183,
            7.956560192913758,
            3.373613288948286,
            3.9639371605145475,
            1.7810266381337267,
            21.723965362975992,
            1.7751340490363876,
            2.1505587596544786,
            3.8675713748010896,
            0.1612193189445166,
            0.06532933400098735,
            3.133949477749705,
            0.8551067432801589,
            74.74009553245294,
            2.8483350274480776,
            1.3620606786206466,
            0.9709070404744328,
            1.6336929477600461,
            11.752537042907969,
            12.071322609732686,
            2.0376134558418975,
            1.4713473801288302,
            1.426680718675782,
            0.9385151972657924,
            0.01747350579683555,
            0.8511105277695854,
            1.5741207314414332,
            1.6369350755172716,
            0.21986480417338622,
            3.027437389842562,
            7.243972946807574,
            1.7465588037323312,
            21.113822842230892,
            2.5910156247018805,
            5.481454412570802,
            0.6471855719684513,
            0.8719844228246767,
            3.2317707928714596,
            12.213884055439479,
            3.3131350635975263,
            4.766593486119471,
            0.3922166556778786,
            1.1668974291251253,
            0.014670637379463685,
            2.1579423551734065,
            0.8302475193624281,
            13.995819960112405,
            0.2686048910993945,
            3.8798974029596427,
            70.61799848935725,
            4.7583549923734845,
            4.753495416617378,
            1.501641448579376,
            12.848209367537875,
            26.72638143149561,
            1.0977846275711838,
            0.035551906996211295,
            1.1593796678903021,
            2.3563829488723003,
            4.163905463721049,
            29.50994792362131,
            10.633592801476633,
            8.114585495650205,
            11.713130453287933,
            2.3090576479176885,
            0.042049757478023746,
            3.985282259933084,
            3.134791878469098,
            11.075290840271638,
            29.455477278446853,
            5.96953996795741,
            4.799998518544955,
            0.2472159189861183,
            25.197634714490118,
            22.323595069397264,
            3.071912909068517,
            6.540958651785075,
            2.049398725392027,
            0.6379040957758093,
            70.92198581560284,
            0.2638821584592187,
            4.115187090805919,
            1.4198201055856365,
            0.5688239863926144,
            190.0328587075575,
            27.14453707629166,
            18.369719891592627,
            0.900515804692853,
            0.8213639501308878,
            7.167107417594887,
            0.25057632554876214,
            4.073014745674833,
            0.4201239365612856,
            0.6970381686483849,
            101.03684993175939,
            6.3421083748078555,
            8.621547982980267,
            3.3867279890564466,
            19.50086315295923,
            2.4817047996261565,
            8.018391734555115,
            0.5345080177021198,
            2.4515991741178857,
            1.0748744246956743,
            8.061939009228588,
            3.465173998975236,
            18.400663582985906,
            0.6585797009458647,
            2.9210694659606773,
            3.6918278580986845,
            0.15717584577486876,
            20.32372403940754,
            1.1098474885810918,
            19.51219512195122,
            13.590718864187894,
            1.467902652923963,
            0.04476932883127988,
            227.6331747364493,
            2.494012897386446,
            0.18498934092296412,
            0.20525750744207202,
            1.2657680699920875,
            4.735206458980777,
            0.024058159156270735,
            4.182045807731112,
            0.9522834548247092,
            3.8623776656714677,
            2.3461150798619568
           ]
          }
         ],
         "name": "2011"
        },
        {
         "data": [
          {
           "coloraxis": "coloraxis",
           "geo": "geo",
           "hovertemplate": "Year=2012<br>Entity=%{location}<br>a_b_ratio=%{z}<extra></extra>",
           "locationmode": "country names",
           "locations": [
            "Afghanistan",
            "Africa (UN)",
            "Algeria",
            "Angola",
            "Anguilla",
            "Antigua and Barbuda",
            "Argentina",
            "Armenia",
            "Asia (UN)",
            "Azerbaijan",
            "Bangladesh",
            "Belarus",
            "Belize",
            "Benin",
            "Bhutan",
            "Bolivia",
            "Bosnia and Herzegovina",
            "Botswana",
            "Brazil",
            "Burkina Faso",
            "Burundi",
            "Cambodia",
            "Cameroon",
            "Cape Verde",
            "Central African Republic",
            "Chad",
            "Chile",
            "China",
            "Colombia",
            "Comoros",
            "Congo",
            "Cook Islands",
            "Costa Rica",
            "Cote d'Ivoire",
            "Cuba",
            "Democratic Republic of Congo",
            "Djibouti",
            "Dominica",
            "Dominican Republic",
            "Ecuador",
            "Egypt",
            "El Salvador",
            "Eritrea",
            "Eswatini",
            "Ethiopia",
            "Europe (UN)",
            "Fiji",
            "Gabon",
            "Gambia",
            "Georgia",
            "Ghana",
            "Grenada",
            "Guatemala",
            "Guinea",
            "Guinea-Bissau",
            "Guyana",
            "Haiti",
            "Honduras",
            "India",
            "Indonesia",
            "Iran",
            "Iraq",
            "Jamaica",
            "Jordan",
            "Kazakhstan",
            "Kenya",
            "Kiribati",
            "Kyrgyzstan",
            "Laos",
            "Latin America and the Caribbean (UN)",
            "Lebanon",
            "Lesotho",
            "Liberia",
            "Libya",
            "Madagascar",
            "Malawi",
            "Malaysia",
            "Maldives",
            "Mali",
            "Marshall Islands",
            "Mauritania",
            "Mauritius",
            "Mexico",
            "Micronesia (country)",
            "Moldova",
            "Mongolia",
            "Montenegro",
            "Morocco",
            "Mozambique",
            "Myanmar",
            "Namibia",
            "Nauru",
            "Nepal",
            "Nicaragua",
            "Niger",
            "Nigeria",
            "Niue",
            "North Korea",
            "North Macedonia",
            "Oceania (UN)",
            "Pakistan",
            "Palau",
            "Palestine",
            "Panama",
            "Papua New Guinea",
            "Paraguay",
            "Peru",
            "Philippines",
            "Rwanda",
            "Saint Lucia",
            "Saint Vincent and the Grenadines",
            "Samoa",
            "Sao Tome and Principe",
            "Senegal",
            "Serbia",
            "Seychelles",
            "Sierra Leone",
            "Solomon Islands",
            "Somalia",
            "South Africa",
            "South Sudan",
            "Sri Lanka",
            "Sudan",
            "Syria",
            "Tajikistan",
            "Tanzania",
            "Thailand",
            "Timor",
            "Togo",
            "Tonga",
            "Tunisia",
            "Turkey",
            "Tuvalu",
            "Uganda",
            "Ukraine",
            "Uruguay",
            "Uzbekistan",
            "Vanuatu",
            "Venezuela",
            "Vietnam",
            "Yemen",
            "Zambia",
            "Zimbabwe"
           ],
           "name": "",
           "type": "choropleth",
           "z": [
            4.290944764088958,
            2.6924177006195937,
            0.09661688463793681,
            1.0326223709120799,
            0.7418947993174568,
            0.11404068971809142,
            0.02312146223750347,
            14.194895190411291,
            0.7181817940647045,
            3.6729447243957853,
            1.048782378846469,
            0.026821394477309822,
            1.691058454253902,
            4.323908909519161,
            3.0922660069832517,
            16.39876715482005,
            11.78975695465026,
            0.3079852295800047,
            0.5324093316959242,
            8.358782676091298,
            2.6246802223760572,
            3.8974345101831718,
            0.9913142801936262,
            27.478239369742468,
            1.4287791312771483,
            1.9764934481711829,
            1.6734162660443541,
            0.1506409409815576,
            2.1530098234213044,
            4.046371120888624,
            0.6640838824932213,
            117.03366797936657,
            1.7713153737295986,
            1.813662695448052,
            0.7675104683829899,
            2.1721777802016375,
            22.141628881989206,
            57.75817031404191,
            0.4256852710403918,
            1.4821862524932374,
            1.3698977856121255,
            0.5047641785579747,
            0.894668880280391,
            0.7467702188036741,
            2.042322772121246,
            0.2721720609650692,
            1.1963993866532319,
            5.477181766755902,
            1.800079572250633,
            15.526929905124597,
            4.037416470455077,
            8.108341240403693,
            0.3232351115032237,
            0.5589183345234678,
            3.77559417203156,
            18.038361761899,
            4.095546528425813,
            3.16979380986014,
            0.3611648760044636,
            0.9197407390971677,
            0.014613748034774202,
            2.257529517973597,
            0.4022002892218656,
            17.041359337514034,
            0.055546239379266685,
            4.138974401570807,
            16.214279315596166,
            3.156985451765861,
            4.0391432775842455,
            1.1343303352772631,
            20.794316632093153,
            38.735167093163945,
            2.306227807751557,
            0.07155171826340573,
            1.0990043560457126,
            4.74929803449659,
            4.732939234157971,
            11.301709189992568,
            6.626827789490919,
            21.44648909484327,
            14.99674653380717,
            15.130905611858905,
            0.04647710779558283,
            1.662848274333013,
            8.967275006222918,
            12.57720188772627,
            66.34515593481115,
            7.746423425692952,
            6.468167948090001,
            0.17344310815147562,
            7.764799024117475,
            18.15749235474006,
            4.025510363878037,
            6.9959813318895865,
            1.799557880208818,
            0.7299092565335051,
            114.56628477905073,
            0.27403017626729914,
            6.172939471851682,
            0.9293077884069075,
            0.8985892080197717,
            10.570824524312897,
            25.17111554741799,
            4.210530801191306,
            1.3318303210794977,
            1.5683753404125755,
            2.0588517650931144,
            0.14913448952345512,
            3.1438154425358413,
            0.23102824897914392,
            0.37001063780583693,
            40.22591113959956,
            2.5271670457417237,
            6.572782016711206,
            3.8899501103689365,
            7.2388505964183425,
            4.450111466380226,
            13.773158544554054,
            0.9115512351278084,
            0.07319592369831117,
            1.740860366272162,
            7.570959906552506,
            3.463615484414697,
            0.07122134701066311,
            4.279582820485137,
            4.6157739140071925,
            0.16730043212964166,
            13.193481839844667,
            1.2358094855307786,
            7.161658156384572,
            8.530224126895943,
            0.6604900485457529,
            117.69032732622287,
            2.8707481183017824,
            0.011231939371841236,
            0.0889908262323598,
            1.7652407421630667,
            0.9326581924307016,
            0.02205600814484269,
            4.476081251557647,
            1.3930311832299334,
            4.827509779471377,
            4.353453374062057
           ]
          }
         ],
         "name": "2012"
        },
        {
         "data": [
          {
           "coloraxis": "coloraxis",
           "geo": "geo",
           "hovertemplate": "Year=2013<br>Entity=%{location}<br>a_b_ratio=%{z}<extra></extra>",
           "locationmode": "country names",
           "locations": [
            "Afghanistan",
            "Africa (UN)",
            "Algeria",
            "Angola",
            "Anguilla",
            "Antigua and Barbuda",
            "Argentina",
            "Armenia",
            "Asia (UN)",
            "Azerbaijan",
            "Bangladesh",
            "Belarus",
            "Belize",
            "Benin",
            "Bhutan",
            "Bolivia",
            "Bosnia and Herzegovina",
            "Botswana",
            "Brazil",
            "Burkina Faso",
            "Burundi",
            "Cambodia",
            "Cameroon",
            "Cape Verde",
            "Central African Republic",
            "Chad",
            "Chile",
            "China",
            "Colombia",
            "Comoros",
            "Congo",
            "Cook Islands",
            "Costa Rica",
            "Cote d'Ivoire",
            "Cuba",
            "Democratic Republic of Congo",
            "Djibouti",
            "Dominica",
            "Dominican Republic",
            "Ecuador",
            "Egypt",
            "El Salvador",
            "Eritrea",
            "Eswatini",
            "Ethiopia",
            "Europe (UN)",
            "Fiji",
            "Gabon",
            "Gambia",
            "Georgia",
            "Ghana",
            "Grenada",
            "Guatemala",
            "Guinea",
            "Guinea-Bissau",
            "Guyana",
            "Haiti",
            "Honduras",
            "India",
            "Indonesia",
            "Iran",
            "Iraq",
            "Jamaica",
            "Jordan",
            "Kazakhstan",
            "Kenya",
            "Kiribati",
            "Kyrgyzstan",
            "Laos",
            "Latin America and the Caribbean (UN)",
            "Lebanon",
            "Lesotho",
            "Liberia",
            "Madagascar",
            "Malawi",
            "Malaysia",
            "Maldives",
            "Mali",
            "Marshall Islands",
            "Mauritania",
            "Mauritius",
            "Mexico",
            "Micronesia (country)",
            "Moldova",
            "Mongolia",
            "Montenegro",
            "Morocco",
            "Mozambique",
            "Myanmar",
            "Namibia",
            "Nauru",
            "Nepal",
            "Nicaragua",
            "Niger",
            "Nigeria",
            "Niue",
            "North Korea",
            "North Macedonia",
            "Oceania (UN)",
            "Pakistan",
            "Palau",
            "Palestine",
            "Panama",
            "Papua New Guinea",
            "Paraguay",
            "Peru",
            "Philippines",
            "Rwanda",
            "Saint Lucia",
            "Saint Vincent and the Grenadines",
            "Samoa",
            "Sao Tome and Principe",
            "Senegal",
            "Serbia",
            "Seychelles",
            "Sierra Leone",
            "Solomon Islands",
            "Somalia",
            "South Africa",
            "South Sudan",
            "Sri Lanka",
            "Sudan",
            "Suriname",
            "Syria",
            "Tajikistan",
            "Tanzania",
            "Thailand",
            "Timor",
            "Togo",
            "Tonga",
            "Tunisia",
            "Turkey",
            "Tuvalu",
            "Uganda",
            "Ukraine",
            "Uruguay",
            "Uzbekistan",
            "Vanuatu",
            "Venezuela",
            "Vietnam",
            "Yemen",
            "Zambia",
            "Zimbabwe"
           ],
           "name": "",
           "type": "choropleth",
           "z": [
            4.634887887645169,
            2.663200881241439,
            0.2847321365320594,
            0.8597540705607203,
            0.7284912945290304,
            0.11297903109182936,
            0.05048566740212174,
            13.24539375319244,
            0.748815899518423,
            6.560938617780393,
            0.8943703902529624,
            0.08151773222209187,
            0.49318963141327843,
            5.505042813227235,
            25.737483159509285,
            8.043113545939852,
            10.426906061648115,
            0.15785070480339694,
            0.6318108164980661,
            7.990853469418443,
            2.3380270893887958,
            5.011436568926653,
            2.9644727380374993,
            25.557969363773246,
            1.4409350919127102,
            1.6040228894066317,
            0.3980599346907577,
            0.1607876923208577,
            0.565769296582667,
            4.7040522049708535,
            1.859955307220914,
            141.58305462653288,
            2.971904028369996,
            0.8647365166081037,
            1.1676812332692346,
            2.774433858128458,
            27.126011436968554,
            27.16483388776711,
            2.4180239663981307,
            1.3108195465136778,
            1.17244021004714,
            1.9917095091680879,
            0.26999396305633167,
            1.6900214516479497,
            1.8458170859541807,
            0.24499542322063433,
            2.0143037460576023,
            11.113272317227676,
            0.21648322066793543,
            7.078664298307592,
            2.1351044079497528,
            0.17100740462062008,
            0.31836265890008747,
            2.5272641967076277,
            2.8979412248042564,
            9.419017853320204,
            2.951895025974045,
            2.884834075727062,
            0.3640138950560867,
            0.8070250026137502,
            0.028295059040317247,
            2.983219229777607,
            0.30290638678116527,
            17.676831342859572,
            0.010377191302483942,
            4.162316223156588,
            49.24282537329238,
            2.9355399828763082,
            4.251041096023231,
            0.9150722507453884,
            13.307250629043615,
            50.801659443727615,
            4.905903550207247,
            1.232402233026362,
            5.95390574906668,
            3.944608105325118,
            17.16819591706364,
            6.149127636623724,
            11.484855563341899,
            5.963186938696995,
            12.954230966500296,
            0.23684746307208723,
            18.137291006849818,
            10.112593706132417,
            8.934471172095769,
            30.759475101387963,
            5.033498278641211,
            8.644949508029903,
            0.5492776702476464,
            7.162566675602864,
            22.390148334732718,
            3.0699494893606856,
            7.772033002705994,
            2.5287880838058707,
            0.7848282427456986,
            59.58829902491874,
            0.12119115789312011,
            9.218825812712275,
            1.1367871384517636,
            1.1634501223624212,
            26.36154579617477,
            18.975664440188705,
            2.8784079368697104,
            0.2595312864965872,
            1.9398380460019689,
            1.797674408540152,
            0.22306895703386972,
            3.728374706071837,
            0.17242172053887536,
            0.18610017772566972,
            15.303672881491558,
            4.283539338889892,
            7.939350248694961,
            3.8378817430220993,
            98.9351803990489,
            6.304499425473595,
            31.869828236049653,
            0.6761335215095657,
            0.05884142751307839,
            2.8362952509522525,
            6.119224700713551,
            2.8287856965747937,
            0.8156722557948194,
            0.059546432959322805,
            4.040993966530542,
            3.8744338287389395,
            0.21543980476755784,
            8.80713662167537,
            1.2861939045666637,
            25.02217450165725,
            4.419357955959337,
            1.1427844607431141,
            254.98080789617987,
            2.5537535641418527,
            0.010373649130167313,
            0.19519772198343363,
            2.252761886072325,
            6.867845204081245,
            0.009384000052014172,
            5.429293141903991,
            2.255409945031146,
            6.5946936837970735,
            3.647249587249971
           ]
          }
         ],
         "name": "2013"
        },
        {
         "data": [
          {
           "coloraxis": "coloraxis",
           "geo": "geo",
           "hovertemplate": "Year=2014<br>Entity=%{location}<br>a_b_ratio=%{z}<extra></extra>",
           "locationmode": "country names",
           "locations": [
            "Afghanistan",
            "Africa (UN)",
            "Algeria",
            "Angola",
            "Antigua and Barbuda",
            "Argentina",
            "Armenia",
            "Asia (UN)",
            "Azerbaijan",
            "Bangladesh",
            "Belarus",
            "Belize",
            "Benin",
            "Bhutan",
            "Bolivia",
            "Bosnia and Herzegovina",
            "Botswana",
            "Brazil",
            "Burkina Faso",
            "Burundi",
            "Cambodia",
            "Cameroon",
            "Cape Verde",
            "Central African Republic",
            "Chad",
            "Chile",
            "China",
            "Colombia",
            "Comoros",
            "Congo",
            "Cook Islands",
            "Costa Rica",
            "Cote d'Ivoire",
            "Cuba",
            "Democratic Republic of Congo",
            "Djibouti",
            "Dominica",
            "Dominican Republic",
            "Ecuador",
            "Egypt",
            "El Salvador",
            "Equatorial Guinea",
            "Eritrea",
            "Eswatini",
            "Ethiopia",
            "Europe (UN)",
            "Fiji",
            "Gabon",
            "Gambia",
            "Georgia",
            "Ghana",
            "Grenada",
            "Guatemala",
            "Guinea",
            "Guinea-Bissau",
            "Guyana",
            "Haiti",
            "Honduras",
            "India",
            "Indonesia",
            "Iran",
            "Iraq",
            "Jamaica",
            "Jordan",
            "Kazakhstan",
            "Kenya",
            "Kiribati",
            "Kyrgyzstan",
            "Laos",
            "Latin America and the Caribbean (UN)",
            "Lebanon",
            "Lesotho",
            "Liberia",
            "Madagascar",
            "Malawi",
            "Malaysia",
            "Maldives",
            "Mali",
            "Marshall Islands",
            "Mauritania",
            "Mauritius",
            "Mexico",
            "Micronesia (country)",
            "Moldova",
            "Mongolia",
            "Montenegro",
            "Morocco",
            "Mozambique",
            "Myanmar",
            "Namibia",
            "Nauru",
            "Nepal",
            "Nicaragua",
            "Niger",
            "Nigeria",
            "North Korea",
            "North Macedonia",
            "Oceania (UN)",
            "Pakistan",
            "Palau",
            "Palestine",
            "Panama",
            "Papua New Guinea",
            "Paraguay",
            "Peru",
            "Philippines",
            "Rwanda",
            "Saint Lucia",
            "Saint Vincent and the Grenadines",
            "Samoa",
            "Sao Tome and Principe",
            "Senegal",
            "Serbia",
            "Seychelles",
            "Sierra Leone",
            "Solomon Islands",
            "Somalia",
            "South Africa",
            "South Sudan",
            "Sri Lanka",
            "Sudan",
            "Suriname",
            "Syria",
            "Tajikistan",
            "Tanzania",
            "Thailand",
            "Timor",
            "Togo",
            "Tonga",
            "Tunisia",
            "Turkey",
            "Tuvalu",
            "Uganda",
            "Ukraine",
            "Uruguay",
            "Uzbekistan",
            "Vanuatu",
            "Venezuela",
            "Vietnam",
            "Yemen",
            "Zambia",
            "Zimbabwe"
           ],
           "name": "",
           "type": "choropleth",
           "z": [
            2.91995889255401,
            2.7497246242218467,
            0.16227999837358806,
            0.9049576936885928,
            0.33612692152556806,
            0.011442164853854133,
            13.958781800433712,
            0.8278455629261375,
            6.514143729356523,
            1.1412445671141829,
            0.12482281092511137,
            2.043463329766733,
            5.528107099067391,
            64.05816704284034,
            8.084645301988433,
            12.245629461197904,
            0.2698657705353473,
            0.7678180982599557,
            8.060608555582535,
            1.8675702149230293,
            4.760428055902586,
            5.1651173855662815,
            16.81063135091186,
            1.2461607101365588,
            1.8215497438587125,
            0.05597297195222645,
            0.11820764191223747,
            0.2838599746381289,
            9.879417925965937,
            1.4924573269442138,
            121.62313641968389,
            4.923319047795004,
            1.0802088090593511,
            1.2954430936028232,
            2.11427301046068,
            26.31709316938482,
            7.494091197325186,
            1.943179789062874,
            0.646697783775468,
            1.430344912198393,
            1.1772231319353097,
            0.007720857046015536,
            0.27080464183227626,
            2.407023178478548,
            2.1708974069214952,
            0.33899487888857355,
            4.281457792690066,
            8.404267110284525,
            0.3654598421304847,
            15.367364804283362,
            3.269926085484238,
            0.16951163697387825,
            0.12027687354458619,
            0.8294096667873134,
            1.5717155447256324,
            21.74069330578358,
            6.131910896468087,
            2.210816105565264,
            0.37823012998411903,
            0.554268169318037,
            0.027138001816670365,
            4.200674001899066,
            0.11132890076716387,
            28.961553609770352,
            0.0011368612715475,
            4.2226084649412,
            44.173144814872785,
            4.669420506856567,
            8.385306241516247,
            1.3184774870881142,
            15.598440952800651,
            15.70694871402042,
            3.4340765719419126,
            1.1645202878429863,
            6.274437169816771,
            2.2991882692454344,
            11.277852696846521,
            7.845908208742293,
            19.23076923076923,
            6.804259284171107,
            0.3018314201864854,
            2.2792975115473855,
            15.49904162730766,
            9.13628278502656,
            6.211188683028194,
            46.19258049411872,
            8.451146394037387,
            5.2026398856102825,
            0.6737489474753074,
            5.510457385796217,
            8.207934336525307,
            3.264497884539826,
            6.147844630420637,
            2.8809604288909174,
            0.9333309785429539,
            0.16437065144108884,
            15.266283600429963,
            1.2353703755163485,
            1.1898106037411509,
            32.5458728466416,
            26.175255503229902,
            0.6454441542945822,
            0.5907261430225969,
            0.6337502895795527,
            1.9028821152669524,
            0.2472237708113069,
            2.988973870668385,
            1.6017023808161819,
            0.09351562646118167,
            75.63104342094177,
            4.455448050994628,
            10.968973209907809,
            3.4809281326199155,
            25.608063989552726,
            5.7067234304760035,
            13.458634785549041,
            0.6424110294535313,
            0.056276721850255826,
            2.0127908982255516,
            7.591063571896972,
            3.2540386724970736,
            0.03510699735117705,
            0.20226948353327123,
            4.345239224755518,
            3.230373850388369,
            0.3782110201371783,
            9.798774857744746,
            1.581969987573372,
            14.066148407243128,
            8.782081788244295,
            2.1951794795743713,
            18.311664530305805,
            2.4969353166883455,
            0.15770330126167956,
            0.04127772241321359,
            3.4338875002619345,
            16.966607641641538,
            0.017884786207252878,
            5.78031552278157,
            2.1114598583015862,
            6.695346667347829,
            3.28094644840073
           ]
          }
         ],
         "name": "2014"
        },
        {
         "data": [
          {
           "coloraxis": "coloraxis",
           "geo": "geo",
           "hovertemplate": "Year=2015<br>Entity=%{location}<br>a_b_ratio=%{z}<extra></extra>",
           "locationmode": "country names",
           "locations": [
            "Afghanistan",
            "Africa (UN)",
            "Algeria",
            "Angola",
            "Antigua and Barbuda",
            "Argentina",
            "Armenia",
            "Asia (UN)",
            "Azerbaijan",
            "Bangladesh",
            "Belarus",
            "Belize",
            "Benin",
            "Bhutan",
            "Bolivia",
            "Bosnia and Herzegovina",
            "Botswana",
            "Brazil",
            "Burkina Faso",
            "Burundi",
            "Cambodia",
            "Cameroon",
            "Cape Verde",
            "Central African Republic",
            "Chad",
            "Chile",
            "China",
            "Colombia",
            "Comoros",
            "Congo",
            "Cook Islands",
            "Costa Rica",
            "Cote d'Ivoire",
            "Cuba",
            "Democratic Republic of Congo",
            "Djibouti",
            "Dominica",
            "Dominican Republic",
            "Ecuador",
            "Egypt",
            "El Salvador",
            "Eritrea",
            "Eswatini",
            "Ethiopia",
            "Europe (UN)",
            "Fiji",
            "Gabon",
            "Gambia",
            "Georgia",
            "Ghana",
            "Grenada",
            "Guatemala",
            "Guinea",
            "Guinea-Bissau",
            "Guyana",
            "Haiti",
            "Honduras",
            "India",
            "Indonesia",
            "Iran",
            "Iraq",
            "Jamaica",
            "Jordan",
            "Kazakhstan",
            "Kenya",
            "Kiribati",
            "Kyrgyzstan",
            "Laos",
            "Latin America and the Caribbean (UN)",
            "Lebanon",
            "Lesotho",
            "Liberia",
            "Madagascar",
            "Malawi",
            "Malaysia",
            "Maldives",
            "Mali",
            "Marshall Islands",
            "Mauritania",
            "Mauritius",
            "Mexico",
            "Micronesia (country)",
            "Moldova",
            "Mongolia",
            "Montenegro",
            "Morocco",
            "Mozambique",
            "Myanmar",
            "Namibia",
            "Nauru",
            "Nepal",
            "Nicaragua",
            "Niger",
            "Nigeria",
            "North Korea",
            "North Macedonia",
            "Oceania (UN)",
            "Pakistan",
            "Palau",
            "Palestine",
            "Panama",
            "Papua New Guinea",
            "Paraguay",
            "Peru",
            "Philippines",
            "Rwanda",
            "Saint Lucia",
            "Saint Vincent and the Grenadines",
            "Samoa",
            "Sao Tome and Principe",
            "Senegal",
            "Serbia",
            "Seychelles",
            "Sierra Leone",
            "Solomon Islands",
            "Somalia",
            "South Africa",
            "South Sudan",
            "Sri Lanka",
            "Sudan",
            "Suriname",
            "Syria",
            "Tajikistan",
            "Tanzania",
            "Thailand",
            "Timor",
            "Togo",
            "Tonga",
            "Tunisia",
            "Turkey",
            "Tuvalu",
            "Uganda",
            "Ukraine",
            "Uruguay",
            "Uzbekistan",
            "Vanuatu",
            "Venezuela",
            "Vietnam",
            "Wallis and Futuna",
            "Yemen",
            "Zambia",
            "Zimbabwe"
           ],
           "name": "",
           "type": "choropleth",
           "z": [
            2.2874664849571156,
            2.88987342726545,
            0.12770859821276748,
            1.226547871416827,
            0.4446519486871651,
            0.08322340138480042,
            13.979027290368437,
            0.8975234968464973,
            7.367578497863585,
            1.3136919470316164,
            0.13091961545919437,
            4.251369885852108,
            1.547637744103953,
            9.754010580074373,
            8.625718997771884,
            19.78249470537362,
            0.15617022033449057,
            0.52225223391005,
            5.484019625577959,
            1.2426409877811941,
            5.321216560866085,
            4.447988388994749,
            55.29104314077755,
            0.9503374009019075,
            2.789195713775621,
            0.8886341122908954,
            0.1513293112249162,
            0.0897713161671901,
            8.956192714260478,
            0.833269159760603,
            238.1489841986456,
            9.35602557667743,
            1.126003094156489,
            1.554689076294228,
            1.9569801526894575,
            14.976159385291762,
            10.852956716694989,
            2.8080407217798635,
            0.6952375119042444,
            2.3070124008286537,
            0.4942969684831117,
            0.1766464421460447,
            10.0534331151268,
            2.0388029123614535,
            0.4001037822748947,
            3.64148193050875,
            3.199370576833205,
            1.1317554147839213,
            12.227088131292039,
            5.0871211494074355,
            0.16807570129586366,
            0.16248877811876117,
            1.113022248489012,
            2.0347347102822857,
            3.933550804391273,
            4.409413994749219,
            3.4805492704833285,
            0.36325659331807436,
            0.5089312533223724,
            0.01369346360120878,
            5.478601355396335,
            0.36143004628809555,
            39.0025541775285,
            0.010092000923081684,
            3.553355051885643,
            57.14677382043747,
            3.9087165901519616,
            16.32284432081704,
            0.9029870618772193,
            17.41694446002862,
            10.167417815732781,
            8.724440792397768,
            0.7198930968811125,
            3.715697979755999,
            2.3657147867216386,
            17.791960329667805,
            4.5597311530836295,
            19.827621090114516,
            15.315903173285863,
            4.22995161461197,
            0.13807752276373172,
            17.62927372872841,
            20.54378636659049,
            2.6511456592043325,
            25.711036344048367,
            11.300312775587495,
            5.4408459898972,
            1.6509997794264295,
            1.213470486163589,
            439.90363165878466,
            4.011904530797316,
            7.479428000781125,
            3.6222934150074133,
            1.123667099836031,
            0.09106021487360129,
            6.304658758565726,
            1.6313028781221963,
            1.388590688571099,
            80.23790820334418,
            27.665697055377105,
            0.32094194185542857,
            0.72101773611488,
            0.5713865787929143,
            2.319950361853647,
            0.27836185021725424,
            3.344509468938448,
            1.6511233332194628,
            0.18780577127135117,
            100.64542748519054,
            32.31547861709638,
            8.394984435634772,
            4.146551745920374,
            0.7052186177715092,
            2.9392548975163844,
            12.861736334405144,
            1.9841746992079068,
            0.05583742318596024,
            3.739403089072117,
            7.399928723721559,
            5.8950246536836755,
            0.7645817911371069,
            0.2171289430381744,
            5.086774316388446,
            2.6414644176719544,
            0.11892837905399245,
            14.02362869478248,
            1.4010002633398775,
            15.639721123045035,
            10.426743754141691,
            1.9551472251473818,
            283.59030837004406,
            3.364698406152238,
            0.21786217274211644,
            0.15575316943006096,
            3.5590332302231484,
            10.851871947911015,
            0.0068785428180446586,
            6.239952967413446,
            3.2765399737876804,
            0.6224455186587775,
            6.924446113549223,
            1.763342358923957
           ]
          }
         ],
         "name": "2015"
        },
        {
         "data": [
          {
           "coloraxis": "coloraxis",
           "geo": "geo",
           "hovertemplate": "Year=2016<br>Entity=%{location}<br>a_b_ratio=%{z}<extra></extra>",
           "locationmode": "country names",
           "locations": [
            "Afghanistan",
            "Africa (UN)",
            "Algeria",
            "Angola",
            "Antigua and Barbuda",
            "Argentina",
            "Armenia",
            "Asia (UN)",
            "Azerbaijan",
            "Bangladesh",
            "Belarus",
            "Belize",
            "Benin",
            "Bhutan",
            "Bolivia",
            "Bosnia and Herzegovina",
            "Botswana",
            "Brazil",
            "Burkina Faso",
            "Burundi",
            "Cambodia",
            "Cameroon",
            "Cape Verde",
            "Central African Republic",
            "Chad",
            "Chile",
            "China",
            "Colombia",
            "Comoros",
            "Congo",
            "Cook Islands",
            "Costa Rica",
            "Cote d'Ivoire",
            "Cuba",
            "Democratic Republic of Congo",
            "Djibouti",
            "Dominican Republic",
            "Ecuador",
            "Egypt",
            "El Salvador",
            "Eritrea",
            "Eswatini",
            "Ethiopia",
            "Europe (UN)",
            "Fiji",
            "Gabon",
            "Gambia",
            "Georgia",
            "Ghana",
            "Grenada",
            "Guatemala",
            "Guinea",
            "Guinea-Bissau",
            "Guyana",
            "Haiti",
            "Honduras",
            "India",
            "Indonesia",
            "Iran",
            "Iraq",
            "Jamaica",
            "Jordan",
            "Kazakhstan",
            "Kenya",
            "Kiribati",
            "Kyrgyzstan",
            "Laos",
            "Latin America and the Caribbean (UN)",
            "Lebanon",
            "Lesotho",
            "Liberia",
            "Libya",
            "Madagascar",
            "Malawi",
            "Malaysia",
            "Maldives",
            "Mali",
            "Marshall Islands",
            "Mauritania",
            "Mauritius",
            "Mexico",
            "Micronesia (country)",
            "Moldova",
            "Mongolia",
            "Montenegro",
            "Morocco",
            "Mozambique",
            "Myanmar",
            "Namibia",
            "Nauru",
            "Nepal",
            "Nicaragua",
            "Niger",
            "Nigeria",
            "Niue",
            "North Korea",
            "North Macedonia",
            "Oceania (UN)",
            "Pakistan",
            "Palau",
            "Palestine",
            "Panama",
            "Papua New Guinea",
            "Paraguay",
            "Peru",
            "Philippines",
            "Rwanda",
            "Saint Lucia",
            "Saint Vincent and the Grenadines",
            "Samoa",
            "Sao Tome and Principe",
            "Senegal",
            "Serbia",
            "Seychelles",
            "Sierra Leone",
            "Solomon Islands",
            "Somalia",
            "South Africa",
            "South Sudan",
            "Sri Lanka",
            "Sudan",
            "Suriname",
            "Syria",
            "Tajikistan",
            "Tanzania",
            "Thailand",
            "Timor",
            "Togo",
            "Tonga",
            "Tunisia",
            "Turkey",
            "Tuvalu",
            "Uganda",
            "Ukraine",
            "Uruguay",
            "Uzbekistan",
            "Vanuatu",
            "Venezuela",
            "Vietnam",
            "Wallis and Futuna",
            "Yemen",
            "Zambia",
            "Zimbabwe"
           ],
           "name": "",
           "type": "choropleth",
           "z": [
            3.9949518729126616,
            2.960056501894062,
            0.23946854047742194,
            1.5067874721717653,
            0.22081148219707425,
            0.1229726797299529,
            12.471033808225927,
            0.8752543430135242,
            10.085950097100575,
            1.615550176757987,
            0.5150332541521209,
            1.252290193751072,
            3.90760607529726,
            5.935200943230137,
            18.39116627375829,
            14.28044073732004,
            0.004250943390611961,
            0.5356290381015172,
            7.855566318784712,
            1.3151946529358143,
            4.976771864547323,
            5.689614031530356,
            46.275154504216516,
            1.1418825810298232,
            2.3251531753759633,
            0.2250623206966647,
            0.06758734473414307,
            0.07327936276770064,
            8.040319522297816,
            0.5321169191972747,
            198.04234008650124,
            3.142437977798696,
            4.255043235996931,
            5.045841954672593,
            1.858997735701952,
            12.616428329207666,
            3.266654881758777,
            2.010999302415608,
            2.6922143214256966,
            0.8479304018726143,
            0.30012290181404977,
            11.85090269043499,
            2.0552128174771953,
            0.2899295165214972,
            3.103320989012066,
            2.5021450381313484,
            1.3766543587725248,
            17.4484343079707,
            3.7317753241846585,
            0.16670417510606553,
            0.2424651052814179,
            0.7543380093070223,
            3.1288258617625866,
            1.0407102122653626,
            3.7157528413002057,
            1.4406818536871837,
            0.43000477811639903,
            0.4788998117763343,
            0.027849056958907947,
            3.987292346827764,
            0.06065581783844787,
            47.69756797498038,
            0.012169112160383588,
            4.336390848350802,
            30.541049025976765,
            6.942156285584159,
            4.644942671743164,
            1.2316057746958267,
            19.149564409324217,
            7.5424138336359015,
            24.436338663005042,
            0,
            0.6964174966426089,
            3.7551081190769144,
            0.7216171176334867,
            8.255129737618956,
            8.725618055254012,
            12.615295528808371,
            10.849241935133577,
            9.884775513579394,
            1.107396801678062,
            6.367456837739007,
            3.3642106895081585,
            2.3303721762804424,
            21.886606533767907,
            7.413848618029905,
            5.173938945354106,
            1.7952549154064168,
            4.588200405362771,
            157.89932827357586,
            4.719827791968368,
            5.936546100888103,
            3.135015296045053,
            1.066535625152067,
            5.310674455655868,
            0.06065472283272995,
            9.52519057489501,
            2.2089553517058858,
            0.8550761267840827,
            431.6143497757848,
            24.52624212126852,
            0.3725469645121696,
            4.203759988565233,
            3.0207657298037556,
            1.4428523816828926,
            0.20252629237519404,
            5.7372024344848365,
            3.3441214312839724,
            0.37746175840560153,
            93.45248809344275,
            42.709147771696635,
            4.9927613434317495,
            4.8296555530763,
            51.03411227504701,
            4.504986577114935,
            8.80419034882425,
            2.409596743770031,
            0.550846304097786,
            4.743308311606349,
            6.129613627578435,
            1.3860824120210982,
            1.3758422734417726,
            0.13973659493662074,
            6.944153146827981,
            2.093680569857573,
            0.0883764665253172,
            12.976004599172933,
            2.423851323544211,
            13.526167932577255,
            13.699689859354187,
            0.9496490963892599,
            125.04597278411181,
            3.4432471219130396,
            0.15724824756307595,
            0.10545532092397608,
            3.6863852936785313,
            9.073609213420468,
            0.007481751682353189,
            6.574603532948205,
            206.85090186993216,
            1.4258381410677936,
            8.815728375850844,
            1.06000918167222
           ]
          }
         ],
         "name": "2016"
        },
        {
         "data": [
          {
           "coloraxis": "coloraxis",
           "geo": "geo",
           "hovertemplate": "Year=2017<br>Entity=%{location}<br>a_b_ratio=%{z}<extra></extra>",
           "locationmode": "country names",
           "locations": [
            "Afghanistan",
            "Africa (UN)",
            "Algeria",
            "Angola",
            "Antigua and Barbuda",
            "Argentina",
            "Armenia",
            "Asia (UN)",
            "Azerbaijan",
            "Bangladesh",
            "Belarus",
            "Belize",
            "Benin",
            "Bhutan",
            "Bolivia",
            "Bosnia and Herzegovina",
            "Botswana",
            "Brazil",
            "Burkina Faso",
            "Burundi",
            "Cambodia",
            "Cameroon",
            "Cape Verde",
            "Central African Republic",
            "Chad",
            "Chile",
            "China",
            "Colombia",
            "Comoros",
            "Congo",
            "Cook Islands",
            "Costa Rica",
            "Cote d'Ivoire",
            "Cuba",
            "Democratic Republic of Congo",
            "Djibouti",
            "Dominica",
            "Dominican Republic",
            "Ecuador",
            "Egypt",
            "El Salvador",
            "Eritrea",
            "Eswatini",
            "Ethiopia",
            "Europe (UN)",
            "Fiji",
            "Gabon",
            "Gambia",
            "Georgia",
            "Ghana",
            "Grenada",
            "Guatemala",
            "Guinea",
            "Guinea-Bissau",
            "Guyana",
            "Haiti",
            "Honduras",
            "India",
            "Indonesia",
            "Iran",
            "Iraq",
            "Jamaica",
            "Jordan",
            "Kazakhstan",
            "Kenya",
            "Kiribati",
            "Kyrgyzstan",
            "Laos",
            "Latin America and the Caribbean (UN)",
            "Lebanon",
            "Lesotho",
            "Liberia",
            "Libya",
            "Madagascar",
            "Malawi",
            "Malaysia",
            "Maldives",
            "Mali",
            "Marshall Islands",
            "Mauritania",
            "Mauritius",
            "Mexico",
            "Micronesia (country)",
            "Moldova",
            "Mongolia",
            "Montenegro",
            "Montserrat",
            "Morocco",
            "Mozambique",
            "Myanmar",
            "Namibia",
            "Nauru",
            "Nepal",
            "Nicaragua",
            "Niger",
            "Nigeria",
            "Niue",
            "North Korea",
            "North Macedonia",
            "Oceania (UN)",
            "Pakistan",
            "Palau",
            "Palestine",
            "Panama",
            "Papua New Guinea",
            "Paraguay",
            "Peru",
            "Philippines",
            "Rwanda",
            "Saint Helena",
            "Saint Lucia",
            "Saint Vincent and the Grenadines",
            "Samoa",
            "Sao Tome and Principe",
            "Senegal",
            "Serbia",
            "Seychelles",
            "Sierra Leone",
            "Solomon Islands",
            "Somalia",
            "South Africa",
            "South Sudan",
            "Sri Lanka",
            "Sudan",
            "Suriname",
            "Syria",
            "Tajikistan",
            "Tanzania",
            "Thailand",
            "Timor",
            "Togo",
            "Tonga",
            "Tunisia",
            "Turkey",
            "Tuvalu",
            "Uganda",
            "Ukraine",
            "Uruguay",
            "Uzbekistan",
            "Vanuatu",
            "Venezuela",
            "Vietnam",
            "Wallis and Futuna",
            "Yemen",
            "Zambia",
            "Zimbabwe"
           ],
           "name": "",
           "type": "choropleth",
           "z": [
            2.6765108398689015,
            2.5075083879655047,
            0.09772331893283802,
            1.6528387215390143,
            4.2794596907816045,
            0.2698922628221297,
            29.597511017981162,
            0.9275260830447334,
            10.06595893847324,
            1.4649495462031068,
            0.30181685506012956,
            1.040827110610565,
            2.7447259956336176,
            16.2273683096822,
            18.376927708235776,
            14.465011155442184,
            0.033307686414793945,
            0.4882857462959155,
            6.01536812621182,
            1.7892371825717541,
            10.758846074594077,
            5.314189842063246,
            62.92492021544926,
            0.7564930821909721,
            3.087652815779616,
            0.2771035891611013,
            0.06813560053517129,
            0.27444761574719617,
            5.422281507000388,
            1.9125256689745607,
            192.91496813458116,
            6.011395218397673,
            0.32799388796469287,
            5.194768535527797,
            1.6891845394896392,
            21.148924961691606,
            10.934083099031552,
            3.6591618471892313,
            2.931673676630824,
            1.5529124333830333,
            2.1925551741190406,
            0.20606823861406745,
            4.750750609911265,
            2.120095738602944,
            0.32595904873280407,
            2.4482547751849246,
            1.9670829001623662,
            0.7517252935403279,
            18.56622013709787,
            2.519665467837521,
            31.918236393404666,
            0.9427749479784866,
            1.6771791953640904,
            2.675766756124873,
            0.3144386287855463,
            3.3745887392569607,
            1.1436768744069319,
            0.502445838493395,
            0.43572968605141144,
            0.01514701838043346,
            5.53593135949895,
            0.21008493128442365,
            54.13795506855151,
            0.04204245064461997,
            4.702528022515258,
            87.05909717722507,
            2.051863127660193,
            8.671141802748672,
            1.1424220088110661,
            17.19194893649062,
            5.380946106691999,
            17.92090783699896,
            0.37000646100265167,
            1.1020445907723253,
            6.146129571372614,
            0.05723075930018603,
            13.990928121342197,
            7.675276661048556,
            43.64036946021523,
            15.067242497508424,
            0.12357664802976344,
            0.11437711736059358,
            9.054608342916127,
            6.297722224230982,
            3.5238642482169924,
            16.776162354038693,
            48.697861528689394,
            4.638016831514511,
            3.7673111500089185,
            1.4641886535936193,
            2.4106168641680834,
            9.395285275025623,
            6.280287306467802,
            4.819047319248692,
            3.638341913422827,
            0.7839442430781377,
            15.864621893178212,
            0.041150137727551446,
            7.983022582578829,
            2.049409076686927,
            1.4356248513723435,
            312.4824998599989,
            23.205927988233878,
            1.2182406017864436,
            3.2463674749745004,
            1.4082499214054933,
            1.9297281535409294,
            0.225223334606476,
            4.961430762816709,
            25.35772504980982,
            3.0478340623677154,
            0.2841770233404062,
            73.5400352529835,
            41.0958904109589,
            4.204437941592157,
            6.0295661739864075,
            1.9640963192834977,
            5.546025630505485,
            16.033782807496724,
            1.4363346515768332,
            0.03407413203475462,
            4.801923020989414,
            7.406024211115211,
            1.083338126864868,
            2.961369446155836,
            0.46461718862351625,
            2.87938115488729,
            1.1262366031694577,
            0.03878800434561054,
            4.954803505040869,
            2.329105838567879,
            22.57421986151949,
            13.279497395787695,
            0.6690232397136093,
            93.08755760368663,
            3.6172565291044236,
            0.7756857451621528,
            0.21331276180123634,
            2.117344191765522,
            7.441860465116279,
            0.005889391341220537,
            5.5612363006674,
            7.524454477050414,
            1.246238228409264,
            8.544312725083095,
            1.644623001361051
           ]
          }
         ],
         "name": "2017"
        },
        {
         "data": [
          {
           "coloraxis": "coloraxis",
           "geo": "geo",
           "hovertemplate": "Year=2018<br>Entity=%{location}<br>a_b_ratio=%{z}<extra></extra>",
           "locationmode": "country names",
           "locations": [
            "Afghanistan",
            "Africa (UN)",
            "Algeria",
            "Angola",
            "Antigua and Barbuda",
            "Argentina",
            "Armenia",
            "Asia (UN)",
            "Azerbaijan",
            "Bangladesh",
            "Belarus",
            "Belize",
            "Benin",
            "Bhutan",
            "Bolivia",
            "Bosnia and Herzegovina",
            "Botswana",
            "Brazil",
            "Burkina Faso",
            "Burundi",
            "Cambodia",
            "Cameroon",
            "Cape Verde",
            "Central African Republic",
            "Chad",
            "China",
            "Colombia",
            "Comoros",
            "Congo",
            "Cook Islands",
            "Costa Rica",
            "Cote d'Ivoire",
            "Cuba",
            "Democratic Republic of Congo",
            "Djibouti",
            "Dominica",
            "Dominican Republic",
            "Ecuador",
            "Egypt",
            "El Salvador",
            "Equatorial Guinea",
            "Eritrea",
            "Eswatini",
            "Ethiopia",
            "Europe (UN)",
            "Fiji",
            "Gabon",
            "Gambia",
            "Georgia",
            "Ghana",
            "Grenada",
            "Guatemala",
            "Guinea",
            "Guinea-Bissau",
            "Guyana",
            "Haiti",
            "Honduras",
            "India",
            "Indonesia",
            "Iran",
            "Iraq",
            "Jamaica",
            "Jordan",
            "Kazakhstan",
            "Kenya",
            "Kiribati",
            "Kyrgyzstan",
            "Laos",
            "Latin America and the Caribbean (UN)",
            "Lebanon",
            "Lesotho",
            "Liberia",
            "Libya",
            "Madagascar",
            "Malawi",
            "Malaysia",
            "Maldives",
            "Mali",
            "Marshall Islands",
            "Mauritania",
            "Mauritius",
            "Mexico",
            "Micronesia (country)",
            "Moldova",
            "Mongolia",
            "Montenegro",
            "Montserrat",
            "Morocco",
            "Mozambique",
            "Myanmar",
            "Namibia",
            "Nauru",
            "Nepal",
            "Nicaragua",
            "Niger",
            "Nigeria",
            "North Korea",
            "North Macedonia",
            "Oceania (UN)",
            "Pakistan",
            "Palau",
            "Palestine",
            "Panama",
            "Papua New Guinea",
            "Paraguay",
            "Peru",
            "Philippines",
            "Rwanda",
            "Saint Lucia",
            "Samoa",
            "Sao Tome and Principe",
            "Senegal",
            "Serbia",
            "Sierra Leone",
            "Solomon Islands",
            "Somalia",
            "South Africa",
            "South Sudan",
            "Sri Lanka",
            "Sudan",
            "Suriname",
            "Syria",
            "Tajikistan",
            "Tanzania",
            "Thailand",
            "Timor",
            "Togo",
            "Tonga",
            "Tunisia",
            "Turkey",
            "Tuvalu",
            "Uganda",
            "Ukraine",
            "Uzbekistan",
            "Vanuatu",
            "Venezuela",
            "Vietnam",
            "Wallis and Futuna",
            "Yemen",
            "Zambia",
            "Zimbabwe"
           ],
           "name": "",
           "type": "choropleth",
           "z": [
            3.8133619111054364,
            2.926312322010171,
            0.10279770023179331,
            0.7757357034563854,
            0.10911789096940334,
            0.938226297931498,
            23.024343192800583,
            0.9027430221923625,
            10.784510334572959,
            1.736700492177755,
            0.15058418929959064,
            2.146169871962646,
            6.254245986495921,
            26.361231537952825,
            10.93400773642864,
            4.908632958955712,
            0.03263426655097819,
            0.20288667001842042,
            5.367599139497262,
            3.354076695335684,
            8.167739370176125,
            4.061530775596457,
            14.425543014903477,
            2.2670195758612466,
            2.5518749327505335,
            0.0525521177000331,
            0.32266595623334615,
            10.343646064390805,
            4.456851338369484,
            386.08474183838854,
            2.3091856787637046,
            1.5223195741427686,
            9.650216719397704,
            1.7840707798762787,
            35.05472926700996,
            14.398644833427442,
            0.15419581679753494,
            3.366896117884736,
            3.527157230993316,
            1.9469945860166913,
            0.01331467503538375,
            0.09578043641049754,
            3.2832656859957083,
            1.7733374702509075,
            0.20210392439239597,
            7.246991845501968,
            0.465325707466151,
            0.6666895713390563,
            16.257886718608137,
            1.99931015377455,
            0,
            1.4700143191382689,
            2.309860451772065,
            1.7870556906814397,
            12.628609401694169,
            4.361436402711228,
            1.0916123124065773,
            0.44517790134355734,
            0.4505239077820696,
            0.01086225769573438,
            2.3342785416363845,
            0.22405241830799882,
            31.090270389748852,
            0.03991779092787287,
            5.582614161626959,
            38.437632896071186,
            1.360969858936358,
            9.757905972801156,
            1.0808138990063343,
            29.575646605976097,
            4.7087619368252485,
            9.735353814663407,
            0.044768347728415446,
            0.9233963224465689,
            4.657041098796018,
            0.0768535834295032,
            48.08349990709982,
            7.560835833546032,
            41.510910197339825,
            15.360418402811517,
            0.2933488550902974,
            0.011853513410403856,
            2.073099283428726,
            3.8448819306145223,
            7.756019764892096,
            42.02964879746745,
            9.130335539831089,
            4.6841535050739385,
            4.060647062138163,
            2.2627494739681846,
            2.2031174527639146,
            5.021340697966357,
            4.821319662263471,
            9.499053137791503,
            3.6749691943946643,
            1.0882735744956984,
            0.045635114418543114,
            8.52142207914182,
            2.2127578028567965,
            1.0086401453759781,
            406.4404315983675,
            30.2691742400296,
            4.410291031191825,
            3.7302101898409012,
            2.661664289792696,
            2.3633749727440234,
            1.0840127671263886,
            3.7743949198080724,
            10.961583864548551,
            92.36344562859118,
            40.12150001419393,
            14.408429968455676,
            5.176339233167313,
            6.554906340399479,
            14.667983296397926,
            0.99798190927436,
            0.031217500663415488,
            5.338934821898906,
            8.600735693984518,
            0.9135917886170035,
            0.6400226365900942,
            1.260508722078982,
            7.94138471500902,
            2.873794526342405,
            0.022775902218159175,
            2.0763165193961246,
            2.4059612163028725,
            10.83990225070602,
            19.37477792750213,
            0.6056082780263435,
            7.350914269962327,
            3.7335542955144354,
            0.2634601355791506,
            3.0342459307174967,
            4.877113556021217,
            0.0036881004311322347,
            6.008365775923736,
            9.29054054054054,
            1.7508639186731343,
            8.364591454828908,
            1.9625049934590917
           ]
          }
         ],
         "name": "2018"
        },
        {
         "data": [
          {
           "coloraxis": "coloraxis",
           "geo": "geo",
           "hovertemplate": "Year=2019<br>Entity=%{location}<br>a_b_ratio=%{z}<extra></extra>",
           "locationmode": "country names",
           "locations": [
            "Afghanistan",
            "Africa (UN)",
            "Algeria",
            "Angola",
            "Antigua and Barbuda",
            "Argentina",
            "Armenia",
            "Asia (UN)",
            "Azerbaijan",
            "Bangladesh",
            "Belarus",
            "Belize",
            "Benin",
            "Bhutan",
            "Bolivia",
            "Bosnia and Herzegovina",
            "Botswana",
            "Brazil",
            "Burkina Faso",
            "Burundi",
            "Cambodia",
            "Cameroon",
            "Cape Verde",
            "Central African Republic",
            "Chad",
            "China",
            "Colombia",
            "Comoros",
            "Congo",
            "Cook Islands",
            "Costa Rica",
            "Cote d'Ivoire",
            "Cuba",
            "Democratic Republic of Congo",
            "Djibouti",
            "Dominica",
            "Dominican Republic",
            "Ecuador",
            "Egypt",
            "El Salvador",
            "Eritrea",
            "Eswatini",
            "Ethiopia",
            "Europe (UN)",
            "Fiji",
            "Gabon",
            "Gambia",
            "Georgia",
            "Ghana",
            "Grenada",
            "Guatemala",
            "Guinea",
            "Guinea-Bissau",
            "Guyana",
            "Haiti",
            "Honduras",
            "India",
            "Indonesia",
            "Iran",
            "Iraq",
            "Jamaica",
            "Jordan",
            "Kazakhstan",
            "Kenya",
            "Kiribati",
            "Kyrgyzstan",
            "Laos",
            "Latin America and the Caribbean (UN)",
            "Lebanon",
            "Lesotho",
            "Liberia",
            "Libya",
            "Madagascar",
            "Malawi",
            "Malaysia",
            "Maldives",
            "Mali",
            "Marshall Islands",
            "Mauritania",
            "Mauritius",
            "Mexico",
            "Micronesia (country)",
            "Moldova",
            "Mongolia",
            "Montenegro",
            "Montserrat",
            "Morocco",
            "Mozambique",
            "Myanmar",
            "Namibia",
            "Nauru",
            "Nepal",
            "Nicaragua",
            "Niger",
            "Nigeria",
            "Niue",
            "North Korea",
            "North Macedonia",
            "Oceania (UN)",
            "Pakistan",
            "Palau",
            "Palestine",
            "Panama",
            "Papua New Guinea",
            "Paraguay",
            "Peru",
            "Philippines",
            "Rwanda",
            "Saint Lucia",
            "Saint Vincent and the Grenadines",
            "Samoa",
            "Sao Tome and Principe",
            "Senegal",
            "Serbia",
            "Sierra Leone",
            "Solomon Islands",
            "Somalia",
            "South Africa",
            "South Sudan",
            "Sri Lanka",
            "Sudan",
            "Suriname",
            "Syria",
            "Tajikistan",
            "Tanzania",
            "Thailand",
            "Timor",
            "Togo",
            "Tonga",
            "Tunisia",
            "Turkey",
            "Turkmenistan",
            "Tuvalu",
            "Uganda",
            "Ukraine",
            "Uzbekistan",
            "Vanuatu",
            "Venezuela",
            "Vietnam",
            "Wallis and Futuna",
            "Yemen",
            "Zambia",
            "Zimbabwe"
           ],
           "name": "",
           "type": "choropleth",
           "z": [
            3.8774676792086398,
            2.909020668748099,
            0.1810076727583593,
            0.6929678781879922,
            12.808405787662682,
            0.46038132625400946,
            2.3292883368243116,
            0.813367141120758,
            9.507697873526022,
            2.047593835876778,
            0.32664972843106516,
            3.3667178099372146,
            4.405048703289214,
            29.069653809219158,
            12.301612302563283,
            8.21550632930225,
            0.07600896905834889,
            0.20469076631689964,
            7.887211491531116,
            7.4982075544946385,
            11.280408762575624,
            5.974631784808378,
            12.09627805496008,
            1.249681100963291,
            1.372864216412015,
            0.06075826950500945,
            0.31163197841434476,
            12.288351477193856,
            2.269000002872152,
            103.89307184964689,
            2.6767484959761254,
            1.1691346613662836,
            1.5198778371678878,
            1.318586285083182,
            41.27564364585069,
            4.198975449990202,
            0.21963104557426902,
            2.894992326338803,
            3.4094350286850794,
            1.6703231191508836,
            1.0203442933172593,
            2.487987551512457,
            2.3858971919809178,
            0.2533806312655923,
            20.468778580076474,
            0.24077175372794932,
            0.701507683502054,
            12.896419712030347,
            2.0258677874142026,
            2.933100857932001,
            1.1709110389377317,
            2.3063416552404394,
            2.7354018858540647,
            5.946709967061486,
            3.787484741866383,
            4.594916351636416,
            0.27803242413190316,
            0.4965448844526032,
            0.028764775390771206,
            2.251974591952309,
            0.1386037836700576,
            28.933470496646223,
            0.05971976500272472,
            4.035213756027993,
            40.8041721662428,
            2.403677753472168,
            10.830473077171593,
            0.9391095619948232,
            21.449651949043847,
            3.783062483432253,
            5.291567792445374,
            0.2800998921463187,
            1.6245880327317623,
            4.7621975328795685,
            0.9084251371112275,
            16.03510677517948,
            6.151473470433594,
            46.70391061452514,
            20.669032469838747,
            2.3914512560519143,
            0.019106959576516865,
            13.825050272910083,
            2.79466511614744,
            7.483522483824114,
            14.419347623662958,
            2.208480565371025,
            6.541629875909283,
            3.896571050494555,
            2.7556450943295627,
            0.9400616680454238,
            13.984863441921684,
            5.175756524755051,
            10.14718216112771,
            6.924336913587619,
            0.9829590782881653,
            5.14668039114771,
            0.04581556006687829,
            5.6665129424007,
            2.196027224082951,
            0.8126532065810489,
            409.72183510786556,
            23.970548548558742,
            4.85051758542983,
            2.8923262393093965,
            4.5620011794740885,
            1.5494352086272163,
            0.8481547515509944,
            3.8885771119021233,
            1.1758513723865303,
            0.7623403849818944,
            37.84536252742845,
            30.00764169757516,
            10.471987527110391,
            6.536905003826481,
            3.585262768071402,
            24.666666666666664,
            1.0637424511829818,
            1.6692185832782722,
            3.417027536360475,
            6.842138520025069,
            1.4847766330623093,
            1.7990854648886816,
            1.3384248540619352,
            6.822313957533291,
            3.9330188254443805,
            0.04403447321475551,
            2.5069468199262444,
            1.8281972555689958,
            10.57495355594722,
            9.465265215403459,
            0.624927469123528,
            0.0016237920610857584,
            2.7314941272876263,
            3.0522193306323984,
            0.7249310693468383,
            4.675084223990906,
            15.833700158337,
            0.00586779795970452,
            4.353772344993426,
            0.8521516829995739,
            2.323539829561855,
            4.703359727641469,
            0.7945498568963606
           ]
          }
         ],
         "name": "2019"
        },
        {
         "data": [
          {
           "coloraxis": "coloraxis",
           "geo": "geo",
           "hovertemplate": "Year=2020<br>Entity=%{location}<br>a_b_ratio=%{z}<extra></extra>",
           "locationmode": "country names",
           "locations": [
            "Afghanistan",
            "Africa (UN)",
            "Algeria",
            "Angola",
            "Antigua and Barbuda",
            "Argentina",
            "Armenia",
            "Asia (UN)",
            "Azerbaijan",
            "Bangladesh",
            "Belarus",
            "Belize",
            "Benin",
            "Bhutan",
            "Bolivia",
            "Bosnia and Herzegovina",
            "Botswana",
            "Brazil",
            "Burkina Faso",
            "Burundi",
            "Cambodia",
            "Cameroon",
            "Cape Verde",
            "Central African Republic",
            "Chad",
            "China",
            "Colombia",
            "Comoros",
            "Congo",
            "Costa Rica",
            "Cote d'Ivoire",
            "Cuba",
            "Democratic Republic of Congo",
            "Djibouti",
            "Dominica",
            "Dominican Republic",
            "Ecuador",
            "Egypt",
            "El Salvador",
            "Equatorial Guinea",
            "Eritrea",
            "Eswatini",
            "Ethiopia",
            "Europe (UN)",
            "Fiji",
            "Gabon",
            "Gambia",
            "Georgia",
            "Ghana",
            "Grenada",
            "Guatemala",
            "Guinea",
            "Guinea-Bissau",
            "Guyana",
            "Haiti",
            "Honduras",
            "India",
            "Indonesia",
            "Iran",
            "Iraq",
            "Jamaica",
            "Jordan",
            "Kazakhstan",
            "Kenya",
            "Kiribati",
            "Kyrgyzstan",
            "Laos",
            "Latin America and the Caribbean (UN)",
            "Lebanon",
            "Lesotho",
            "Liberia",
            "Libya",
            "Madagascar",
            "Malawi",
            "Malaysia",
            "Maldives",
            "Mali",
            "Marshall Islands",
            "Mauritania",
            "Mauritius",
            "Mexico",
            "Micronesia (country)",
            "Moldova",
            "Mongolia",
            "Montenegro",
            "Morocco",
            "Mozambique",
            "Myanmar",
            "Namibia",
            "Nepal",
            "Nicaragua",
            "Niger",
            "Nigeria",
            "Niue",
            "North Korea",
            "North Macedonia",
            "Oceania (UN)",
            "Pakistan",
            "Palau",
            "Palestine",
            "Panama",
            "Papua New Guinea",
            "Paraguay",
            "Peru",
            "Philippines",
            "Rwanda",
            "Saint Lucia",
            "Saint Vincent and the Grenadines",
            "Samoa",
            "Sao Tome and Principe",
            "Senegal",
            "Serbia",
            "Sierra Leone",
            "Solomon Islands",
            "Somalia",
            "South Africa",
            "South Sudan",
            "Sri Lanka",
            "Sudan",
            "Suriname",
            "Syria",
            "Tajikistan",
            "Tanzania",
            "Thailand",
            "Timor",
            "Togo",
            "Tonga",
            "Tunisia",
            "Turkey",
            "Turkmenistan",
            "Tuvalu",
            "Uganda",
            "Ukraine",
            "Uzbekistan",
            "Vanuatu",
            "Venezuela",
            "Vietnam",
            "Yemen",
            "Zambia",
            "Zimbabwe"
           ],
           "name": "",
           "type": "choropleth",
           "z": [
            3.5997421343748406,
            2.480059106566321,
            0.0692723694749762,
            0.13790631883163135,
            0,
            0.7234207489682928,
            5.442666657161901,
            0.7459301558791167,
            4.725350200953782,
            1.6356973832377866,
            0.03321657361700979,
            0.936872516971319,
            3.3646755417432135,
            16.025641025641026,
            9.255063328945829,
            6.695977893027083,
            0.015708426471211952,
            0.11463613365454965,
            3.8471131225957866,
            3.435287505659673,
            12.059013235701656,
            3.1036850503320172,
            10.09189113114996,
            2.8654185345227723,
            1.802374772953348,
            0.07271937226785136,
            0.4688728140473981,
            0.42174832044933563,
            5.938076697994434,
            0.7554009705438516,
            0.5609472130769924,
            1.4096478136964143,
            0.7701406590672275,
            24.24410316998758,
            8.609795725653026,
            17.452344925319565,
            3.524442769621862,
            3.3990561105552306,
            44.192238222686676,
            0,
            0.5427646519036556,
            8.57145519085463,
            1.3233960446764987,
            0.26514778892312724,
            2.8356311723868193,
            0.34895137929575504,
            0.7109543299255441,
            9.365593248063151,
            2.1600103068942396,
            42.289281324794615,
            0.49473826560314643,
            0.8072603756244625,
            1.0963177118807603,
            3.073229412185292,
            2.669189277535898,
            6.382287985036597,
            0.21876455756817548,
            0.6815323106346585,
            0.01248708445961489,
            1.6417985220194624,
            0.13473084676918975,
            33.55469801915558,
            0.03372103744879276,
            3.7746860776158404,
            39.613198073897195,
            3.802405648043232,
            10.107389994011802,
            1.6252398517065247,
            21.32643842650899,
            4.4097344221917005,
            4.815638678502261,
            0.0015028676217089829,
            1.8118572273510938,
            4.668923424804736,
            0.018975910473220652,
            26.59145380220857,
            5.523924236486151,
            84.02974422727168,
            13.337467948397336,
            7.2197437260658175,
            0.010635064461506685,
            14.805697517815892,
            8.123576915296962,
            9.959506304753003,
            23.320584111480976,
            7.699359106307413,
            4.247513378079495,
            1.8192470686892586,
            0.5624525179593097,
            5.196495399818717,
            23.290753267514322,
            8.28030524322621,
            0.6334740170146024,
            5.094243504839532,
            0.00618537395649842,
            6.9964255228845165,
            1.502500692866552,
            0.7254945775277335,
            208.9004944719151,
            15.06950920696409,
            0.6939284289669944,
            1.756987770113792,
            3.2589481318083613,
            0.5062338221362178,
            0.24119585224424095,
            3.5363382142001667,
            2.008424223827722,
            17.201177325025803,
            3.908176463472508,
            29.773610793505604,
            7.840049841446765,
            4.93747630133691,
            3.972565856118304,
            30.4543705276925,
            1.3472803863429308,
            0.06734473060135035,
            2.4278197405598827,
            6.079647153894372,
            0.7333403479584066,
            0.7412678645555358,
            1.7123516832412233,
            9.816402466633086,
            2.214262423563136,
            0.021126071665455253,
            3.000004615391716,
            1.1809182095100517,
            5.3199069016292215,
            24.05663014770937,
            0.7869455047191056,
            0,
            294.86023444544634,
            3.7755090642844995,
            0.8189541145202113,
            3.775502613412573,
            20.693372345954685,
            0.035801460264345344,
            4.429134469296425,
            1.6097735463376273,
            3.638051204910302,
            1.1519073511663906
           ]
          }
         ],
         "name": "2020"
        }
       ],
       "layout": {
        "coloraxis": {
         "cmax": 8.2653,
         "cmin": 0,
         "colorbar": {
          "title": {
           "text": "a_b_ratio"
          }
         },
         "colorscale": [
          [
           0,
           "rgb(166,206,227)"
          ],
          [
           0.25,
           "rgb(31,120,180)"
          ],
          [
           0.45,
           "rgb(178,223,138)"
          ],
          [
           0.65,
           "rgb(51,160,44)"
          ],
          [
           0.85,
           "rgb(251,154,153)"
          ],
          [
           1,
           "rgb(227,26,28)"
          ]
         ]
        },
        "geo": {
         "center": {},
         "domain": {
          "x": [
           0,
           1
          ],
          "y": [
           0,
           1
          ]
         },
         "projection": {
          "scale": 3
         }
        },
        "height": 650,
        "legend": {
         "tracegroupgap": 0
        },
        "sliders": [
         {
          "active": 0,
          "currentvalue": {
           "prefix": "Year="
          },
          "len": 0.9,
          "pad": {
           "b": 10,
           "t": 60
          },
          "steps": [
           {
            "args": [
             [
              "2000"
             ],
             {
              "frame": {
               "duration": 0,
               "redraw": true
              },
              "fromcurrent": true,
              "mode": "immediate",
              "transition": {
               "duration": 0,
               "easing": "linear"
              }
             }
            ],
            "label": "2000",
            "method": "animate"
           },
           {
            "args": [
             [
              "2001"
             ],
             {
              "frame": {
               "duration": 0,
               "redraw": true
              },
              "fromcurrent": true,
              "mode": "immediate",
              "transition": {
               "duration": 0,
               "easing": "linear"
              }
             }
            ],
            "label": "2001",
            "method": "animate"
           },
           {
            "args": [
             [
              "2002"
             ],
             {
              "frame": {
               "duration": 0,
               "redraw": true
              },
              "fromcurrent": true,
              "mode": "immediate",
              "transition": {
               "duration": 0,
               "easing": "linear"
              }
             }
            ],
            "label": "2002",
            "method": "animate"
           },
           {
            "args": [
             [
              "2003"
             ],
             {
              "frame": {
               "duration": 0,
               "redraw": true
              },
              "fromcurrent": true,
              "mode": "immediate",
              "transition": {
               "duration": 0,
               "easing": "linear"
              }
             }
            ],
            "label": "2003",
            "method": "animate"
           },
           {
            "args": [
             [
              "2004"
             ],
             {
              "frame": {
               "duration": 0,
               "redraw": true
              },
              "fromcurrent": true,
              "mode": "immediate",
              "transition": {
               "duration": 0,
               "easing": "linear"
              }
             }
            ],
            "label": "2004",
            "method": "animate"
           },
           {
            "args": [
             [
              "2005"
             ],
             {
              "frame": {
               "duration": 0,
               "redraw": true
              },
              "fromcurrent": true,
              "mode": "immediate",
              "transition": {
               "duration": 0,
               "easing": "linear"
              }
             }
            ],
            "label": "2005",
            "method": "animate"
           },
           {
            "args": [
             [
              "2006"
             ],
             {
              "frame": {
               "duration": 0,
               "redraw": true
              },
              "fromcurrent": true,
              "mode": "immediate",
              "transition": {
               "duration": 0,
               "easing": "linear"
              }
             }
            ],
            "label": "2006",
            "method": "animate"
           },
           {
            "args": [
             [
              "2007"
             ],
             {
              "frame": {
               "duration": 0,
               "redraw": true
              },
              "fromcurrent": true,
              "mode": "immediate",
              "transition": {
               "duration": 0,
               "easing": "linear"
              }
             }
            ],
            "label": "2007",
            "method": "animate"
           },
           {
            "args": [
             [
              "2008"
             ],
             {
              "frame": {
               "duration": 0,
               "redraw": true
              },
              "fromcurrent": true,
              "mode": "immediate",
              "transition": {
               "duration": 0,
               "easing": "linear"
              }
             }
            ],
            "label": "2008",
            "method": "animate"
           },
           {
            "args": [
             [
              "2009"
             ],
             {
              "frame": {
               "duration": 0,
               "redraw": true
              },
              "fromcurrent": true,
              "mode": "immediate",
              "transition": {
               "duration": 0,
               "easing": "linear"
              }
             }
            ],
            "label": "2009",
            "method": "animate"
           },
           {
            "args": [
             [
              "2010"
             ],
             {
              "frame": {
               "duration": 0,
               "redraw": true
              },
              "fromcurrent": true,
              "mode": "immediate",
              "transition": {
               "duration": 0,
               "easing": "linear"
              }
             }
            ],
            "label": "2010",
            "method": "animate"
           },
           {
            "args": [
             [
              "2011"
             ],
             {
              "frame": {
               "duration": 0,
               "redraw": true
              },
              "fromcurrent": true,
              "mode": "immediate",
              "transition": {
               "duration": 0,
               "easing": "linear"
              }
             }
            ],
            "label": "2011",
            "method": "animate"
           },
           {
            "args": [
             [
              "2012"
             ],
             {
              "frame": {
               "duration": 0,
               "redraw": true
              },
              "fromcurrent": true,
              "mode": "immediate",
              "transition": {
               "duration": 0,
               "easing": "linear"
              }
             }
            ],
            "label": "2012",
            "method": "animate"
           },
           {
            "args": [
             [
              "2013"
             ],
             {
              "frame": {
               "duration": 0,
               "redraw": true
              },
              "fromcurrent": true,
              "mode": "immediate",
              "transition": {
               "duration": 0,
               "easing": "linear"
              }
             }
            ],
            "label": "2013",
            "method": "animate"
           },
           {
            "args": [
             [
              "2014"
             ],
             {
              "frame": {
               "duration": 0,
               "redraw": true
              },
              "fromcurrent": true,
              "mode": "immediate",
              "transition": {
               "duration": 0,
               "easing": "linear"
              }
             }
            ],
            "label": "2014",
            "method": "animate"
           },
           {
            "args": [
             [
              "2015"
             ],
             {
              "frame": {
               "duration": 0,
               "redraw": true
              },
              "fromcurrent": true,
              "mode": "immediate",
              "transition": {
               "duration": 0,
               "easing": "linear"
              }
             }
            ],
            "label": "2015",
            "method": "animate"
           },
           {
            "args": [
             [
              "2016"
             ],
             {
              "frame": {
               "duration": 0,
               "redraw": true
              },
              "fromcurrent": true,
              "mode": "immediate",
              "transition": {
               "duration": 0,
               "easing": "linear"
              }
             }
            ],
            "label": "2016",
            "method": "animate"
           },
           {
            "args": [
             [
              "2017"
             ],
             {
              "frame": {
               "duration": 0,
               "redraw": true
              },
              "fromcurrent": true,
              "mode": "immediate",
              "transition": {
               "duration": 0,
               "easing": "linear"
              }
             }
            ],
            "label": "2017",
            "method": "animate"
           },
           {
            "args": [
             [
              "2018"
             ],
             {
              "frame": {
               "duration": 0,
               "redraw": true
              },
              "fromcurrent": true,
              "mode": "immediate",
              "transition": {
               "duration": 0,
               "easing": "linear"
              }
             }
            ],
            "label": "2018",
            "method": "animate"
           },
           {
            "args": [
             [
              "2019"
             ],
             {
              "frame": {
               "duration": 0,
               "redraw": true
              },
              "fromcurrent": true,
              "mode": "immediate",
              "transition": {
               "duration": 0,
               "easing": "linear"
              }
             }
            ],
            "label": "2019",
            "method": "animate"
           },
           {
            "args": [
             [
              "2020"
             ],
             {
              "frame": {
               "duration": 0,
               "redraw": true
              },
              "fromcurrent": true,
              "mode": "immediate",
              "transition": {
               "duration": 0,
               "easing": "linear"
              }
             }
            ],
            "label": "2020",
            "method": "animate"
           }
          ],
          "x": 0.1,
          "xanchor": "left",
          "y": 0,
          "yanchor": "top"
         }
        ],
        "template": {
         "data": {
          "bar": [
           {
            "error_x": {
             "color": "#2a3f5f"
            },
            "error_y": {
             "color": "#2a3f5f"
            },
            "marker": {
             "line": {
              "color": "#E5ECF6",
              "width": 0.5
             },
             "pattern": {
              "fillmode": "overlay",
              "size": 10,
              "solidity": 0.2
             }
            },
            "type": "bar"
           }
          ],
          "barpolar": [
           {
            "marker": {
             "line": {
              "color": "#E5ECF6",
              "width": 0.5
             },
             "pattern": {
              "fillmode": "overlay",
              "size": 10,
              "solidity": 0.2
             }
            },
            "type": "barpolar"
           }
          ],
          "carpet": [
           {
            "aaxis": {
             "endlinecolor": "#2a3f5f",
             "gridcolor": "white",
             "linecolor": "white",
             "minorgridcolor": "white",
             "startlinecolor": "#2a3f5f"
            },
            "baxis": {
             "endlinecolor": "#2a3f5f",
             "gridcolor": "white",
             "linecolor": "white",
             "minorgridcolor": "white",
             "startlinecolor": "#2a3f5f"
            },
            "type": "carpet"
           }
          ],
          "choropleth": [
           {
            "colorbar": {
             "outlinewidth": 0,
             "ticks": ""
            },
            "type": "choropleth"
           }
          ],
          "contour": [
           {
            "colorbar": {
             "outlinewidth": 0,
             "ticks": ""
            },
            "colorscale": [
             [
              0,
              "#0d0887"
             ],
             [
              0.1111111111111111,
              "#46039f"
             ],
             [
              0.2222222222222222,
              "#7201a8"
             ],
             [
              0.3333333333333333,
              "#9c179e"
             ],
             [
              0.4444444444444444,
              "#bd3786"
             ],
             [
              0.5555555555555556,
              "#d8576b"
             ],
             [
              0.6666666666666666,
              "#ed7953"
             ],
             [
              0.7777777777777778,
              "#fb9f3a"
             ],
             [
              0.8888888888888888,
              "#fdca26"
             ],
             [
              1,
              "#f0f921"
             ]
            ],
            "type": "contour"
           }
          ],
          "contourcarpet": [
           {
            "colorbar": {
             "outlinewidth": 0,
             "ticks": ""
            },
            "type": "contourcarpet"
           }
          ],
          "heatmap": [
           {
            "colorbar": {
             "outlinewidth": 0,
             "ticks": ""
            },
            "colorscale": [
             [
              0,
              "#0d0887"
             ],
             [
              0.1111111111111111,
              "#46039f"
             ],
             [
              0.2222222222222222,
              "#7201a8"
             ],
             [
              0.3333333333333333,
              "#9c179e"
             ],
             [
              0.4444444444444444,
              "#bd3786"
             ],
             [
              0.5555555555555556,
              "#d8576b"
             ],
             [
              0.6666666666666666,
              "#ed7953"
             ],
             [
              0.7777777777777778,
              "#fb9f3a"
             ],
             [
              0.8888888888888888,
              "#fdca26"
             ],
             [
              1,
              "#f0f921"
             ]
            ],
            "type": "heatmap"
           }
          ],
          "heatmapgl": [
           {
            "colorbar": {
             "outlinewidth": 0,
             "ticks": ""
            },
            "colorscale": [
             [
              0,
              "#0d0887"
             ],
             [
              0.1111111111111111,
              "#46039f"
             ],
             [
              0.2222222222222222,
              "#7201a8"
             ],
             [
              0.3333333333333333,
              "#9c179e"
             ],
             [
              0.4444444444444444,
              "#bd3786"
             ],
             [
              0.5555555555555556,
              "#d8576b"
             ],
             [
              0.6666666666666666,
              "#ed7953"
             ],
             [
              0.7777777777777778,
              "#fb9f3a"
             ],
             [
              0.8888888888888888,
              "#fdca26"
             ],
             [
              1,
              "#f0f921"
             ]
            ],
            "type": "heatmapgl"
           }
          ],
          "histogram": [
           {
            "marker": {
             "pattern": {
              "fillmode": "overlay",
              "size": 10,
              "solidity": 0.2
             }
            },
            "type": "histogram"
           }
          ],
          "histogram2d": [
           {
            "colorbar": {
             "outlinewidth": 0,
             "ticks": ""
            },
            "colorscale": [
             [
              0,
              "#0d0887"
             ],
             [
              0.1111111111111111,
              "#46039f"
             ],
             [
              0.2222222222222222,
              "#7201a8"
             ],
             [
              0.3333333333333333,
              "#9c179e"
             ],
             [
              0.4444444444444444,
              "#bd3786"
             ],
             [
              0.5555555555555556,
              "#d8576b"
             ],
             [
              0.6666666666666666,
              "#ed7953"
             ],
             [
              0.7777777777777778,
              "#fb9f3a"
             ],
             [
              0.8888888888888888,
              "#fdca26"
             ],
             [
              1,
              "#f0f921"
             ]
            ],
            "type": "histogram2d"
           }
          ],
          "histogram2dcontour": [
           {
            "colorbar": {
             "outlinewidth": 0,
             "ticks": ""
            },
            "colorscale": [
             [
              0,
              "#0d0887"
             ],
             [
              0.1111111111111111,
              "#46039f"
             ],
             [
              0.2222222222222222,
              "#7201a8"
             ],
             [
              0.3333333333333333,
              "#9c179e"
             ],
             [
              0.4444444444444444,
              "#bd3786"
             ],
             [
              0.5555555555555556,
              "#d8576b"
             ],
             [
              0.6666666666666666,
              "#ed7953"
             ],
             [
              0.7777777777777778,
              "#fb9f3a"
             ],
             [
              0.8888888888888888,
              "#fdca26"
             ],
             [
              1,
              "#f0f921"
             ]
            ],
            "type": "histogram2dcontour"
           }
          ],
          "mesh3d": [
           {
            "colorbar": {
             "outlinewidth": 0,
             "ticks": ""
            },
            "type": "mesh3d"
           }
          ],
          "parcoords": [
           {
            "line": {
             "colorbar": {
              "outlinewidth": 0,
              "ticks": ""
             }
            },
            "type": "parcoords"
           }
          ],
          "pie": [
           {
            "automargin": true,
            "type": "pie"
           }
          ],
          "scatter": [
           {
            "fillpattern": {
             "fillmode": "overlay",
             "size": 10,
             "solidity": 0.2
            },
            "type": "scatter"
           }
          ],
          "scatter3d": [
           {
            "line": {
             "colorbar": {
              "outlinewidth": 0,
              "ticks": ""
             }
            },
            "marker": {
             "colorbar": {
              "outlinewidth": 0,
              "ticks": ""
             }
            },
            "type": "scatter3d"
           }
          ],
          "scattercarpet": [
           {
            "marker": {
             "colorbar": {
              "outlinewidth": 0,
              "ticks": ""
             }
            },
            "type": "scattercarpet"
           }
          ],
          "scattergeo": [
           {
            "marker": {
             "colorbar": {
              "outlinewidth": 0,
              "ticks": ""
             }
            },
            "type": "scattergeo"
           }
          ],
          "scattergl": [
           {
            "marker": {
             "colorbar": {
              "outlinewidth": 0,
              "ticks": ""
             }
            },
            "type": "scattergl"
           }
          ],
          "scattermapbox": [
           {
            "marker": {
             "colorbar": {
              "outlinewidth": 0,
              "ticks": ""
             }
            },
            "type": "scattermapbox"
           }
          ],
          "scatterpolar": [
           {
            "marker": {
             "colorbar": {
              "outlinewidth": 0,
              "ticks": ""
             }
            },
            "type": "scatterpolar"
           }
          ],
          "scatterpolargl": [
           {
            "marker": {
             "colorbar": {
              "outlinewidth": 0,
              "ticks": ""
             }
            },
            "type": "scatterpolargl"
           }
          ],
          "scatterternary": [
           {
            "marker": {
             "colorbar": {
              "outlinewidth": 0,
              "ticks": ""
             }
            },
            "type": "scatterternary"
           }
          ],
          "surface": [
           {
            "colorbar": {
             "outlinewidth": 0,
             "ticks": ""
            },
            "colorscale": [
             [
              0,
              "#0d0887"
             ],
             [
              0.1111111111111111,
              "#46039f"
             ],
             [
              0.2222222222222222,
              "#7201a8"
             ],
             [
              0.3333333333333333,
              "#9c179e"
             ],
             [
              0.4444444444444444,
              "#bd3786"
             ],
             [
              0.5555555555555556,
              "#d8576b"
             ],
             [
              0.6666666666666666,
              "#ed7953"
             ],
             [
              0.7777777777777778,
              "#fb9f3a"
             ],
             [
              0.8888888888888888,
              "#fdca26"
             ],
             [
              1,
              "#f0f921"
             ]
            ],
            "type": "surface"
           }
          ],
          "table": [
           {
            "cells": {
             "fill": {
              "color": "#EBF0F8"
             },
             "line": {
              "color": "white"
             }
            },
            "header": {
             "fill": {
              "color": "#C8D4E3"
             },
             "line": {
              "color": "white"
             }
            },
            "type": "table"
           }
          ]
         },
         "layout": {
          "annotationdefaults": {
           "arrowcolor": "#2a3f5f",
           "arrowhead": 0,
           "arrowwidth": 1
          },
          "autotypenumbers": "strict",
          "coloraxis": {
           "colorbar": {
            "outlinewidth": 0,
            "ticks": ""
           }
          },
          "colorscale": {
           "diverging": [
            [
             0,
             "#8e0152"
            ],
            [
             0.1,
             "#c51b7d"
            ],
            [
             0.2,
             "#de77ae"
            ],
            [
             0.3,
             "#f1b6da"
            ],
            [
             0.4,
             "#fde0ef"
            ],
            [
             0.5,
             "#f7f7f7"
            ],
            [
             0.6,
             "#e6f5d0"
            ],
            [
             0.7,
             "#b8e186"
            ],
            [
             0.8,
             "#7fbc41"
            ],
            [
             0.9,
             "#4d9221"
            ],
            [
             1,
             "#276419"
            ]
           ],
           "sequential": [
            [
             0,
             "#0d0887"
            ],
            [
             0.1111111111111111,
             "#46039f"
            ],
            [
             0.2222222222222222,
             "#7201a8"
            ],
            [
             0.3333333333333333,
             "#9c179e"
            ],
            [
             0.4444444444444444,
             "#bd3786"
            ],
            [
             0.5555555555555556,
             "#d8576b"
            ],
            [
             0.6666666666666666,
             "#ed7953"
            ],
            [
             0.7777777777777778,
             "#fb9f3a"
            ],
            [
             0.8888888888888888,
             "#fdca26"
            ],
            [
             1,
             "#f0f921"
            ]
           ],
           "sequentialminus": [
            [
             0,
             "#0d0887"
            ],
            [
             0.1111111111111111,
             "#46039f"
            ],
            [
             0.2222222222222222,
             "#7201a8"
            ],
            [
             0.3333333333333333,
             "#9c179e"
            ],
            [
             0.4444444444444444,
             "#bd3786"
            ],
            [
             0.5555555555555556,
             "#d8576b"
            ],
            [
             0.6666666666666666,
             "#ed7953"
            ],
            [
             0.7777777777777778,
             "#fb9f3a"
            ],
            [
             0.8888888888888888,
             "#fdca26"
            ],
            [
             1,
             "#f0f921"
            ]
           ]
          },
          "colorway": [
           "#636efa",
           "#EF553B",
           "#00cc96",
           "#ab63fa",
           "#FFA15A",
           "#19d3f3",
           "#FF6692",
           "#B6E880",
           "#FF97FF",
           "#FECB52"
          ],
          "font": {
           "color": "#2a3f5f"
          },
          "geo": {
           "bgcolor": "white",
           "lakecolor": "white",
           "landcolor": "#E5ECF6",
           "showlakes": true,
           "showland": true,
           "subunitcolor": "white"
          },
          "hoverlabel": {
           "align": "left"
          },
          "hovermode": "closest",
          "mapbox": {
           "style": "light"
          },
          "paper_bgcolor": "white",
          "plot_bgcolor": "#E5ECF6",
          "polar": {
           "angularaxis": {
            "gridcolor": "white",
            "linecolor": "white",
            "ticks": ""
           },
           "bgcolor": "#E5ECF6",
           "radialaxis": {
            "gridcolor": "white",
            "linecolor": "white",
            "ticks": ""
           }
          },
          "scene": {
           "xaxis": {
            "backgroundcolor": "#E5ECF6",
            "gridcolor": "white",
            "gridwidth": 2,
            "linecolor": "white",
            "showbackground": true,
            "ticks": "",
            "zerolinecolor": "white"
           },
           "yaxis": {
            "backgroundcolor": "#E5ECF6",
            "gridcolor": "white",
            "gridwidth": 2,
            "linecolor": "white",
            "showbackground": true,
            "ticks": "",
            "zerolinecolor": "white"
           },
           "zaxis": {
            "backgroundcolor": "#E5ECF6",
            "gridcolor": "white",
            "gridwidth": 2,
            "linecolor": "white",
            "showbackground": true,
            "ticks": "",
            "zerolinecolor": "white"
           }
          },
          "shapedefaults": {
           "line": {
            "color": "#2a3f5f"
           }
          },
          "ternary": {
           "aaxis": {
            "gridcolor": "white",
            "linecolor": "white",
            "ticks": ""
           },
           "baxis": {
            "gridcolor": "white",
            "linecolor": "white",
            "ticks": ""
           },
           "bgcolor": "#E5ECF6",
           "caxis": {
            "gridcolor": "white",
            "linecolor": "white",
            "ticks": ""
           }
          },
          "title": {
           "x": 0.05
          },
          "xaxis": {
           "automargin": true,
           "gridcolor": "white",
           "linecolor": "white",
           "ticks": "",
           "title": {
            "standoff": 15
           },
           "zerolinecolor": "white",
           "zerolinewidth": 2
          },
          "yaxis": {
           "automargin": true,
           "gridcolor": "white",
           "linecolor": "white",
           "ticks": "",
           "title": {
            "standoff": 15
           },
           "zerolinecolor": "white",
           "zerolinewidth": 2
          }
         }
        },
        "title": {
         "text": " Total Official Development Assistance  vs. Population Ratio (2000-2020)"
        },
        "updatemenus": [
         {
          "buttons": [
           {
            "args": [
             null,
             {
              "frame": {
               "duration": 500,
               "redraw": true
              },
              "fromcurrent": true,
              "mode": "immediate",
              "transition": {
               "duration": 500,
               "easing": "linear"
              }
             }
            ],
            "label": "&#9654;",
            "method": "animate"
           },
           {
            "args": [
             [
              null
             ],
             {
              "frame": {
               "duration": 0,
               "redraw": true
              },
              "fromcurrent": true,
              "mode": "immediate",
              "transition": {
               "duration": 0,
               "easing": "linear"
              }
             }
            ],
            "label": "&#9724;",
            "method": "animate"
           }
          ],
          "direction": "left",
          "pad": {
           "r": 10,
           "t": 70
          },
          "showactive": false,
          "type": "buttons",
          "x": 0.1,
          "xanchor": "right",
          "y": 0,
          "yanchor": "top"
         }
        ],
        "width": 1200
       }
      }
     },
     "metadata": {},
     "output_type": "display_data"
    }
   ],
   "source": [
    "fig = px.choropleth(a_b_df, \n",
    "                    locations='Entity',             # Spatial coordinates\n",
    "                    locationmode='country names',   # set of locations match entries in `locations`\n",
    "                    color='a_b_ratio', \n",
    "                    animation_frame='Year',\n",
    "                    color_continuous_scale=[[0, \"rgb(166,206,227)\"],\n",
    "                [0.25, \"rgb(31,120,180)\"],\n",
    "                [0.45, \"rgb(178,223,138)\"],\n",
    "                [0.65, \"rgb(51,160,44)\"],\n",
    "                [0.85, \"rgb(251,154,153)\"],\n",
    "                [1, \"rgb(227,26,28)\"]],\n",
    "                    range_color=(0, 8.26530),\n",
    "                    title=' Total Official Development Assistance  vs. Population Ratio (2000-2020)')\n",
    "\n",
    "fig.update_layout(\n",
    "    geo=dict(\n",
    "        projection_scale=3                          # determines the size of the geographical projection\n",
    "    ),\n",
    "    width=1200,\n",
    "    height=650\n",
    ")\n",
    "\n",
    "fig.show()"
   ]
  },
  {
   "attachments": {},
   "cell_type": "markdown",
   "metadata": {},
   "source": [
    "## Relationship between \"GDP\" and \"The Per Capita Aid Fund\""
   ]
  },
  {
   "attachments": {},
   "cell_type": "markdown",
   "metadata": {},
   "source": [
    "We are repeating the same process we did for the 'population.csv' file for the GDP data."
   ]
  },
  {
   "cell_type": "code",
   "execution_count": 15,
   "metadata": {},
   "outputs": [
    {
     "name": "stderr",
     "output_type": "stream",
     "text": [
      "C:\\Users\\Lenovo\\AppData\\Local\\Temp\\ipykernel_4208\\298074261.py:3: UserWarning: Boolean Series key will be reindexed to match DataFrame index.\n",
      "  df_gdp_2002_to_2020 = df_gdp[(df_gdp['Year'] >= 2000) & (df_pop['Year'] <= 2020)]\n"
     ]
    }
   ],
   "source": [
    "# Convert year column to integer\n",
    "df_gdp['Year'] = pd.to_numeric(df_gdp['Year'], errors='coerce')\n",
    "\n",
    "# Filter data between 2000 and 2020\n",
    "df_gdp_2002_to_2020 = df_gdp[(df_gdp['Year'] >= 2000) & (df_pop['Year'] <= 2020)]\n",
    "\n",
    "df_gdp_2002_to_2020.to_csv('new_gdp.csv', index=False)"
   ]
  },
  {
   "cell_type": "code",
   "execution_count": 16,
   "metadata": {},
   "outputs": [],
   "source": [
    "df_new_gdp = pd.read_csv(\"new_gdp.csv\")"
   ]
  },
  {
   "cell_type": "code",
   "execution_count": 17,
   "metadata": {},
   "outputs": [
    {
     "name": "stdout",
     "output_type": "stream",
     "text": [
      "<class 'pandas.core.frame.DataFrame'>\n",
      "RangeIndex: 4535 entries, 0 to 4534\n",
      "Data columns (total 4 columns):\n",
      " #   Column                              Non-Null Count  Dtype  \n",
      "---  ------                              --------------  -----  \n",
      " 0   Entity                              4535 non-null   object \n",
      " 1   Code                                4243 non-null   object \n",
      " 2   Year                                4535 non-null   int64  \n",
      " 3   GDP per capita (constant 2015 US$)  4535 non-null   float64\n",
      "dtypes: float64(1), int64(1), object(2)\n",
      "memory usage: 141.8+ KB\n"
     ]
    }
   ],
   "source": [
    "df_new_gdp. info()"
   ]
  },
  {
   "cell_type": "code",
   "execution_count": 18,
   "metadata": {},
   "outputs": [
    {
     "name": "stdout",
     "output_type": "stream",
     "text": [
      "Minimum GDP value: 258.6288146972656\n",
      "Mean GDP value: 14758.864000859203\n",
      "Maximum GDP value: 181709.34375\n"
     ]
    }
   ],
   "source": [
    "# Minimum value of a_b_ratio column\n",
    "min_value = df_new_gdp['GDP per capita (constant 2015 US$)'].min()\n",
    "print(\"Minimum GDP value:\", min_value)\n",
    "\n",
    "# Mean value of a_b_ratio column\n",
    "mean_value = df_new_gdp['GDP per capita (constant 2015 US$)'].mean()\n",
    "print(\"Mean GDP value:\", mean_value)\n",
    "\n",
    "# Maximum value of a_b_ratio column\n",
    "max_value = df_new_gdp['GDP per capita (constant 2015 US$)'].max()\n",
    "print(\"Maximum GDP value:\", max_value)"
   ]
  },
  {
   "cell_type": "code",
   "execution_count": 30,
   "metadata": {},
   "outputs": [
    {
     "data": {
      "application/vnd.plotly.v1+json": {
       "config": {
        "plotlyServerURL": "https://plot.ly"
       },
       "data": [
        {
         "coloraxis": "coloraxis",
         "geo": "geo",
         "hovertemplate": "Year=2002<br>Entity=%{location}<br>GDP per capita (constant 2015 US$)=%{z}<extra></extra>",
         "locationmode": "country names",
         "locations": [
          "Afghanistan",
          "Albania",
          "Algeria",
          "American Samoa",
          "Andorra",
          "Angola",
          "Antigua and Barbuda",
          "Argentina",
          "Armenia",
          "Aruba",
          "Australia",
          "Austria",
          "Azerbaijan",
          "Bahamas",
          "Bahrain",
          "Bangladesh",
          "Barbados",
          "Belarus",
          "Belgium",
          "Belize",
          "Benin",
          "Bermuda",
          "Bhutan",
          "Bolivia",
          "Bosnia and Herzegovina",
          "Botswana",
          "Brazil",
          "Brunei",
          "Bulgaria",
          "Burkina Faso",
          "Burundi",
          "Cambodia",
          "Cameroon",
          "Canada",
          "Cape Verde",
          "Central African Republic",
          "Chad",
          "Chile",
          "China",
          "Colombia",
          "Comoros",
          "Congo",
          "Costa Rica",
          "Cote d'Ivoire",
          "Croatia",
          "Cuba",
          "Curacao",
          "Cyprus",
          "Czechia",
          "Democratic Republic of Congo",
          "Denmark",
          "Dominica",
          "Dominican Republic",
          "East Asia and Pacific",
          "Ecuador",
          "Egypt",
          "El Salvador",
          "Equatorial Guinea",
          "Eritrea",
          "Estonia",
          "Eswatini",
          "Ethiopia",
          "Europe and Central Asia",
          "European Union",
          "Fiji",
          "Finland",
          "France",
          "Gabon",
          "Gambia",
          "Georgia",
          "Germany",
          "Ghana",
          "Greece",
          "Greenland",
          "Grenada",
          "Guam",
          "Guatemala",
          "Guinea",
          "Guinea-Bissau",
          "Guyana",
          "Haiti",
          "High income",
          "Honduras",
          "Hong Kong",
          "Hungary",
          "Iceland",
          "India",
          "Indonesia",
          "Iran",
          "Iraq",
          "Ireland",
          "Isle of Man",
          "Israel",
          "Italy",
          "Jamaica",
          "Japan",
          "Jordan",
          "Kazakhstan",
          "Kenya",
          "Kiribati",
          "Kuwait",
          "Kyrgyzstan",
          "Laos",
          "Latin America and Caribbean",
          "Latvia",
          "Lebanon",
          "Lesotho",
          "Liberia",
          "Libya",
          "Lithuania",
          "Low and middle income",
          "Low income",
          "Lower middle income",
          "Luxembourg",
          "Macao",
          "Madagascar",
          "Malawi",
          "Malaysia",
          "Maldives",
          "Mali",
          "Malta",
          "Marshall Islands",
          "Mauritania",
          "Mauritius",
          "Mexico",
          "Micronesia (country)",
          "Middle East and North Africa",
          "Middle income",
          "Moldova",
          "Monaco",
          "Mongolia",
          "Montenegro",
          "Morocco",
          "Mozambique",
          "Myanmar",
          "Namibia",
          "Nepal",
          "Netherlands",
          "New Zealand",
          "Nicaragua",
          "Niger",
          "Nigeria",
          "North America",
          "North Macedonia",
          "Northern Mariana Islands",
          "Norway",
          "Oman",
          "Pakistan",
          "Palau",
          "Palestine",
          "Panama",
          "Papua New Guinea",
          "Paraguay",
          "Peru",
          "Philippines",
          "Poland",
          "Portugal",
          "Puerto Rico",
          "Qatar",
          "Romania",
          "Russia",
          "Rwanda",
          "Saint Kitts and Nevis",
          "Saint Lucia",
          "Saint Vincent and the Grenadines",
          "Samoa",
          "San Marino",
          "Sao Tome and Principe",
          "Saudi Arabia",
          "Senegal",
          "Serbia",
          "Seychelles",
          "Sierra Leone",
          "Singapore",
          "Slovakia",
          "Slovenia",
          "Solomon Islands",
          "South Africa",
          "South Asia",
          "South Korea",
          "Spain",
          "Sri Lanka",
          "Sub-Saharan Africa",
          "Sudan",
          "Suriname",
          "Sweden",
          "Switzerland",
          "Syria",
          "Tajikistan",
          "Tanzania",
          "Thailand",
          "Timor",
          "Togo",
          "Tonga",
          "Trinidad and Tobago",
          "Tunisia",
          "Turkey",
          "Turkmenistan",
          "Tuvalu",
          "Uganda",
          "Ukraine",
          "United Kingdom",
          "United States",
          "United States Virgin Islands",
          "Upper middle income",
          "Uruguay",
          "Uzbekistan",
          "Vanuatu",
          "Vietnam",
          "World",
          "Yemen",
          "Zambia",
          "Zimbabwe"
         ],
         "name": "",
         "type": "choropleth",
         "z": [
          319.8471069335937,
          2247.49755859375,
          3297.61279296875,
          12609.3681640625,
          36158.5859375,
          2717.44091796875,
          13170.6259765625,
          8943.3076171875,
          1619.1121826171875,
          28051.119140625,
          47127.27734375,
          39636.484375,
          1754.0736083984375,
          36537.046875,
          22258.1953125,
          687.38330078125,
          15876.16796875,
          2912.123291015625,
          36393.2421875,
          4420.724609375,
          939.6616821289062,
          113172.1171875,
          1278.8778076171875,
          2066.24169921875,
          3056.53662109375,
          4683.9560546875,
          6904.62548828125,
          34926.62890625,
          4260.1162109375,
          462.2655944824219,
          310.9453430175781,
          539.3939208984375,
          1143.9853515625,
          35015.796875,
          2053.253662109375,
          477.0975646972656,
          420.8159484863281,
          9049.2109375,
          2557.88720703125,
          4003.4658203125,
          1186.4510498046875,
          2114.034423828125,
          7940.43017578125,
          1679.406494140625,
          9962.044921875,
          4268.9169921875,
          23030.556640625,
          23602.53125,
          12959.8173828125,
          334.01568603515625,
          49541.85546875,
          5955.85888671875,
          4375.7900390625,
          5306.10791015625,
          4397.4228515625,
          2664.64208984375,
          3028.546142578125,
          8003.9619140625,
          857.4480590820312,
          11417.16796875,
          2572.177734375,
          271.9869079589844,
          19141.5078125,
          26996.85546875,
          4300.64111328125,
          39351.390625,
          34152.3671875,
          7662.455078125,
          699.9417114257812,
          1774.636474609375,
          34883.05859375,
          1076.9151611328125,
          19996.638671875,
          31475.853515625,
          7015.962890625,
          30543.82421875,
          3239.567138671875,
          657.2218017578125,
          559.5562133789062,
          3993.524169921875,
          1281.2740478515625,
          34791.80078125,
          1797.89013671875,
          27209.947265625,
          9829.02734375,
          43143.4609375,
          796.7247924804688,
          1968.3011474609373,
          4103.11083984375,
          3818.845458984375,
          44918.80859375,
          50042.6328125,
          27492.5625,
          32998.203125,
          4933.5341796875,
          31416.125,
          3848.823486328125,
          5550.505859375,
          1132.4864501953125,
          1535.3687744140625,
          29590.97265625,
          742.4436645507812,
          1015.7901000976562,
          6631.35791015625,
          7849.28271484375,
          6639.6025390625,
          746.9263305664062,
          780.3814697265625,
          6211.49853515625,
          7424.39501953125,
          2363.97607421875,
          625.1407470703125,
          1262.1270751953125,
          96269.578125,
          34148.28515625,
          425.7392883300781,
          270.7369689941406,
          6488.384765625,
          6832.0224609375,
          640.7977905273438,
          17164.521484375,
          3197.345703125,
          1234.3250732421875,
          5725.96630859375,
          8580.8876953125,
          2984.066162109375,
          5530.41943359375,
          2515.08447265625,
          1537.6328125,
          123081.203125,
          1684.61962890625,
          4527.09423828125,
          1905.072021484375,
          340.7047424316406,
          381.3893737792969,
          3211.28369140625,
          571.28076171875,
          40914.32421875,
          32668.724609375,
          1455.8690185546875,
          417.5046081542969,
          1685.200927734375,
          47711.45703125,
          3240.109130859375,
          27513.44140625,
          69106.3125,
          20701.587890625,
          1039.7838134765625,
          12613.435546875,
          1836.965576171875,
          6881.2509765625,
          1801.3297119140625,
          3724.83544921875,
          3422.275390625,
          1875.7244873046875,
          7606.64013671875,
          19067.65625,
          27940.42578125,
          58542.09375,
          5224.76220703125,
          5910.1669921875,
          398.773681640625,
          15756.134765625,
          8895.8349609375,
          5389.92041015625,
          3606.094970703125,
          56216.44140625,
          1086.91259765625,
          16094.7060546875,
          1060.7535400390625,
          3640.27587890625,
          10492.615234375,
          440.5611877441406,
          34583.2578125,
          9640.86328125,
          17301.93359375,
          1644.0390625,
          5115.880859375,
          817.0802612304688,
          18936.951171875,
          25026.435546875,
          1939.34619140625,
          1282.5985107421875,
          1199.6993408203125,
          6488.41455078125,
          42377.12109375,
          74138.0859375,
          1265.9005126953125,
          510.0862426757813,
          611.2860717773438,
          3795.41064453125,
          979.6478881835938,
          501.406494140625,
          3951.98974609375,
          11846.6630859375,
          2980.2080078125,
          6373.1318359375,
          2345.02978515625,
          3091.979736328125,
          555.3576049804688,
          1660.477783203125,
          40563.3359375,
          49081.359375,
          43205.7265625,
          3944.59228515625,
          8929.181640625,
          1348.7637939453125,
          2477.67919921875,
          1058.985107421875,
          8012.72900390625,
          2427.52490234375,
          808.4402465820312,
          1558.546875
         ]
        }
       ],
       "frames": [
        {
         "data": [
          {
           "coloraxis": "coloraxis",
           "geo": "geo",
           "hovertemplate": "Year=2002<br>Entity=%{location}<br>GDP per capita (constant 2015 US$)=%{z}<extra></extra>",
           "locationmode": "country names",
           "locations": [
            "Afghanistan",
            "Albania",
            "Algeria",
            "American Samoa",
            "Andorra",
            "Angola",
            "Antigua and Barbuda",
            "Argentina",
            "Armenia",
            "Aruba",
            "Australia",
            "Austria",
            "Azerbaijan",
            "Bahamas",
            "Bahrain",
            "Bangladesh",
            "Barbados",
            "Belarus",
            "Belgium",
            "Belize",
            "Benin",
            "Bermuda",
            "Bhutan",
            "Bolivia",
            "Bosnia and Herzegovina",
            "Botswana",
            "Brazil",
            "Brunei",
            "Bulgaria",
            "Burkina Faso",
            "Burundi",
            "Cambodia",
            "Cameroon",
            "Canada",
            "Cape Verde",
            "Central African Republic",
            "Chad",
            "Chile",
            "China",
            "Colombia",
            "Comoros",
            "Congo",
            "Costa Rica",
            "Cote d'Ivoire",
            "Croatia",
            "Cuba",
            "Curacao",
            "Cyprus",
            "Czechia",
            "Democratic Republic of Congo",
            "Denmark",
            "Dominica",
            "Dominican Republic",
            "East Asia and Pacific",
            "Ecuador",
            "Egypt",
            "El Salvador",
            "Equatorial Guinea",
            "Eritrea",
            "Estonia",
            "Eswatini",
            "Ethiopia",
            "Europe and Central Asia",
            "European Union",
            "Fiji",
            "Finland",
            "France",
            "Gabon",
            "Gambia",
            "Georgia",
            "Germany",
            "Ghana",
            "Greece",
            "Greenland",
            "Grenada",
            "Guam",
            "Guatemala",
            "Guinea",
            "Guinea-Bissau",
            "Guyana",
            "Haiti",
            "High income",
            "Honduras",
            "Hong Kong",
            "Hungary",
            "Iceland",
            "India",
            "Indonesia",
            "Iran",
            "Iraq",
            "Ireland",
            "Isle of Man",
            "Israel",
            "Italy",
            "Jamaica",
            "Japan",
            "Jordan",
            "Kazakhstan",
            "Kenya",
            "Kiribati",
            "Kuwait",
            "Kyrgyzstan",
            "Laos",
            "Latin America and Caribbean",
            "Latvia",
            "Lebanon",
            "Lesotho",
            "Liberia",
            "Libya",
            "Lithuania",
            "Low and middle income",
            "Low income",
            "Lower middle income",
            "Luxembourg",
            "Macao",
            "Madagascar",
            "Malawi",
            "Malaysia",
            "Maldives",
            "Mali",
            "Malta",
            "Marshall Islands",
            "Mauritania",
            "Mauritius",
            "Mexico",
            "Micronesia (country)",
            "Middle East and North Africa",
            "Middle income",
            "Moldova",
            "Monaco",
            "Mongolia",
            "Montenegro",
            "Morocco",
            "Mozambique",
            "Myanmar",
            "Namibia",
            "Nepal",
            "Netherlands",
            "New Zealand",
            "Nicaragua",
            "Niger",
            "Nigeria",
            "North America",
            "North Macedonia",
            "Northern Mariana Islands",
            "Norway",
            "Oman",
            "Pakistan",
            "Palau",
            "Palestine",
            "Panama",
            "Papua New Guinea",
            "Paraguay",
            "Peru",
            "Philippines",
            "Poland",
            "Portugal",
            "Puerto Rico",
            "Qatar",
            "Romania",
            "Russia",
            "Rwanda",
            "Saint Kitts and Nevis",
            "Saint Lucia",
            "Saint Vincent and the Grenadines",
            "Samoa",
            "San Marino",
            "Sao Tome and Principe",
            "Saudi Arabia",
            "Senegal",
            "Serbia",
            "Seychelles",
            "Sierra Leone",
            "Singapore",
            "Slovakia",
            "Slovenia",
            "Solomon Islands",
            "South Africa",
            "South Asia",
            "South Korea",
            "Spain",
            "Sri Lanka",
            "Sub-Saharan Africa",
            "Sudan",
            "Suriname",
            "Sweden",
            "Switzerland",
            "Syria",
            "Tajikistan",
            "Tanzania",
            "Thailand",
            "Timor",
            "Togo",
            "Tonga",
            "Trinidad and Tobago",
            "Tunisia",
            "Turkey",
            "Turkmenistan",
            "Tuvalu",
            "Uganda",
            "Ukraine",
            "United Kingdom",
            "United States",
            "United States Virgin Islands",
            "Upper middle income",
            "Uruguay",
            "Uzbekistan",
            "Vanuatu",
            "Vietnam",
            "World",
            "Yemen",
            "Zambia",
            "Zimbabwe"
           ],
           "name": "",
           "type": "choropleth",
           "z": [
            319.8471069335937,
            2247.49755859375,
            3297.61279296875,
            12609.3681640625,
            36158.5859375,
            2717.44091796875,
            13170.6259765625,
            8943.3076171875,
            1619.1121826171875,
            28051.119140625,
            47127.27734375,
            39636.484375,
            1754.0736083984375,
            36537.046875,
            22258.1953125,
            687.38330078125,
            15876.16796875,
            2912.123291015625,
            36393.2421875,
            4420.724609375,
            939.6616821289062,
            113172.1171875,
            1278.8778076171875,
            2066.24169921875,
            3056.53662109375,
            4683.9560546875,
            6904.62548828125,
            34926.62890625,
            4260.1162109375,
            462.2655944824219,
            310.9453430175781,
            539.3939208984375,
            1143.9853515625,
            35015.796875,
            2053.253662109375,
            477.0975646972656,
            420.8159484863281,
            9049.2109375,
            2557.88720703125,
            4003.4658203125,
            1186.4510498046875,
            2114.034423828125,
            7940.43017578125,
            1679.406494140625,
            9962.044921875,
            4268.9169921875,
            23030.556640625,
            23602.53125,
            12959.8173828125,
            334.01568603515625,
            49541.85546875,
            5955.85888671875,
            4375.7900390625,
            5306.10791015625,
            4397.4228515625,
            2664.64208984375,
            3028.546142578125,
            8003.9619140625,
            857.4480590820312,
            11417.16796875,
            2572.177734375,
            271.9869079589844,
            19141.5078125,
            26996.85546875,
            4300.64111328125,
            39351.390625,
            34152.3671875,
            7662.455078125,
            699.9417114257812,
            1774.636474609375,
            34883.05859375,
            1076.9151611328125,
            19996.638671875,
            31475.853515625,
            7015.962890625,
            30543.82421875,
            3239.567138671875,
            657.2218017578125,
            559.5562133789062,
            3993.524169921875,
            1281.2740478515625,
            34791.80078125,
            1797.89013671875,
            27209.947265625,
            9829.02734375,
            43143.4609375,
            796.7247924804688,
            1968.3011474609373,
            4103.11083984375,
            3818.845458984375,
            44918.80859375,
            50042.6328125,
            27492.5625,
            32998.203125,
            4933.5341796875,
            31416.125,
            3848.823486328125,
            5550.505859375,
            1132.4864501953125,
            1535.3687744140625,
            29590.97265625,
            742.4436645507812,
            1015.7901000976562,
            6631.35791015625,
            7849.28271484375,
            6639.6025390625,
            746.9263305664062,
            780.3814697265625,
            6211.49853515625,
            7424.39501953125,
            2363.97607421875,
            625.1407470703125,
            1262.1270751953125,
            96269.578125,
            34148.28515625,
            425.7392883300781,
            270.7369689941406,
            6488.384765625,
            6832.0224609375,
            640.7977905273438,
            17164.521484375,
            3197.345703125,
            1234.3250732421875,
            5725.96630859375,
            8580.8876953125,
            2984.066162109375,
            5530.41943359375,
            2515.08447265625,
            1537.6328125,
            123081.203125,
            1684.61962890625,
            4527.09423828125,
            1905.072021484375,
            340.7047424316406,
            381.3893737792969,
            3211.28369140625,
            571.28076171875,
            40914.32421875,
            32668.724609375,
            1455.8690185546875,
            417.5046081542969,
            1685.200927734375,
            47711.45703125,
            3240.109130859375,
            27513.44140625,
            69106.3125,
            20701.587890625,
            1039.7838134765625,
            12613.435546875,
            1836.965576171875,
            6881.2509765625,
            1801.3297119140625,
            3724.83544921875,
            3422.275390625,
            1875.7244873046875,
            7606.64013671875,
            19067.65625,
            27940.42578125,
            58542.09375,
            5224.76220703125,
            5910.1669921875,
            398.773681640625,
            15756.134765625,
            8895.8349609375,
            5389.92041015625,
            3606.094970703125,
            56216.44140625,
            1086.91259765625,
            16094.7060546875,
            1060.7535400390625,
            3640.27587890625,
            10492.615234375,
            440.5611877441406,
            34583.2578125,
            9640.86328125,
            17301.93359375,
            1644.0390625,
            5115.880859375,
            817.0802612304688,
            18936.951171875,
            25026.435546875,
            1939.34619140625,
            1282.5985107421875,
            1199.6993408203125,
            6488.41455078125,
            42377.12109375,
            74138.0859375,
            1265.9005126953125,
            510.0862426757813,
            611.2860717773438,
            3795.41064453125,
            979.6478881835938,
            501.406494140625,
            3951.98974609375,
            11846.6630859375,
            2980.2080078125,
            6373.1318359375,
            2345.02978515625,
            3091.979736328125,
            555.3576049804688,
            1660.477783203125,
            40563.3359375,
            49081.359375,
            43205.7265625,
            3944.59228515625,
            8929.181640625,
            1348.7637939453125,
            2477.67919921875,
            1058.985107421875,
            8012.72900390625,
            2427.52490234375,
            808.4402465820312,
            1558.546875
           ]
          }
         ],
         "name": "2002"
        },
        {
         "data": [
          {
           "coloraxis": "coloraxis",
           "geo": "geo",
           "hovertemplate": "Year=2003<br>Entity=%{location}<br>GDP per capita (constant 2015 US$)=%{z}<extra></extra>",
           "locationmode": "country names",
           "locations": [
            "Afghanistan",
            "Albania",
            "Algeria",
            "American Samoa",
            "Andorra",
            "Angola",
            "Argentina",
            "Armenia",
            "Aruba",
            "Australia",
            "Austria",
            "Azerbaijan",
            "Bahamas",
            "Bahrain",
            "Bangladesh",
            "Barbados",
            "Belarus",
            "Belgium",
            "Belize",
            "Benin",
            "Bermuda",
            "Bhutan",
            "Bolivia",
            "Bosnia and Herzegovina",
            "Botswana",
            "Brazil",
            "Brunei",
            "Bulgaria",
            "Burkina Faso",
            "Burundi",
            "Cambodia",
            "Cameroon",
            "Canada",
            "Cape Verde",
            "Central African Republic",
            "Chad",
            "Chile",
            "China",
            "Colombia",
            "Comoros",
            "Congo",
            "Costa Rica",
            "Cote d'Ivoire",
            "Croatia",
            "Cuba",
            "Curacao",
            "Cyprus",
            "Czechia",
            "Democratic Republic of Congo",
            "Denmark",
            "Dominica",
            "Dominican Republic",
            "East Asia and Pacific",
            "Ecuador",
            "Egypt",
            "El Salvador",
            "Equatorial Guinea",
            "Eritrea",
            "Estonia",
            "Eswatini",
            "Ethiopia",
            "Europe and Central Asia",
            "European Union",
            "Fiji",
            "Finland",
            "France",
            "Gabon",
            "Gambia",
            "Georgia",
            "Germany",
            "Ghana",
            "Greece",
            "Greenland",
            "Grenada",
            "Guam",
            "Guatemala",
            "Guinea",
            "Guinea-Bissau",
            "Guyana",
            "Haiti",
            "High income",
            "Honduras",
            "Hong Kong",
            "Hungary",
            "Iceland",
            "India",
            "Iran",
            "Iraq",
            "Ireland",
            "Isle of Man",
            "Israel",
            "Italy",
            "Jamaica",
            "Japan",
            "Jordan",
            "Kazakhstan",
            "Kenya",
            "Kiribati",
            "Kuwait",
            "Kyrgyzstan",
            "Laos",
            "Latin America and Caribbean",
            "Latvia",
            "Lebanon",
            "Lesotho",
            "Liberia",
            "Libya",
            "Lithuania",
            "Low and middle income",
            "Low income",
            "Lower middle income",
            "Luxembourg",
            "Macao",
            "Madagascar",
            "Malawi",
            "Malaysia",
            "Maldives",
            "Mali",
            "Malta",
            "Marshall Islands",
            "Mauritania",
            "Mauritius",
            "Mexico",
            "Micronesia (country)",
            "Middle East and North Africa",
            "Middle income",
            "Moldova",
            "Monaco",
            "Mongolia",
            "Montenegro",
            "Morocco",
            "Mozambique",
            "Myanmar",
            "Namibia",
            "Nepal",
            "Netherlands",
            "New Zealand",
            "Nicaragua",
            "Niger",
            "Nigeria",
            "North America",
            "North Macedonia",
            "Northern Mariana Islands",
            "Norway",
            "Oman",
            "Pakistan",
            "Palau",
            "Palestine",
            "Panama",
            "Papua New Guinea",
            "Paraguay",
            "Peru",
            "Philippines",
            "Poland",
            "Portugal",
            "Puerto Rico",
            "Qatar",
            "Romania",
            "Russia",
            "Rwanda",
            "Saint Kitts and Nevis",
            "Saint Lucia",
            "Saint Vincent and the Grenadines",
            "Samoa",
            "San Marino",
            "Sao Tome and Principe",
            "Saudi Arabia",
            "Senegal",
            "Serbia",
            "Seychelles",
            "Sierra Leone",
            "Singapore",
            "Slovakia",
            "Slovenia",
            "Solomon Islands",
            "South Africa",
            "South Asia",
            "South Korea",
            "Spain",
            "Sri Lanka",
            "Sub-Saharan Africa",
            "Sudan",
            "Suriname",
            "Sweden",
            "Switzerland",
            "Syria",
            "Tajikistan",
            "Tanzania",
            "Thailand",
            "Timor",
            "Togo",
            "Tonga",
            "Trinidad and Tobago",
            "Tunisia",
            "Turkey",
            "Turkmenistan",
            "Tuvalu",
            "Uganda",
            "Ukraine",
            "United Arab Emirates",
            "United Kingdom",
            "United States",
            "United States Virgin Islands",
            "Upper middle income",
            "Uruguay",
            "Uzbekistan",
            "Vanuatu",
            "Vietnam",
            "World",
            "Yemen",
            "Zambia",
            "Zimbabwe"
           ],
           "name": "",
           "type": "choropleth",
           "z": [
            332.2200012207031,
            2380.64404296875,
            3490.22314453125,
            12641.66796875,
            37620.20703125,
            2705.7060546875,
            9629.84375,
            1855.5968017578125,
            28008.50390625,
            47997.13671875,
            39815.22265625,
            1918.5435791015625,
            35445.2890625,
            22335.931640625,
            707.6051025390625,
            16167.8603515625,
            3139.12109375,
            36617.37890625,
            4707.02734375,
            942.9185791015624,
            116268.8203125,
            1352.97900390625,
            2083.421875,
            3172.3828125,
            4816.56982421875,
            6896.13720703125,
            35277.80078125,
            4518.87841796875,
            484.0970458984375,
            298.02520751953125,
            575.3292236328125,
            1174.54052734375,
            36024.09765625,
            2105.866455078125,
            442.1528015136719,
            464.5002746582031,
            9321.21875,
            2797.171630859375,
            4099.30615234375,
            1182.88720703125,
            2070.836181640625,
            8157.6513671875,
            1566.5771484375,
            10509.5498046875,
            4419.177734375,
            22625.5234375,
            23929.099609375,
            13428.099609375,
            341.9906616210937,
            49599.99609375,
            6310.56884765625,
            4255.76611328125,
            5524.93408203125,
            4440.72998046875,
            2699.10107421875,
            3059.56640625,
            8745.26953125,
            796.1970825195312,
            12362.248046875,
            2662.2080078125,
            258.6288146972656,
            19430.451171875,
            27145.251953125,
            4339.27783203125,
            40044.3046875,
            34190.3046875,
            7646.8779296875,
            724.4702758789062,
            1984.244384765625,
            34619.6640625,
            1105.4013671875,
            21104.923828125,
            32779.9140625,
            7652.85107421875,
            30704.953125,
            3250.841064453125,
            652.7306518554688,
            550.0894165039062,
            3966.396240234375,
            1304.1282958984375,
            35346.47265625,
            1832.80908203125,
            28096.962890625,
            10259.841796875,
            43763.77734375,
            845.2748413085938,
            4405.6923828125,
            2351.712646484375,
            45523.0546875,
            52668.58984375,
            27310.966796875,
            32897.390625,
            5083.08837890625,
            31830.216796875,
            3923.033935546875,
            6046.328125,
            1134.534912109375,
            1539.1654052734375,
            34322.24609375,
            786.351806640625,
            1061.306396484375,
            6709.72314453125,
            8593.03125,
            6531.86328125,
            785.4254150390625,
            535.8639526367188,
            6908.26806640625,
            8275.8037109375,
            2470.579833984375,
            636.06396484375,
            1317.7335205078125,
            97598,
            37183.5703125,
            453.4933471679688,
            279.3512268066406,
            6727.6708984375,
            7553.29150390625,
            677.8865966796875,
            17746.705078125,
            3081.13720703125,
            1283.3243408203125,
            6021.52197265625,
            8587.0888671875,
            3034.523193359375,
            5694.1552734375,
            2632.52880859375,
            1643.7386474609375,
            123143.4296875,
            1783.998779296875,
            4621.0048828125,
            1994.8154296875,
            353.4606018066406,
            426.9196166992188,
            3298.27978515625,
            585.4069213867188,
            40785.12109375,
            33487.625,
            1472.037841796875,
            411.12060546875,
            1763.6939697265625,
            48687.1328125,
            3301.31201171875,
            27826.0390625,
            69327.4296875,
            19715.927734375,
            1074.39404296875,
            12097.11328125,
            2041.59228515625,
            7036.88232421875,
            1803.4205322265625,
            3816.086669921875,
            3529.4873046875,
            1931.1087646484373,
            7878.06591796875,
            18819.443359375,
            27937.859375,
            57075.62109375,
            5385.78759765625,
            6370.44873046875,
            401.3598327636719,
            14944.1552734375,
            9209.4560546875,
            5792.216796875,
            3746.184326171875,
            57604.49609375,
            1135.602294921875,
            17384.80078125,
            1092.701416015625,
            3808.094970703125,
            9987.271484375,
            459.8033142089844,
            36688.8984375,
            10177.7197265625,
            17803.37890625,
            1705.9586181640625,
            5202.6875,
            861.0186157226562,
            19431.970703125,
            25310.798828125,
            2037.2821044921875,
            1299.324462890625,
            1239.9998779296875,
            6816.4716796875,
            43194.92578125,
            73555.6015625,
            1331.340087890625,
            556.2689819335938,
            634.1104736328125,
            4037.97119140625,
            933.5706787109376,
            521.69189453125,
            4020.1435546875,
            13490.326171875,
            3097.125244140625,
            6644.14599609375,
            2397.896484375,
            2948.6416015625,
            572.7972412109375,
            1833.3138427734373,
            57932.25,
            41598.2109375,
            50053.625,
            43036.1796875,
            4146.54736328125,
            9007.5458984375,
            1389.587158203125,
            2518.56591796875,
            1121.491943359375,
            8162.90087890625,
            2446.684326171875,
            842.6937255859375,
            1290.6556396484375
           ]
          }
         ],
         "name": "2003"
        },
        {
         "data": [
          {
           "coloraxis": "coloraxis",
           "geo": "geo",
           "hovertemplate": "Year=2004<br>Entity=%{location}<br>GDP per capita (constant 2015 US$)=%{z}<extra></extra>",
           "locationmode": "country names",
           "locations": [
            "Afghanistan",
            "Albania",
            "Algeria",
            "American Samoa",
            "Andorra",
            "Angola",
            "Antigua and Barbuda",
            "Argentina",
            "Armenia",
            "Aruba",
            "Australia",
            "Austria",
            "Azerbaijan",
            "Bahamas",
            "Bahrain",
            "Bangladesh",
            "Barbados",
            "Belarus",
            "Belgium",
            "Belize",
            "Benin",
            "Bermuda",
            "Bhutan",
            "Bolivia",
            "Bosnia and Herzegovina",
            "Botswana",
            "Brazil",
            "Brunei",
            "Bulgaria",
            "Burkina Faso",
            "Burundi",
            "Cambodia",
            "Cameroon",
            "Canada",
            "Cape Verde",
            "Central African Republic",
            "Chad",
            "Chile",
            "China",
            "Colombia",
            "Comoros",
            "Congo",
            "Costa Rica",
            "Cote d'Ivoire",
            "Croatia",
            "Cuba",
            "Curacao",
            "Cyprus",
            "Czechia",
            "Democratic Republic of Congo",
            "Denmark",
            "Dominica",
            "Dominican Republic",
            "East Asia and Pacific",
            "Ecuador",
            "Egypt",
            "El Salvador",
            "Equatorial Guinea",
            "Eritrea",
            "Estonia",
            "Eswatini",
            "Ethiopia",
            "Europe and Central Asia",
            "European Union",
            "Fiji",
            "Finland",
            "France",
            "Gabon",
            "Gambia",
            "Georgia",
            "Germany",
            "Ghana",
            "Greece",
            "Greenland",
            "Grenada",
            "Guam",
            "Guatemala",
            "Guinea",
            "Guinea-Bissau",
            "Guyana",
            "Haiti",
            "High income",
            "Honduras",
            "Hong Kong",
            "Hungary",
            "Iceland",
            "India",
            "Indonesia",
            "Iran",
            "Iraq",
            "Ireland",
            "Isle of Man",
            "Israel",
            "Italy",
            "Jamaica",
            "Japan",
            "Jordan",
            "Kazakhstan",
            "Kenya",
            "Kiribati",
            "Kuwait",
            "Kyrgyzstan",
            "Laos",
            "Latin America and Caribbean",
            "Latvia",
            "Lebanon",
            "Lesotho",
            "Liberia",
            "Libya",
            "Lithuania",
            "Low and middle income",
            "Low income",
            "Lower middle income",
            "Luxembourg",
            "Macao",
            "Madagascar",
            "Malawi",
            "Malaysia",
            "Maldives",
            "Mali",
            "Malta",
            "Marshall Islands",
            "Mauritania",
            "Mauritius",
            "Mexico",
            "Micronesia (country)",
            "Middle East and North Africa",
            "Middle income",
            "Moldova",
            "Monaco",
            "Mongolia",
            "Montenegro",
            "Morocco",
            "Mozambique",
            "Myanmar",
            "Namibia",
            "Nauru",
            "Nepal",
            "Netherlands",
            "New Zealand",
            "Nicaragua",
            "Niger",
            "Nigeria",
            "North America",
            "North Macedonia",
            "Northern Mariana Islands",
            "Norway",
            "Oman",
            "Pakistan",
            "Palau",
            "Palestine",
            "Panama",
            "Papua New Guinea",
            "Paraguay",
            "Peru",
            "Philippines",
            "Poland",
            "Portugal",
            "Puerto Rico",
            "Qatar",
            "Romania",
            "Russia",
            "Rwanda",
            "Saint Kitts and Nevis",
            "Saint Lucia",
            "Saint Vincent and the Grenadines",
            "Samoa",
            "San Marino",
            "Sao Tome and Principe",
            "Saudi Arabia",
            "Senegal",
            "Serbia",
            "Seychelles",
            "Sierra Leone",
            "Singapore",
            "Slovakia",
            "Slovenia",
            "Solomon Islands",
            "South Africa",
            "South Asia",
            "South Korea",
            "Spain",
            "Sri Lanka",
            "Sub-Saharan Africa",
            "Sudan",
            "Suriname",
            "Sweden",
            "Switzerland",
            "Syria",
            "Tajikistan",
            "Tanzania",
            "Thailand",
            "Timor",
            "Togo",
            "Tonga",
            "Trinidad and Tobago",
            "Tunisia",
            "Turkey",
            "Turkmenistan",
            "Tuvalu",
            "Uganda",
            "Ukraine",
            "United Arab Emirates",
            "United Kingdom",
            "United States",
            "United States Virgin Islands",
            "Upper middle income",
            "Uruguay",
            "Uzbekistan",
            "Vanuatu",
            "Vietnam",
            "World",
            "Yemen",
            "Zambia",
            "Zimbabwe"
           ],
           "name": "",
           "type": "choropleth",
           "z": [
            322.6679992675781,
            2522.44873046875,
            3592.645263671875,
            12653.2822265625,
            39042.95703125,
            2900.1669921875,
            14399.8203125,
            10389.1513671875,
            2062.203125,
            29695.4921875,
            49439.12109375,
            40651.2265625,
            2077.812255859375,
            35111.17578125,
            22422.689453125,
            732.7488403320312,
            16339.3837890625,
            3522.48974609375,
            37761.28125,
            4806.0556640625,
            955.5342407226562,
            118193.1484375,
            1409.64794921875,
            2131.30712890625,
            3371.239013671875,
            4859.62890625,
            7206.26171875,
            34850.14453125,
            4849.54296875,
            491.1846618652344,
            302.6820983886719,
            624.6039428710938,
            1223.9342041015625,
            37086.44921875,
            2286.58349609375,
            459.3453063964844,
            597.7003784179688,
            9890.0751953125,
            3061.827880859375,
            4257.16259765625,
            1177.2991943359375,
            2079.62158203125,
            8395.4013671875,
            1583.112060546875,
            10942.572265625,
            4665.38671875,
            22284.931640625,
            24797.919921875,
            14070.2802734375,
            353.7319030761719,
            50792,
            6476.75341796875,
            4304.77001953125,
            5805.0947265625,
            4725.232421875,
            2758.56640625,
            3071.5458984375,
            11558.67578125,
            772.46240234375,
            13282.5458984375,
            2749.300048828125,
            285.5456848144531,
            19988.869140625,
            27744.521484375,
            4559.28125,
            41522.17578125,
            34899.875,
            7507.13134765625,
            751.3964233398438,
            2112.26123046875,
            35034.08203125,
            1138.6583251953125,
            22118.251953125,
            34953.984375,
            7578.3095703125,
            32622.1328125,
            3282.321044921875,
            655.08544921875,
            552.2847900390625,
            4025.190673828125,
            1266.0347900390625,
            36300.0390625,
            1899.8148193359373,
            30304.14453125,
            10796.76171875,
            46766.015625,
            897.6282348632812,
            2108.641845703125,
            4543.58837890625,
            3515.3466796875,
            47731.484375,
            54963.48828125,
            28151.271484375,
            33150.4765625,
            5120.9296875,
            32515.115234375,
            4147.53759765625,
            6580.88525390625,
            1160.4385986328125,
            1486.3475341796875,
            37168.5546875,
            831.4843139648438,
            1111.7244873046875,
            6996.01806640625,
            9406.802734375,
            6692.1376953125,
            803.6559448242188,
            539.626220703125,
            7103.23046875,
            8919.08203125,
            2625.15087890625,
            655.505859375,
            1381.35498046875,
            100292.5703125,
            45943.26953125,
            463.2879943847656,
            287.27215576171875,
            7043.7763671875,
            7788.1669921875,
            666.9553833007812,
            17652.640625,
            3052.66162109375,
            1306.52001953125,
            6242.98193359375,
            8801.322265625,
            2948.7236328125,
            6028.73583984375,
            2801.803466796875,
            1769.7491455078125,
            124848.4375,
            1951.71337890625,
            4816.98876953125,
            2065.999267578125,
            370.3409729003906,
            481.2338562011719,
            3647.40380859375,
            3431.636962890625,
            604.6596069335938,
            41450.40234375,
            34322.6328125,
            1529.194580078125,
            397.5924072265625,
            1878.1507568359373,
            50074.515625,
            3445.806884765625,
            27305.974609375,
            71654.6328125,
            19485.951171875,
            1129.1368408203125,
            12653.2548828125,
            2426.415771484375,
            7426.65087890625,
            1814.3416748046875,
            3903.30908203125,
            3670.69140625,
            2017.6741943359373,
            8275.45703125,
            19110.3203125,
            30375.8359375,
            61582.97265625,
            5981.408203125,
            6856.67236328125,
            425.1234436035156,
            15348.798828125,
            9799.9326171875,
            6021.953125,
            3894.953857421875,
            59432.01953125,
            1153.5731201171875,
            18219.86328125,
            1115.02587890625,
            4161.59619140625,
            9738.587890625,
            469.1316223144531,
            39790.32421875,
            10717.1708984375,
            18567.5625,
            1773.680908203125,
            5373.80712890625,
            909.9366455078124,
            20361.068359375,
            25654.69921875,
            2130.138916015625,
            1349.67578125,
            1267.820556640625,
            7309.85009765625,
            44891.32421875,
            75112.8671875,
            1390.302001953125,
            602.4359741210938,
            662.7249145507812,
            4262.51904296875,
            913.4077758789062,
            503.62939453125,
            3898.840576171875,
            14488.8662109375,
            3264.97802734375,
            7194.68212890625,
            2492.29638671875,
            2865.452880859375,
            592.6114501953125,
            2065.166259765625,
            57910.23046875,
            42336.5546875,
            51476.48828125,
            44466.2890625,
            4452.64697265625,
            9464.4912109375,
            1475.9696044921875,
            2552.74755859375,
            1194.96044921875,
            8422.94140625,
            2471.616943359375,
            879.00537109375,
            1211.8880615234375
           ]
          }
         ],
         "name": "2004"
        },
        {
         "data": [
          {
           "coloraxis": "coloraxis",
           "geo": "geo",
           "hovertemplate": "Year=2005<br>Entity=%{location}<br>GDP per capita (constant 2015 US$)=%{z}<extra></extra>",
           "locationmode": "country names",
           "locations": [
            "Afghanistan",
            "Albania",
            "Algeria",
            "American Samoa",
            "Andorra",
            "Angola",
            "Antigua and Barbuda",
            "Argentina",
            "Armenia",
            "Aruba",
            "Australia",
            "Austria",
            "Azerbaijan",
            "Bahamas",
            "Bahrain",
            "Bangladesh",
            "Barbados",
            "Belarus",
            "Belgium",
            "Belize",
            "Benin",
            "Bermuda",
            "Bhutan",
            "Bolivia",
            "Bosnia and Herzegovina",
            "Botswana",
            "Brazil",
            "Brunei",
            "Bulgaria",
            "Burkina Faso",
            "Cambodia",
            "Cameroon",
            "Canada",
            "Cape Verde",
            "Central African Republic",
            "Chad",
            "Chile",
            "China",
            "Colombia",
            "Comoros",
            "Congo",
            "Costa Rica",
            "Cote d'Ivoire",
            "Croatia",
            "Cuba",
            "Curacao",
            "Cyprus",
            "Czechia",
            "Democratic Republic of Congo",
            "Denmark",
            "Dominica",
            "Dominican Republic",
            "East Asia and Pacific",
            "Ecuador",
            "Egypt",
            "El Salvador",
            "Equatorial Guinea",
            "Eritrea",
            "Estonia",
            "Eswatini",
            "Ethiopia",
            "Europe and Central Asia",
            "European Union",
            "Fiji",
            "Finland",
            "France",
            "Gabon",
            "Gambia",
            "Georgia",
            "Germany",
            "Ghana",
            "Greece",
            "Greenland",
            "Grenada",
            "Guam",
            "Guatemala",
            "Guinea",
            "Guinea-Bissau",
            "Guyana",
            "Haiti",
            "High income",
            "Honduras",
            "Hong Kong",
            "Hungary",
            "Iceland",
            "India",
            "Indonesia",
            "Iran",
            "Iraq",
            "Ireland",
            "Isle of Man",
            "Israel",
            "Italy",
            "Jamaica",
            "Japan",
            "Jordan",
            "Kazakhstan",
            "Kenya",
            "Kiribati",
            "Kuwait",
            "Kyrgyzstan",
            "Laos",
            "Latin America and Caribbean",
            "Latvia",
            "Lebanon",
            "Lesotho",
            "Liberia",
            "Libya",
            "Lithuania",
            "Low and middle income",
            "Low income",
            "Lower middle income",
            "Luxembourg",
            "Macao",
            "Madagascar",
            "Malawi",
            "Malaysia",
            "Maldives",
            "Mali",
            "Malta",
            "Marshall Islands",
            "Mauritania",
            "Mauritius",
            "Mexico",
            "Micronesia (country)",
            "Middle East and North Africa",
            "Middle income",
            "Moldova",
            "Monaco",
            "Mongolia",
            "Montenegro",
            "Morocco",
            "Mozambique",
            "Myanmar",
            "Namibia",
            "Nauru",
            "Nepal",
            "Netherlands",
            "New Zealand",
            "Nicaragua",
            "Niger",
            "Nigeria",
            "North America",
            "North Macedonia",
            "Northern Mariana Islands",
            "Norway",
            "Oman",
            "Pakistan",
            "Palau",
            "Palestine",
            "Panama",
            "Papua New Guinea",
            "Paraguay",
            "Peru",
            "Philippines",
            "Poland",
            "Portugal",
            "Puerto Rico",
            "Qatar",
            "Romania",
            "Russia",
            "Rwanda",
            "Saint Kitts and Nevis",
            "Saint Lucia",
            "Saint Vincent and the Grenadines",
            "Samoa",
            "San Marino",
            "Sao Tome and Principe",
            "Saudi Arabia",
            "Senegal",
            "Serbia",
            "Seychelles",
            "Sierra Leone",
            "Singapore",
            "Slovakia",
            "Slovenia",
            "Solomon Islands",
            "South Africa",
            "South Asia",
            "South Korea",
            "Spain",
            "Sri Lanka",
            "Sub-Saharan Africa",
            "Sudan",
            "Suriname",
            "Sweden",
            "Switzerland",
            "Syria",
            "Tajikistan",
            "Tanzania",
            "Thailand",
            "Timor",
            "Togo",
            "Tonga",
            "Trinidad and Tobago",
            "Tunisia",
            "Turkey",
            "Turkmenistan",
            "Tuvalu",
            "Uganda",
            "Ukraine",
            "United Arab Emirates",
            "United Kingdom",
            "United States",
            "United States Virgin Islands",
            "Upper middle income",
            "Uruguay",
            "Uzbekistan",
            "Vanuatu",
            "Vietnam",
            "World",
            "Yemen",
            "Zambia",
            "Zimbabwe"
           ],
           "name": "",
           "type": "choropleth",
           "z": [
            345.9258117675781,
            2675.508056640625,
            3752.09619140625,
            12628.5078125,
            39782.9296875,
            3220.078125,
            15122.185546875,
            11192.1796875,
            2364.176025390625,
            29670.287109375,
            50332.875,
            41281.26953125,
            2631.759033203125,
            35637.7890625,
            22343.537109375,
            769.135986328125,
            16921.935546875,
            3880.014404296875,
            38426.05078125,
            4773.6240234375,
            943.6293334960938,
            119396.453125,
            1489.2117919921875,
            2186.186767578125,
            3501.5634765625,
            4986.328125,
            7352.28271484375,
            34441.12109375,
            5230.98388671875,
            518.1678466796875,
            696.3394165039062,
            1217.7569580078125,
            38573.19921875,
            2410.77392578125,
            454.5074157714844,
            676.162109375,
            10349.642578125,
            3390.710205078125,
            4402.89892578125,
            1182.2109375,
            2171.443115234375,
            8606.333984375,
            1565.428466796875,
            11399.775390625,
            5182.81982421875,
            21870.779296875,
            25629.583984375,
            14978.4130859375,
            363.6675415039063,
            51835.83203125,
            6501.4052734375,
            4647.0380859375,
            6102.3203125,
            4892.69140625,
            2830.35009765625,
            3140.032958984375,
            12908.0634765625,
            762.3992309570312,
            14631.3876953125,
            2902.09912109375,
            310.4826354980469,
            20456.8515625,
            28178.263671875,
            4570.28564453125,
            42530.62109375,
            35213.89453125,
            7504.259765625,
            711.2819213867188,
            2329.57080078125,
            35310.46875,
            1175.8616943359375,
            22185.6171875,
            36681.84375,
            8558.8291015625,
            33743.7421875,
            3320.1640625,
            661.1024780273438,
            562.3848266601562,
            3944.44482421875,
            1283.8970947265625,
            37105.05859375,
            1967.21728515625,
            32401.20703125,
            11282.9296875,
            48850.765625,
            953.5679931640624,
            2199.093994140625,
            4634.0107421875,
            3493.3447265625,
            49381.77734375,
            57642.33984375,
            28809.642578125,
            33257.76953125,
            5138.447265625,
            33098.546875,
            4341.1884765625,
            7155.34375,
            1195.7738037109375,
            1529.1759033203125,
            39849.59765625,
            820.7160034179688,
            1172.2174072265625,
            7186.05126953125,
            10527.9130859375,
            6682.6513671875,
            835.6098022460938,
            553.5675659179688,
            7825.220703125,
            9766.4873046875,
            2778.014404296875,
            678.7705078125,
            1442.4862060546875,
            101222.046875,
            48495.20703125,
            471.1949157714844,
            289.0468444824219,
            7274.97119140625,
            6589.126953125,
            687.9348754882812,
            18133.970703125,
            3080.3427734375,
            1378.59521484375,
            6316.44287109375,
            8877.8515625,
            3022.795654296875,
            6201.01025390625,
            2969.369384765625,
            1907.1151123046875,
            125925.46875,
            2068.3984375,
            5010.94970703125,
            2109.062255859375,
            383.7107849121094,
            542.2191162109375,
            3680.6591796875,
            3347.24609375,
            617.7940063476562,
            42201.77734375,
            35064.49609375,
            1573.052978515625,
            411.1275634765625,
            1948.0484619140625,
            51410.20703125,
            3600.952392578125,
            24129.458984375,
            73036.7421875,
            19448.46484375,
            1175.4375,
            13205.5048828125,
            2632.246337890625,
            7815.22509765625,
            1887.6732177734373,
            3922.55859375,
            3867.52734375,
            2077.76806640625,
            8569.4296875,
            19224.03515625,
            29815.263671875,
            57624.12890625,
            6299.41015625,
            7323.37939453125,
            456.59075927734375,
            16652.501953125,
            9664.9375,
            6166.2890625,
            4031.45263671875,
            60080.32421875,
            1206.09521484375,
            18683.384765625,
            1133.717041015625,
            4404.9609375,
            10566.552734375,
            471.8881530761719,
            41726.11328125,
            11425.8984375,
            19239.400390625,
            1826.66162109375,
            5587.79345703125,
            962.1778564453124,
            21193.357421875,
            26146.1640625,
            2244.8212890625,
            1394.9217529296875,
            1302.5531005859375,
            7550.37841796875,
            45990.375,
            76784.640625,
            1433.815185546875,
            630.781982421875,
            692.4771118164062,
            4412.4443359375,
            918.7274169921876,
            467.81884765625,
            3875.16357421875,
            15312.720703125,
            3350.563720703125,
            7738.578125,
            2786.77392578125,
            2722.39599609375,
            610.4893188476562,
            2144.247802734375,
            53844.72265625,
            43137.25390625,
            52796.08984375,
            46021.58984375,
            4760.18408203125,
            10169.5966796875,
            1560.2919921875,
            2621.912841796875,
            1273.345458984375,
            8655.9814453125,
            2536.188720703125,
            918.3103637695312,
            1137.30322265625
           ]
          }
         ],
         "name": "2005"
        },
        {
         "data": [
          {
           "coloraxis": "coloraxis",
           "geo": "geo",
           "hovertemplate": "Year=2006<br>Entity=%{location}<br>GDP per capita (constant 2015 US$)=%{z}<extra></extra>",
           "locationmode": "country names",
           "locations": [
            "Afghanistan",
            "Albania",
            "Algeria",
            "American Samoa",
            "Andorra",
            "Angola",
            "Antigua and Barbuda",
            "Argentina",
            "Armenia",
            "Aruba",
            "Australia",
            "Austria",
            "Azerbaijan",
            "Bahamas",
            "Bahrain",
            "Bangladesh",
            "Barbados",
            "Belarus",
            "Belgium",
            "Belize",
            "Benin",
            "Bermuda",
            "Bhutan",
            "Bolivia",
            "Bosnia and Herzegovina",
            "Botswana",
            "Brazil",
            "Brunei",
            "Bulgaria",
            "Burkina Faso",
            "Burundi",
            "Cambodia",
            "Cameroon",
            "Canada",
            "Cape Verde",
            "Cayman Islands",
            "Central African Republic",
            "Chad",
            "Chile",
            "China",
            "Colombia",
            "Comoros",
            "Congo",
            "Costa Rica",
            "Cote d'Ivoire",
            "Croatia",
            "Cuba",
            "Curacao",
            "Cyprus",
            "Czechia",
            "Democratic Republic of Congo",
            "Denmark",
            "Dominica",
            "Dominican Republic",
            "East Asia and Pacific",
            "Ecuador",
            "Egypt",
            "El Salvador",
            "Equatorial Guinea",
            "Eritrea",
            "Estonia",
            "Eswatini",
            "Ethiopia",
            "Europe and Central Asia",
            "European Union",
            "Fiji",
            "Finland",
            "France",
            "Gabon",
            "Gambia",
            "Georgia",
            "Germany",
            "Ghana",
            "Greece",
            "Greenland",
            "Grenada",
            "Guam",
            "Guatemala",
            "Guinea",
            "Guinea-Bissau",
            "Guyana",
            "Haiti",
            "High income",
            "Honduras",
            "Hong Kong",
            "Hungary",
            "Iceland",
            "India",
            "Indonesia",
            "Iran",
            "Iraq",
            "Ireland",
            "Isle of Man",
            "Israel",
            "Italy",
            "Jamaica",
            "Japan",
            "Jordan",
            "Kazakhstan",
            "Kenya",
            "Kiribati",
            "Kuwait",
            "Kyrgyzstan",
            "Laos",
            "Latin America and Caribbean",
            "Latvia",
            "Lebanon",
            "Lesotho",
            "Liberia",
            "Libya",
            "Lithuania",
            "Low and middle income",
            "Low income",
            "Lower middle income",
            "Luxembourg",
            "Macao",
            "Madagascar",
            "Malawi",
            "Malaysia",
            "Maldives",
            "Mali",
            "Malta",
            "Marshall Islands",
            "Mauritania",
            "Mauritius",
            "Mexico",
            "Micronesia (country)",
            "Middle East and North Africa",
            "Middle income",
            "Moldova",
            "Monaco",
            "Mongolia",
            "Montenegro",
            "Morocco",
            "Mozambique",
            "Myanmar",
            "Namibia",
            "Nauru",
            "Nepal",
            "Netherlands",
            "New Zealand",
            "Nicaragua",
            "Niger",
            "Nigeria",
            "North America",
            "North Macedonia",
            "Northern Mariana Islands",
            "Norway",
            "Oman",
            "Pakistan",
            "Palau",
            "Palestine",
            "Panama",
            "Papua New Guinea",
            "Paraguay",
            "Peru",
            "Philippines",
            "Poland",
            "Portugal",
            "Puerto Rico",
            "Qatar",
            "Romania",
            "Russia",
            "Rwanda",
            "Saint Kitts and Nevis",
            "Saint Lucia",
            "Saint Vincent and the Grenadines",
            "Samoa",
            "San Marino",
            "Sao Tome and Principe",
            "Saudi Arabia",
            "Senegal",
            "Serbia",
            "Seychelles",
            "Sierra Leone",
            "Singapore",
            "Slovakia",
            "Slovenia",
            "Solomon Islands",
            "South Africa",
            "South Asia",
            "South Korea",
            "Spain",
            "Sri Lanka",
            "Sub-Saharan Africa",
            "Sudan",
            "Suriname",
            "Sweden",
            "Switzerland",
            "Syria",
            "Tajikistan",
            "Tanzania",
            "Thailand",
            "Timor",
            "Togo",
            "Tonga",
            "Trinidad and Tobago",
            "Tunisia",
            "Turkey",
            "Turkmenistan",
            "Tuvalu",
            "Uganda",
            "Ukraine",
            "United Arab Emirates",
            "United Kingdom",
            "United States",
            "United States Virgin Islands",
            "Upper middle income",
            "Uruguay",
            "Uzbekistan",
            "Vanuatu",
            "Vietnam",
            "World",
            "Yemen",
            "Zambia",
            "Zimbabwe"
           ],
           "name": "",
           "type": "choropleth",
           "z": [
            353.7206115722656,
            2851.366943359375,
            3760.1552734375,
            12202.7373046875,
            40602.5390625,
            3464.234619140625,
            16785.74609375,
            11970.6552734375,
            2697.01904296875,
            29743.529296875,
            50948.2265625,
            42496.3515625,
            3501.041748046875,
            35852.23828125,
            22069.28125,
            809.4736328125,
            17846.19140625,
            4294.228515625,
            39147.76171875,
            4874.46826171875,
            952.8312377929688,
            125294.9609375,
            1572.462158203125,
            2251.27490234375,
            3691.050048828125,
            5294.9697265625,
            7560.7021484375,
            35455.63671875,
            5629.419921875,
            534.356689453125,
            301.7906494140625,
            759.6475830078125,
            1230.13916015625,
            39776.1796875,
            2569.192138671875,
            91341.296875,
            466.9768371582031,
            657.084716796875,
            10887.8642578125,
            3800.759033203125,
            4638.4716796875,
            1184.829345703125,
            2268.244384765625,
            9109.5302734375,
            1575.142822265625,
            11959.9228515625,
            5808.349609375,
            21664.984375,
            26393.677734375,
            15948.7451171875,
            370.8858337402344,
            53687.44140625,
            6791.0576171875,
            5006.55224609375,
            6449.0478515625,
            5023.291015625,
            2970.94482421875,
            3261.763916015625,
            13282.9423828125,
            731.3222045898438,
            16155.20703125,
            3059.609619140625,
            334.7274475097656,
            21186.923828125,
            29068.150390625,
            4619.73388671875,
            44074.03125,
            35825.75,
            7091.72021484375,
            686.1300048828125,
            2563.543212890625,
            36699.4453125,
            1219.5621337890625,
            23369.353515625,
            38829.578125,
            8194.951171875,
            32461.44921875,
            3427.67822265625,
            654.7476806640625,
            561.7350463867188,
            4145.78466796875,
            1285.703369140625,
            37987.8984375,
            2048.267578125,
            34457.83203125,
            11746.630859375,
            50731.69140625,
            1014.6276245117188,
            2289.422119140625,
            4811.05419921875,
            3619.885986328125,
            50462.265625,
            61324.6796875,
            29939.9375,
            33751.69921875,
            5259.748046875,
            33531.51953125,
            4515.59130859375,
            7837.62890625,
            1238.5369873046875,
            1495.66357421875,
            40976.67578125,
            837.1337890625,
            1252.69384765625,
            7458.923828125,
            11896.220703125,
            6699.2314453125,
            873.66259765625,
            578.1373291015625,
            8208.95703125,
            10659.400390625,
            2966.1181640625,
            698.014892578125,
            1511.633056640625,
            105614.1796875,
            53770.47265625,
            482.33489990234375,
            294.5203857421875,
            7531.36474609375,
            8109.57421875,
            696.675048828125,
            18521.556640625,
            3041.57275390625,
            1585.356201171875,
            6592.95068359375,
            9142.8046875,
            3042.158203125,
            6428.01025390625,
            3176.1533203125,
            2004.2193603515625,
            131881.84375,
            2216.9228515625,
            5433.45068359375,
            2242.39697265625,
            409.2047729492188,
            609.9960327148438,
            3875.022216796875,
            3668.8740234375,
            630.6874389648438,
            43592.3046875,
            35637.60546875,
            1616.079833984375,
            419.5157775878906,
            2012.8447265625,
            52418.06640625,
            3779.675048828125,
            22737.1953125,
            74189.5703125,
            19941.337890625,
            1216.5555419921875,
            13312.7607421875,
            2540.267578125,
            8337.5849609375,
            1944.2962646484373,
            4049.16259765625,
            4123.79736328125,
            2149.329833984375,
            9100.5986328125,
            19501.232421875,
            29519.78515625,
            61522.3984375,
            6845.611328125,
            7949.89013671875,
            487.51898193359375,
            17002.466796875,
            10141.443359375,
            6641.2666015625,
            4084.64208984375,
            61604.1484375,
            1281.8179931640625,
            18669.62109375,
            1130.364013671875,
            4648.1982421875,
            11322.4150390625,
            476.3288269042969,
            44082.29296875,
            12395.75,
            20280.15234375,
            1871.02783203125,
            5826.826171875,
            1018.953857421875,
            22192.185546875,
            26762.642578125,
            2398.432373046875,
            1441.1746826171875,
            1349.62158203125,
            7895.634765625,
            47864.8125,
            79367.8984375,
            1451.0023193359375,
            661.9429931640625,
            717.2611694335938,
            4603.75244140625,
            862.4158935546875,
            467.6141052246094,
            3838.741943359375,
            17254.650390625,
            3493.6279296875,
            8173.5361328125,
            3056.9169921875,
            2747.373046875,
            655.3351440429688,
            2322.24462890625,
            51197.35546875,
            43927.88671875,
            53782.296875,
            47671.56640625,
            5146.38037109375,
            10574.9326171875,
            1656.2225341796875,
            2776.247314453125,
            1349.563720703125,
            8934.0087890625,
            2543.2080078125,
            965.0655517578124,
            1090.8179931640625
           ]
          }
         ],
         "name": "2006"
        },
        {
         "data": [
          {
           "coloraxis": "coloraxis",
           "geo": "geo",
           "hovertemplate": "Year=2007<br>Entity=%{location}<br>GDP per capita (constant 2015 US$)=%{z}<extra></extra>",
           "locationmode": "country names",
           "locations": [
            "Afghanistan",
            "Albania",
            "Algeria",
            "American Samoa",
            "Andorra",
            "Angola",
            "Antigua and Barbuda",
            "Argentina",
            "Armenia",
            "Aruba",
            "Australia",
            "Austria",
            "Azerbaijan",
            "Bahamas",
            "Bahrain",
            "Bangladesh",
            "Barbados",
            "Belarus",
            "Belgium",
            "Belize",
            "Benin",
            "Bermuda",
            "Bhutan",
            "Bolivia",
            "Bosnia and Herzegovina",
            "Botswana",
            "Brazil",
            "Brunei",
            "Bulgaria",
            "Burkina Faso",
            "Burundi",
            "Cambodia",
            "Cameroon",
            "Canada",
            "Cape Verde",
            "Cayman Islands",
            "Central African Republic",
            "Chad",
            "Chile",
            "China",
            "Colombia",
            "Comoros",
            "Congo",
            "Costa Rica",
            "Cote d'Ivoire",
            "Croatia",
            "Cuba",
            "Curacao",
            "Cyprus",
            "Czechia",
            "Democratic Republic of Congo",
            "Denmark",
            "Dominica",
            "Dominican Republic",
            "East Asia and Pacific",
            "Ecuador",
            "Egypt",
            "El Salvador",
            "Equatorial Guinea",
            "Eritrea",
            "Estonia",
            "Eswatini",
            "Ethiopia",
            "Europe and Central Asia",
            "European Union",
            "Fiji",
            "Finland",
            "France",
            "Gabon",
            "Gambia",
            "Georgia",
            "Germany",
            "Ghana",
            "Greece",
            "Greenland",
            "Grenada",
            "Guam",
            "Guatemala",
            "Guinea",
            "Guinea-Bissau",
            "Guyana",
            "Haiti",
            "High income",
            "Honduras",
            "Hong Kong",
            "Hungary",
            "Iceland",
            "India",
            "Indonesia",
            "Iran",
            "Iraq",
            "Ireland",
            "Isle of Man",
            "Israel",
            "Italy",
            "Jamaica",
            "Japan",
            "Jordan",
            "Kazakhstan",
            "Kenya",
            "Kiribati",
            "Kuwait",
            "Kyrgyzstan",
            "Laos",
            "Latin America and Caribbean",
            "Latvia",
            "Lebanon",
            "Lesotho",
            "Liberia",
            "Libya",
            "Lithuania",
            "Low and middle income",
            "Low income",
            "Lower middle income",
            "Luxembourg",
            "Macao",
            "Madagascar",
            "Malawi",
            "Malaysia",
            "Maldives",
            "Mali",
            "Malta",
            "Marshall Islands",
            "Mauritania",
            "Mauritius",
            "Mexico",
            "Micronesia (country)",
            "Middle East and North Africa",
            "Middle income",
            "Moldova",
            "Monaco",
            "Mongolia",
            "Montenegro",
            "Morocco",
            "Mozambique",
            "Myanmar",
            "Namibia",
            "Nauru",
            "Nepal",
            "Netherlands",
            "New Zealand",
            "Nicaragua",
            "Niger",
            "Nigeria",
            "North America",
            "North Macedonia",
            "Northern Mariana Islands",
            "Norway",
            "Oman",
            "Pakistan",
            "Palau",
            "Palestine",
            "Panama",
            "Papua New Guinea",
            "Paraguay",
            "Peru",
            "Philippines",
            "Poland",
            "Portugal",
            "Puerto Rico",
            "Qatar",
            "Romania",
            "Russia",
            "Rwanda",
            "Saint Kitts and Nevis",
            "Saint Lucia",
            "Saint Vincent and the Grenadines",
            "Samoa",
            "San Marino",
            "Sao Tome and Principe",
            "Saudi Arabia",
            "Senegal",
            "Serbia",
            "Seychelles",
            "Sierra Leone",
            "Singapore",
            "Slovakia",
            "Slovenia",
            "Solomon Islands",
            "South Africa",
            "South Asia",
            "South Korea",
            "Spain",
            "Sri Lanka",
            "Sub-Saharan Africa",
            "Sudan",
            "Suriname",
            "Sweden",
            "Switzerland",
            "Syria",
            "Tajikistan",
            "Tanzania",
            "Thailand",
            "Timor",
            "Togo",
            "Tonga",
            "Trinidad and Tobago",
            "Tunisia",
            "Turkey",
            "Turkmenistan",
            "Tuvalu",
            "Uganda",
            "Ukraine",
            "United Arab Emirates",
            "United Kingdom",
            "United States",
            "United States Virgin Islands",
            "Upper middle income",
            "Uruguay",
            "Uzbekistan",
            "Vanuatu",
            "Vietnam",
            "World",
            "Yemen",
            "Zambia",
            "Zimbabwe"
           ],
           "name": "",
           "type": "choropleth",
           "z": [
            392.7104797363281,
            3044.895751953125,
            3828.1484375,
            12586.7158203125,
            40391.87109375,
            3806.84912109375,
            18062.46484375,
            12919.2353515625,
            3093.369384765625,
            30160.52734375,
            52538.9765625,
            43937.7109375,
            4326.96142578125,
            35685.84375,
            22111.6796875,
            856.0459594726562,
            18158.9453125,
            4684.98046875,
            40290.2265625,
            4773.333984375,
            981.4557495117188,
            128757.8828125,
            1840.2716064453125,
            2313.89111328125,
            3909.971435546875,
            5612.32763671875,
            7936.82421875,
            35064.8671875,
            6044.75927734375,
            539.8200073242188,
            302.1070861816406,
            824.849365234375,
            1248.66259765625,
            42097.43359375,
            2922.233154296875,
            91434.5390625,
            479.1921691894531,
            655.9425659179688,
            11300.548828125,
            4319.02392578125,
            4890.27783203125,
            1166.02099609375,
            2046.6448974609373,
            9725.384765625,
            1557.9083251953125,
            12550.234375,
            6235.76611328125,
            21765.98046875,
            27154.900390625,
            16739.1796875,
            381.45556640625,
            53935.87109375,
            7214.43212890625,
            5308.63232421875,
            6882.63134765625,
            5048.14453125,
            3126.27490234375,
            3308.049560546875,
            14619.7509765625,
            722.3670043945312,
            17459.09765625,
            3175.223388671875,
            362.9692993164063,
            21871.716796875,
            29884.630859375,
            4534.8828125,
            46212.640625,
            36468.09765625,
            7301.22900390625,
            686.1423950195312,
            2901.10400390625,
            37842.359375,
            1240.1619873046875,
            24073,
            39896.91796875,
            8676.5078125,
            32653.30859375,
            3573.599609375,
            683.900146484375,
            566.1073608398438,
            4443.07275390625,
            1324.8707275390625,
            38728.54296875,
            2126.49169921875,
            36371.45703125,
            11797.4287109375,
            53646.3671875,
            1075.994140625,
            2402.66748046875,
            5146.41259765625,
            3626.94580078125,
            51625.27734375,
            65025.640625,
            31207.6015625,
            34081.08984375,
            5308.4404296875,
            33990.03515625,
            4678.8349609375,
            8438.1044921875,
            1287.249755859375,
            1491.4769287109375,
            41170.671875,
            900.0255126953125,
            1325.441650390625,
            7759.34521484375,
            13186.2470703125,
            7311.3173828125,
            911.62841796875,
            608.9904174804688,
            8601.9580078125,
            11984.9228515625,
            3187.054443359375,
            720.033447265625,
            1590.0108642578125,
            112417.875,
            60249.16796875,
            495.3631286621094,
            313.8881225585937,
            7850.4267578125,
            8534.904296875,
            697.3486328125,
            19338.34375,
            3124.085693359375,
            1510.1650390625,
            6938.849609375,
            9214.353515625,
            3012.947021484375,
            6619.7646484375,
            3419.152587890625,
            2069.135009765625,
            149446.59375,
            2411.16650390625,
            5795.46728515625,
            2294.51416015625,
            428.7693786621094,
            681.8170776367188,
            4011.639404296875,
            2824.812744140625,
            644.3944091796875,
            45138.6796875,
            36375.78125,
            1674.9420166015625,
            416.746826171875,
            2089.777099609375,
            53088.9453125,
            4017.7919921875,
            21475.279296875,
            75624.4375,
            20230.298828125,
            1246.57958984375,
            13855.4677734375,
            2569.984375,
            9169.1533203125,
            2046.488525390625,
            4208.048828125,
            4438.59375,
            2250.609375,
            9748.5341796875,
            19950.84375,
            29347.890625,
            60926.73828125,
            7450.0546875,
            8640.3984375,
            511.6950988769531,
            16948.466796875,
            10173.599609375,
            6868.7109375,
            4314.9638671875,
            65163.05078125,
            1286.7457275390625,
            18496.33203125,
            1132.0067138671875,
            4967.62109375,
            12438.708984375,
            500.92822265625,
            46098.4296875,
            13734.453125,
            21574.75390625,
            1910.48095703125,
            6060.39404296875,
            1075.6446533203125,
            23360.90625,
            27218.81640625,
            2542.593505859375,
            1491.05322265625,
            1388.2056884765625,
            8203.609375,
            49145.1953125,
            81804.859375,
            1470.1658935546875,
            699.4219360351562,
            744.5248413085938,
            4826.87158203125,
            932.6149291992188,
            449.826904296875,
            3816.764892578125,
            17993.498046875,
            3690.582763671875,
            8483.9658203125,
            3353.144775390625,
            2892.96875,
            688.4214477539062,
            2528.0810546875,
            45388.68359375,
            44576.3671875,
            54272.71875,
            49598.125,
            5604.4052734375,
            11245.2197265625,
            1787.490234375,
            2789.798583984375,
            1432.205810546875,
            9216.6708984375,
            2554.653076171875,
            1018.1196899414062,
            1042.3553466796875
           ]
          }
         ],
         "name": "2007"
        },
        {
         "data": [
          {
           "coloraxis": "coloraxis",
           "geo": "geo",
           "hovertemplate": "Year=2008<br>Entity=%{location}<br>GDP per capita (constant 2015 US$)=%{z}<extra></extra>",
           "locationmode": "country names",
           "locations": [
            "Afghanistan",
            "Albania",
            "Algeria",
            "American Samoa",
            "Andorra",
            "Angola",
            "Antigua and Barbuda",
            "Argentina",
            "Armenia",
            "Aruba",
            "Australia",
            "Austria",
            "Azerbaijan",
            "Bahamas",
            "Bahrain",
            "Bangladesh",
            "Barbados",
            "Belarus",
            "Belgium",
            "Belize",
            "Benin",
            "Bermuda",
            "Bhutan",
            "Bolivia",
            "Bosnia and Herzegovina",
            "Botswana",
            "Brazil",
            "Brunei",
            "Bulgaria",
            "Burkina Faso",
            "Burundi",
            "Cambodia",
            "Cameroon",
            "Canada",
            "Cape Verde",
            "Cayman Islands",
            "Central African Republic",
            "Chad",
            "Chile",
            "China",
            "Colombia",
            "Comoros",
            "Congo",
            "Costa Rica",
            "Cote d'Ivoire",
            "Croatia",
            "Cuba",
            "Curacao",
            "Cyprus",
            "Czechia",
            "Democratic Republic of Congo",
            "Denmark",
            "Dominica",
            "Dominican Republic",
            "East Asia and Pacific",
            "Ecuador",
            "Egypt",
            "El Salvador",
            "Equatorial Guinea",
            "Eritrea",
            "Estonia",
            "Eswatini",
            "Ethiopia",
            "Europe and Central Asia",
            "European Union",
            "Fiji",
            "Finland",
            "France",
            "Gabon",
            "Gambia",
            "Georgia",
            "Germany",
            "Ghana",
            "Greece",
            "Greenland",
            "Grenada",
            "Guam",
            "Guatemala",
            "Guinea",
            "Guinea-Bissau",
            "Guyana",
            "Haiti",
            "High income",
            "Honduras",
            "Hong Kong",
            "Hungary",
            "Iceland",
            "India",
            "Indonesia",
            "Iran",
            "Iraq",
            "Ireland",
            "Isle of Man",
            "Israel",
            "Italy",
            "Jamaica",
            "Japan",
            "Jordan",
            "Kazakhstan",
            "Kenya",
            "Kiribati",
            "Kosovo",
            "Kuwait",
            "Kyrgyzstan",
            "Laos",
            "Latin America and Caribbean",
            "Latvia",
            "Lebanon",
            "Lesotho",
            "Liberia",
            "Libya",
            "Lithuania",
            "Low and middle income",
            "Low income",
            "Lower middle income",
            "Luxembourg",
            "Macao",
            "Madagascar",
            "Malawi",
            "Malaysia",
            "Maldives",
            "Mali",
            "Malta",
            "Marshall Islands",
            "Mauritania",
            "Mauritius",
            "Mexico",
            "Micronesia (country)",
            "Middle East and North Africa",
            "Middle income",
            "Moldova",
            "Monaco",
            "Mongolia",
            "Montenegro",
            "Morocco",
            "Mozambique",
            "Myanmar",
            "Namibia",
            "Nauru",
            "Nepal",
            "Netherlands",
            "New Zealand",
            "Nicaragua",
            "Niger",
            "Nigeria",
            "North America",
            "North Macedonia",
            "Northern Mariana Islands",
            "Norway",
            "Oman",
            "Pakistan",
            "Palau",
            "Palestine",
            "Panama",
            "Papua New Guinea",
            "Paraguay",
            "Peru",
            "Philippines",
            "Poland",
            "Portugal",
            "Puerto Rico",
            "Qatar",
            "Romania",
            "Russia",
            "Rwanda",
            "Saint Kitts and Nevis",
            "Saint Lucia",
            "Saint Vincent and the Grenadines",
            "Samoa",
            "San Marino",
            "Sao Tome and Principe",
            "Saudi Arabia",
            "Senegal",
            "Serbia",
            "Seychelles",
            "Sierra Leone",
            "Singapore",
            "Slovakia",
            "Slovenia",
            "Solomon Islands",
            "South Africa",
            "South Asia",
            "South Korea",
            "South Sudan",
            "Spain",
            "Sri Lanka",
            "Sub-Saharan Africa",
            "Sudan",
            "Suriname",
            "Sweden",
            "Switzerland",
            "Syria",
            "Tajikistan",
            "Tanzania",
            "Thailand",
            "Timor",
            "Togo",
            "Tonga",
            "Trinidad and Tobago",
            "Tunisia",
            "Turkey",
            "Turkmenistan",
            "Tuvalu",
            "Uganda",
            "Ukraine",
            "United Arab Emirates",
            "United Kingdom",
            "United States",
            "United States Virgin Islands",
            "Upper middle income",
            "Uruguay",
            "Uzbekistan",
            "Vanuatu",
            "Vietnam",
            "World",
            "Yemen",
            "Zambia",
            "Zimbabwe"
           ],
           "name": "",
           "type": "choropleth",
           "z": [
            398.97113037109375,
            3298.47802734375,
            3856.40771484375,
            12439.1494140625,
            37610.5625,
            4077.77685546875,
            17771.193359375,
            13310.6240234375,
            3335.244140625,
            30092.740234375,
            53338.6015625,
            44440.0546875,
            4692.912109375,
            34218.43359375,
            21833.412109375,
            897.1890258789062,
            18204.921875,
            5180.71240234375,
            40151.8515625,
            4814.47705078125,
            1000.8515014648438,
            125610.03125,
            1909.245849609375,
            2414.973388671875,
            4132.19091796875,
            5837.779296875,
            8258.6162109375,
            33981.3359375,
            6459.64111328125,
            554.1121215820312,
            306.5074157714844,
            867.1214599609375,
            1249.375244140625,
            42063.6328125,
            3079.12060546875,
            88476.140625,
            480.410888671875,
            653.8711547851562,
            11574.728515625,
            4711.63525390625,
            4991.7890625,
            1183.8721923828125,
            2102.29638671875,
            10052.6826171875,
            1596.2552490234375,
            12789.6357421875,
            6500.65283203125,
            21964.125,
            27447.240234375,
            17046.884765625,
            392.07470703125,
            53345.359375,
            7724.6845703125,
            5409.94775390625,
            7134.01904296875,
            5280.7138671875,
            3290.940673828125,
            3364.100341796875,
            16438.640625,
            637.6026611328125,
            16607.568359375,
            3179.064208984375,
            391.2555847167969,
            22002.12890625,
            29979.90625,
            4532.01318359375,
            46358.62109375,
            36357.32421875,
            6845.94482421875,
            707.728515625,
            2980.3095703125,
            38278.3125,
            1319.173583984375,
            23928.708984375,
            42527.7109375,
            8735.9638671875,
            33278.07421875,
            3620.83056640625,
            696.0313110351562,
            569.9528198242188,
            4512.38525390625,
            1338.763427734375,
            38563.33203125,
            2168.58740234375,
            36923.85546875,
            11937.048828125,
            53821.47265625,
            1093.0765380859375,
            2513.671630859375,
            5103.22802734375,
            3859.758056640625,
            48313.96875,
            67306.109375,
            31718.48828125,
            33530.359375,
            5239.53271484375,
            33557.64453125,
            4786.74853515625,
            8554.8232421875,
            1255.025146484375,
            1427.3251953125,
            2621.423583984375,
            39777.28515625,
            966.4153442382812,
            1405.12353515625,
            7954.44287109375,
            12893.4365234375,
            7978.74462890625,
            961.8700561523438,
            626.1105346679688,
            8709.0283203125,
            12425.3984375,
            3333.12451171875,
            738.5091552734375,
            1631.3485107421875,
            110094.7890625,
            60995.3515625,
            513.7330932617188,
            328.3659362792969,
            8073.9345703125,
            9119.296875,
            706.7108154296875,
            19948.08203125,
            2924.767578125,
            1462.367431640625,
            7286.24609375,
            9181.400390625,
            2965.738037109375,
            6786.98876953125,
            3581.228759765625,
            2234.77783203125,
            148993.109375,
            2587.77783203125,
            6203.041015625,
            2401.601806640625,
            447.6843566894531,
            752.649169921875,
            4043.64599609375,
            3440.66748046875,
            676.45068359375,
            45939.1484375,
            35666.19140625,
            1708.82080078125,
            432.31939697265625,
            2172.793701171875,
            52556.80859375,
            4230.73291015625,
            19305.705078125,
            75043.53125,
            21142.88671875,
            1239.4205322265625,
            13369.0615234375,
            2685.986083984375,
            9893.6953125,
            1991.3729248046875,
            4420.3505859375,
            4804.8046875,
            2309.726318359375,
            10156.583984375,
            19985.69921875,
            28976.17578125,
            60799.1328125,
            8280.3046875,
            9093.6923828125,
            553.8304443359375,
            17833.29296875,
            10528.4697265625,
            6984.947265625,
            4329.373046875,
            64056.89453125,
            1352.82958984375,
            19117.935546875,
            1142.866943359375,
            5270.95947265625,
            11902.4912109375,
            515.578125,
            44526.0234375,
            14487.7041015625,
            22296.705078125,
            1976.315185546875,
            6170.9052734375,
            1093.964111328125,
            23882.73046875,
            2310.33251953125,
            27025.681640625,
            2674.746337890625,
            1527.93408203125,
            1402.9080810546875,
            8445.365234375,
            48544.1171875,
            82997.6953125,
            1477.572509765625,
            739.2625732421875,
            764.858154296875,
            4884.41796875,
            1020.10400390625,
            455.5532836914063,
            3966.859375,
            18518.884765625,
            3806.461181640625,
            8451.4794921875,
            3794.922119140625,
            3094.84814453125,
            725.1251831054688,
            2598.8330078125,
            40755.11328125,
            44120.9296875,
            53688.36328125,
            50174.75390625,
            5931.87060546875,
            12021.638671875,
            1917.849365234375,
            2877.4599609375,
            1498.83837890625,
            9285.8544921875,
            2574.10107421875,
            1067.7552490234375,
            849.611572265625
           ]
          }
         ],
         "name": "2008"
        },
        {
         "data": [
          {
           "coloraxis": "coloraxis",
           "geo": "geo",
           "hovertemplate": "Year=2009<br>Entity=%{location}<br>GDP per capita (constant 2015 US$)=%{z}<extra></extra>",
           "locationmode": "country names",
           "locations": [
            "Afghanistan",
            "Albania",
            "Algeria",
            "American Samoa",
            "Andorra",
            "Angola",
            "Antigua and Barbuda",
            "Argentina",
            "Armenia",
            "Aruba",
            "Australia",
            "Austria",
            "Azerbaijan",
            "Bahamas",
            "Bahrain",
            "Bangladesh",
            "Barbados",
            "Belarus",
            "Belgium",
            "Belize",
            "Benin",
            "Bermuda",
            "Bhutan",
            "Bolivia",
            "Bosnia and Herzegovina",
            "Botswana",
            "Brazil",
            "Brunei",
            "Bulgaria",
            "Burkina Faso",
            "Burundi",
            "Cambodia",
            "Cameroon",
            "Canada",
            "Cape Verde",
            "Cayman Islands",
            "Central African Republic",
            "Chad",
            "Chile",
            "China",
            "Colombia",
            "Comoros",
            "Congo",
            "Costa Rica",
            "Cote d'Ivoire",
            "Croatia",
            "Cuba",
            "Curacao",
            "Cyprus",
            "Czechia",
            "Democratic Republic of Congo",
            "Denmark",
            "Dominica",
            "Dominican Republic",
            "East Asia and Pacific",
            "Ecuador",
            "Egypt",
            "El Salvador",
            "Equatorial Guinea",
            "Eritrea",
            "Estonia",
            "Eswatini",
            "Europe and Central Asia",
            "European Union",
            "Fiji",
            "Finland",
            "France",
            "Gabon",
            "Gambia",
            "Georgia",
            "Germany",
            "Ghana",
            "Greece",
            "Greenland",
            "Grenada",
            "Guam",
            "Guatemala",
            "Guinea",
            "Guinea-Bissau",
            "Guyana",
            "Haiti",
            "High income",
            "Honduras",
            "Hong Kong",
            "Hungary",
            "Iceland",
            "India",
            "Indonesia",
            "Iran",
            "Iraq",
            "Ireland",
            "Isle of Man",
            "Israel",
            "Italy",
            "Jamaica",
            "Japan",
            "Jordan",
            "Kazakhstan",
            "Kenya",
            "Kiribati",
            "Kosovo",
            "Kuwait",
            "Kyrgyzstan",
            "Laos",
            "Latin America and Caribbean",
            "Latvia",
            "Lebanon",
            "Lesotho",
            "Liberia",
            "Libya",
            "Lithuania",
            "Low and middle income",
            "Low income",
            "Lower middle income",
            "Luxembourg",
            "Macao",
            "Madagascar",
            "Malawi",
            "Malaysia",
            "Maldives",
            "Mali",
            "Malta",
            "Marshall Islands",
            "Mauritania",
            "Mauritius",
            "Mexico",
            "Micronesia (country)",
            "Middle East and North Africa",
            "Middle income",
            "Moldova",
            "Monaco",
            "Mongolia",
            "Montenegro",
            "Morocco",
            "Mozambique",
            "Myanmar",
            "Namibia",
            "Nauru",
            "Nepal",
            "Netherlands",
            "New Zealand",
            "Nicaragua",
            "Niger",
            "Nigeria",
            "North America",
            "North Macedonia",
            "Northern Mariana Islands",
            "Norway",
            "Oman",
            "Pakistan",
            "Palau",
            "Palestine",
            "Panama",
            "Papua New Guinea",
            "Paraguay",
            "Peru",
            "Philippines",
            "Poland",
            "Portugal",
            "Puerto Rico",
            "Qatar",
            "Romania",
            "Russia",
            "Rwanda",
            "Saint Kitts and Nevis",
            "Saint Lucia",
            "Saint Vincent and the Grenadines",
            "Samoa",
            "San Marino",
            "Sao Tome and Principe",
            "Saudi Arabia",
            "Senegal",
            "Serbia",
            "Seychelles",
            "Sierra Leone",
            "Singapore",
            "Sint Maarten (Dutch part)",
            "Slovakia",
            "Slovenia",
            "Solomon Islands",
            "South Africa",
            "South Asia",
            "South Korea",
            "South Sudan",
            "Spain",
            "Sri Lanka",
            "Sub-Saharan Africa",
            "Sudan",
            "Suriname",
            "Sweden",
            "Switzerland",
            "Syria",
            "Tajikistan",
            "Tanzania",
            "Thailand",
            "Timor",
            "Togo",
            "Tonga",
            "Trinidad and Tobago",
            "Tunisia",
            "Turkey",
            "Turkmenistan",
            "Tuvalu",
            "Uganda",
            "Ukraine",
            "United Arab Emirates",
            "United Kingdom",
            "United States",
            "United States Virgin Islands",
            "Upper middle income",
            "Uruguay",
            "Uzbekistan",
            "Vanuatu",
            "Vietnam",
            "World",
            "Yemen",
            "Zambia",
            "Zimbabwe"
           ],
           "name": "",
           "type": "choropleth",
           "z": [
            472.84228515625,
            3432.169921875,
            3851.2138671875,
            12092.2763671875,
            35362.6953125,
            3963.24853515625,
            15401.96875,
            12398.283203125,
            2884.33935546875,
            26903.171875,
            53225.94921875,
            42655.19140625,
            5023.79052734375,
            32234.291015625,
            21057.419921875,
            931.9865112304688,
            17209.140625,
            5203.85498046875,
            39025.22265625,
            4704.8349609375,
            995.6942138671876,
            117886.734375,
            2017.9034423828125,
            2454.80029296875,
            4027.691162109375,
            5286.57470703125,
            8169.26220703125,
            32991.82421875,
            6288.67724609375,
            553.5166625976562,
            307.9042663574219,
            854.9557495117188,
            1246.807373046875,
            40368.29296875,
            3003.641357421875,
            79899.9609375,
            513.9373779296875,
            659.2523193359375,
            11273.6171875,
            5128.89501953125,
            4992.8232421875,
            1192.678466796875,
            2271.131103515625,
            9837.876953125,
            1616.378173828125,
            11870.7939453125,
            6601.0263671875,
            21705.630859375,
            26181.744140625,
            16160.6201171875,
            390.1121215820313,
            50457.234375,
            7632.2900390625,
            5393.47021484375,
            7266.53369140625,
            5224.83837890625,
            3381.115478515625,
            3280.0205078125,
            15906.4970703125,
            650.189697265625,
            14205.39453125,
            3205.875244140625,
            20951.115234375,
            28608.646484375,
            4425.84814453125,
            42412.09765625,
            35131.44921875,
            6634.71875,
            732.7855224609375,
            2897.130859375,
            36190.39453125,
            1348.3414306640625,
            22839.447265625,
            42899.7890625,
            8132.78076171875,
            33383.125,
            3570.302734375,
            672.6307373046875,
            574.4708251953125,
            4681.6484375,
            1395.7054443359375,
            37053.19921875,
            2071.770751953125,
            35938.3671875,
            11167.029296875,
            49527.3984375,
            1162.498779296875,
            2595.298828125,
            5097.791015625,
            3909.29150390625,
            45386.40625,
            68015.8828125,
            31323.3125,
            31615.271484375,
            4986.81640625,
            31651.083984375,
            4781.60498046875,
            8487.544921875,
            1261.3485107421875,
            1407.8778076171875,
            2731.383056640625,
            34800.30859375,
            982.377197265625,
            1485.4765625,
            7705.73095703125,
            11240.4013671875,
            8706.9150390625,
            948.3594970703124,
            633.6106567382812,
            8534.2236328125,
            10699.7890625,
            3393.650390625,
            747.0945434570312,
            1679.8648681640625,
            104574.3515625,
            60461.85546875,
            479.5599670410156,
            345.635009765625,
            7808.658203125,
            8222.044921875,
            716.9127807617188,
            19573.771484375,
            3013.133056640625,
            1421.8824462890625,
            7507.828125,
            8568.6181640625,
            3014.98583984375,
            6696.47705078125,
            3650.805419921875,
            2103.3447265625,
            130794.90625,
            2514.91650390625,
            5831.0458984375,
            2472.793212890625,
            463.1194763183594,
            825.6948852539062,
            3982.226318359375,
            3728.923095703125,
            701.4083251953125,
            44027.6015625,
            35263.671875,
            1630.0885009765625,
            424.3267822265625,
            2285.734619140625,
            50746.40234375,
            4207.8046875,
            16038.4521484375,
            72823.3046875,
            21458.38671875,
            1246.367919921875,
            12773.37890625,
            2840.015869140625,
            9840.3330078125,
            2076.614990234375,
            4349.67431640625,
            4818.59716796875,
            2304.83642578125,
            10437.162109375,
            19343.279296875,
            28565.8125,
            59090.90625,
            7888.89599609375,
            8381.861328125,
            572.9021606445312,
            16963.189453125,
            10099.23046875,
            6845.14306640625,
            4092.554443359375,
            56716.94140625,
            1348.1905517578125,
            18202.69921875,
            1142.865966796875,
            5147.5703125,
            11724.8251953125,
            520.21435546875,
            43255.45703125,
            32365.115234375,
            13679.08203125,
            20428.169921875,
            1980.355224609375,
            5992.02734375,
            1152.6761474609375,
            23948.47265625,
            2319.217529296875,
            25779.291015625,
            2750.201904296875,
            1534.19189453125,
            1328.2265625,
            8600.2470703125,
            46043.48046875,
            80262.484375,
            1524.94140625,
            751.9462890625,
            782.3978271484375,
            4826.3212890625,
            1103.863037109375,
            467.9041442871094,
            3742.0498046875,
            17618.833984375,
            3880.846435546875,
            7942.03125,
            3968.373046875,
            2929.822509765625,
            750.2984008789062,
            2215.27197265625,
            34580.21484375,
            41928.609375,
            51869.70703125,
            46862.80859375,
            6047.79052734375,
            12496.4033203125,
            2037.58154296875,
            2893.46533203125,
            1564.3475341796875,
            9053.849609375,
            2599.489990234375,
            1133.8533935546875,
            940.5316772460938
           ]
          }
         ],
         "name": "2009"
        },
        {
         "data": [
          {
           "coloraxis": "coloraxis",
           "geo": "geo",
           "hovertemplate": "Year=2010<br>Entity=%{location}<br>GDP per capita (constant 2015 US$)=%{z}<extra></extra>",
           "locationmode": "country names",
           "locations": [
            "Afghanistan",
            "Albania",
            "Algeria",
            "American Samoa",
            "Andorra",
            "Angola",
            "Antigua and Barbuda",
            "Argentina",
            "Armenia",
            "Aruba",
            "Australia",
            "Austria",
            "Azerbaijan",
            "Bahamas",
            "Bahrain",
            "Bangladesh",
            "Barbados",
            "Belarus",
            "Belgium",
            "Belize",
            "Benin",
            "Bermuda",
            "Bhutan",
            "Bolivia",
            "Bosnia and Herzegovina",
            "Botswana",
            "Brazil",
            "Brunei",
            "Bulgaria",
            "Burkina Faso",
            "Burundi",
            "Cambodia",
            "Cameroon",
            "Canada",
            "Cape Verde",
            "Cayman Islands",
            "Central African Republic",
            "Chad",
            "Chile",
            "China",
            "Colombia",
            "Comoros",
            "Congo",
            "Cote d'Ivoire",
            "Croatia",
            "Cuba",
            "Curacao",
            "Cyprus",
            "Czechia",
            "Democratic Republic of Congo",
            "Denmark",
            "Dominica",
            "Dominican Republic",
            "East Asia and Pacific",
            "Ecuador",
            "Egypt",
            "El Salvador",
            "Equatorial Guinea",
            "Eritrea",
            "Estonia",
            "Eswatini",
            "Ethiopia",
            "Europe and Central Asia",
            "European Union",
            "Fiji",
            "Finland",
            "France",
            "Gabon",
            "Gambia",
            "Georgia",
            "Germany",
            "Ghana",
            "Greece",
            "Greenland",
            "Grenada",
            "Guam",
            "Guatemala",
            "Guinea",
            "Guinea-Bissau",
            "Guyana",
            "Haiti",
            "High income",
            "Honduras",
            "Hong Kong",
            "Hungary",
            "Iceland",
            "India",
            "Indonesia",
            "Iran",
            "Iraq",
            "Ireland",
            "Isle of Man",
            "Israel",
            "Italy",
            "Jamaica",
            "Japan",
            "Jordan",
            "Kazakhstan",
            "Kenya",
            "Kiribati",
            "Kosovo",
            "Kuwait",
            "Kyrgyzstan",
            "Laos",
            "Latin America and Caribbean",
            "Latvia",
            "Lebanon",
            "Lesotho",
            "Liberia",
            "Libya",
            "Lithuania",
            "Low and middle income",
            "Low income",
            "Lower middle income",
            "Luxembourg",
            "Macao",
            "Madagascar",
            "Malawi",
            "Malaysia",
            "Maldives",
            "Mali",
            "Malta",
            "Marshall Islands",
            "Mauritania",
            "Mauritius",
            "Mexico",
            "Micronesia (country)",
            "Middle East and North Africa",
            "Middle income",
            "Moldova",
            "Monaco",
            "Mongolia",
            "Montenegro",
            "Morocco",
            "Mozambique",
            "Myanmar",
            "Namibia",
            "Nauru",
            "Nepal",
            "Netherlands",
            "New Zealand",
            "Nicaragua",
            "Niger",
            "Nigeria",
            "North America",
            "North Macedonia",
            "Northern Mariana Islands",
            "Norway",
            "Oman",
            "Pakistan",
            "Palau",
            "Palestine",
            "Panama",
            "Papua New Guinea",
            "Paraguay",
            "Peru",
            "Philippines",
            "Poland",
            "Portugal",
            "Puerto Rico",
            "Qatar",
            "Romania",
            "Russia",
            "Rwanda",
            "Saint Kitts and Nevis",
            "Saint Lucia",
            "Saint Vincent and the Grenadines",
            "Samoa",
            "San Marino",
            "Sao Tome and Principe",
            "Saudi Arabia",
            "Senegal",
            "Serbia",
            "Seychelles",
            "Sierra Leone",
            "Singapore",
            "Sint Maarten (Dutch part)",
            "Slovenia",
            "Solomon Islands",
            "South Africa",
            "South Asia",
            "South Korea",
            "South Sudan",
            "Spain",
            "Sri Lanka",
            "Sub-Saharan Africa",
            "Sudan",
            "Suriname",
            "Sweden",
            "Switzerland",
            "Syria",
            "Tajikistan",
            "Tanzania",
            "Thailand",
            "Timor",
            "Togo",
            "Tonga",
            "Trinidad and Tobago",
            "Tunisia",
            "Turkey",
            "Turkmenistan",
            "Tuvalu",
            "Uganda",
            "Ukraine",
            "United Arab Emirates",
            "United Kingdom",
            "United States",
            "United States Virgin Islands",
            "Upper middle income",
            "Uruguay",
            "Uzbekistan",
            "Vanuatu",
            "Vietnam",
            "World",
            "Yemen",
            "Zambia",
            "Zimbabwe"
           ],
           "name": "",
           "type": "choropleth",
           "z": [
            526.1036987304688,
            3577.11328125,
            3918.486328125,
            12256.3427734375,
            34667.171875,
            3988.62353515625,
            13986.8408203125,
            13551.3388671875,
            2958.839111328125,
            25857.494140625,
            53542.83203125,
            43334.5078125,
            5215.02099609375,
            32238.123046875,
            20982.33984375,
            972.90966796875,
            16754.62890625,
            5621.93701171875,
            39777.92578125,
            4728.7734375,
            988.6107788085938,
            115839.796875,
            2235.32275390625,
            2514.434814453125,
            4095.960693359375,
            5642.22021484375,
            8702.2548828125,
            33437.12109375,
            6427.81005859375,
            582.4157104492188,
            313.31182861328125,
            892.1004638671875,
            1248.180419921875,
            41155.32421875,
            3010.72216796875,
            75877.171875,
            531.7130126953125,
            724.0305786132812,
            11809.1416015625,
            5647.05859375,
            5162.70556640625,
            1208.480712890625,
            2421.708984375,
            1687.216552734375,
            11748.9453125,
            6759.3427734375,
            21450.314453125,
            26019.763671875,
            16505.953125,
            404.151611328125,
            51173.46484375,
            7680.4833984375,
            5771.91845703125,
            7767.24072265625,
            5323.7373046875,
            3485.2822265625,
            3334.932861328125,
            13841.396484375,
            653.8687744140625,
            14585.8388671875,
            3304.439697265625,
            453.298828125,
            21424.76953125,
            29211.42578125,
            4523.8662109375,
            43563.5703125,
            35639.8046875,
            6863.53857421875,
            753.1768188476562,
            3100.723388671875,
            37760.9140625,
            1419.120361328125,
            21560.353515625,
            43198.078125,
            8057.6865234375,
            34094.34765625,
            3606.4306640625,
            689.2567138671875,
            585.6915893554688,
            4847.431640625,
            1296.8056640625,
            37907.89453125,
            2106.002685546875,
            38089.77734375,
            11313.5224609375,
            48193.703125,
            1244.365966796875,
            2720.191650390625,
            5332.10791015625,
            4052.0625,
            45932.015625,
            69933.0859375,
            32504.712890625,
            32058.173828125,
            4888.5791015625,
            32942.203125,
            4644.16943359375,
            8979.33203125,
            1326.3858642578125,
            1367.7401123046875,
            2843.380126953125,
            32035.37890625,
            966.1507568359376,
            1586.202880859375,
            8110.57861328125,
            10963.6787109375,
            9135.5009765625,
            995.5813598632812,
            648.5526733398438,
            8870.6611328125,
            11106.9501953125,
            3612.165283203125,
            777.6323852539062,
            1762.8260498046875,
            106544.0546875,
            73991.0078125,
            469.2405395507813,
            358.94091796875,
            8247.7822265625,
            8521.837890625,
            731.5338134765625,
            20557.646484375,
            3208.023193359375,
            1417.0494384765625,
            7817.84130859375,
            8878.5615234375,
            3084.75390625,
            6887.45263671875,
            3891.782470703125,
            2254.932861328125,
            132094.015625,
            2629.6484375,
            5979.51904296875,
            2534.259033203125,
            479.8844909667969,
            902.5418701171876,
            4147.3154296875,
            4116.7548828125,
            731.6618041992188,
            44390.50390625,
            35406.67578125,
            1679.037109375,
            443.3512573242188,
            2403.645263671875,
            51622.80859375,
            4339.96435546875,
            16329.533203125,
            72426.5625,
            20640.30859375,
            1238.87353515625,
            13040.54296875,
            2927.0810546875,
            10232.3603515625,
            2235.096435546875,
            4767.27783203125,
            5177.84130859375,
            2433.008544921875,
            10858.53515625,
            19670.361328125,
            28592.12109375,
            63001.7109375,
            7626.29443359375,
            8755.11328125,
            599.2073974609375,
            16718.1015625,
            10151.046875,
            6617.7783203125,
            4080.91845703125,
            52932.42578125,
            1402.3021240234375,
            18568.369140625,
            1149.646484375,
            5206.087890625,
            12080.94140625,
            535.8207397460938,
            48668.578125,
            33579.296875,
            20612.58984375,
            2099.330810546875,
            6084.9677734375,
            1221.2083740234375,
            25451.00390625,
            2352.416015625,
            25702.705078125,
            2950.390625,
            1581.48974609375,
            1344.1712646484375,
            8941.9931640625,
            48369.91015625,
            82026.7265625,
            1592.3507080078125,
            783.5194091796875,
            808.1405029296875,
            5163.59765625,
            1185.623046875,
            483.2361145019531,
            3769.069580078125,
            18105.345703125,
            3975.72900390625,
            8491.5888671875,
            4265.94873046875,
            2820.600830078125,
            767.738525390625,
            2315.099853515625,
            32534.818359375,
            42487.92578125,
            52760,
            47162.73828125,
            6503.712890625,
            13433.0625,
            2131.357666015625,
            2855.8681640625,
            1648.2618408203125,
            9348.3037109375,
            2722.521484375,
            1214.6949462890625,
            1110.447021484375
           ]
          }
         ],
         "name": "2010"
        },
        {
         "data": [
          {
           "coloraxis": "coloraxis",
           "geo": "geo",
           "hovertemplate": "Year=2011<br>Entity=%{location}<br>GDP per capita (constant 2015 US$)=%{z}<extra></extra>",
           "locationmode": "country names",
           "locations": [
            "Afghanistan",
            "Albania",
            "Algeria",
            "American Samoa",
            "Andorra",
            "Angola",
            "Antigua and Barbuda",
            "Argentina",
            "Armenia",
            "Aruba",
            "Australia",
            "Austria",
            "Azerbaijan",
            "Bahamas",
            "Bahrain",
            "Bangladesh",
            "Barbados",
            "Belarus",
            "Belgium",
            "Belize",
            "Benin",
            "Bermuda",
            "Bhutan",
            "Bolivia",
            "Bosnia and Herzegovina",
            "Botswana",
            "Brazil",
            "Brunei",
            "Bulgaria",
            "Burkina Faso",
            "Burundi",
            "Cambodia",
            "Cameroon",
            "Canada",
            "Cape Verde",
            "Cayman Islands",
            "Central African Republic",
            "Chad",
            "Chile",
            "China",
            "Colombia",
            "Comoros",
            "Congo",
            "Costa Rica",
            "Cote d'Ivoire",
            "Croatia",
            "Cuba",
            "Curacao",
            "Cyprus",
            "Czechia",
            "Democratic Republic of Congo",
            "Denmark",
            "Dominica",
            "Dominican Republic",
            "East Asia and Pacific",
            "Ecuador",
            "Egypt",
            "El Salvador",
            "Equatorial Guinea",
            "Eritrea",
            "Estonia",
            "Eswatini",
            "Ethiopia",
            "Europe and Central Asia",
            "European Union",
            "Fiji",
            "Finland",
            "France",
            "Gabon",
            "Gambia",
            "Georgia",
            "Germany",
            "Ghana",
            "Greece",
            "Greenland",
            "Grenada",
            "Guam",
            "Guatemala",
            "Guinea",
            "Guinea-Bissau",
            "Guyana",
            "Haiti",
            "High income",
            "Honduras",
            "Hong Kong",
            "Hungary",
            "Iceland",
            "India",
            "Indonesia",
            "Iran",
            "Iraq",
            "Ireland",
            "Isle of Man",
            "Israel",
            "Italy",
            "Jamaica",
            "Japan",
            "Jordan",
            "Kazakhstan",
            "Kenya",
            "Kiribati",
            "Kosovo",
            "Kuwait",
            "Kyrgyzstan",
            "Laos",
            "Latin America and Caribbean",
            "Latvia",
            "Lebanon",
            "Lesotho",
            "Liberia",
            "Libya",
            "Lithuania",
            "Low and middle income",
            "Low income",
            "Lower middle income",
            "Luxembourg",
            "Macao",
            "Madagascar",
            "Malawi",
            "Malaysia",
            "Maldives",
            "Mali",
            "Malta",
            "Marshall Islands",
            "Mauritius",
            "Mexico",
            "Micronesia (country)",
            "Middle East and North Africa",
            "Middle income",
            "Moldova",
            "Monaco",
            "Mongolia",
            "Montenegro",
            "Morocco",
            "Mozambique",
            "Myanmar",
            "Namibia",
            "Nauru",
            "Nepal",
            "Netherlands",
            "New Zealand",
            "Nicaragua",
            "Niger",
            "Nigeria",
            "North America",
            "North Macedonia",
            "Northern Mariana Islands",
            "Norway",
            "Oman",
            "Pakistan",
            "Palau",
            "Palestine",
            "Panama",
            "Papua New Guinea",
            "Paraguay",
            "Peru",
            "Philippines",
            "Poland",
            "Portugal",
            "Puerto Rico",
            "Qatar",
            "Romania",
            "Russia",
            "Rwanda",
            "Saint Kitts and Nevis",
            "Saint Lucia",
            "Saint Vincent and the Grenadines",
            "Samoa",
            "San Marino",
            "Sao Tome and Principe",
            "Saudi Arabia",
            "Senegal",
            "Serbia",
            "Seychelles",
            "Sierra Leone",
            "Singapore",
            "Sint Maarten (Dutch part)",
            "Slovakia",
            "Slovenia",
            "Solomon Islands",
            "South Africa",
            "South Asia",
            "South Sudan",
            "Spain",
            "Sri Lanka",
            "Sub-Saharan Africa",
            "Sudan",
            "Suriname",
            "Sweden",
            "Switzerland",
            "Syria",
            "Tajikistan",
            "Tanzania",
            "Thailand",
            "Timor",
            "Togo",
            "Tonga",
            "Trinidad and Tobago",
            "Tunisia",
            "Turkey",
            "Turkmenistan",
            "Turks and Caicos Islands",
            "Tuvalu",
            "Uganda",
            "Ukraine",
            "United Arab Emirates",
            "United Kingdom",
            "United States",
            "United States Virgin Islands",
            "Upper middle income",
            "Uruguay",
            "Uzbekistan",
            "Vanuatu",
            "Vietnam",
            "World",
            "Yemen",
            "Zambia",
            "Zimbabwe"
           ],
           "name": "",
           "type": "choropleth",
           "z": [
            511.9985046386719,
            3678.046630859375,
            3956.895751953125,
            12328.6650390625,
            34956.59765625,
            3979.81494140625,
            13525.4453125,
            14200.26953125,
            3098.7421875,
            26647.642578125,
            54108.109375,
            44451,
            5152.6572265625,
            32016.6875,
            20774.244140625,
            1024.02197265625,
            16591.482421875,
            5938.220703125,
            39929.09375,
            4706.07275390625,
            989.767333984375,
            112471.34375,
            2386.62109375,
            2602.718505859375,
            4185.30419921875,
            5899.462890625,
            8965.6201171875,
            34244.20703125,
            6605.08984375,
            602.5791625976562,
            315.65692138671875,
            940.11181640625,
            1255.477294921875,
            42036.99609375,
            3091.222900390625,
            75165.984375,
            550.0198974609375,
            700.6627197265625,
            12406.4130859375,
            6152.68603515625,
            5468.1953125,
            1227.9691162109375,
            2406.925537109375,
            10559.2060546875,
            1558.96875,
            11779.5302734375,
            6942.0576171875,
            21277.234375,
            25466.107421875,
            16761.828125,
            417.7570190429688,
            51644.46484375,
            7659.53125,
            5881.13525390625,
            8134.47216796875,
            5654.92822265625,
            3472.598388671875,
            3447.35009765625,
            14098.646484375,
            700.9981689453125,
            15692.7890625,
            3356.0439453125,
            489.99267578125,
            21875.865234375,
            29807.12890625,
            4626.68310546875,
            44466.81640625,
            36245.54296875,
            7086.3876953125,
            671.36962890625,
            3356.997802734375,
            39977.33984375,
            1579.6995849609375,
            19400.80859375,
            42994.921875,
            8076.8232421875,
            34067.1953125,
            3688.8662109375,
            711.9908447265625,
            616.6835327148438,
            5088.60693359375,
            1342.543701171875,
            38461.37890625,
            2144.69970703125,
            39656.078125,
            11556.6728515625,
            48933.546875,
            1292.8211669921875,
            2849.35498046875,
            5409.2021484375,
            4218.38232421875,
            46220.8125,
            71304.015625,
            33678.1328125,
            32229.45703125,
            4945.94873046875,
            33011.1328125,
            4521.408203125,
            9506.734375,
            1357.253662109375,
            1365.598876953125,
            2997.21923828125,
            33166.91796875,
            1011.3155517578124,
            1687.1473388671875,
            8377.30859375,
            11451.451171875,
            8773.73828125,
            1037.24853515625,
            679.7146606445312,
            3337.31591796875,
            12046.7216796875,
            3789.399658203125,
            763.21826171875,
            1819.125244140625,
            105290.25,
            87924.03125,
            463.6627502441406,
            365.7361145019531,
            8550.154296875,
            8892.9111328125,
            732.3973388671875,
            20566.3359375,
            3179.185791015625,
            8123.59716796875,
            9076.3017578125,
            3166.743896484375,
            7013.11328125,
            4092.0126953125,
            2387.508544921875,
            139708.453125,
            3028.16162109375,
            6166.08447265625,
            2631.4541015625,
            501.500244140625,
            962.9954223632812,
            4282.03662109375,
            4501.4462890625,
            755.9141235351562,
            44869.3125,
            35930.69921875,
            1761.214111328125,
            436.5496826171875,
            2464.344970703125,
            52094.33203125,
            4433.8876953125,
            15111.9619140625,
            72194.78125,
            19868.119140625,
            1245.7374267578125,
            14073.6083984375,
            3128.108154296875,
            11193.990234375,
            2210.9521484375,
            4904.14697265625,
            5460.935546875,
            2484.4892578125,
            11369.029296875,
            19365.181640625,
            28821.0234375,
            65129.37890625,
            7809.97705078125,
            9124.4677734375,
            630.9321899414062,
            16875.37890625,
            10619.4658203125,
            6586.5634765625,
            4213.8251953125,
            47865.8359375,
            1431.060302734375,
            19813.259765625,
            1133.193359375,
            5354.20166015625,
            13380.955078125,
            556.846923828125,
            50685.296875,
            35776.3125,
            14890.3095703125,
            20746.98828125,
            2195.183837890625,
            6182.7939453125,
            1265.9129638671875,
            2169.705810546875,
            25402.9609375,
            3176.92041015625,
            1606.324951171875,
            1423.379150390625,
            9358.0263671875,
            49539.97265625,
            82677.6015625,
            1659.5408935546875,
            822.9031982421875,
            844.9060668945312,
            5182.04248046875,
            1234.0782470703125,
            500.5705261230469,
            4042.500244140625,
            17943.482421875,
            3870.7578125,
            9299.1376953125,
            4810.89599609375,
            23307.919921875,
            3002.629638671875,
            813.53515625,
            2449.957763671875,
            33246.140625,
            42771.640625,
            53190.23046875,
            43320.17578125,
            6902.87939453125,
            14086.017578125,
            2231.052734375,
            2867.2861328125,
            1733.311279296875,
            9547.5263671875,
            2311.205078125,
            1244.1378173828125,
            1248.729248046875
           ]
          }
         ],
         "name": "2011"
        },
        {
         "data": [
          {
           "coloraxis": "coloraxis",
           "geo": "geo",
           "hovertemplate": "Year=2012<br>Entity=%{location}<br>GDP per capita (constant 2015 US$)=%{z}<extra></extra>",
           "locationmode": "country names",
           "locations": [
            "Afghanistan",
            "Albania",
            "Algeria",
            "American Samoa",
            "Andorra",
            "Angola",
            "Antigua and Barbuda",
            "Argentina",
            "Armenia",
            "Aruba",
            "Australia",
            "Austria",
            "Azerbaijan",
            "Bahamas",
            "Bahrain",
            "Bangladesh",
            "Barbados",
            "Belarus",
            "Belgium",
            "Belize",
            "Benin",
            "Bermuda",
            "Bhutan",
            "Bolivia",
            "Bosnia and Herzegovina",
            "Botswana",
            "Brazil",
            "Brunei",
            "Bulgaria",
            "Burkina Faso",
            "Burundi",
            "Cambodia",
            "Cameroon",
            "Canada",
            "Cape Verde",
            "Cayman Islands",
            "Central African Republic",
            "Chad",
            "Chile",
            "China",
            "Colombia",
            "Comoros",
            "Congo",
            "Costa Rica",
            "Cote d'Ivoire",
            "Croatia",
            "Cuba",
            "Curacao",
            "Cyprus",
            "Czechia",
            "Democratic Republic of Congo",
            "Denmark",
            "Dominica",
            "Dominican Republic",
            "East Asia and Pacific",
            "Ecuador",
            "Egypt",
            "El Salvador",
            "Equatorial Guinea",
            "Estonia",
            "Eswatini",
            "Ethiopia",
            "Europe and Central Asia",
            "European Union",
            "Fiji",
            "Finland",
            "France",
            "Gabon",
            "Gambia",
            "Georgia",
            "Germany",
            "Ghana",
            "Greece",
            "Greenland",
            "Grenada",
            "Guam",
            "Guatemala",
            "Guinea",
            "Guinea-Bissau",
            "Guyana",
            "Haiti",
            "High income",
            "Honduras",
            "Hong Kong",
            "Hungary",
            "Iceland",
            "India",
            "Indonesia",
            "Iran",
            "Iraq",
            "Ireland",
            "Isle of Man",
            "Israel",
            "Italy",
            "Jamaica",
            "Japan",
            "Jordan",
            "Kazakhstan",
            "Kenya",
            "Kiribati",
            "Kosovo",
            "Kuwait",
            "Kyrgyzstan",
            "Laos",
            "Latvia",
            "Lebanon",
            "Lesotho",
            "Liberia",
            "Libya",
            "Lithuania",
            "Low and middle income",
            "Low income",
            "Lower middle income",
            "Luxembourg",
            "Macao",
            "Madagascar",
            "Malawi",
            "Malaysia",
            "Maldives",
            "Mali",
            "Malta",
            "Marshall Islands",
            "Mauritania",
            "Mauritius",
            "Mexico",
            "Micronesia (country)",
            "Middle East and North Africa",
            "Middle income",
            "Moldova",
            "Monaco",
            "Mongolia",
            "Montenegro",
            "Morocco",
            "Mozambique",
            "Myanmar",
            "Namibia",
            "Nauru",
            "Nepal",
            "Netherlands",
            "New Zealand",
            "Nicaragua",
            "Niger",
            "Nigeria",
            "North America",
            "North Macedonia",
            "Northern Mariana Islands",
            "Norway",
            "Oman",
            "Pakistan",
            "Palau",
            "Palestine",
            "Panama",
            "Papua New Guinea",
            "Paraguay",
            "Peru",
            "Philippines",
            "Poland",
            "Portugal",
            "Puerto Rico",
            "Qatar",
            "Romania",
            "Russia",
            "Rwanda",
            "Saint Kitts and Nevis",
            "Saint Lucia",
            "Saint Vincent and the Grenadines",
            "Samoa",
            "San Marino",
            "Sao Tome and Principe",
            "Saudi Arabia",
            "Senegal",
            "Serbia",
            "Seychelles",
            "Sierra Leone",
            "Singapore",
            "Sint Maarten (Dutch part)",
            "Slovakia",
            "Slovenia",
            "Solomon Islands",
            "South Africa",
            "South Asia",
            "South Korea",
            "South Sudan",
            "Spain",
            "Sri Lanka",
            "Sub-Saharan Africa",
            "Sudan",
            "Suriname",
            "Sweden",
            "Switzerland",
            "Syria",
            "Tajikistan",
            "Tanzania",
            "Thailand",
            "Timor",
            "Togo",
            "Tonga",
            "Trinidad and Tobago",
            "Tunisia",
            "Turkey",
            "Turkmenistan",
            "Turks and Caicos Islands",
            "Tuvalu",
            "Uganda",
            "Ukraine",
            "United Arab Emirates",
            "United Kingdom",
            "United States",
            "United States Virgin Islands",
            "Upper middle income",
            "Uruguay",
            "Uzbekistan",
            "Vanuatu",
            "Vietnam",
            "World",
            "Yemen",
            "Zambia",
            "Zimbabwe"
           ],
           "name": "",
           "type": "choropleth",
           "z": [
            557.94970703125,
            3736.339111328125,
            4012.361572265625,
            11812.458984375,
            33750.05859375,
            4167.1259765625,
            13802.70703125,
            13895.6337890625,
            3312.97998046875,
            26150.63671875,
            55254.60546875,
            44549.8828125,
            5194.73828125,
            32642.076171875,
            21187.541015625,
            1078.28759765625,
            16474.498046875,
            6047.87109375,
            39975.57421875,
            4709.310546875,
            1008.7662963867188,
            106119.796875,
            2479.151611328125,
            2692.607421875,
            4215.61962890625,
            6089.39892578125,
            9056.580078125,
            34096.90625,
            6693.6123046875,
            622.5197143554688,
            319.43853759765625,
            992.5498046875,
            1278.1644287109375,
            42315.80859375,
            3085.191650390625,
            74688.890625,
            575.5018920898438,
            737.6126098632812,
            12941.0302734375,
            6591.65087890625,
            5631.21728515625,
            1237.003173828125,
            2578.661865234375,
            10945.03515625,
            1637.392822265625,
            11546.7021484375,
            7138.3681640625,
            21072.06640625,
            24216.529296875,
            16606.9921875,
            432.6784057617188,
            51567.0390625,
            7573.93115234375,
            5969.3525390625,
            8488.1162109375,
            5885.10009765625,
            3472.148193359375,
            3528.8671875,
            14614.1767578125,
            16257.47265625,
            3513.376953125,
            517.5134887695312,
            21864.02734375,
            29552.9609375,
            4683.22607421875,
            43637.25,
            36183.48828125,
            7181.2138671875,
            685.4642333984375,
            3597.203857421875,
            40069.35546875,
            1686.069580078125,
            18123.671875,
            43655.74609375,
            7934.04150390625,
            34728.89453125,
            3731.67578125,
            737.7130737304688,
            590.2660522460938,
            5338.712890625,
            1329.4656982421875,
            38764.4921875,
            2191.888916015625,
            39887.578125,
            11470.4033203125,
            49191.57421875,
            1346.6759033203125,
            2980.610107421875,
            4946.5361328125,
            4630.736328125,
            46001.2734375,
            76833.1953125,
            33995.42578125,
            31184.55859375,
            4887.5869140625,
            33518.4453125,
            4386.7451171875,
            9823.6943359375,
            1381.96875,
            1408.1341552734375,
            3021.3671875,
            33455.23828125,
            993.7374267578124,
            1795.1375732421875,
            12410.3076171875,
            8451.4130859375,
            1096.8284912109375,
            713.0673217773438,
            7401.4814453125,
            12678.6923828125,
            3936.822509765625,
            719.6201782226562,
            1867.800048828125,
            104487.7421875,
            93801.7578125,
            464.7431640625,
            362.1315612792969,
            8888.7021484375,
            8732.62890625,
            705.1394653320312,
            21221.51171875,
            3095.919677734375,
            1453.81201171875,
            8384.32421875,
            9280.2587890625,
            3076.16552734375,
            7111.05126953125,
            4262.578125,
            2373.739990234375,
            139442.71875,
            3335.793701171875,
            5993.087890625,
            2673.045654296875,
            523.2940673828125,
            1017.0143432617188,
            4420.72705078125,
            4979.837890625,
            790.9881591796875,
            44242.97265625,
            36534.9375,
            1850.7000732421875,
            464.1477355957031,
            2500.64111328125,
            52836.6640625,
            4408.29638671875,
            15152.2958984375,
            73178.78125,
            20102.240234375,
            1262.2991943359375,
            14400.69140625,
            3237.916259765625,
            12079.544921875,
            2265.764404296875,
            4803.05029296875,
            5748.5908203125,
            2610.9677734375,
            11519.6845703125,
            18654.95703125,
            29180.412109375,
            63233.70703125,
            8004.9091796875,
            9475.6826171875,
            668.7991333007812,
            16354.18359375,
            10531.2880859375,
            6670.00341796875,
            4007.0849609375,
            43872.99609375,
            1445.6798095703125,
            20249.8046875,
            1146.1781005859375,
            5343.580078125,
            13417.396484375,
            627.115966796875,
            51663.4921875,
            35011.96484375,
            15066.890625,
            20157.005859375,
            2177.541015625,
            6231.62060546875,
            1317.602294921875,
            26675.439453125,
            1137.1298828125,
            24635.17578125,
            3462.936767578125,
            1615.665771484375,
            1314.22021484375,
            9502.017578125,
            48885.546875,
            82800.0703125,
            1260.8887939453125,
            864.700439453125,
            857.0877075195312,
            5531.34912109375,
            1271.3046875,
            519.3212280273438,
            4108.384765625,
            18054.6953125,
            3983.2509765625,
            9586.76953125,
            5249.7041015625,
            22609.73828125,
            2855.74365234375,
            818.3074951171875,
            2459.7568359375,
            33996.5390625,
            43099.59765625,
            53989.25,
            36938.16796875,
            7244.27197265625,
            14541.0322265625,
            2354.59375,
            2816.7666015625,
            1805.3612060546875,
            9684.4970703125,
            2302.148193359375,
            1297.7625732421875,
            1432.305908203125
           ]
          }
         ],
         "name": "2012"
        },
        {
         "data": [
          {
           "coloraxis": "coloraxis",
           "geo": "geo",
           "hovertemplate": "Year=2013<br>Entity=%{location}<br>GDP per capita (constant 2015 US$)=%{z}<extra></extra>",
           "locationmode": "country names",
           "locations": [
            "Afghanistan",
            "Albania",
            "Algeria",
            "American Samoa",
            "Andorra",
            "Angola",
            "Antigua and Barbuda",
            "Argentina",
            "Armenia",
            "Aruba",
            "Australia",
            "Austria",
            "Azerbaijan",
            "Bahamas",
            "Bahrain",
            "Bangladesh",
            "Barbados",
            "Belarus",
            "Belgium",
            "Belize",
            "Benin",
            "Bermuda",
            "Bhutan",
            "Bolivia",
            "Bosnia and Herzegovina",
            "Botswana",
            "Brazil",
            "Brunei",
            "Bulgaria",
            "Burkina Faso",
            "Burundi",
            "Cambodia",
            "Cameroon",
            "Canada",
            "Cape Verde",
            "Cayman Islands",
            "Central African Republic",
            "Chad",
            "Chile",
            "China",
            "Colombia",
            "Comoros",
            "Congo",
            "Costa Rica",
            "Cote d'Ivoire",
            "Croatia",
            "Cuba",
            "Curacao",
            "Cyprus",
            "Czechia",
            "Democratic Republic of Congo",
            "Denmark",
            "Djibouti",
            "Dominica",
            "Dominican Republic",
            "East Asia and Pacific",
            "Ecuador",
            "Egypt",
            "El Salvador",
            "Equatorial Guinea",
            "Estonia",
            "Eswatini",
            "Ethiopia",
            "Europe and Central Asia",
            "European Union",
            "Fiji",
            "Finland",
            "France",
            "Gabon",
            "Gambia",
            "Georgia",
            "Germany",
            "Ghana",
            "Greece",
            "Greenland",
            "Grenada",
            "Guam",
            "Guatemala",
            "Guinea",
            "Guinea-Bissau",
            "Guyana",
            "Haiti",
            "High income",
            "Honduras",
            "Hong Kong",
            "Hungary",
            "Iceland",
            "India",
            "Indonesia",
            "Iran",
            "Iraq",
            "Ireland",
            "Isle of Man",
            "Israel",
            "Italy",
            "Jamaica",
            "Japan",
            "Jordan",
            "Kazakhstan",
            "Kenya",
            "Kiribati",
            "Kosovo",
            "Kuwait",
            "Kyrgyzstan",
            "Laos",
            "Latin America and Caribbean",
            "Latvia",
            "Lebanon",
            "Lesotho",
            "Liberia",
            "Libya",
            "Lithuania",
            "Low and middle income",
            "Low income",
            "Lower middle income",
            "Luxembourg",
            "Macao",
            "Madagascar",
            "Malawi",
            "Malaysia",
            "Maldives",
            "Mali",
            "Malta",
            "Marshall Islands",
            "Mauritania",
            "Mauritius",
            "Mexico",
            "Micronesia (country)",
            "Middle East and North Africa",
            "Middle income",
            "Moldova",
            "Monaco",
            "Mongolia",
            "Montenegro",
            "Morocco",
            "Mozambique",
            "Myanmar",
            "Namibia",
            "Nauru",
            "Nepal",
            "Netherlands",
            "New Zealand",
            "Nicaragua",
            "Niger",
            "Nigeria",
            "North America",
            "North Macedonia",
            "Northern Mariana Islands",
            "Norway",
            "Oman",
            "Pakistan",
            "Palau",
            "Palestine",
            "Panama",
            "Papua New Guinea",
            "Paraguay",
            "Peru",
            "Philippines",
            "Poland",
            "Portugal",
            "Puerto Rico",
            "Qatar",
            "Romania",
            "Russia",
            "Rwanda",
            "Saint Kitts and Nevis",
            "Saint Lucia",
            "Saint Vincent and the Grenadines",
            "Samoa",
            "San Marino",
            "Sao Tome and Principe",
            "Saudi Arabia",
            "Senegal",
            "Serbia",
            "Seychelles",
            "Sierra Leone",
            "Singapore",
            "Sint Maarten (Dutch part)",
            "Slovakia",
            "Slovenia",
            "Solomon Islands",
            "Somalia",
            "South Africa",
            "South Asia",
            "South Korea",
            "South Sudan",
            "Spain",
            "Sri Lanka",
            "Sub-Saharan Africa",
            "Sudan",
            "Suriname",
            "Sweden",
            "Switzerland",
            "Syria",
            "Tajikistan",
            "Tanzania",
            "Thailand",
            "Timor",
            "Togo",
            "Tonga",
            "Trinidad and Tobago",
            "Tunisia",
            "Turkey",
            "Turkmenistan",
            "Turks and Caicos Islands",
            "Tuvalu",
            "Uganda",
            "Ukraine",
            "United Arab Emirates",
            "United Kingdom",
            "United States",
            "United States Virgin Islands",
            "Upper middle income",
            "Uruguay",
            "Uzbekistan",
            "Vanuatu",
            "Vietnam",
            "World",
            "Yemen",
            "Zambia",
            "Zimbabwe"
           ],
           "name": "",
           "type": "choropleth",
           "z": [
            568.9645385742188,
            3780.6982421875,
            4042.923583984375,
            11507.2255859375,
            33220.5625,
            4220.96484375,
            13554.4013671875,
            14071.5087890625,
            3406.5361328125,
            27090.025390625,
            55723.94921875,
            44299.37890625,
            5425.9052734375,
            31165.26953125,
            22078.990234375,
            1129.9935302734375,
            16208.72265625,
            6110.90478515625,
            39970.31640625,
            4663.92138671875,
            1051.5518798828125,
            105492.484375,
            2500.864501953125,
            2830.67333984375,
            4390.64892578125,
            6704.53662109375,
            9247.5732421875,
            32924.98828125,
            6693.4501953125,
            639.23291015625,
            324.82867431640625,
            1048.1324462890625,
            1306.0274658203125,
            42846.28515625,
            3070.463623046875,
            74420.1171875,
            365.1161193847656,
            753.962646484375,
            13333.3466796875,
            7056.41064453125,
            5866.8740234375,
            1261.9046630859375,
            2497.94970703125,
            11090.0888671875,
            1769.21484375,
            11536.8603515625,
            7317.85400390625,
            20669.076171875,
            22682.265625,
            16593.86328125,
            453.9989318847656,
            51831.796875,
            2386.248291015625,
            7491.33349609375,
            6187.283203125,
            8863.5849609375,
            6084.44384765625,
            3468.46875,
            3591.427001953125,
            13421.5654296875,
            16553.3828125,
            3623.66015625,
            556.3262939453125,
            21955.23828125,
            29471.826171875,
            4901.8974609375,
            43044.99609375,
            36205.16796875,
            7304.77978515625,
            684.08154296875,
            3738.705078125,
            40135.015625,
            1767.8021240234375,
            17796.2578125,
            43338.4296875,
            8066.552734375,
            35222.38671875,
            3802.15380859375,
            749.8700561523438,
            593.4814453125,
            5505.39013671875,
            1366.99267578125,
            39117.203125,
            2212.66015625,
            40959.7265625,
            11709.8017578125,
            50946.81640625,
            1415.8287353515625,
            3104.347900390625,
            4876.12451171875,
            4793.53955078125,
            46339.46875,
            80538.4609375,
            34960.94140625,
            30257.626953125,
            4884.39208984375,
            34239.88671875,
            4274.5478515625,
            10264.2978515625,
            1397.378662109375,
            1446.700927734375,
            3163.460205078125,
            32136.1328125,
            1080.5482177734375,
            1910.531005859375,
            8644.9775390625,
            12796.16796875,
            8216.5,
            1109.037109375,
            754.45849609375,
            6359.873046875,
            13262.333984375,
            4096.68994140625,
            725.4800415039062,
            1933.745849609375,
            105338.953125,
            101489.3828125,
            462.7077941894531,
            370.3008117675781,
            9179.3671875,
            8954.556640625,
            700.6975708007812,
            22070.966796875,
            3207.812744140625,
            1470.1534423828125,
            8646.9921875,
            9282.9921875,
            2923.359619140625,
            7163.62548828125,
            4442.52490234375,
            2589.111328125,
            150972.21875,
            3650.6015625,
            6199.7275390625,
            2754.84912109375,
            544.447509765625,
            1088.0595703125,
            4587.97900390625,
            6458.4013671875,
            821.0731811523438,
            44055.3046875,
            37232.66015625,
            1916.277587890625,
            470.0864562988281,
            2597.009033203125,
            53439.03125,
            4530.68212890625,
            15422.2099609375,
            73046.90625,
            19654.216796875,
            1290.36865234375,
            13938.1865234375,
            3309.631103515625,
            12695.2353515625,
            2304.8916015625,
            5130.4541015625,
            6030.42041015625,
            2740.45654296875,
            11656.4033203125,
            18584.5546875,
            29426.158203125,
            62733.4296875,
            8337.673828125,
            9621.509765625,
            683.4016723632812,
            17081.568359375,
            10148.0986328125,
            6780.77001953125,
            3959.38330078125,
            42925.99609375,
            1486.239013671875,
            20175.55859375,
            1141.4268798828125,
            5524.96923828125,
            13964.5615234375,
            740.3311157226562,
            53292.61328125,
            33563.6015625,
            15149.255859375,
            19922.474609375,
            2232.352783203125,
            330.4187927246094,
            6284.8603515625,
            1378.8330078125,
            27394.650390625,
            1256.4444580078125,
            24361.2578125,
            3552.698486328125,
            1652.6173095703125,
            1308.153564453125,
            9672.669921875,
            49048.8203125,
            83344.5234375,
            970.1117553710938,
            907.3781127929688,
            888.26318359375,
            5654.28564453125,
            1287.263671875,
            536.72900390625,
            4160.416015625,
            18335.8828125,
            4029.255859375,
            10225.7158203125,
            5679.01904296875,
            22413.681640625,
            2957.542236328125,
            820.6864624023438,
            2466.484130859375,
            35495.765625,
            43621.05859375,
            54604.12890625,
            34663.64453125,
            7586.96044921875,
            15168.4189453125,
            2487.244384765625,
            2751.32080078125,
            1883.30859375,
            9840.2734375,
            2348.517578125,
            1321.248779296875,
            1435.0626220703125
           ]
          }
         ],
         "name": "2013"
        },
        {
         "data": [
          {
           "coloraxis": "coloraxis",
           "geo": "geo",
           "hovertemplate": "Year=2014<br>Entity=%{location}<br>GDP per capita (constant 2015 US$)=%{z}<extra></extra>",
           "locationmode": "country names",
           "locations": [
            "Afghanistan",
            "Albania",
            "Algeria",
            "American Samoa",
            "Andorra",
            "Angola",
            "Antigua and Barbuda",
            "Argentina",
            "Armenia",
            "Aruba",
            "Australia",
            "Austria",
            "Azerbaijan",
            "Bahamas",
            "Bahrain",
            "Bangladesh",
            "Barbados",
            "Belarus",
            "Belgium",
            "Belize",
            "Benin",
            "Bermuda",
            "Bhutan",
            "Bolivia",
            "Bosnia and Herzegovina",
            "Botswana",
            "Brazil",
            "Brunei",
            "Bulgaria",
            "Burkina Faso",
            "Burundi",
            "Cambodia",
            "Cameroon",
            "Canada",
            "Cape Verde",
            "Cayman Islands",
            "Central African Republic",
            "Chad",
            "Chile",
            "China",
            "Colombia",
            "Comoros",
            "Congo",
            "Costa Rica",
            "Cote d'Ivoire",
            "Croatia",
            "Cuba",
            "Curacao",
            "Cyprus",
            "Czechia",
            "Democratic Republic of Congo",
            "Denmark",
            "Djibouti",
            "Dominica",
            "Dominican Republic",
            "East Asia and Pacific",
            "Ecuador",
            "Egypt",
            "El Salvador",
            "Equatorial Guinea",
            "Estonia",
            "Eswatini",
            "Ethiopia",
            "Europe and Central Asia",
            "European Union",
            "Fiji",
            "Finland",
            "France",
            "Gabon",
            "Gambia",
            "Georgia",
            "Germany",
            "Ghana",
            "Greece",
            "Greenland",
            "Grenada",
            "Guam",
            "Guatemala",
            "Guinea",
            "Guinea-Bissau",
            "Guyana",
            "Haiti",
            "High income",
            "Honduras",
            "Hong Kong",
            "Hungary",
            "Iceland",
            "India",
            "Indonesia",
            "Iran",
            "Iraq",
            "Ireland",
            "Isle of Man",
            "Israel",
            "Italy",
            "Jamaica",
            "Japan",
            "Jordan",
            "Kazakhstan",
            "Kenya",
            "Kiribati",
            "Kosovo",
            "Kuwait",
            "Kyrgyzstan",
            "Laos",
            "Latin America and Caribbean",
            "Latvia",
            "Lebanon",
            "Lesotho",
            "Liberia",
            "Libya",
            "Lithuania",
            "Low and middle income",
            "Low income",
            "Lower middle income",
            "Luxembourg",
            "Macao",
            "Madagascar",
            "Malawi",
            "Malaysia",
            "Maldives",
            "Mali",
            "Malta",
            "Marshall Islands",
            "Mauritania",
            "Mauritius",
            "Mexico",
            "Micronesia (country)",
            "Middle East and North Africa",
            "Middle income",
            "Moldova",
            "Monaco",
            "Mongolia",
            "Montenegro",
            "Morocco",
            "Mozambique",
            "Myanmar",
            "Namibia",
            "Nauru",
            "Nepal",
            "Netherlands",
            "New Zealand",
            "Nicaragua",
            "Niger",
            "Nigeria",
            "North America",
            "North Macedonia",
            "Northern Mariana Islands",
            "Norway",
            "Oman",
            "Pakistan",
            "Palau",
            "Palestine",
            "Panama",
            "Papua New Guinea",
            "Paraguay",
            "Peru",
            "Philippines",
            "Poland",
            "Portugal",
            "Puerto Rico",
            "Qatar",
            "Romania",
            "Russia",
            "Rwanda",
            "Saint Kitts and Nevis",
            "Saint Lucia",
            "Saint Vincent and the Grenadines",
            "Samoa",
            "San Marino",
            "Sao Tome and Principe",
            "Saudi Arabia",
            "Senegal",
            "Serbia",
            "Seychelles",
            "Sierra Leone",
            "Singapore",
            "Sint Maarten (Dutch part)",
            "Slovakia",
            "Slovenia",
            "Solomon Islands",
            "Somalia",
            "South Africa",
            "South Asia",
            "South Korea",
            "South Sudan",
            "Spain",
            "Sri Lanka",
            "Sub-Saharan Africa",
            "Sudan",
            "Suriname",
            "Sweden",
            "Switzerland",
            "Syria",
            "Tajikistan",
            "Tanzania",
            "Thailand",
            "Timor",
            "Togo",
            "Tonga",
            "Trinidad and Tobago",
            "Tunisia",
            "Turkey",
            "Turkmenistan",
            "Turks and Caicos Islands",
            "Tuvalu",
            "Uganda",
            "Ukraine",
            "United Arab Emirates",
            "United Kingdom",
            "United States",
            "United States Virgin Islands",
            "Upper middle income",
            "Uruguay",
            "Uzbekistan",
            "Vanuatu",
            "Vietnam",
            "World",
            "Yemen",
            "Zambia",
            "Zimbabwe"
           ],
           "name": "",
           "type": "choropleth",
           "z": [
            565.1792602539062,
            3855.759765625,
            4112.076171875,
            11694.544921875,
            34721.890625,
            4272.45556640625,
            13908.9912109375,
            13567.9482421875,
            3511.22509765625,
            27011.3203125,
            56305.98046875,
            44245.16796875,
            5505.98828125,
            31580.515625,
            22676.625,
            1184.86328125,
            16158.3544921875,
            6212.91259765625,
            40421.421875,
            4747.06689453125,
            1087.719970703125,
            101374.46875,
            2612.88623046875,
            2939.4775390625,
            4518.4658203125,
            6895.57421875,
            9214.9775390625,
            31678.9375,
            6796.68896484375,
            647.4287109375,
            328.1471862792969,
            1104.75,
            1343.928466796875,
            43635.09375,
            3050.2724609375,
            75246.828125,
            364.0839538574219,
            779.8466186523438,
            13425.68359375,
            7532.77197265625,
            6069.18701171875,
            1258.0706787109375,
            2601.45849609375,
            11355.3310546875,
            1887.1649169921875,
            11543.8759765625,
            7378.6962890625,
            20160.1640625,
            22513.779296875,
            16951.37890625,
            480.7662048339844,
            52404.765625,
            2510.9453125,
            7816.61962890625,
            6547.30810546875,
            9214.6533203125,
            6218.2392578125,
            3489.864013671875,
            3636.01025390625,
            12926.533203125,
            17096.64453125,
            3629.799072265625,
            596.4551391601562,
            22261.1875,
            29861.48046875,
            5171.52783203125,
            42710.921875,
            36378.6171875,
            7350.05126953125,
            654.3509521484375,
            3902.56884765625,
            40851.16015625,
            1777.0966796875,
            18000.41796875,
            45545.19140625,
            8601.0810546875,
            35722.11328125,
            3903.0595703125,
            759.587890625,
            583.5661010742188,
            5568.21826171875,
            1370.9869384765625,
            39720.8515625,
            2240.334716796875,
            41796.58984375,
            12237.3115234375,
            51233.2421875,
            1503.4215087890625,
            3217.3173828125,
            5035.81591796875,
            4627.8349609375,
            50010.43359375,
            85194.625,
            35710.88671875,
            29979.91796875,
            4889.986328125,
            34386.90625,
            4221.08935546875,
            10539.044921875,
            1430.4451904296875,
            1416.9068603515625,
            3279.0400390625,
            30857.16015625,
            1101.705322265625,
            2025.47216796875,
            8671.931640625,
            13162.68359375,
            7950.171875,
            1119.7716064453125,
            740.3759765625,
            4801.83056640625,
            13850,
            4242.25341796875,
            738.0853271484375,
            2010.6136474609373,
            105583.9375,
            97247.5546875,
            465.4162902832031,
            380.5889892578125,
            9601.177734375,
            9181.7119140625,
            728.8782958984375,
            23286.123046875,
            3163.436767578125,
            1488.7763671875,
            8954.5576171875,
            9426.32421875,
            2815.49755859375,
            7233.7958984375,
            4606.5771484375,
            2720.21484375,
            160000.375,
            3860.32568359375,
            6304.19287109375,
            2788.720947265625,
            568.59130859375,
            1167.6309814453125,
            4782.03173828125,
            8109.5654296875,
            870.7816772460938,
            44521.89453125,
            38015.9296875,
            1981.7476806640625,
            482.13623046875,
            2688.267333984375,
            54387.22265625,
            4687.29638671875,
            15916.8583984375,
            73650.3125,
            18610.8125,
            1322.7205810546875,
            14796.94140625,
            3227.849365234375,
            13113.2666015625,
            2564.913818359375,
            5329.36962890625,
            6109.15673828125,
            2866.822021484375,
            12059.2470703125,
            18833.052734375,
            29554.625,
            62784.90234375,
            8670.9755859375,
            9520.9404296875,
            707.7367553710938,
            17994.927734375,
            10280.123046875,
            6847.50634765625,
            3930.37060546875,
            42123.734375,
            1554.0472412109375,
            20327.67578125,
            1178.912841796875,
            5462.73583984375,
            14368.40234375,
            757.169189453125,
            54676.703125,
            33118.75390625,
            15546.8828125,
            20453.833984375,
            2195.302001953125,
            345.7008056640625,
            6273.56640625,
            1455.2711181640625,
            28094.91796875,
            1274.2396240234375,
            24772.341796875,
            3694.300537109375,
            1686.533203125,
            1336.5018310546875,
            9592.5185546875,
            49855.30078125,
            84348.390625,
            910.4425048828124,
            945.5254516601562,
            920.0780029296876,
            5685.40234375,
            1321.23583984375,
            553.9094848632812,
            4275.70263671875,
            18053.48046875,
            4097.0732421875,
            10549.67578125,
            6149.42626953125,
            23926.701171875,
            2963.538330078125,
            834.1526489257812,
            2346.237060546875,
            36995.703125,
            44596.19140625,
            55574.35546875,
            34098.7109375,
            7882.10400390625,
            15609.021484375,
            2613.748291015625,
            2759.370849609375,
            1975.0791015625,
            10026.416015625,
            2282.69189453125,
            1340.81103515625,
            1443.6177978515625
           ]
          }
         ],
         "name": "2014"
        },
        {
         "data": [
          {
           "coloraxis": "coloraxis",
           "geo": "geo",
           "hovertemplate": "Year=2015<br>Entity=%{location}<br>GDP per capita (constant 2015 US$)=%{z}<extra></extra>",
           "locationmode": "country names",
           "locations": [
            "Afghanistan",
            "Albania",
            "Algeria",
            "American Samoa",
            "Andorra",
            "Angola",
            "Antigua and Barbuda",
            "Argentina",
            "Armenia",
            "Aruba",
            "Australia",
            "Austria",
            "Azerbaijan",
            "Bahamas",
            "Bahrain",
            "Bangladesh",
            "Barbados",
            "Belarus",
            "Belgium",
            "Belize",
            "Benin",
            "Bermuda",
            "Bhutan",
            "Bolivia",
            "Bosnia and Herzegovina",
            "Botswana",
            "Brazil",
            "Brunei",
            "Bulgaria",
            "Burkina Faso",
            "Burundi",
            "Cambodia",
            "Cameroon",
            "Canada",
            "Cape Verde",
            "Cayman Islands",
            "Central African Republic",
            "Chad",
            "Chile",
            "China",
            "Colombia",
            "Comoros",
            "Congo",
            "Costa Rica",
            "Cote d'Ivoire",
            "Croatia",
            "Cuba",
            "Curacao",
            "Cyprus",
            "Czechia",
            "Democratic Republic of Congo",
            "Denmark",
            "Djibouti",
            "Dominica",
            "Dominican Republic",
            "East Asia and Pacific",
            "Ecuador",
            "Egypt",
            "El Salvador",
            "Equatorial Guinea",
            "Estonia",
            "Eswatini",
            "Ethiopia",
            "Europe and Central Asia",
            "European Union",
            "Faeroe Islands",
            "Fiji",
            "Finland",
            "France",
            "Gabon",
            "Gambia",
            "Georgia",
            "Germany",
            "Ghana",
            "Greece",
            "Greenland",
            "Grenada",
            "Guam",
            "Guatemala",
            "Guinea",
            "Guinea-Bissau",
            "Guyana",
            "Haiti",
            "High income",
            "Honduras",
            "Hong Kong",
            "Hungary",
            "Iceland",
            "India",
            "Indonesia",
            "Iran",
            "Iraq",
            "Ireland",
            "Isle of Man",
            "Israel",
            "Italy",
            "Jamaica",
            "Japan",
            "Jordan",
            "Kazakhstan",
            "Kenya",
            "Kiribati",
            "Kosovo",
            "Kuwait",
            "Kyrgyzstan",
            "Laos",
            "Latin America and Caribbean",
            "Latvia",
            "Lebanon",
            "Lesotho",
            "Liberia",
            "Libya",
            "Liechtenstein",
            "Lithuania",
            "Low and middle income",
            "Low income",
            "Lower middle income",
            "Luxembourg",
            "Macao",
            "Madagascar",
            "Malawi",
            "Malaysia",
            "Maldives",
            "Mali",
            "Malta",
            "Marshall Islands",
            "Mauritania",
            "Mauritius",
            "Mexico",
            "Micronesia (country)",
            "Middle East and North Africa",
            "Middle income",
            "Moldova",
            "Monaco",
            "Mongolia",
            "Montenegro",
            "Morocco",
            "Mozambique",
            "Myanmar",
            "Nauru",
            "Nepal",
            "Netherlands",
            "New Caledonia",
            "New Zealand",
            "Nicaragua",
            "Niger",
            "Nigeria",
            "North America",
            "North Macedonia",
            "Northern Mariana Islands",
            "Norway",
            "Oman",
            "Pakistan",
            "Palau",
            "Palestine",
            "Panama",
            "Papua New Guinea",
            "Paraguay",
            "Peru",
            "Philippines",
            "Poland",
            "Portugal",
            "Puerto Rico",
            "Qatar",
            "Romania",
            "Russia",
            "Rwanda",
            "Saint Kitts and Nevis",
            "Saint Lucia",
            "Saint Vincent and the Grenadines",
            "Samoa",
            "San Marino",
            "Sao Tome and Principe",
            "Saudi Arabia",
            "Senegal",
            "Serbia",
            "Seychelles",
            "Sierra Leone",
            "Singapore",
            "Sint Maarten (Dutch part)",
            "Slovakia",
            "Slovenia",
            "Solomon Islands",
            "Somalia",
            "South Africa",
            "South Asia",
            "South Korea",
            "South Sudan",
            "Spain",
            "Sri Lanka",
            "Sub-Saharan Africa",
            "Sudan",
            "Suriname",
            "Sweden",
            "Switzerland",
            "Syria",
            "Tajikistan",
            "Tanzania",
            "Thailand",
            "Timor",
            "Togo",
            "Tonga",
            "Trinidad and Tobago",
            "Tunisia",
            "Turkey",
            "Turkmenistan",
            "Turks and Caicos Islands",
            "Tuvalu",
            "Uganda",
            "Ukraine",
            "United Arab Emirates",
            "United Kingdom",
            "United States",
            "United States Virgin Islands",
            "Upper middle income",
            "Uruguay",
            "Uzbekistan",
            "Vanuatu",
            "Vietnam",
            "World",
            "Yemen",
            "Zambia",
            "Zimbabwe"
           ],
           "name": "",
           "type": "choropleth",
           "z": [
            556.0072021484375,
            3952.802490234375,
            4177.8896484375,
            12059.634765625,
            35770.77734375,
            4166.97998046875,
            14285.330078125,
            13789.060546875,
            3607.289306640625,
            28396.908203125,
            56707.0234375,
            44195.81640625,
            5500.310546875,
            31776.0546875,
            22634.0859375,
            1248.453369140625,
            16524.900390625,
            5967.05224609375,
            41008.296875,
            4770.232421875,
            1076.7967529296875,
            102005.625,
            2752.630126953125,
            3035.9716796875,
            4729.68994140625,
            6402.91015625,
            8813.990234375,
            31164.037109375,
            7074.68115234375,
            653.3272705078125,
            305.5496520996094,
            1162.905029296875,
            1382.509765625,
            43596.13671875,
            3043.031494140625,
            76284.1953125,
            377.42291259765625,
            776.019775390625,
            13574.1689453125,
            8016.431640625,
            6175.8759765625,
            1242.5855712890625,
            2447.539306640625,
            11642.7783203125,
            1972.545654296875,
            11933.376953125,
            7694.0146484375,
            19951.328125,
            23408.3359375,
            17829.69921875,
            497.3170471191406,
            53254.85546875,
            2658.94921875,
            7597.2890625,
            6921.5205078125,
            9579.474609375,
            6124.49072265625,
            3562.9326171875,
            3705.57958984375,
            11283.3984375,
            17402.037109375,
            3680.349365234375,
            640.5419311523438,
            22624.865234375,
            30485.029296875,
            52400.296875,
            5390.71435546875,
            42801.90625,
            36652.921875,
            7384.70068359375,
            660.7235717773438,
            4014.18603515625,
            41103.2578125,
            1774.0748291015625,
            18083.876953125,
            44536.40234375,
            9096.5390625,
            35829.25,
            3994.636962890625,
            769.2554931640625,
            603.3993530273438,
            5576.82568359375,
            1386.854248046875,
            40478.265625,
            2286.203125,
            42431.88671875,
            12720.7119140625,
            52951.6796875,
            1605.60546875,
            3331.695068359375,
            4904.3271484375,
            4688.31787109375,
            62012.484375,
            85126.96875,
            35808.4375,
            30242.38671875,
            4907.92724609375,
            34960.640625,
            4164.10888671875,
            10510.771484375,
            1464.553955078125,
            1542.616455078125,
            3520.766357421875,
            29869.552734375,
            1121.0828857421875,
            2140.04443359375,
            8630.85546875,
            13786.45703125,
            7663.92041015625,
            1146.064697265625,
            721.5810546875,
            4337.9189453125,
            167313.265625,
            14263.96484375,
            4371.28662109375,
            715.9337158203125,
            2081.0185546875,
            105462.015625,
            74818.9453125,
            467.2354431152344,
            380.5969848632813,
            9955.2431640625,
            9033.41015625,
            751.472900390625,
            24921.603515625,
            3199.886962890625,
            1524.07177734375,
            9260.447265625,
            9616.6455078125,
            2906.616943359375,
            7269.49609375,
            4756.4775390625,
            2732.45703125,
            165989.5,
            3875.32177734375,
            6514.2724609375,
            2875.258056640625,
            589.8590698242188,
            1196.743408203125,
            8341.0126953125,
            901.7496337890624,
            45193.40234375,
            32520.294921875,
            38630.7265625,
            2049.8515625,
            484.1531372070313,
            2687.47998046875,
            55542.96484375,
            4861.55419921875,
            16314.3837890625,
            74355.515625,
            18444.927734375,
            1356.6678466796875,
            15876.4619140625,
            3272.154296875,
            13630.30078125,
            2679.3466796875,
            5413.77587890625,
            6229.1005859375,
            3001.043212890625,
            12578.4951171875,
            19250.107421875,
            29763.48828125,
            63039.11328125,
            8969.1484375,
            9313.013671875,
            751.077392578125,
            18028.97265625,
            10093.6181640625,
            6921.70263671875,
            4071.927001953125,
            42662.90234375,
            1584.775634765625,
            20627.927734375,
            1219.2493896484375,
            5588.98095703125,
            14745.341796875,
            588.2288818359375,
            55646.6171875,
            32274.890625,
            16342.2158203125,
            20890.166015625,
            2167.119873046875,
            386.4378051757813,
            6259.83984375,
            1543.048095703125,
            28732.23046875,
            1119.6514892578125,
            25742.369140625,
            3843.78076171875,
            1688.3272705078125,
            1329.635986328125,
            9168.2373046875,
            51545.484375,
            84776.140625,
            916.3580322265624,
            978.4049682617188,
            947.933349609375,
            5840.05322265625,
            1332.7918701171875,
            570.9099731445312,
            4336.23974609375,
            18214.4609375,
            4094.836181640625,
            11006.279296875,
            6432.685546875,
            26183.884765625,
            3197.772216796875,
            847.2676391601562,
            2124.662353515625,
            38663.40234375,
            45404.56640625,
            56863.37109375,
            34007.3515625,
            8155.8818359375,
            15613.74609375,
            2753.97119140625,
            2695.666259765625,
            2085.101318359375,
            10223.248046875,
            1601.830078125,
            1338.2908935546875,
            1445.0697021484375
           ]
          }
         ],
         "name": "2015"
        },
        {
         "data": [
          {
           "coloraxis": "coloraxis",
           "geo": "geo",
           "hovertemplate": "Year=2016<br>Entity=%{location}<br>GDP per capita (constant 2015 US$)=%{z}<extra></extra>",
           "locationmode": "country names",
           "locations": [
            "Afghanistan",
            "Albania",
            "Algeria",
            "American Samoa",
            "Andorra",
            "Angola",
            "Antigua and Barbuda",
            "Argentina",
            "Armenia",
            "Aruba",
            "Australia",
            "Azerbaijan",
            "Bahamas",
            "Bahrain",
            "Bangladesh",
            "Barbados",
            "Belarus",
            "Belgium",
            "Belize",
            "Benin",
            "Bermuda",
            "Bhutan",
            "Bolivia",
            "Bosnia and Herzegovina",
            "Botswana",
            "Brazil",
            "Brunei",
            "Bulgaria",
            "Burkina Faso",
            "Burundi",
            "Cambodia",
            "Cameroon",
            "Canada",
            "Cape Verde",
            "Cayman Islands",
            "Central African Republic",
            "Chad",
            "Chile",
            "China",
            "Colombia",
            "Comoros",
            "Congo",
            "Costa Rica",
            "Cote d'Ivoire",
            "Croatia",
            "Cuba",
            "Curacao",
            "Cyprus",
            "Czechia",
            "Democratic Republic of Congo",
            "Denmark",
            "Djibouti",
            "Dominica",
            "Dominican Republic",
            "East Asia and Pacific",
            "Ecuador",
            "Egypt",
            "El Salvador",
            "Equatorial Guinea",
            "Estonia",
            "Eswatini",
            "Ethiopia",
            "Europe and Central Asia",
            "European Union",
            "Fiji",
            "Finland",
            "France",
            "Gabon",
            "Gambia",
            "Georgia",
            "Germany",
            "Ghana",
            "Greece",
            "Greenland",
            "Grenada",
            "Guam",
            "Guatemala",
            "Guinea",
            "Guinea-Bissau",
            "Guyana",
            "Haiti",
            "High income",
            "Honduras",
            "Hong Kong",
            "Hungary",
            "Iceland",
            "India",
            "Indonesia",
            "Iran",
            "Iraq",
            "Ireland",
            "Isle of Man",
            "Israel",
            "Italy",
            "Jamaica",
            "Japan",
            "Jordan",
            "Kazakhstan",
            "Kenya",
            "Kiribati",
            "Kosovo",
            "Kuwait",
            "Kyrgyzstan",
            "Laos",
            "Latin America and Caribbean",
            "Latvia",
            "Lebanon",
            "Lesotho",
            "Liberia",
            "Libya",
            "Lithuania",
            "Low and middle income",
            "Low income",
            "Lower middle income",
            "Luxembourg",
            "Macao",
            "Madagascar",
            "Malawi",
            "Malaysia",
            "Maldives",
            "Mali",
            "Malta",
            "Marshall Islands",
            "Mauritania",
            "Mauritius",
            "Mexico",
            "Micronesia (country)",
            "Middle East and North Africa",
            "Middle income",
            "Moldova",
            "Monaco",
            "Mongolia",
            "Montenegro",
            "Morocco",
            "Mozambique",
            "Myanmar",
            "Namibia",
            "Nauru",
            "Nepal",
            "Netherlands",
            "New Zealand",
            "Nicaragua",
            "Niger",
            "Nigeria",
            "North America",
            "North Macedonia",
            "Northern Mariana Islands",
            "Norway",
            "Oman",
            "Pakistan",
            "Palau",
            "Palestine",
            "Panama",
            "Papua New Guinea",
            "Paraguay",
            "Peru",
            "Philippines",
            "Poland",
            "Portugal",
            "Puerto Rico",
            "Qatar",
            "Romania",
            "Russia",
            "Rwanda",
            "Saint Kitts and Nevis",
            "Saint Lucia",
            "Saint Vincent and the Grenadines",
            "Samoa",
            "San Marino",
            "Sao Tome and Principe",
            "Saudi Arabia",
            "Senegal",
            "Serbia",
            "Seychelles",
            "Sierra Leone",
            "Singapore",
            "Sint Maarten (Dutch part)",
            "Slovakia",
            "Slovenia",
            "Solomon Islands",
            "Somalia",
            "South Africa",
            "South Asia",
            "South Korea",
            "Spain",
            "Sri Lanka",
            "Sub-Saharan Africa",
            "Sudan",
            "Suriname",
            "Sweden",
            "Switzerland",
            "Syria",
            "Tajikistan",
            "Tanzania",
            "Thailand",
            "Timor",
            "Togo",
            "Tonga",
            "Trinidad and Tobago",
            "Tunisia",
            "Turkey",
            "Turkmenistan",
            "Turks and Caicos Islands",
            "Tuvalu",
            "Uganda",
            "Ukraine",
            "United Arab Emirates",
            "United Kingdom",
            "United States",
            "United States Virgin Islands",
            "Upper middle income",
            "Uruguay",
            "Uzbekistan",
            "Vanuatu",
            "Vietnam",
            "World",
            "Yemen",
            "Zambia",
            "Zimbabwe"
           ],
           "name": "",
           "type": "choropleth",
           "z": [
            552.9968872070312,
            4090.37158203125,
            4224.037109375,
            11871.359375,
            37432.76171875,
            3924.620361328125,
            14919.2060546875,
            13360.2119140625,
            3601.4697265625,
            28847.814453125,
            57358.78125,
            5270.552734375,
            31491.701171875,
            22552.68359375,
            1322.69482421875,
            16906.59375,
            5811.19775390625,
            41318.01953125,
            4671.9150390625,
            1082.4512939453125,
            102407.390625,
            2940.699951171875,
            3118.91357421875,
            4940.759765625,
            6729.0654296875,
            8455.3125,
            30038.734375,
            7341.0478515625,
            672.363037109375,
            294.2188415527344,
            1224.220458984375,
            1407.2745361328125,
            43536.9140625,
            3147.83740234375,
            77694.609375,
            391.4735412597656,
            704.9600830078125,
            13624.6787109375,
            8516.513671875,
            6219.14990234375,
            1254.5400390625,
            2128.859130859375,
            12004.6708984375,
            2061.21533203125,
            12441.5029296875,
            7726.4951171875,
            19546.140625,
            24805.203125,
            18247.01171875,
            492.8027648925781,
            54556.0703125,
            2789.69384765625,
            7777.08984375,
            7300.033203125,
            9955.701171875,
            5947.001953125,
            3638.89501953125,
            3781.378662109375,
            9894.005859375,
            17945.9453125,
            3686.215576171875,
            682.2393798828125,
            22964.140625,
            31031.35546875,
            5498.662109375,
            43878.96484375,
            36956.796875,
            7313.14013671875,
            653.7329711914062,
            4128.3857421875,
            41682.03125,
            1793.180908203125,
            18070.78125,
            46561.83203125,
            9380.232421875,
            35652.8046875,
            4034.158447265625,
            830.2461547851562,
            624.9197387695312,
            5759.69189453125,
            1393.1766357421875,
            40980.5703125,
            2334.75244140625,
            43084.765625,
            13037.96484375,
            55513.640625,
            1719.318115234375,
            3456.92822265625,
            5486.408203125,
            5183.4091796875,
            62568.625,
            90975.3046875,
            36680.3203125,
            30685.646484375,
            4949.36962890625,
            35264.8125,
            4119.251953125,
            10476.34765625,
            1489.7587890625,
            1598.7822265625,
            3739.181396484375,
            29801.23828125,
            1146.103271484375,
            2255.311767578125,
            8532.7666015625,
            14242.4326171875,
            7574.603515625,
            1178.0184326171875,
            692.618896484375,
            4168.69189453125,
            14810.251953125,
            4514.6435546875,
            713.2539672851562,
            2172.743408203125,
            108351.453125,
            73009.734375,
            473.0051574707031,
            379.6239318847656,
            10258.0419921875,
            9190.0029296875,
            772.1318359375,
            25354.17578125,
            3226.239990234375,
            1499.836181640625,
            9609.2509765625,
            9751.5693359375,
            2897.41748046875,
            7466.07080078125,
            4920.880859375,
            2885.874267578125,
            170153.53125,
            3858.51513671875,
            6704.84521484375,
            2867.015869140625,
            595.07763671875,
            1313.4075927734375,
            4808.65087890625,
            8556.42578125,
            897.40380859375,
            45938.78515625,
            39181.69140625,
            2115.934814453125,
            492.56396484375,
            2575.45556640625,
            56031.671875,
            4994.55908203125,
            20927.087890625,
            74493.1171875,
            18459.224609375,
            1402.087890625,
            15815.775390625,
            3483.09912109375,
            14062.443359375,
            2770.39501953125,
            5570.60546875,
            6380.02587890625,
            3167.50244140625,
            12979.2548828125,
            19700.91015625,
            29961.751953125,
            62800.3671875,
            9444.9951171875,
            9313.9677734375,
            775.4757080078125,
            20275.638671875,
            10409.537109375,
            7031.7255859375,
            4379.5107421875,
            43359.43359375,
            1620.0565185546875,
            20503.380859375,
            1260.8480224609375,
            5805.8994140625,
            15213.2509765625,
            610.4900512695312,
            56757.91796875,
            31507.869140625,
            16636.43359375,
            21541.17578125,
            2234.14599609375,
            407.42584228515625,
            6209.36572265625,
            1641.0013427734375,
            29461.783203125,
            26500.314453125,
            3972.1025390625,
            1662.7452392578125,
            1343.1343994140625,
            8628.85546875,
            51955.859375,
            85570.3984375,
            891.095947265625,
            1020.6161499023438,
            983.1658935546876,
            6018.17724609375,
            1351.9244384765625,
            587.6580810546875,
            4604.5888671875,
            17103.865234375,
            4095.175537109375,
            11187.0537109375,
            6714.37744140625,
            27637.759765625,
            3255.80126953125,
            855.8971557617188,
            2185.317138671875,
            39400.01953125,
            46081.71484375,
            57418.93359375,
            34614.75,
            8437.0107421875,
            15821.359375,
            2867.051025390625,
            2749.073974609375,
            2191.819580078125,
            10390.6005859375,
            1415.83935546875,
            1347.748046875,
            1433.6087646484375
           ]
          }
         ],
         "name": "2016"
        },
        {
         "data": [
          {
           "coloraxis": "coloraxis",
           "geo": "geo",
           "hovertemplate": "Year=2017<br>Entity=%{location}<br>GDP per capita (constant 2015 US$)=%{z}<extra></extra>",
           "locationmode": "country names",
           "locations": [
            "Afghanistan",
            "Albania",
            "Algeria",
            "American Samoa",
            "Andorra",
            "Angola",
            "Antigua and Barbuda",
            "Argentina",
            "Armenia",
            "Aruba",
            "Australia",
            "Austria",
            "Azerbaijan",
            "Bahamas",
            "Bahrain",
            "Bangladesh",
            "Barbados",
            "Belarus",
            "Belize",
            "Benin",
            "Bermuda",
            "Bhutan",
            "Bolivia",
            "Bosnia and Herzegovina",
            "Brazil",
            "Brunei",
            "Bulgaria",
            "Burkina Faso",
            "Burundi",
            "Cambodia",
            "Cameroon",
            "Canada",
            "Cape Verde",
            "Cayman Islands",
            "Central African Republic",
            "Chad",
            "Chile",
            "China",
            "Colombia",
            "Comoros",
            "Congo",
            "Costa Rica",
            "Cote d'Ivoire",
            "Croatia",
            "Cuba",
            "Curacao",
            "Cyprus",
            "Czechia",
            "Democratic Republic of Congo",
            "Denmark",
            "Djibouti",
            "Dominica",
            "Dominican Republic",
            "East Asia and Pacific",
            "Ecuador",
            "Egypt",
            "El Salvador",
            "Equatorial Guinea",
            "Estonia",
            "Eswatini",
            "Ethiopia",
            "Europe and Central Asia",
            "European Union",
            "Fiji",
            "Finland",
            "France",
            "Gabon",
            "Gambia",
            "Georgia",
            "Germany",
            "Ghana",
            "Greece",
            "Greenland",
            "Grenada",
            "Guam",
            "Guatemala",
            "Guinea",
            "Guinea-Bissau",
            "Guyana",
            "Haiti",
            "High income",
            "Honduras",
            "Hong Kong",
            "Hungary",
            "Iceland",
            "India",
            "Indonesia",
            "Iran",
            "Iraq",
            "Ireland",
            "Isle of Man",
            "Israel",
            "Italy",
            "Jamaica",
            "Japan",
            "Jordan",
            "Kazakhstan",
            "Kenya",
            "Kiribati",
            "Kosovo",
            "Kuwait",
            "Kyrgyzstan",
            "Laos",
            "Latin America and Caribbean",
            "Latvia",
            "Lebanon",
            "Lesotho",
            "Liberia",
            "Libya",
            "Lithuania",
            "Low and middle income",
            "Low income",
            "Lower middle income",
            "Luxembourg",
            "Macao",
            "Malawi",
            "Malaysia",
            "Maldives",
            "Mali",
            "Malta",
            "Marshall Islands",
            "Mauritania",
            "Mauritius",
            "Mexico",
            "Micronesia (country)",
            "Middle East and North Africa",
            "Middle income",
            "Moldova",
            "Monaco",
            "Mongolia",
            "Montenegro",
            "Morocco",
            "Mozambique",
            "Myanmar",
            "Namibia",
            "Nauru",
            "Nepal",
            "Netherlands",
            "New Zealand",
            "Nicaragua",
            "Niger",
            "Nigeria",
            "North America",
            "North Macedonia",
            "Northern Mariana Islands",
            "Norway",
            "Oman",
            "Pakistan",
            "Palau",
            "Palestine",
            "Panama",
            "Papua New Guinea",
            "Paraguay",
            "Peru",
            "Philippines",
            "Poland",
            "Portugal",
            "Puerto Rico",
            "Qatar",
            "Romania",
            "Russia",
            "Rwanda",
            "Saint Kitts and Nevis",
            "Saint Lucia",
            "Saint Vincent and the Grenadines",
            "Samoa",
            "San Marino",
            "Sao Tome and Principe",
            "Saudi Arabia",
            "Senegal",
            "Serbia",
            "Seychelles",
            "Sierra Leone",
            "Singapore",
            "Sint Maarten (Dutch part)",
            "Slovakia",
            "Slovenia",
            "Solomon Islands",
            "Somalia",
            "South Africa",
            "South Asia",
            "South Korea",
            "Spain",
            "Sri Lanka",
            "Sub-Saharan Africa",
            "Sudan",
            "Suriname",
            "Sweden",
            "Switzerland",
            "Syria",
            "Tajikistan",
            "Tanzania",
            "Thailand",
            "Timor",
            "Togo",
            "Tonga",
            "Trinidad and Tobago",
            "Tunisia",
            "Turkey",
            "Turkmenistan",
            "Turks and Caicos Islands",
            "Tuvalu",
            "Uganda",
            "Ukraine",
            "United Arab Emirates",
            "United Kingdom",
            "United States",
            "United States Virgin Islands",
            "Upper middle income",
            "Uruguay",
            "Uzbekistan",
            "Vanuatu",
            "Vietnam",
            "World",
            "Yemen",
            "Zambia",
            "Zimbabwe"
           ],
           "name": "",
           "type": "choropleth",
           "z": [
            553.3550415039062,
            4249.8037109375,
            4192.337890625,
            11066.060546875,
            37707.68359375,
            3790.79150390625,
            15242.373046875,
            13595.037109375,
            3860.218017578125,
            29286.25,
            57695.5703125,
            45281.72265625,
            5229.5263671875,
            31682.697265625,
            22445.453125,
            1403.8616943359375,
            16961.33984375,
            5964.89306640625,
            4663.28173828125,
            1112.817138671875,
            107237.03125,
            3040.93701171875,
            3203.00439453125,
            5150.27294921875,
            8498.2939453125,
            30101.529296875,
            7599.125,
            693.7264404296875,
            286.4315185546875,
            1289.98583984375,
            1419.1761474609375,
            44325.48828125,
            3225.751708984375,
            79133.796875,
            404.0024719238281,
            663.1647338867188,
            13590.9912109375,
            9053.212890625,
            6208.98681640625,
            1273.1365966796875,
            1983.9005126953125,
            12375.923828125,
            2157.2451171875,
            13021.671875,
            7863.39453125,
            19144.810546875,
            26013.83203125,
            19139.240234375,
            494.78125,
            55735.765625,
            2893.7587890625,
            7232.7734375,
            7556.853515625,
            10384.904296875,
            5981.1328125,
            3712.603759765625,
            3846.973876953125,
            8986.951171875,
            18962.41015625,
            3724.761962890625,
            727.8440551757812,
            23514.900390625,
            31854.498046875,
            5759.65869140625,
            45173.62890625,
            37694.08203125,
            7145.11767578125,
            665.2131958007812,
            4327.7275390625,
            42639.5546875,
            1896.36669921875,
            18304.30859375,
            46598.82421875,
            9742.603515625,
            35678.28515625,
            4091.26806640625,
            890.7886352539062,
            645.3590698242188,
            5945.06884765625,
            1409.632568359375,
            41742.4453125,
            2406.7470703125,
            44384.76953125,
            13630.6884765625,
            56501.45703125,
            1816.7308349609373,
            3589.715576171875,
            5614.11767578125,
            4961.404296875,
            67424.2265625,
            94883.2890625,
            37550.7265625,
            31244.2265625,
            4973.72412109375,
            35914.640625,
            4105.72119140625,
            10758.5205078125,
            1510.5814208984375,
            1590.06005859375,
            3890.1962890625,
            27702.1875,
            1177.438720703125,
            2373.597412109375,
            8609.646484375,
            14845.27734375,
            7516.1943359375,
            1132.00927734375,
            692.2030639648438,
            5209.86572265625,
            15661.99609375,
            4687.61083984375,
            716.8490600585938,
            2252.73388671875,
            107142.125,
            79040.390625,
            384.4207458496094,
            10707.748046875,
            9437.90625,
            789.0726318359375,
            26672.232421875,
            3312.17529296875,
            1549.5762939453125,
            9966.76953125,
            9842.400390625,
            2941.873291015625,
            7457.80859375,
            5118.04541015625,
            3072.796875,
            162819.390625,
            4000.837890625,
            7020.287109375,
            2950.212158203125,
            599.6915283203125,
            1380.15283203125,
            4670.94921875,
            7986.142578125,
            964.8977661132812,
            46997.34375,
            39758.265625,
            2185.913330078125,
            497.7198791503906,
            2529.38525390625,
            56975.70703125,
            5043.6923828125,
            25609.23046875,
            75610.6484375,
            17774.451171875,
            1449.5335693359375,
            15218.2568359375,
            3462.97998046875,
            14596.7412109375,
            2811.79736328125,
            5762.732421875,
            6432.92431640625,
            3338.441650390625,
            13604.5400390625,
            20441.486328125,
            29809.216796875,
            60262.74609375,
            10195.0751953125,
            9473.1796875,
            785.3046264648438,
            20298.10546875,
            10718.8603515625,
            7078.81201171875,
            4406.63525390625,
            43254.51953125,
            1651.011962890625,
            19946.955078125,
            1316.8447265625,
            5959.5224609375,
            15740.259765625,
            622.5303344726562,
            59271.05859375,
            29237.845703125,
            17105.666015625,
            22563.759765625,
            2292.133544921875,
            406.42724609375,
            6192.892578125,
            1728.2176513671875,
            30307.39453125,
            27224.3984375,
            4067.9931640625,
            1658.527099609375,
            1320.6461181640625,
            8677.7822265625,
            52576.80859375,
            86119.1484375,
            903.753662109375,
            1066.40673828125,
            1018.9896850585938,
            6247.9921875,
            1285.139892578125,
            598.19140625,
            4717.50732421875,
            16515.025390625,
            4139.65625,
            11835.2607421875,
            7032.4580078125,
            26544.361328125,
            3349.43310546875,
            850.1621704101562,
            2246.738525390625,
            39798.5234375,
            46746.640625,
            58387.77734375,
            34435.49609375,
            8808.849609375,
            16020.380859375,
            2943.09912109375,
            2849.263427734375,
            2317.369140625,
            10620.9716796875,
            1311.8433837890625,
            1354.4071044921875,
            1479.3760986328125
           ]
          }
         ],
         "name": "2017"
        },
        {
         "data": [
          {
           "coloraxis": "coloraxis",
           "geo": "geo",
           "hovertemplate": "Year=2018<br>Entity=%{location}<br>GDP per capita (constant 2015 US$)=%{z}<extra></extra>",
           "locationmode": "country names",
           "locations": [
            "Afghanistan",
            "Albania",
            "Algeria",
            "American Samoa",
            "Andorra",
            "Angola",
            "Antigua and Barbuda",
            "Argentina",
            "Armenia",
            "Australia",
            "Austria",
            "Azerbaijan",
            "Bahamas",
            "Bahrain",
            "Bangladesh",
            "Barbados",
            "Belarus",
            "Belgium",
            "Belize",
            "Benin",
            "Bermuda",
            "Bhutan",
            "Bolivia",
            "Bosnia and Herzegovina",
            "Botswana",
            "Brazil",
            "Brunei",
            "Bulgaria",
            "Burkina Faso",
            "Burundi",
            "Cambodia",
            "Cameroon",
            "Canada",
            "Cape Verde",
            "Cayman Islands",
            "Central African Republic",
            "Chad",
            "Chile",
            "China",
            "Colombia",
            "Comoros",
            "Congo",
            "Costa Rica",
            "Cote d'Ivoire",
            "Croatia",
            "Cuba",
            "Curacao",
            "Cyprus",
            "Czechia",
            "Democratic Republic of Congo",
            "Denmark",
            "Djibouti",
            "Dominica",
            "Dominican Republic",
            "East Asia and Pacific",
            "Ecuador",
            "Egypt",
            "El Salvador",
            "Equatorial Guinea",
            "Estonia",
            "Eswatini",
            "Ethiopia",
            "Europe and Central Asia",
            "European Union",
            "Fiji",
            "Finland",
            "France",
            "Gabon",
            "Gambia",
            "Georgia",
            "Germany",
            "Ghana",
            "Greece",
            "Greenland",
            "Grenada",
            "Guam",
            "Guatemala",
            "Guinea-Bissau",
            "Guyana",
            "Haiti",
            "High income",
            "Honduras",
            "Hong Kong",
            "Hungary",
            "Iceland",
            "India",
            "Indonesia",
            "Iran",
            "Iraq",
            "Ireland",
            "Isle of Man",
            "Israel",
            "Italy",
            "Jamaica",
            "Japan",
            "Jordan",
            "Kazakhstan",
            "Kenya",
            "Kiribati",
            "Kosovo",
            "Kuwait",
            "Kyrgyzstan",
            "Laos",
            "Latin America and Caribbean",
            "Latvia",
            "Lebanon",
            "Lesotho",
            "Liberia",
            "Libya",
            "Lithuania",
            "Low and middle income",
            "Low income",
            "Lower middle income",
            "Luxembourg",
            "Macao",
            "Madagascar",
            "Malawi",
            "Malaysia",
            "Maldives",
            "Mali",
            "Malta",
            "Marshall Islands",
            "Mauritania",
            "Mauritius",
            "Mexico",
            "Micronesia (country)",
            "Middle East and North Africa",
            "Middle income",
            "Moldova",
            "Monaco",
            "Mongolia",
            "Montenegro",
            "Morocco",
            "Mozambique",
            "Myanmar",
            "Namibia",
            "Nauru",
            "Nepal",
            "Netherlands",
            "New Zealand",
            "Nicaragua",
            "Niger",
            "Nigeria",
            "North America",
            "North Macedonia",
            "Northern Mariana Islands",
            "Norway",
            "Oman",
            "Pakistan",
            "Palau",
            "Palestine",
            "Panama",
            "Papua New Guinea",
            "Paraguay",
            "Peru",
            "Philippines",
            "Poland",
            "Portugal",
            "Puerto Rico",
            "Qatar",
            "Romania",
            "Russia",
            "Rwanda",
            "Saint Kitts and Nevis",
            "Saint Lucia",
            "Saint Vincent and the Grenadines",
            "Samoa",
            "San Marino",
            "Sao Tome and Principe",
            "Saudi Arabia",
            "Senegal",
            "Serbia",
            "Seychelles",
            "Sierra Leone",
            "Singapore",
            "Sint Maarten (Dutch part)",
            "Slovakia",
            "Slovenia",
            "Solomon Islands",
            "Somalia",
            "South Africa",
            "South Asia",
            "South Korea",
            "Spain",
            "Sri Lanka",
            "Sub-Saharan Africa",
            "Sudan",
            "Suriname",
            "Sweden",
            "Switzerland",
            "Syria",
            "Tajikistan",
            "Tanzania",
            "Thailand",
            "Timor",
            "Togo",
            "Tonga",
            "Trinidad and Tobago",
            "Tunisia",
            "Turkey",
            "Turkmenistan",
            "Turks and Caicos Islands",
            "Tuvalu",
            "Uganda",
            "Ukraine",
            "United Arab Emirates",
            "United Kingdom",
            "United States",
            "United States Virgin Islands",
            "Upper middle income",
            "Uruguay",
            "Uzbekistan",
            "Vanuatu",
            "Vietnam",
            "World",
            "Yemen",
            "Zambia",
            "Zimbabwe"
           ],
           "name": "",
           "type": "choropleth",
           "z": [
            546.7429809570312,
            4431.5390625,
            4154.21923828125,
            11393.60546875,
            38301.296875,
            3595.106689453125,
            16146.5927734375,
            13105.3974609375,
            4051.385009765625,
            58447.25390625,
            46188.96484375,
            5262.18359375,
            32231.2734375,
            21824.20703125,
            1498.387939453125,
            16838.728515625,
            6165.9091796875,
            42393.25,
            4707.4013671875,
            1155.3131103515625,
            106696.0703125,
            3097.1484375,
            3291.15625,
            5387.26953125,
            6973.0986328125,
            8582.3388671875,
            29802.783203125,
            7859.67822265625,
            718.642578125,
            281.9702453613281,
            1365.8291015625,
            1437.271484375,
            44917.484375,
            3333.066162109375,
            81437.890625,
            412.9902038574219,
            658.6889038085938,
            13901.0185546875,
            9619.1923828125,
            6271.875,
            1290.2899169921875,
            1840.43359375,
            12573.9560546875,
            2247.776611328125,
            13519.55859375,
            8040.98779296875,
            18828.734375,
            27161.404296875,
            19685.494140625,
            506.9582824707031,
            56563.48828125,
            3088.563720703125,
            7375.794921875,
            7997.76123046875,
            10809.765625,
            5952.21826171875,
            3831.199951171875,
            3920.5263671875,
            8124.18310546875,
            19677.677734375,
            3774.621337890625,
            757.3504028320312,
            23936.232421875,
            32459.435546875,
            5938.427734375,
            45628.92578125,
            38291.8671875,
            7019.82763671875,
            692.632080078125,
            4539.08740234375,
            42973.2890625,
            1970.2608642578125,
            18647.49609375,
            47584.34375,
            10109.0517578125,
            35103.16015625,
            4160.0712890625,
            637.5466918945312,
            6178.8896484375,
            1414.9993896484375,
            42524.1015625,
            2457.966796875,
            45284.859375,
            14379.4443359375,
            57699.45703125,
            1915.435302734375,
            3732.8671875,
            5203.16943359375,
            4975.380859375,
            72607.6328125,
            96449.3359375,
            38301.453125,
            31593.48046875,
            5043.541015625,
            36188.62109375,
            4109.75244140625,
            11053.3623046875,
            1559.24365234375,
            1626.041259765625,
            4009.1064453125,
            27496.845703125,
            1197.6107177734375,
            2483.16162109375,
            8668.7431640625,
            15558.2763671875,
            7345.13427734375,
            1109.255859375,
            683.2512817382812,
            5910.388671875,
            16443.5859375,
            4853.68408203125,
            723.2202758789062,
            2323.500732421875,
            107201.84375,
            82943.6796875,
            480.8888854980469,
            390.8406982421875,
            11075.576171875,
            9822.5400390625,
            802.0336303710938,
            27090.931640625,
            3409.492919921875,
            1575.3121337890625,
            10335.8486328125,
            9945.7763671875,
            2917.2421875,
            7438.48828125,
            5308.2080078125,
            3260.52734375,
            171223.984375,
            4233.97265625,
            7378.50048828125,
            3004.63232421875,
            602.5300903320312,
            1459.64306640625,
            4632.39111328125,
            8392.9580078125,
            1021.3318481445312,
            47826.8203125,
            40304.36328125,
            2086.033447265625,
            513.6267700195312,
            2512.1923828125,
            58312.04296875,
            5184.6943359375,
            20533.126953125,
            75953.578125,
            17393.548828125,
            1502.891357421875,
            15115.3681640625,
            3417.79443359375,
            14880.6630859375,
            2749.11767578125,
            5871.28125,
            6574.31689453125,
            3500.933837890625,
            14332.916015625,
            21057.6171875,
            29753.36328125,
            59757.796875,
            10714.015625,
            9739.900390625,
            830.4293212890625,
            20686.34375,
            10975.826171875,
            7206.498046875,
            4335.20751953125,
            43775.78515625,
            1667.85791015625,
            20067.779296875,
            1360.2392578125,
            6261.52734375,
            15866.9072265625,
            630.4824829101562,
            61056.5859375,
            27093.796875,
            17730.150390625,
            23476.369140625,
            2321.135986328125,
            425.4165954589844,
            6199.8916015625,
            1817.7186279296875,
            31053.638671875,
            27725.8046875,
            4157.28369140625,
            1658.6485595703125,
            1254.859130859375,
            9020.4404296875,
            52983.0078125,
            87980.671875,
            925.2420654296876,
            1119.642822265625,
            1042.9876708984375,
            6489.25732421875,
            1251.4266357421875,
            612.7857666015625,
            4676.7783203125,
            16457.193359375,
            4195.2509765625,
            12006.8154296875,
            7349.458984375,
            27623.669921875,
            3391.39208984375,
            870.708740234375,
            2336.976318359375,
            39670.9296875,
            47231.3359375,
            59821.59375,
            35073.62890625,
            9181.93359375,
            16037.931640625,
            3047.308349609375,
            2860.012451171875,
            2456.791259765625,
            10848.126953125,
            1290.92529296875,
            1368.601806640625,
            1529.0263671875
           ]
          }
         ],
         "name": "2018"
        },
        {
         "data": [
          {
           "coloraxis": "coloraxis",
           "geo": "geo",
           "hovertemplate": "Year=2019<br>Entity=%{location}<br>GDP per capita (constant 2015 US$)=%{z}<extra></extra>",
           "locationmode": "country names",
           "locations": [
            "Afghanistan",
            "Albania",
            "Algeria",
            "American Samoa",
            "Andorra",
            "Angola",
            "Antigua and Barbuda",
            "Argentina",
            "Armenia",
            "Australia",
            "Austria",
            "Azerbaijan",
            "Bahamas",
            "Bahrain",
            "Bangladesh",
            "Barbados",
            "Belarus",
            "Belgium",
            "Belize",
            "Benin",
            "Bermuda",
            "Bhutan",
            "Bolivia",
            "Bosnia and Herzegovina",
            "Botswana",
            "Brazil",
            "Brunei",
            "Bulgaria",
            "Burkina Faso",
            "Burundi",
            "Cambodia",
            "Cameroon",
            "Canada",
            "Cape Verde",
            "Cayman Islands",
            "Central African Republic",
            "Chad",
            "Chile",
            "China",
            "Colombia",
            "Comoros",
            "Congo",
            "Costa Rica",
            "Cote d'Ivoire",
            "Croatia",
            "Cuba",
            "Curacao",
            "Cyprus",
            "Czechia",
            "Democratic Republic of Congo",
            "Denmark",
            "Djibouti",
            "Dominica",
            "Dominican Republic",
            "East Asia and Pacific",
            "Ecuador",
            "Egypt",
            "El Salvador",
            "Equatorial Guinea",
            "Estonia",
            "Eswatini",
            "Ethiopia",
            "Europe and Central Asia",
            "European Union",
            "Fiji",
            "Finland",
            "France",
            "Gabon",
            "Gambia",
            "Georgia",
            "Germany",
            "Ghana",
            "Greece",
            "Greenland",
            "Grenada",
            "Guam",
            "Guatemala",
            "Guinea",
            "Guinea-Bissau",
            "Guyana",
            "Haiti",
            "High income",
            "Honduras",
            "Hong Kong",
            "Hungary",
            "Iceland",
            "India",
            "Indonesia",
            "Iran",
            "Iraq",
            "Ireland",
            "Isle of Man",
            "Israel",
            "Italy",
            "Jamaica",
            "Japan",
            "Jordan",
            "Kazakhstan",
            "Kenya",
            "Kiribati",
            "Kosovo",
            "Kuwait",
            "Kyrgyzstan",
            "Laos",
            "Latin America and Caribbean",
            "Latvia",
            "Lebanon",
            "Lesotho",
            "Liberia",
            "Libya",
            "Lithuania",
            "Low and middle income",
            "Low income",
            "Lower middle income",
            "Luxembourg",
            "Macao",
            "Madagascar",
            "Malawi",
            "Malaysia",
            "Maldives",
            "Mali",
            "Malta",
            "Marshall Islands",
            "Mauritania",
            "Mauritius",
            "Mexico",
            "Micronesia (country)",
            "Middle East and North Africa",
            "Middle income",
            "Moldova",
            "Monaco",
            "Mongolia",
            "Montenegro",
            "Morocco",
            "Mozambique",
            "Myanmar",
            "Namibia",
            "Nauru",
            "Nepal",
            "Netherlands",
            "New Zealand",
            "Nicaragua",
            "Niger",
            "Nigeria",
            "North America",
            "North Macedonia",
            "Northern Mariana Islands",
            "Norway",
            "Oman",
            "Pakistan",
            "Palau",
            "Palestine",
            "Panama",
            "Papua New Guinea",
            "Paraguay",
            "Peru",
            "Philippines",
            "Poland",
            "Portugal",
            "Puerto Rico",
            "Qatar",
            "Romania",
            "Russia",
            "Rwanda",
            "Saint Kitts and Nevis",
            "Saint Lucia",
            "Saint Vincent and the Grenadines",
            "Samoa",
            "San Marino",
            "Sao Tome and Principe",
            "Saudi Arabia",
            "Senegal",
            "Serbia",
            "Seychelles",
            "Sierra Leone",
            "Singapore",
            "Slovakia",
            "Slovenia",
            "Solomon Islands",
            "Somalia",
            "South Africa",
            "South Asia",
            "South Korea",
            "Spain",
            "Sri Lanka",
            "Sub-Saharan Africa",
            "Suriname",
            "Sweden",
            "Switzerland",
            "Syria",
            "Tanzania",
            "Thailand",
            "Timor",
            "Togo",
            "Tonga",
            "Trinidad and Tobago",
            "Tunisia",
            "Turkey",
            "Turkmenistan",
            "Turks and Caicos Islands",
            "Tuvalu",
            "Uganda",
            "Ukraine",
            "United Arab Emirates",
            "United Kingdom",
            "United States",
            "United States Virgin Islands",
            "Upper middle income",
            "Uruguay",
            "Uzbekistan",
            "Vanuatu",
            "Vietnam",
            "World",
            "Zambia",
            "Zimbabwe"
           ],
           "name": "",
           "type": "choropleth",
           "z": [
            555.1389770507812,
            4544.51513671875,
            4115.3955078125,
            11368.5693359375,
            39003.3828125,
            3458.650390625,
            16786.447265625,
            12712.970703125,
            4350.46630859375,
            58781.046875,
            46669.75,
            5348.26513671875,
            32136.76171875,
            21317.333984375,
            1603.95361328125,
            16800.2109375,
            6264.86083984375,
            43071.10546875,
            4701.04345703125,
            1201.5614013671875,
            107196.8125,
            3238.060546875,
            3317.370849609375,
            5578.26611328125,
            7027.04541015625,
            8638.283203125,
            30646.109375,
            8234.78125,
            738.2188720703125,
            278.3193664550781,
            1441.17919921875,
            1449.277587890625,
            45109.24609375,
            3482.448486328125,
            83536.296875,
            418.3155517578125,
            660.0699462890625,
            13866.9560546875,
            10155.41796875,
            6390.3681640625,
            1284.2864990234375,
            1792.30712890625,
            12735.0927734375,
            2327.745361328125,
            14068.044921875,
            8031.03564453125,
            18407.48046875,
            28211.064453125,
            20202.15234375,
            512.5863037109375,
            57553.1328125,
            3278.52734375,
            7914.1357421875,
            8314.3447265625,
            11188.98828125,
            5853.81298828125,
            3964.987060546875,
            3993.529052734375,
            7373.59521484375,
            20408.435546875,
            3833.246826171875,
            799.7951049804688,
            24294.5234375,
            33028.28125,
            5869.02099609375,
            46135.078125,
            38912.33203125,
            7116.0810546875,
            714.0818481445312,
            4773.42333984375,
            43329.05078125,
            2053.586669921875,
            19003.828125,
            48209.34765625,
            10133.1318359375,
            35666.31640625,
            4254.03515625,
            945.7693481445312,
            650.0693969726562,
            6478.28759765625,
            1373.883056640625,
            43097.49609375,
            2482.1201171875,
            44189.69140625,
            15041.0986328125,
            57818.859375,
            1972.7578125,
            3877.383056640625,
            4785.02783203125,
            5154.27685546875,
            75143.015625,
            96105.3046875,
            38995.23046875,
            32090.994140625,
            5065.375,
            36362.35546875,
            4133.5498046875,
            11402.759765625,
            1600.12841796875,
            1664.511474609375,
            4219.08056640625,
            27156.474609375,
            1226.824462890625,
            2579.253662109375,
            8657.4794921875,
            16056.03515625,
            6823.10400390625,
            1096.2169189453125,
            650.4133911132812,
            5971.849609375,
            17241.255859375,
            4987.453125,
            735.667236328125,
            2373.075927734375,
            108570.03125,
            79747.4609375,
            488.9395446777344,
            401.3926696777344,
            11414.5791015625,
            10197.0927734375,
            815.3790893554688,
            27489.421875,
            3612.602294921875,
            1620.9949951171875,
            10643.771484375,
            9820.4482421875,
            2921.145751953125,
            7397.40234375,
            5462.78955078125,
            3435.4775390625,
            181709.34375,
            4394.98828125,
            7680.7412109375,
            3044.90625,
            598.8132934570312,
            1548.4566650390625,
            4506.173828125,
            8325.9013671875,
            1069.7890625,
            48443.73046875,
            40315.47265625,
            1984.8167724609373,
            523.8842163085938,
            2502.65234375,
            59229.0703125,
            5386.2001953125,
            18141.8828125,
            76005.2265625,
            16694.1328125,
            1489.653564453125,
            14754.603515625,
            3378.4345703125,
            15073.0009765625,
            2816.71875,
            5774.166015625,
            6611.49267578125,
            3664.790771484375,
            15016.6728515625,
            21617.412109375,
            30191.931640625,
            59098.52734375,
            11221.7080078125,
            9942.3740234375,
            885.599609375,
            21516.798828125,
            10914.5029296875,
            7219.89208984375,
            4502.92626953125,
            44709.45703125,
            1672.8961181640625,
            19801.875,
            1381.601806640625,
            6567.90966796875,
            15913.9501953125,
            649.7603149414062,
            61173.90625,
            18167.484375,
            24071.283203125,
            2289.5869140625,
            446.8542175292969,
            6125.7353515625,
            1869.217529296875,
            31640.21484375,
            28101.52734375,
            4225.1064453125,
            1657.3740234375,
            9035.197265625,
            53490.3515625,
            88413.1953125,
            952.8848876953124,
            1071.35009765625,
            6617.54296875,
            1466.8148193359375,
            630.79052734375,
            4652.58837890625,
            16192.3232421875,
            4206.9541015625,
            11955.43359375,
            7692.57861328125,
            28693.0625,
            3674.35400390625,
            894.5203857421875,
            2425.634521484375,
            40438.33984375,
            47750.87890625,
            60836.76953125,
            35961.58203125,
            9505.7666015625,
            16036.296875,
            3161.415283203125,
            2900.488037109375,
            2604.22412109375,
            11012.9228515625,
            1348.7384033203125,
            1414.8291015625
           ]
          }
         ],
         "name": "2019"
        },
        {
         "data": [
          {
           "coloraxis": "coloraxis",
           "geo": "geo",
           "hovertemplate": "Year=2020<br>Entity=%{location}<br>GDP per capita (constant 2015 US$)=%{z}<extra></extra>",
           "locationmode": "country names",
           "locations": [
            "Afghanistan",
            "Albania",
            "Algeria",
            "American Samoa",
            "Andorra",
            "Angola",
            "Antigua and Barbuda",
            "Argentina",
            "Armenia",
            "Australia",
            "Austria",
            "Azerbaijan",
            "Bahamas",
            "Bahrain",
            "Bangladesh",
            "Barbados",
            "Belarus",
            "Belgium",
            "Belize",
            "Benin",
            "Bermuda",
            "Bhutan",
            "Bolivia",
            "Bosnia and Herzegovina",
            "Botswana",
            "Brazil",
            "Brunei",
            "Bulgaria",
            "Burkina Faso",
            "Burundi",
            "Cambodia",
            "Cameroon",
            "Canada",
            "Cape Verde",
            "Cayman Islands",
            "Central African Republic",
            "Chad",
            "Chile",
            "China",
            "Colombia",
            "Comoros",
            "Congo",
            "Costa Rica",
            "Cote d'Ivoire",
            "Croatia",
            "Cuba",
            "Curacao",
            "Cyprus",
            "Czechia",
            "Democratic Republic of Congo",
            "Denmark",
            "Djibouti",
            "Dominica",
            "Dominican Republic",
            "East Asia and Pacific",
            "Ecuador",
            "Egypt",
            "El Salvador",
            "Equatorial Guinea",
            "Estonia",
            "Eswatini",
            "Ethiopia",
            "Europe and Central Asia",
            "European Union",
            "Fiji",
            "Finland",
            "France",
            "Gabon",
            "Gambia",
            "Georgia",
            "Germany",
            "Ghana",
            "Greece",
            "Grenada",
            "Guam",
            "Guatemala",
            "Guinea",
            "Guinea-Bissau",
            "Guyana",
            "Haiti",
            "High income",
            "Honduras",
            "Hong Kong",
            "Hungary",
            "Iceland",
            "India",
            "Indonesia",
            "Iran",
            "Iraq",
            "Ireland",
            "Israel",
            "Italy",
            "Jamaica",
            "Japan",
            "Jordan",
            "Kazakhstan",
            "Kenya",
            "Kiribati",
            "Kosovo",
            "Kuwait",
            "Kyrgyzstan",
            "Laos",
            "Latin America and Caribbean",
            "Latvia",
            "Lebanon",
            "Lesotho",
            "Liberia",
            "Libya",
            "Lithuania",
            "Low income",
            "Lower middle income",
            "Luxembourg",
            "Macao",
            "Madagascar",
            "Malawi",
            "Malaysia",
            "Maldives",
            "Mali",
            "Malta",
            "Marshall Islands",
            "Mauritania",
            "Mauritius",
            "Mexico",
            "Micronesia (country)",
            "Middle East and North Africa",
            "Middle income",
            "Moldova",
            "Monaco",
            "Mongolia",
            "Montenegro",
            "Morocco",
            "Mozambique",
            "Myanmar",
            "Namibia",
            "Nauru",
            "Nepal",
            "Netherlands",
            "New Zealand",
            "Nicaragua",
            "Niger",
            "Nigeria",
            "North America",
            "North Macedonia",
            "Norway",
            "Oman",
            "Pakistan",
            "Palau",
            "Palestine",
            "Panama",
            "Papua New Guinea",
            "Paraguay",
            "Peru",
            "Philippines",
            "Poland",
            "Portugal",
            "Puerto Rico",
            "Qatar",
            "Romania",
            "Russia",
            "Rwanda",
            "Saint Kitts and Nevis",
            "Saint Lucia",
            "Saint Vincent and the Grenadines",
            "Samoa",
            "Sao Tome and Principe",
            "Saudi Arabia",
            "Senegal",
            "Serbia",
            "Seychelles",
            "Sierra Leone",
            "Singapore",
            "Slovakia",
            "Slovenia",
            "Solomon Islands",
            "Somalia",
            "South Africa",
            "South Asia",
            "South Korea",
            "Spain",
            "Sri Lanka",
            "Sub-Saharan Africa",
            "Sudan",
            "Suriname",
            "Sweden",
            "Switzerland",
            "Tajikistan",
            "Tanzania",
            "Thailand",
            "Timor",
            "Togo",
            "Tonga",
            "Trinidad and Tobago",
            "Tunisia",
            "Turkey",
            "Turks and Caicos Islands",
            "Tuvalu",
            "Uganda",
            "Ukraine",
            "United Arab Emirates",
            "United Kingdom",
            "United States",
            "Upper middle income",
            "Uruguay",
            "Uzbekistan",
            "Vanuatu",
            "Vietnam",
            "World",
            "Zambia",
            "Zimbabwe"
           ],
           "name": "",
           "type": "choropleth",
           "z": [
            529.7412109375,
            4389.89599609375,
            3834.43896484375,
            11839.0107421875,
            34288.5390625,
            3168.25390625,
            13285.64453125,
            11344.4052734375,
            4021.046142578125,
            58029.515625,
            43346.43359375,
            5083.3818359375,
            27209.46484375,
            19514.875,
            1643.67333984375,
            13595.0341796875,
            6234.82421875,
            40438.921875,
            3968.491943359375,
            1214.6595458984375,
            100411.875,
            2879.638671875,
            2983.027099609375,
            5433.1513671875,
            6299.20849609375,
            8228.7802734375,
            30696.876953125,
            7920.9111328125,
            731.5220947265625,
            270.6914367675781,
            1376.4119873046875,
            1419.6767578125,
            42258.69140625,
            2935.321044921875,
            76998.8203125,
            414.3966064453125,
            634.7517700195312,
            12954.4052734375,
            10370.359375,
            5892.4814453125,
            1255.0439453125,
            1608.779296875,
            12105.9287109375,
            2313.79345703125,
            12984.6962890625,
            7156.10693359375,
            15262.271484375,
            26372.654296875,
            18984.63671875,
            505.3483276367188,
            56202.1640625,
            3246.746826171875,
            6583.2236328125,
            7677.71044921875,
            11125.99609375,
            5317.67724609375,
            4028.4208984375,
            3632.453857421875,
            6777.8359375,
            19767.078125,
            3723.296142578125,
            826.9503173828125,
            22880.724609375,
            31041.638671875,
            4911.08349609375,
            44778.8671875,
            35785.96875,
            6818.4970703125,
            692.20751953125,
            4447.6640625,
            41315.3125,
            2018.6240234375,
            17323.822265625,
            8703.9326171875,
            31162.67578125,
            4126.20556640625,
            984.0083618164062,
            619.2891845703125,
            9250.3017578125,
            1311.7081298828125,
            40961.3125,
            2223.446044921875,
            41644.31640625,
            14368.693359375,
            53188.0390625,
            1811.6842041015625,
            3756.9072265625,
            4883.60107421875,
            4247.814453125,
            78732.5546875,
            37488.453125,
            29359.92578125,
            4539.001953125,
            34813.21484375,
            4028.962890625,
            10974.9638671875,
            1559.551513671875,
            1606.97998046875,
            3990.97021484375,
            24429.220703125,
            1100.0379638671875,
            2554.425537109375,
            8002.03564453125,
            15583.9306640625,
            5382.3369140625,
            982.9703979492188,
            616.002685546875,
            4046.635009765625,
            17213.814453125,
            721.0099487304688,
            2260.894287109375,
            104879.2578125,
            36172.29296875,
            442.1929626464844,
            394.003173828125,
            10631.5078125,
            6660.83349609375,
            781.7314453125,
            25005.763671875,
            3508.798095703125,
            1549.957275390625,
            9058.20703125,
            8909.677734375,
            2839.38818359375,
            6982.65576171875,
            5335.05810546875,
            3250.3056640625,
            159221.609375,
            4126.69921875,
            6512.61767578125,
            2818.771728515625,
            574.5951538085938,
            1586.90234375,
            4047.862060546875,
            8367.1884765625,
            1028.4632568359375,
            46345.34765625,
            40218.390625,
            1922.3538818359373,
            522.5556030273438,
            2396.036376953125,
            56569.74609375,
            5115.91845703125,
            75017.15625,
            15743.224609375,
            1446.81201171875,
            13250.8994140625,
            2917.8876953125,
            12172.310546875,
            2666.211181640625,
            5670.751953125,
            5792.18798828125,
            3269.670654296875,
            14660.7939453125,
            19771.578125,
            28236.783203125,
            56026.88671875,
            10844.53515625,
            9666.814453125,
            834.3895874023438,
            18294.41796875,
            8651.349609375,
            6962.75390625,
            4357.06884765625,
            1692.21875,
            18691.248046875,
            1364.8382568359375,
            6549.35009765625,
            14079.1611328125,
            623.8890991210938,
            58056.8046875,
            17360.7109375,
            22899.361328125,
            2136.337646484375,
            444.7884216308594,
            5659.20703125,
            1742.5228271484375,
            31327.41015625,
            24939.1875,
            4052.746826171875,
            1582.441650390625,
            1127.724365234375,
            7529.6142578125,
            51539.55859375,
            85685.2890625,
            1199.0599365234375,
            1061.1702880859375,
            6198.4140625,
            1587.857177734375,
            626.6220703125,
            4629.88134765625,
            14872.376953125,
            3780.60302734375,
            12038.6279296875,
            20723.916015625,
            3791.45849609375,
            891.2958984375,
            2344.363037109375,
            37497.59375,
            43020.203125,
            58203.37890625,
            9394.3212890625,
            15044.6396484375,
            3154.408203125,
            2638.892333984375,
            2655.767822265625,
            10540.3623046875,
            1273.8795166015625,
            1307.013671875
           ]
          }
         ],
         "name": "2020"
        }
       ],
       "layout": {
        "coloraxis": {
         "cmax": 14758.864,
         "cmin": 0,
         "colorbar": {
          "title": {
           "text": "GDP per capita (constant 2015 US$)"
          }
         },
         "colorscale": [
          [
           0,
           "rgb(166,206,227)"
          ],
          [
           0.25,
           "rgb(31,120,180)"
          ],
          [
           0.45,
           "rgb(178,223,138)"
          ],
          [
           0.65,
           "rgb(51,160,44)"
          ],
          [
           0.85,
           "rgb(251,154,153)"
          ],
          [
           1,
           "rgb(227,26,28)"
          ]
         ]
        },
        "geo": {
         "center": {},
         "domain": {
          "x": [
           0,
           1
          ],
          "y": [
           0,
           1
          ]
         },
         "projection": {
          "scale": 3
         }
        },
        "height": 650,
        "legend": {
         "tracegroupgap": 0
        },
        "margin": {
         "t": 60
        },
        "sliders": [
         {
          "active": 0,
          "currentvalue": {
           "prefix": "Year="
          },
          "len": 0.9,
          "pad": {
           "b": 10,
           "t": 60
          },
          "steps": [
           {
            "args": [
             [
              "2002"
             ],
             {
              "frame": {
               "duration": 0,
               "redraw": true
              },
              "fromcurrent": true,
              "mode": "immediate",
              "transition": {
               "duration": 0,
               "easing": "linear"
              }
             }
            ],
            "label": "2002",
            "method": "animate"
           },
           {
            "args": [
             [
              "2003"
             ],
             {
              "frame": {
               "duration": 0,
               "redraw": true
              },
              "fromcurrent": true,
              "mode": "immediate",
              "transition": {
               "duration": 0,
               "easing": "linear"
              }
             }
            ],
            "label": "2003",
            "method": "animate"
           },
           {
            "args": [
             [
              "2004"
             ],
             {
              "frame": {
               "duration": 0,
               "redraw": true
              },
              "fromcurrent": true,
              "mode": "immediate",
              "transition": {
               "duration": 0,
               "easing": "linear"
              }
             }
            ],
            "label": "2004",
            "method": "animate"
           },
           {
            "args": [
             [
              "2005"
             ],
             {
              "frame": {
               "duration": 0,
               "redraw": true
              },
              "fromcurrent": true,
              "mode": "immediate",
              "transition": {
               "duration": 0,
               "easing": "linear"
              }
             }
            ],
            "label": "2005",
            "method": "animate"
           },
           {
            "args": [
             [
              "2006"
             ],
             {
              "frame": {
               "duration": 0,
               "redraw": true
              },
              "fromcurrent": true,
              "mode": "immediate",
              "transition": {
               "duration": 0,
               "easing": "linear"
              }
             }
            ],
            "label": "2006",
            "method": "animate"
           },
           {
            "args": [
             [
              "2007"
             ],
             {
              "frame": {
               "duration": 0,
               "redraw": true
              },
              "fromcurrent": true,
              "mode": "immediate",
              "transition": {
               "duration": 0,
               "easing": "linear"
              }
             }
            ],
            "label": "2007",
            "method": "animate"
           },
           {
            "args": [
             [
              "2008"
             ],
             {
              "frame": {
               "duration": 0,
               "redraw": true
              },
              "fromcurrent": true,
              "mode": "immediate",
              "transition": {
               "duration": 0,
               "easing": "linear"
              }
             }
            ],
            "label": "2008",
            "method": "animate"
           },
           {
            "args": [
             [
              "2009"
             ],
             {
              "frame": {
               "duration": 0,
               "redraw": true
              },
              "fromcurrent": true,
              "mode": "immediate",
              "transition": {
               "duration": 0,
               "easing": "linear"
              }
             }
            ],
            "label": "2009",
            "method": "animate"
           },
           {
            "args": [
             [
              "2010"
             ],
             {
              "frame": {
               "duration": 0,
               "redraw": true
              },
              "fromcurrent": true,
              "mode": "immediate",
              "transition": {
               "duration": 0,
               "easing": "linear"
              }
             }
            ],
            "label": "2010",
            "method": "animate"
           },
           {
            "args": [
             [
              "2011"
             ],
             {
              "frame": {
               "duration": 0,
               "redraw": true
              },
              "fromcurrent": true,
              "mode": "immediate",
              "transition": {
               "duration": 0,
               "easing": "linear"
              }
             }
            ],
            "label": "2011",
            "method": "animate"
           },
           {
            "args": [
             [
              "2012"
             ],
             {
              "frame": {
               "duration": 0,
               "redraw": true
              },
              "fromcurrent": true,
              "mode": "immediate",
              "transition": {
               "duration": 0,
               "easing": "linear"
              }
             }
            ],
            "label": "2012",
            "method": "animate"
           },
           {
            "args": [
             [
              "2013"
             ],
             {
              "frame": {
               "duration": 0,
               "redraw": true
              },
              "fromcurrent": true,
              "mode": "immediate",
              "transition": {
               "duration": 0,
               "easing": "linear"
              }
             }
            ],
            "label": "2013",
            "method": "animate"
           },
           {
            "args": [
             [
              "2014"
             ],
             {
              "frame": {
               "duration": 0,
               "redraw": true
              },
              "fromcurrent": true,
              "mode": "immediate",
              "transition": {
               "duration": 0,
               "easing": "linear"
              }
             }
            ],
            "label": "2014",
            "method": "animate"
           },
           {
            "args": [
             [
              "2015"
             ],
             {
              "frame": {
               "duration": 0,
               "redraw": true
              },
              "fromcurrent": true,
              "mode": "immediate",
              "transition": {
               "duration": 0,
               "easing": "linear"
              }
             }
            ],
            "label": "2015",
            "method": "animate"
           },
           {
            "args": [
             [
              "2016"
             ],
             {
              "frame": {
               "duration": 0,
               "redraw": true
              },
              "fromcurrent": true,
              "mode": "immediate",
              "transition": {
               "duration": 0,
               "easing": "linear"
              }
             }
            ],
            "label": "2016",
            "method": "animate"
           },
           {
            "args": [
             [
              "2017"
             ],
             {
              "frame": {
               "duration": 0,
               "redraw": true
              },
              "fromcurrent": true,
              "mode": "immediate",
              "transition": {
               "duration": 0,
               "easing": "linear"
              }
             }
            ],
            "label": "2017",
            "method": "animate"
           },
           {
            "args": [
             [
              "2018"
             ],
             {
              "frame": {
               "duration": 0,
               "redraw": true
              },
              "fromcurrent": true,
              "mode": "immediate",
              "transition": {
               "duration": 0,
               "easing": "linear"
              }
             }
            ],
            "label": "2018",
            "method": "animate"
           },
           {
            "args": [
             [
              "2019"
             ],
             {
              "frame": {
               "duration": 0,
               "redraw": true
              },
              "fromcurrent": true,
              "mode": "immediate",
              "transition": {
               "duration": 0,
               "easing": "linear"
              }
             }
            ],
            "label": "2019",
            "method": "animate"
           },
           {
            "args": [
             [
              "2020"
             ],
             {
              "frame": {
               "duration": 0,
               "redraw": true
              },
              "fromcurrent": true,
              "mode": "immediate",
              "transition": {
               "duration": 0,
               "easing": "linear"
              }
             }
            ],
            "label": "2020",
            "method": "animate"
           }
          ],
          "x": 0.1,
          "xanchor": "left",
          "y": 0,
          "yanchor": "top"
         }
        ],
        "template": {
         "data": {
          "bar": [
           {
            "error_x": {
             "color": "#2a3f5f"
            },
            "error_y": {
             "color": "#2a3f5f"
            },
            "marker": {
             "line": {
              "color": "#E5ECF6",
              "width": 0.5
             },
             "pattern": {
              "fillmode": "overlay",
              "size": 10,
              "solidity": 0.2
             }
            },
            "type": "bar"
           }
          ],
          "barpolar": [
           {
            "marker": {
             "line": {
              "color": "#E5ECF6",
              "width": 0.5
             },
             "pattern": {
              "fillmode": "overlay",
              "size": 10,
              "solidity": 0.2
             }
            },
            "type": "barpolar"
           }
          ],
          "carpet": [
           {
            "aaxis": {
             "endlinecolor": "#2a3f5f",
             "gridcolor": "white",
             "linecolor": "white",
             "minorgridcolor": "white",
             "startlinecolor": "#2a3f5f"
            },
            "baxis": {
             "endlinecolor": "#2a3f5f",
             "gridcolor": "white",
             "linecolor": "white",
             "minorgridcolor": "white",
             "startlinecolor": "#2a3f5f"
            },
            "type": "carpet"
           }
          ],
          "choropleth": [
           {
            "colorbar": {
             "outlinewidth": 0,
             "ticks": ""
            },
            "type": "choropleth"
           }
          ],
          "contour": [
           {
            "colorbar": {
             "outlinewidth": 0,
             "ticks": ""
            },
            "colorscale": [
             [
              0,
              "#0d0887"
             ],
             [
              0.1111111111111111,
              "#46039f"
             ],
             [
              0.2222222222222222,
              "#7201a8"
             ],
             [
              0.3333333333333333,
              "#9c179e"
             ],
             [
              0.4444444444444444,
              "#bd3786"
             ],
             [
              0.5555555555555556,
              "#d8576b"
             ],
             [
              0.6666666666666666,
              "#ed7953"
             ],
             [
              0.7777777777777778,
              "#fb9f3a"
             ],
             [
              0.8888888888888888,
              "#fdca26"
             ],
             [
              1,
              "#f0f921"
             ]
            ],
            "type": "contour"
           }
          ],
          "contourcarpet": [
           {
            "colorbar": {
             "outlinewidth": 0,
             "ticks": ""
            },
            "type": "contourcarpet"
           }
          ],
          "heatmap": [
           {
            "colorbar": {
             "outlinewidth": 0,
             "ticks": ""
            },
            "colorscale": [
             [
              0,
              "#0d0887"
             ],
             [
              0.1111111111111111,
              "#46039f"
             ],
             [
              0.2222222222222222,
              "#7201a8"
             ],
             [
              0.3333333333333333,
              "#9c179e"
             ],
             [
              0.4444444444444444,
              "#bd3786"
             ],
             [
              0.5555555555555556,
              "#d8576b"
             ],
             [
              0.6666666666666666,
              "#ed7953"
             ],
             [
              0.7777777777777778,
              "#fb9f3a"
             ],
             [
              0.8888888888888888,
              "#fdca26"
             ],
             [
              1,
              "#f0f921"
             ]
            ],
            "type": "heatmap"
           }
          ],
          "heatmapgl": [
           {
            "colorbar": {
             "outlinewidth": 0,
             "ticks": ""
            },
            "colorscale": [
             [
              0,
              "#0d0887"
             ],
             [
              0.1111111111111111,
              "#46039f"
             ],
             [
              0.2222222222222222,
              "#7201a8"
             ],
             [
              0.3333333333333333,
              "#9c179e"
             ],
             [
              0.4444444444444444,
              "#bd3786"
             ],
             [
              0.5555555555555556,
              "#d8576b"
             ],
             [
              0.6666666666666666,
              "#ed7953"
             ],
             [
              0.7777777777777778,
              "#fb9f3a"
             ],
             [
              0.8888888888888888,
              "#fdca26"
             ],
             [
              1,
              "#f0f921"
             ]
            ],
            "type": "heatmapgl"
           }
          ],
          "histogram": [
           {
            "marker": {
             "pattern": {
              "fillmode": "overlay",
              "size": 10,
              "solidity": 0.2
             }
            },
            "type": "histogram"
           }
          ],
          "histogram2d": [
           {
            "colorbar": {
             "outlinewidth": 0,
             "ticks": ""
            },
            "colorscale": [
             [
              0,
              "#0d0887"
             ],
             [
              0.1111111111111111,
              "#46039f"
             ],
             [
              0.2222222222222222,
              "#7201a8"
             ],
             [
              0.3333333333333333,
              "#9c179e"
             ],
             [
              0.4444444444444444,
              "#bd3786"
             ],
             [
              0.5555555555555556,
              "#d8576b"
             ],
             [
              0.6666666666666666,
              "#ed7953"
             ],
             [
              0.7777777777777778,
              "#fb9f3a"
             ],
             [
              0.8888888888888888,
              "#fdca26"
             ],
             [
              1,
              "#f0f921"
             ]
            ],
            "type": "histogram2d"
           }
          ],
          "histogram2dcontour": [
           {
            "colorbar": {
             "outlinewidth": 0,
             "ticks": ""
            },
            "colorscale": [
             [
              0,
              "#0d0887"
             ],
             [
              0.1111111111111111,
              "#46039f"
             ],
             [
              0.2222222222222222,
              "#7201a8"
             ],
             [
              0.3333333333333333,
              "#9c179e"
             ],
             [
              0.4444444444444444,
              "#bd3786"
             ],
             [
              0.5555555555555556,
              "#d8576b"
             ],
             [
              0.6666666666666666,
              "#ed7953"
             ],
             [
              0.7777777777777778,
              "#fb9f3a"
             ],
             [
              0.8888888888888888,
              "#fdca26"
             ],
             [
              1,
              "#f0f921"
             ]
            ],
            "type": "histogram2dcontour"
           }
          ],
          "mesh3d": [
           {
            "colorbar": {
             "outlinewidth": 0,
             "ticks": ""
            },
            "type": "mesh3d"
           }
          ],
          "parcoords": [
           {
            "line": {
             "colorbar": {
              "outlinewidth": 0,
              "ticks": ""
             }
            },
            "type": "parcoords"
           }
          ],
          "pie": [
           {
            "automargin": true,
            "type": "pie"
           }
          ],
          "scatter": [
           {
            "fillpattern": {
             "fillmode": "overlay",
             "size": 10,
             "solidity": 0.2
            },
            "type": "scatter"
           }
          ],
          "scatter3d": [
           {
            "line": {
             "colorbar": {
              "outlinewidth": 0,
              "ticks": ""
             }
            },
            "marker": {
             "colorbar": {
              "outlinewidth": 0,
              "ticks": ""
             }
            },
            "type": "scatter3d"
           }
          ],
          "scattercarpet": [
           {
            "marker": {
             "colorbar": {
              "outlinewidth": 0,
              "ticks": ""
             }
            },
            "type": "scattercarpet"
           }
          ],
          "scattergeo": [
           {
            "marker": {
             "colorbar": {
              "outlinewidth": 0,
              "ticks": ""
             }
            },
            "type": "scattergeo"
           }
          ],
          "scattergl": [
           {
            "marker": {
             "colorbar": {
              "outlinewidth": 0,
              "ticks": ""
             }
            },
            "type": "scattergl"
           }
          ],
          "scattermapbox": [
           {
            "marker": {
             "colorbar": {
              "outlinewidth": 0,
              "ticks": ""
             }
            },
            "type": "scattermapbox"
           }
          ],
          "scatterpolar": [
           {
            "marker": {
             "colorbar": {
              "outlinewidth": 0,
              "ticks": ""
             }
            },
            "type": "scatterpolar"
           }
          ],
          "scatterpolargl": [
           {
            "marker": {
             "colorbar": {
              "outlinewidth": 0,
              "ticks": ""
             }
            },
            "type": "scatterpolargl"
           }
          ],
          "scatterternary": [
           {
            "marker": {
             "colorbar": {
              "outlinewidth": 0,
              "ticks": ""
             }
            },
            "type": "scatterternary"
           }
          ],
          "surface": [
           {
            "colorbar": {
             "outlinewidth": 0,
             "ticks": ""
            },
            "colorscale": [
             [
              0,
              "#0d0887"
             ],
             [
              0.1111111111111111,
              "#46039f"
             ],
             [
              0.2222222222222222,
              "#7201a8"
             ],
             [
              0.3333333333333333,
              "#9c179e"
             ],
             [
              0.4444444444444444,
              "#bd3786"
             ],
             [
              0.5555555555555556,
              "#d8576b"
             ],
             [
              0.6666666666666666,
              "#ed7953"
             ],
             [
              0.7777777777777778,
              "#fb9f3a"
             ],
             [
              0.8888888888888888,
              "#fdca26"
             ],
             [
              1,
              "#f0f921"
             ]
            ],
            "type": "surface"
           }
          ],
          "table": [
           {
            "cells": {
             "fill": {
              "color": "#EBF0F8"
             },
             "line": {
              "color": "white"
             }
            },
            "header": {
             "fill": {
              "color": "#C8D4E3"
             },
             "line": {
              "color": "white"
             }
            },
            "type": "table"
           }
          ]
         },
         "layout": {
          "annotationdefaults": {
           "arrowcolor": "#2a3f5f",
           "arrowhead": 0,
           "arrowwidth": 1
          },
          "autotypenumbers": "strict",
          "coloraxis": {
           "colorbar": {
            "outlinewidth": 0,
            "ticks": ""
           }
          },
          "colorscale": {
           "diverging": [
            [
             0,
             "#8e0152"
            ],
            [
             0.1,
             "#c51b7d"
            ],
            [
             0.2,
             "#de77ae"
            ],
            [
             0.3,
             "#f1b6da"
            ],
            [
             0.4,
             "#fde0ef"
            ],
            [
             0.5,
             "#f7f7f7"
            ],
            [
             0.6,
             "#e6f5d0"
            ],
            [
             0.7,
             "#b8e186"
            ],
            [
             0.8,
             "#7fbc41"
            ],
            [
             0.9,
             "#4d9221"
            ],
            [
             1,
             "#276419"
            ]
           ],
           "sequential": [
            [
             0,
             "#0d0887"
            ],
            [
             0.1111111111111111,
             "#46039f"
            ],
            [
             0.2222222222222222,
             "#7201a8"
            ],
            [
             0.3333333333333333,
             "#9c179e"
            ],
            [
             0.4444444444444444,
             "#bd3786"
            ],
            [
             0.5555555555555556,
             "#d8576b"
            ],
            [
             0.6666666666666666,
             "#ed7953"
            ],
            [
             0.7777777777777778,
             "#fb9f3a"
            ],
            [
             0.8888888888888888,
             "#fdca26"
            ],
            [
             1,
             "#f0f921"
            ]
           ],
           "sequentialminus": [
            [
             0,
             "#0d0887"
            ],
            [
             0.1111111111111111,
             "#46039f"
            ],
            [
             0.2222222222222222,
             "#7201a8"
            ],
            [
             0.3333333333333333,
             "#9c179e"
            ],
            [
             0.4444444444444444,
             "#bd3786"
            ],
            [
             0.5555555555555556,
             "#d8576b"
            ],
            [
             0.6666666666666666,
             "#ed7953"
            ],
            [
             0.7777777777777778,
             "#fb9f3a"
            ],
            [
             0.8888888888888888,
             "#fdca26"
            ],
            [
             1,
             "#f0f921"
            ]
           ]
          },
          "colorway": [
           "#636efa",
           "#EF553B",
           "#00cc96",
           "#ab63fa",
           "#FFA15A",
           "#19d3f3",
           "#FF6692",
           "#B6E880",
           "#FF97FF",
           "#FECB52"
          ],
          "font": {
           "color": "#2a3f5f"
          },
          "geo": {
           "bgcolor": "white",
           "lakecolor": "white",
           "landcolor": "#E5ECF6",
           "showlakes": true,
           "showland": true,
           "subunitcolor": "white"
          },
          "hoverlabel": {
           "align": "left"
          },
          "hovermode": "closest",
          "mapbox": {
           "style": "light"
          },
          "paper_bgcolor": "white",
          "plot_bgcolor": "#E5ECF6",
          "polar": {
           "angularaxis": {
            "gridcolor": "white",
            "linecolor": "white",
            "ticks": ""
           },
           "bgcolor": "#E5ECF6",
           "radialaxis": {
            "gridcolor": "white",
            "linecolor": "white",
            "ticks": ""
           }
          },
          "scene": {
           "xaxis": {
            "backgroundcolor": "#E5ECF6",
            "gridcolor": "white",
            "gridwidth": 2,
            "linecolor": "white",
            "showbackground": true,
            "ticks": "",
            "zerolinecolor": "white"
           },
           "yaxis": {
            "backgroundcolor": "#E5ECF6",
            "gridcolor": "white",
            "gridwidth": 2,
            "linecolor": "white",
            "showbackground": true,
            "ticks": "",
            "zerolinecolor": "white"
           },
           "zaxis": {
            "backgroundcolor": "#E5ECF6",
            "gridcolor": "white",
            "gridwidth": 2,
            "linecolor": "white",
            "showbackground": true,
            "ticks": "",
            "zerolinecolor": "white"
           }
          },
          "shapedefaults": {
           "line": {
            "color": "#2a3f5f"
           }
          },
          "ternary": {
           "aaxis": {
            "gridcolor": "white",
            "linecolor": "white",
            "ticks": ""
           },
           "baxis": {
            "gridcolor": "white",
            "linecolor": "white",
            "ticks": ""
           },
           "bgcolor": "#E5ECF6",
           "caxis": {
            "gridcolor": "white",
            "linecolor": "white",
            "ticks": ""
           }
          },
          "title": {
           "x": 0.05
          },
          "xaxis": {
           "automargin": true,
           "gridcolor": "white",
           "linecolor": "white",
           "ticks": "",
           "title": {
            "standoff": 15
           },
           "zerolinecolor": "white",
           "zerolinewidth": 2
          },
          "yaxis": {
           "automargin": true,
           "gridcolor": "white",
           "linecolor": "white",
           "ticks": "",
           "title": {
            "standoff": 15
           },
           "zerolinecolor": "white",
           "zerolinewidth": 2
          }
         }
        },
        "updatemenus": [
         {
          "buttons": [
           {
            "args": [
             null,
             {
              "frame": {
               "duration": 500,
               "redraw": true
              },
              "fromcurrent": true,
              "mode": "immediate",
              "transition": {
               "duration": 500,
               "easing": "linear"
              }
             }
            ],
            "label": "&#9654;",
            "method": "animate"
           },
           {
            "args": [
             [
              null
             ],
             {
              "frame": {
               "duration": 0,
               "redraw": true
              },
              "fromcurrent": true,
              "mode": "immediate",
              "transition": {
               "duration": 0,
               "easing": "linear"
              }
             }
            ],
            "label": "&#9724;",
            "method": "animate"
           }
          ],
          "direction": "left",
          "pad": {
           "r": 10,
           "t": 70
          },
          "showactive": false,
          "type": "buttons",
          "x": 0.1,
          "xanchor": "right",
          "y": 0,
          "yanchor": "top"
         }
        ],
        "width": 1200
       }
      }
     },
     "metadata": {},
     "output_type": "display_data"
    }
   ],
   "source": [
    "df_new_gdp_filtered = df_new_gdp.query('Year >= 2002 and Year <= 2020')\n",
    "fig = px.choropleth(df_new_gdp_filtered, \n",
    "                    locations='Entity',             # Spatial coordinates\n",
    "                    locationmode='country names',   # set of locations match entries in `locations`\n",
    "                    color='GDP per capita (constant 2015 US$)', \n",
    "                    animation_frame='Year',\n",
    "                    color_continuous_scale=[[0, \"rgb(166,206,227)\"],\n",
    "                [0.25, \"rgb(31,120,180)\"],\n",
    "                [0.45, \"rgb(178,223,138)\"],\n",
    "                [0.65, \"rgb(51,160,44)\"],\n",
    "                [0.85, \"rgb(251,154,153)\"],\n",
    "                [1, \"rgb(227,26,28)\"]],\n",
    "                    range_color=(0, 14758.864),\n",
    "                    title='')\n",
    "\n",
    "fig.update_layout(\n",
    "    geo=dict(\n",
    "        projection_scale=3                          # determines the size of the geographical projection\n",
    "    ),\n",
    "    width=1200,\n",
    "    height=650\n",
    ")\n",
    "\n",
    "fig.show()"
   ]
  },
  {
   "attachments": {},
   "cell_type": "markdown",
   "metadata": {},
   "source": [
    "\"I will merge the 'new_ratio' file with the 'new_gdp' file, and it will be easier to examine certain countries using a scatter plot."
   ]
  },
  {
   "cell_type": "code",
   "execution_count": 35,
   "metadata": {},
   "outputs": [
    {
     "name": "stdout",
     "output_type": "stream",
     "text": [
      "<class 'pandas.core.frame.DataFrame'>\n",
      "Int64Index: 2708 entries, 0 to 2707\n",
      "Data columns (total 5 columns):\n",
      " #   Column                              Non-Null Count  Dtype  \n",
      "---  ------                              --------------  -----  \n",
      " 0   Entity                              2708 non-null   object \n",
      " 1   Year                                2708 non-null   int64  \n",
      " 2   a_b_ratio                           2708 non-null   float64\n",
      " 3   Code                                2708 non-null   object \n",
      " 4   GDP per capita (constant 2015 US$)  2708 non-null   float64\n",
      "dtypes: float64(2), int64(1), object(2)\n",
      "memory usage: 126.9+ KB\n"
     ]
    }
   ],
   "source": [
    "merged_df_2.info()"
   ]
  },
  {
   "cell_type": "code",
   "execution_count": 37,
   "metadata": {},
   "outputs": [
    {
     "data": {
      "text/plain": [
       "<AxesSubplot: >"
      ]
     },
     "execution_count": 37,
     "metadata": {},
     "output_type": "execute_result"
    },
    {
     "data": {
      "image/png": "[encoded data removed]",
      "text/plain": [
       "<Figure size 640x480 with 2 Axes>"
      ]
     },
     "metadata": {},
     "output_type": "display_data"
    }
   ],
   "source": [
    "X=merged_df_2[['a_b_ratio','GDP per capita (constant 2015 US$)']]\n",
    "sns.heatmap(X.corr())"
   ]
  },
  {
   "attachments": {},
   "cell_type": "markdown",
   "metadata": {},
   "source": [
    "Negative Correlation : a relationship between two variables such that as the value of one variable increases, the other decreases."
   ]
  },
  {
   "cell_type": "code",
   "execution_count": 64,
   "metadata": {},
   "outputs": [
    {
     "data": {
      "application/vnd.plotly.v1+json": {
       "config": {
        "plotlyServerURL": "https://plot.ly"
       },
       "data": [
        {
         "customdata": [
          [
           2002
          ],
          [
           2003
          ],
          [
           2004
          ],
          [
           2005
          ],
          [
           2006
          ],
          [
           2007
          ],
          [
           2008
          ],
          [
           2009
          ],
          [
           2010
          ],
          [
           2011
          ],
          [
           2012
          ],
          [
           2013
          ],
          [
           2014
          ],
          [
           2015
          ],
          [
           2016
          ],
          [
           2017
          ],
          [
           2018
          ],
          [
           2019
          ],
          [
           2020
          ]
         ],
         "hovertemplate": "Entity=Afghanistan<br>GDP per capita (constant 2015 US$)=%{x}<br>a_b_ratio=%{y}<br>Year=%{customdata[0]}<extra></extra>",
         "legendgroup": "Afghanistan",
         "marker": {
          "color": "#636efa",
          "symbol": "circle"
         },
         "mode": "markers",
         "name": "Afghanistan",
         "showlegend": true,
         "type": "scattergl",
         "x": [
          319.8471069335937,
          332.2200012207031,
          322.6679992675781,
          345.9258117675781,
          353.7206115722656,
          392.7104797363281,
          398.97113037109375,
          472.84228515625,
          526.1036987304688,
          511.9985046386719,
          557.94970703125,
          568.9645385742188,
          565.1792602539062,
          556.0072021484375,
          552.9968872070312,
          553.3550415039062,
          546.7429809570312,
          555.1389770507812,
          529.7412109375
         ],
         "xaxis": "x",
         "y": [
          0.629516075469168,
          1.1397591076511973,
          1.7785001787840595,
          4.293112062186547,
          2.488705513897644,
          1.9063203747042945,
          3.689758477665666,
          3.037394866079661,
          3.819838698371517,
          5.534518671239608,
          4.290944764088958,
          4.634887887645169,
          2.91995889255401,
          2.287466484957116,
          3.9949518729126616,
          2.676510839868901,
          3.813361911105437,
          3.87746767920864,
          3.5997421343748406
         ],
         "yaxis": "y"
        },
        {
         "customdata": [
          [
           2000
          ],
          [
           2001
          ],
          [
           2002
          ],
          [
           2003
          ],
          [
           2004
          ],
          [
           2005
          ],
          [
           2006
          ],
          [
           2007
          ],
          [
           2008
          ],
          [
           2009
          ],
          [
           2010
          ],
          [
           2011
          ],
          [
           2012
          ],
          [
           2013
          ],
          [
           2014
          ],
          [
           2015
          ],
          [
           2016
          ],
          [
           2017
          ],
          [
           2018
          ],
          [
           2019
          ],
          [
           2020
          ]
         ],
         "hovertemplate": "Entity=Algeria<br>GDP per capita (constant 2015 US$)=%{x}<br>a_b_ratio=%{y}<br>Year=%{customdata[0]}<extra></extra>",
         "legendgroup": "Algeria",
         "marker": {
          "color": "#EF553B",
          "symbol": "circle"
         },
         "mode": "markers",
         "name": "Algeria",
         "showlegend": true,
         "type": "scattergl",
         "x": [
          3111.17626953125,
          3162.8115234375,
          3297.61279296875,
          3490.22314453125,
          3592.645263671875,
          3752.09619140625,
          3760.1552734375,
          3828.1484375,
          3856.40771484375,
          3851.2138671875,
          3918.486328125,
          3956.895751953125,
          4012.361572265625,
          4042.923583984375,
          4112.076171875,
          4177.8896484375,
          4224.037109375,
          4192.337890625,
          4154.21923828125,
          4115.3955078125,
          3834.43896484375
         ],
         "xaxis": "x",
         "y": [
          0.018196810463062,
          0.6759402203468967,
          0.047115071447318,
          0.1141756136986029,
          0.079359747702443,
          1.4558500868867597,
          0.2563176007763342,
          0.1897961136582697,
          0.1304614760856882,
          0.4361286099231618,
          0.3126364123864483,
          0.4731341357440169,
          0.0966168846379368,
          0.2847321365320594,
          0.162279998373588,
          0.1277085982127674,
          0.2394685404774219,
          0.097723318932838,
          0.1027977002317933,
          0.1810076727583593,
          0.0692723694749762
         ],
         "yaxis": "y"
        },
        {
         "customdata": [
          [
           2000
          ],
          [
           2001
          ],
          [
           2002
          ],
          [
           2003
          ],
          [
           2004
          ],
          [
           2005
          ],
          [
           2006
          ],
          [
           2007
          ],
          [
           2008
          ],
          [
           2009
          ],
          [
           2010
          ],
          [
           2011
          ],
          [
           2012
          ],
          [
           2013
          ],
          [
           2014
          ],
          [
           2015
          ],
          [
           2016
          ],
          [
           2017
          ],
          [
           2018
          ],
          [
           2019
          ],
          [
           2020
          ]
         ],
         "hovertemplate": "Entity=Angola<br>GDP per capita (constant 2015 US$)=%{x}<br>a_b_ratio=%{y}<br>Year=%{customdata[0]}<extra></extra>",
         "legendgroup": "Angola",
         "marker": {
          "color": "#00cc96",
          "symbol": "circle"
         },
         "mode": "markers",
         "name": "Angola",
         "showlegend": true,
         "type": "scattergl",
         "x": [
          2451.509765625,
          2471.66455078125,
          2717.44091796875,
          2705.7060546875,
          2900.1669921875,
          3220.078125,
          3464.234619140625,
          3806.84912109375,
          4077.77685546875,
          3963.24853515625,
          3988.62353515625,
          3979.81494140625,
          4167.1259765625,
          4220.96484375,
          4272.45556640625,
          4166.97998046875,
          3924.620361328125,
          3790.79150390625,
          3595.106689453125,
          3458.650390625,
          3168.25390625
         ],
         "xaxis": "x",
         "y": [
          1.651817087242598,
          0.6793933790370488,
          1.0167765272485834,
          0.4849830167665084,
          0.5987919319499606,
          0.9562509041969236,
          0.7568566700945099,
          1.9149014724846256,
          0.969964120547731,
          0.6455575995991412,
          0.3779286905485641,
          0.4344757765327019,
          1.03262237091208,
          0.8597540705607203,
          0.9049576936885928,
          1.226547871416827,
          1.5067874721717651,
          1.6528387215390143,
          0.7757357034563854,
          0.6929678781879922,
          0.1379063188316313
         ],
         "yaxis": "y"
        },
        {
         "customdata": [
          [
           2010
          ],
          [
           2011
          ],
          [
           2012
          ],
          [
           2013
          ],
          [
           2014
          ],
          [
           2015
          ],
          [
           2016
          ],
          [
           2017
          ],
          [
           2018
          ],
          [
           2019
          ],
          [
           2020
          ]
         ],
         "hovertemplate": "Entity=Antigua and Barbuda<br>GDP per capita (constant 2015 US$)=%{x}<br>a_b_ratio=%{y}<br>Year=%{customdata[0]}<extra></extra>",
         "legendgroup": "Antigua and Barbuda",
         "marker": {
          "color": "#ab63fa",
          "symbol": "circle"
         },
         "mode": "markers",
         "name": "Antigua and Barbuda",
         "showlegend": true,
         "type": "scattergl",
         "x": [
          13986.8408203125,
          13525.4453125,
          13802.70703125,
          13554.4013671875,
          13908.9912109375,
          14285.330078125,
          14919.2060546875,
          15242.373046875,
          16146.5927734375,
          16786.447265625,
          13285.64453125
         ],
         "xaxis": "x",
         "y": [
          0.5833625014584063,
          0.2305502080715628,
          0.1140406897180914,
          0.1129790310918293,
          0.336126921525568,
          0.4446519486871651,
          0.2208114821970742,
          4.2794596907816045,
          0.1091178909694033,
          12.808405787662682,
          0
         ],
         "yaxis": "y"
        },
        {
         "customdata": [
          [
           2000
          ],
          [
           2001
          ],
          [
           2002
          ],
          [
           2003
          ],
          [
           2004
          ],
          [
           2005
          ],
          [
           2006
          ],
          [
           2007
          ],
          [
           2008
          ],
          [
           2009
          ],
          [
           2010
          ],
          [
           2011
          ],
          [
           2012
          ],
          [
           2013
          ],
          [
           2014
          ],
          [
           2015
          ],
          [
           2016
          ],
          [
           2017
          ],
          [
           2018
          ],
          [
           2019
          ],
          [
           2020
          ]
         ],
         "hovertemplate": "Entity=Argentina<br>GDP per capita (constant 2015 US$)=%{x}<br>a_b_ratio=%{y}<br>Year=%{customdata[0]}<extra></extra>",
         "legendgroup": "Argentina",
         "marker": {
          "color": "#FFA15A",
          "symbol": "circle"
         },
         "mode": "markers",
         "name": "Argentina",
         "showlegend": true,
         "type": "scattergl",
         "x": [
          10730.6083984375,
          10146.1064453125,
          8943.3076171875,
          9629.84375,
          10389.1513671875,
          11192.1796875,
          11970.6552734375,
          12919.2353515625,
          13310.6240234375,
          12398.283203125,
          13551.3388671875,
          14200.26953125,
          13895.6337890625,
          14071.5087890625,
          13567.9482421875,
          13789.060546875,
          13360.2119140625,
          13595.037109375,
          13105.3974609375,
          12712.970703125,
          11344.4052734375
         ],
         "xaxis": "x",
         "y": [
          0.0018882800714266,
          0.0008004163872768,
          0.0636135270760287,
          0.0977058356299429,
          0.0318085931612662,
          0.0107497973407253,
          0.0063328244782208,
          0.0280869882111888,
          0.0153946360320693,
          0.0648898259241933,
          0.0343064658393731,
          0.0289012217895174,
          0.0231214622375034,
          0.0504856674021217,
          0.0114421648538541,
          0.0832234013848004,
          0.1229726797299529,
          0.2698922628221297,
          0.938226297931498,
          0.4603813262540094,
          0.7234207489682928
         ],
         "yaxis": "y"
        },
        {
         "customdata": [
          [
           2000
          ],
          [
           2001
          ],
          [
           2002
          ],
          [
           2003
          ],
          [
           2004
          ],
          [
           2005
          ],
          [
           2006
          ],
          [
           2007
          ],
          [
           2008
          ],
          [
           2009
          ],
          [
           2010
          ],
          [
           2011
          ],
          [
           2012
          ],
          [
           2013
          ],
          [
           2014
          ],
          [
           2015
          ],
          [
           2016
          ],
          [
           2017
          ],
          [
           2018
          ],
          [
           2019
          ],
          [
           2020
          ]
         ],
         "hovertemplate": "Entity=Armenia<br>GDP per capita (constant 2015 US$)=%{x}<br>a_b_ratio=%{y}<br>Year=%{customdata[0]}<extra></extra>",
         "legendgroup": "Armenia",
         "marker": {
          "color": "#19d3f3",
          "symbol": "circle"
         },
         "mode": "markers",
         "name": "Armenia",
         "showlegend": true,
         "type": "scattergl",
         "x": [
          1289.88427734375,
          1422.4766845703125,
          1619.1121826171875,
          1855.5968017578125,
          2062.203125,
          2364.176025390625,
          2697.01904296875,
          3093.369384765625,
          3335.244140625,
          2884.33935546875,
          2958.839111328125,
          3098.7421875,
          3312.97998046875,
          3406.5361328125,
          3511.22509765625,
          3607.289306640625,
          3601.4697265625,
          3860.218017578125,
          4051.385009765625,
          4350.46630859375,
          4021.046142578125
         ],
         "xaxis": "x",
         "y": [
          4.307998201055696,
          15.546713869609318,
          7.10457836291964,
          7.720225011648428,
          8.017619191140302,
          8.935914104961386,
          6.076345866003192,
          7.029694467910044,
          10.20303845412571,
          12.350301926255778,
          28.330486821419164,
          34.60927065494383,
          14.194895190411293,
          13.24539375319244,
          13.958781800433712,
          13.979027290368435,
          12.471033808225927,
          29.59751101798116,
          23.024343192800583,
          2.329288336824312,
          5.442666657161901
         ],
         "yaxis": "y"
        },
        {
         "customdata": [
          [
           2000
          ],
          [
           2001
          ],
          [
           2002
          ],
          [
           2003
          ],
          [
           2004
          ],
          [
           2005
          ],
          [
           2006
          ],
          [
           2007
          ],
          [
           2008
          ],
          [
           2009
          ],
          [
           2010
          ],
          [
           2011
          ],
          [
           2012
          ],
          [
           2013
          ],
          [
           2014
          ],
          [
           2015
          ],
          [
           2016
          ],
          [
           2017
          ],
          [
           2018
          ],
          [
           2019
          ],
          [
           2020
          ]
         ],
         "hovertemplate": "Entity=Azerbaijan<br>GDP per capita (constant 2015 US$)=%{x}<br>a_b_ratio=%{y}<br>Year=%{customdata[0]}<extra></extra>",
         "legendgroup": "Azerbaijan",
         "marker": {
          "color": "#FF6692",
          "symbol": "circle"
         },
         "mode": "markers",
         "name": "Azerbaijan",
         "showlegend": true,
         "type": "scattergl",
         "x": [
          1480.7567138671875,
          1614.7921142578125,
          1754.0736083984375,
          1918.5435791015625,
          2077.812255859375,
          2631.759033203125,
          3501.041748046875,
          4326.96142578125,
          4692.912109375,
          5023.79052734375,
          5215.02099609375,
          5152.6572265625,
          5194.73828125,
          5425.9052734375,
          5505.98828125,
          5500.310546875,
          5270.552734375,
          5229.5263671875,
          5262.18359375,
          5348.26513671875,
          5083.3818359375
         ],
         "xaxis": "x",
         "y": [
          6.409989523024743,
          0.051919638059751,
          2.4032121821357726,
          1.5858507137805349,
          1.6642964467270862,
          2.55076018545228,
          2.4203064740174223,
          2.1479075978486235,
          1.5444964424913417,
          2.232546715162786,
          1.929155394766143,
          2.3538794347868546,
          3.672944724395785,
          6.560938617780393,
          6.514143729356523,
          7.367578497863585,
          10.085950097100577,
          10.06595893847324,
          10.78451033457296,
          9.507697873526022,
          4.725350200953782
         ],
         "yaxis": "y"
        },
        {
         "customdata": [
          [
           2004
          ]
         ],
         "hovertemplate": "Entity=Bahrain<br>GDP per capita (constant 2015 US$)=%{x}<br>a_b_ratio=%{y}<br>Year=%{customdata[0]}<extra></extra>",
         "legendgroup": "Bahrain",
         "marker": {
          "color": "#B6E880",
          "symbol": "circle"
         },
         "mode": "markers",
         "name": "Bahrain",
         "showlegend": true,
         "type": "scattergl",
         "x": [
          22422.689453125
         ],
         "xaxis": "x",
         "y": [
          0.0239965253031361
         ],
         "yaxis": "y"
        },
        {
         "customdata": [
          [
           2000
          ],
          [
           2001
          ],
          [
           2002
          ],
          [
           2003
          ],
          [
           2004
          ],
          [
           2005
          ],
          [
           2006
          ],
          [
           2007
          ],
          [
           2008
          ],
          [
           2009
          ],
          [
           2010
          ],
          [
           2011
          ],
          [
           2012
          ],
          [
           2013
          ],
          [
           2014
          ],
          [
           2015
          ],
          [
           2016
          ],
          [
           2017
          ],
          [
           2018
          ],
          [
           2019
          ],
          [
           2020
          ]
         ],
         "hovertemplate": "Entity=Bangladesh<br>GDP per capita (constant 2015 US$)=%{x}<br>a_b_ratio=%{y}<br>Year=%{customdata[0]}<extra></extra>",
         "legendgroup": "Bangladesh",
         "marker": {
          "color": "#FF97FF",
          "symbol": "circle"
         },
         "mode": "markers",
         "name": "Bangladesh",
         "showlegend": true,
         "type": "scattergl",
         "x": [
          653.8086547851562,
          674.1669921875,
          687.38330078125,
          707.6051025390625,
          732.7488403320312,
          769.135986328125,
          809.4736328125,
          856.0459594726562,
          897.1890258789062,
          931.9865112304688,
          972.90966796875,
          1024.02197265625,
          1078.28759765625,
          1129.9935302734375,
          1184.86328125,
          1248.453369140625,
          1322.69482421875,
          1403.8616943359375,
          1498.387939453125,
          1603.95361328125,
          1643.67333984375
         ],
         "xaxis": "x",
         "y": [
          0.7251922034121017,
          1.108752631037564,
          0.2644255743171394,
          0.1613148806691851,
          0.1402841570523144,
          0.1783375044296964,
          0.2617983999195898,
          0.3445358692505386,
          0.378417669243125,
          0.5427832337387787,
          1.2096409855639896,
          1.187795770600248,
          1.048782378846469,
          0.8943703902529624,
          1.1412445671141829,
          1.3136919470316164,
          1.615550176757987,
          1.4649495462031068,
          1.736700492177755,
          2.047593835876778,
          1.6356973832377866
         ],
         "yaxis": "y"
        },
        {
         "customdata": [
          [
           2003
          ],
          [
           2006
          ],
          [
           2007
          ],
          [
           2008
          ],
          [
           2009
          ],
          [
           2010
          ]
         ],
         "hovertemplate": "Entity=Barbados<br>GDP per capita (constant 2015 US$)=%{x}<br>a_b_ratio=%{y}<br>Year=%{customdata[0]}<extra></extra>",
         "legendgroup": "Barbados",
         "marker": {
          "color": "#FECB52",
          "symbol": "circle"
         },
         "mode": "markers",
         "name": "Barbados",
         "showlegend": true,
         "type": "scattergl",
         "x": [
          16167.8603515625,
          17846.19140625,
          18158.9453125,
          18204.921875,
          17209.140625,
          16754.62890625
         ],
         "xaxis": "x",
         "y": [
          2.766262069687375,
          0.4067505805440104,
          0.3683783982907242,
          0,
          0.1095686283103421,
          1.274038374035826
         ],
         "yaxis": "y"
        },
        {
         "customdata": [
          [
           2005
          ],
          [
           2006
          ],
          [
           2007
          ],
          [
           2008
          ],
          [
           2009
          ],
          [
           2010
          ],
          [
           2011
          ],
          [
           2012
          ],
          [
           2013
          ],
          [
           2014
          ],
          [
           2015
          ],
          [
           2016
          ],
          [
           2017
          ],
          [
           2018
          ],
          [
           2019
          ],
          [
           2020
          ]
         ],
         "hovertemplate": "Entity=Belarus<br>GDP per capita (constant 2015 US$)=%{x}<br>a_b_ratio=%{y}<br>Year=%{customdata[0]}<extra></extra>",
         "legendgroup": "Belarus",
         "marker": {
          "color": "#636efa",
          "symbol": "circle"
         },
         "mode": "markers",
         "name": "Belarus",
         "showlegend": true,
         "type": "scattergl",
         "x": [
          3880.014404296875,
          4294.228515625,
          4684.98046875,
          5180.71240234375,
          5203.85498046875,
          5621.93701171875,
          5938.220703125,
          6047.87109375,
          6110.90478515625,
          6212.91259765625,
          5967.05224609375,
          5811.19775390625,
          5964.89306640625,
          6165.9091796875,
          6264.86083984375,
          6234.82421875
         ],
         "xaxis": "x",
         "y": [
          0.010065257087803,
          0.0081015119446666,
          0.0050885457852084,
          0.0909292550983471,
          0.0481670391925974,
          0.194216140573848,
          0.015452793107807,
          0.0268213944773098,
          0.0815177322220918,
          0.1248228109251113,
          0.1309196154591943,
          0.5150332541521209,
          0.3018168550601295,
          0.1505841892995906,
          0.3266497284310651,
          0.0332165736170097
         ],
         "yaxis": "y"
        },
        {
         "customdata": [
          [
           2001
          ],
          [
           2002
          ],
          [
           2003
          ],
          [
           2007
          ],
          [
           2008
          ],
          [
           2009
          ],
          [
           2010
          ],
          [
           2011
          ],
          [
           2012
          ],
          [
           2013
          ],
          [
           2014
          ],
          [
           2015
          ],
          [
           2016
          ],
          [
           2017
          ],
          [
           2018
          ],
          [
           2019
          ],
          [
           2020
          ]
         ],
         "hovertemplate": "Entity=Belize<br>GDP per capita (constant 2015 US$)=%{x}<br>a_b_ratio=%{y}<br>Year=%{customdata[0]}<extra></extra>",
         "legendgroup": "Belize",
         "marker": {
          "color": "#EF553B",
          "symbol": "circle"
         },
         "mode": "markers",
         "name": "Belize",
         "showlegend": true,
         "type": "scattergl",
         "x": [
          4342.0888671875,
          4420.724609375,
          4707.02734375,
          4773.333984375,
          4814.47705078125,
          4704.8349609375,
          4728.7734375,
          4706.07275390625,
          4709.310546875,
          4663.92138671875,
          4747.06689453125,
          4770.232421875,
          4671.9150390625,
          4663.28173828125,
          4707.4013671875,
          4701.04345703125,
          3968.491943359375
         ],
         "xaxis": "x",
         "y": [
          14.147007968272009,
          9.1015625,
          0.1136337810504306,
          0,
          1.6683732052720592,
          0.0636581810311352,
          0.3725377582540397,
          3.125512068117956,
          1.691058454253902,
          0.4931896314132784,
          2.043463329766733,
          4.251369885852108,
          1.252290193751072,
          1.040827110610565,
          2.146169871962646,
          3.3667178099372146,
          0.936872516971319
         ],
         "yaxis": "y"
        },
        {
         "customdata": [
          [
           2000
          ],
          [
           2001
          ],
          [
           2002
          ],
          [
           2003
          ],
          [
           2004
          ],
          [
           2005
          ],
          [
           2006
          ],
          [
           2007
          ],
          [
           2008
          ],
          [
           2009
          ],
          [
           2010
          ],
          [
           2011
          ],
          [
           2012
          ],
          [
           2013
          ],
          [
           2014
          ],
          [
           2015
          ],
          [
           2016
          ],
          [
           2017
          ],
          [
           2018
          ],
          [
           2019
          ],
          [
           2020
          ]
         ],
         "hovertemplate": "Entity=Benin<br>GDP per capita (constant 2015 US$)=%{x}<br>a_b_ratio=%{y}<br>Year=%{customdata[0]}<extra></extra>",
         "legendgroup": "Benin",
         "marker": {
          "color": "#00cc96",
          "symbol": "circle"
         },
         "mode": "markers",
         "name": "Benin",
         "showlegend": true,
         "type": "scattergl",
         "x": [
          905.8262939453124,
          925.716064453125,
          939.6616821289062,
          942.9185791015624,
          955.5342407226562,
          943.6293334960938,
          952.8312377929688,
          981.4557495117188,
          1000.8515014648438,
          995.6942138671876,
          988.6107788085938,
          989.767333984375,
          1008.7662963867188,
          1051.5518798828125,
          1087.719970703125,
          1076.7967529296875,
          1082.4512939453125,
          1112.817138671875,
          1155.3131103515625,
          1201.5614013671875,
          1214.6595458984375
         ],
         "xaxis": "x",
         "y": [
          5.237194167151804,
          1.3463591384577158,
          1.585083103162133,
          2.0406801692759213,
          5.602593584086658,
          6.321922296310658,
          4.765171877631243,
          5.949516874946012,
          6.735551405764258,
          5.814109414278354,
          7.255140849036748,
          4.853807452614718,
          4.323908909519161,
          5.505042813227235,
          5.528107099067391,
          1.547637744103953,
          3.90760607529726,
          2.7447259956336176,
          6.254245986495921,
          4.405048703289214,
          3.364675541743213
         ],
         "yaxis": "y"
        },
        {
         "customdata": [
          [
           2000
          ],
          [
           2001
          ],
          [
           2002
          ],
          [
           2003
          ],
          [
           2004
          ],
          [
           2005
          ],
          [
           2006
          ],
          [
           2007
          ],
          [
           2008
          ],
          [
           2009
          ],
          [
           2010
          ],
          [
           2011
          ],
          [
           2012
          ],
          [
           2013
          ],
          [
           2014
          ],
          [
           2015
          ],
          [
           2016
          ],
          [
           2017
          ],
          [
           2018
          ],
          [
           2019
          ],
          [
           2020
          ]
         ],
         "hovertemplate": "Entity=Bhutan<br>GDP per capita (constant 2015 US$)=%{x}<br>a_b_ratio=%{y}<br>Year=%{customdata[0]}<extra></extra>",
         "legendgroup": "Bhutan",
         "marker": {
          "color": "#ab63fa",
          "symbol": "circle"
         },
         "mode": "markers",
         "name": "Bhutan",
         "showlegend": true,
         "type": "scattergl",
         "x": [
          1108.4398193359375,
          1175.8568115234375,
          1278.8778076171875,
          1352.97900390625,
          1409.64794921875,
          1489.2117919921875,
          1572.462158203125,
          1840.2716064453125,
          1909.245849609375,
          2017.9034423828125,
          2235.32275390625,
          2386.62109375,
          2479.151611328125,
          2500.864501953125,
          2612.88623046875,
          2752.630126953125,
          2940.699951171875,
          3040.93701171875,
          3097.1484375,
          3238.060546875,
          2879.638671875
         ],
         "xaxis": "x",
         "y": [
          9.076820898826655,
          4.691310135384911,
          2.4715089935466152,
          5.70406611674427,
          7.000053846568051,
          4.854281114132893,
          4.084524405404642,
          2.787460535427156,
          2.015249202236782,
          2.794969627996709,
          3.69938329437878,
          4.780342558506627,
          3.092266006983252,
          25.737483159509285,
          64.05816704284034,
          9.754010580074372,
          5.935200943230137,
          16.2273683096822,
          26.361231537952825,
          29.06965380921916,
          16.025641025641026
         ],
         "yaxis": "y"
        },
        {
         "customdata": [
          [
           2000
          ],
          [
           2001
          ],
          [
           2002
          ],
          [
           2003
          ],
          [
           2004
          ],
          [
           2005
          ],
          [
           2006
          ],
          [
           2007
          ],
          [
           2008
          ],
          [
           2009
          ],
          [
           2010
          ],
          [
           2011
          ],
          [
           2012
          ],
          [
           2013
          ],
          [
           2014
          ],
          [
           2015
          ],
          [
           2016
          ],
          [
           2017
          ],
          [
           2018
          ],
          [
           2019
          ],
          [
           2020
          ]
         ],
         "hovertemplate": "Entity=Bolivia<br>GDP per capita (constant 2015 US$)=%{x}<br>a_b_ratio=%{y}<br>Year=%{customdata[0]}<extra></extra>",
         "legendgroup": "Bolivia",
         "marker": {
          "color": "#FFA15A",
          "symbol": "circle"
         },
         "mode": "markers",
         "name": "Bolivia",
         "showlegend": true,
         "type": "scattergl",
         "x": [
          2059.185302734375,
          2054.3310546875,
          2066.24169921875,
          2083.421875,
          2131.30712890625,
          2186.186767578125,
          2251.27490234375,
          2313.89111328125,
          2414.973388671875,
          2454.80029296875,
          2514.434814453125,
          2602.718505859375,
          2692.607421875,
          2830.67333984375,
          2939.4775390625,
          3035.9716796875,
          3118.91357421875,
          3203.00439453125,
          3291.15625,
          3317.370849609375,
          2983.027099609375
         ],
         "xaxis": "x",
         "y": [
          11.019875577469875,
          2.117518382792213,
          3.773906699004594,
          1.4606863393036358,
          3.8323480119206415,
          4.890483977693165,
          4.507127622551483,
          3.1479262765345624,
          3.892478923076783,
          6.899589924589025,
          6.246529366268761,
          7.854756075965476,
          16.39876715482005,
          8.043113545939852,
          8.084645301988433,
          8.625718997771884,
          18.39116627375829,
          18.376927708235776,
          10.93400773642864,
          12.301612302563283,
          9.255063328945829
         ],
         "yaxis": "y"
        },
        {
         "customdata": [
          [
           2000
          ],
          [
           2001
          ],
          [
           2002
          ],
          [
           2003
          ],
          [
           2004
          ],
          [
           2005
          ],
          [
           2006
          ],
          [
           2007
          ],
          [
           2008
          ],
          [
           2009
          ],
          [
           2010
          ],
          [
           2011
          ],
          [
           2012
          ],
          [
           2013
          ],
          [
           2014
          ],
          [
           2015
          ],
          [
           2016
          ],
          [
           2017
          ],
          [
           2018
          ],
          [
           2019
          ],
          [
           2020
          ]
         ],
         "hovertemplate": "Entity=Bosnia and Herzegovina<br>GDP per capita (constant 2015 US$)=%{x}<br>a_b_ratio=%{y}<br>Year=%{customdata[0]}<extra></extra>",
         "legendgroup": "Bosnia and Herzegovina",
         "marker": {
          "color": "#19d3f3",
          "symbol": "circle"
         },
         "mode": "markers",
         "name": "Bosnia and Herzegovina",
         "showlegend": true,
         "type": "scattergl",
         "x": [
          2847.59228515625,
          2913.2294921875,
          3056.53662109375,
          3172.3828125,
          3371.239013671875,
          3501.5634765625,
          3691.050048828125,
          3909.971435546875,
          4132.19091796875,
          4027.691162109375,
          4095.960693359375,
          4185.30419921875,
          4215.61962890625,
          4390.64892578125,
          4518.4658203125,
          4729.68994140625,
          4940.759765625,
          5150.27294921875,
          5387.26953125,
          5578.26611328125,
          5433.1513671875
         ],
         "xaxis": "x",
         "y": [
          4.744751283391815,
          9.05137879173986,
          2.186542048061052,
          3.2052523114386635,
          10.17172203343682,
          4.92392222645304,
          3.819534627900937,
          4.1618043667507765,
          3.661823963645493,
          4.592863654356709,
          7.512280597718292,
          11.69338173828785,
          11.78975695465026,
          10.426906061648117,
          12.245629461197904,
          19.78249470537362,
          14.28044073732004,
          14.465011155442184,
          4.908632958955712,
          8.21550632930225,
          6.695977893027083
         ],
         "yaxis": "y"
        },
        {
         "customdata": [
          [
           2001
          ],
          [
           2002
          ],
          [
           2003
          ],
          [
           2004
          ],
          [
           2005
          ],
          [
           2006
          ],
          [
           2007
          ],
          [
           2008
          ],
          [
           2009
          ],
          [
           2010
          ],
          [
           2011
          ],
          [
           2012
          ],
          [
           2013
          ],
          [
           2014
          ],
          [
           2015
          ],
          [
           2016
          ],
          [
           2018
          ],
          [
           2019
          ],
          [
           2020
          ]
         ],
         "hovertemplate": "Entity=Botswana<br>GDP per capita (constant 2015 US$)=%{x}<br>a_b_ratio=%{y}<br>Year=%{customdata[0]}<extra></extra>",
         "legendgroup": "Botswana",
         "marker": {
          "color": "#FF6692",
          "symbol": "circle"
         },
         "mode": "markers",
         "name": "Botswana",
         "showlegend": true,
         "type": "scattergl",
         "x": [
          4494.93896484375,
          4683.9560546875,
          4816.56982421875,
          4859.62890625,
          4986.328125,
          5294.9697265625,
          5612.32763671875,
          5837.779296875,
          5286.57470703125,
          5642.22021484375,
          5899.462890625,
          6089.39892578125,
          6704.53662109375,
          6895.57421875,
          6402.91015625,
          6729.0654296875,
          6973.0986328125,
          7027.04541015625,
          6299.20849609375
         ],
         "xaxis": "x",
         "y": [
          0.0283778108221619,
          1.236674415378882,
          0.1149509597310366,
          0.1990224233723327,
          0.0528312532788396,
          0.0777720284085665,
          0.6304080366856806,
          1.0112976393423676,
          0.1854565916885188,
          0.5641436061015478,
          0.3655034130052674,
          0.3079852295800047,
          0.1578507048033969,
          0.2698657705353473,
          0.1561702203344905,
          0.0042509433906119,
          0.0326342665509781,
          0.0760089690583488,
          0.0157084264712119
         ],
         "yaxis": "y"
        },
        {
         "customdata": [
          [
           2000
          ],
          [
           2001
          ],
          [
           2002
          ],
          [
           2003
          ],
          [
           2004
          ],
          [
           2005
          ],
          [
           2006
          ],
          [
           2007
          ],
          [
           2008
          ],
          [
           2009
          ],
          [
           2010
          ],
          [
           2011
          ],
          [
           2012
          ],
          [
           2013
          ],
          [
           2014
          ],
          [
           2015
          ],
          [
           2016
          ],
          [
           2017
          ],
          [
           2018
          ],
          [
           2019
          ],
          [
           2020
          ]
         ],
         "hovertemplate": "Entity=Brazil<br>GDP per capita (constant 2015 US$)=%{x}<br>a_b_ratio=%{y}<br>Year=%{customdata[0]}<extra></extra>",
         "legendgroup": "Brazil",
         "marker": {
          "color": "#B6E880",
          "symbol": "circle"
         },
         "mode": "markers",
         "name": "Brazil",
         "showlegend": true,
         "type": "scattergl",
         "x": [
          6787.6689453125,
          6788.57666015625,
          6904.62548828125,
          6896.13720703125,
          7206.26171875,
          7352.28271484375,
          7560.7021484375,
          7936.82421875,
          8258.6162109375,
          8169.26220703125,
          8702.2548828125,
          8965.6201171875,
          9056.580078125,
          9247.5732421875,
          9214.9775390625,
          8813.990234375,
          8455.3125,
          8498.2939453125,
          8582.3388671875,
          8638.283203125,
          8228.7802734375
         ],
         "xaxis": "x",
         "y": [
          0.0171145531971259,
          0.0306376867518512,
          0.0314722087541854,
          0.0442973875821007,
          0.0193804694066622,
          0.0338334575035499,
          0.0908798722309496,
          0.1757526764307368,
          0.7638876201833247,
          0.470651615027522,
          0.0694156188829714,
          1.1863645020365183,
          0.5324093316959242,
          0.6318108164980661,
          0.7678180982599557,
          0.52225223391005,
          0.5356290381015172,
          0.4882857462959155,
          0.2028866700184204,
          0.2046907663168996,
          0.1146361336545496
         ],
         "yaxis": "y"
        },
        {
         "customdata": [
          [
           2000
          ],
          [
           2001
          ],
          [
           2002
          ],
          [
           2003
          ],
          [
           2004
          ],
          [
           2005
          ],
          [
           2006
          ],
          [
           2007
          ],
          [
           2008
          ],
          [
           2009
          ],
          [
           2010
          ],
          [
           2011
          ],
          [
           2012
          ],
          [
           2013
          ],
          [
           2014
          ],
          [
           2015
          ],
          [
           2016
          ],
          [
           2017
          ],
          [
           2018
          ],
          [
           2019
          ],
          [
           2020
          ]
         ],
         "hovertemplate": "Entity=Burkina Faso<br>GDP per capita (constant 2015 US$)=%{x}<br>a_b_ratio=%{y}<br>Year=%{customdata[0]}<extra></extra>",
         "legendgroup": "Burkina Faso",
         "marker": {
          "color": "#FF97FF",
          "symbol": "circle"
         },
         "mode": "markers",
         "name": "Burkina Faso",
         "showlegend": true,
         "type": "scattergl",
         "x": [
          440.0284118652344,
          455.90765380859375,
          462.2655944824219,
          484.0970458984375,
          491.1846618652344,
          518.1678466796875,
          534.356689453125,
          539.8200073242188,
          554.1121215820312,
          553.5166625976562,
          582.4157104492188,
          602.5791625976562,
          622.5197143554688,
          639.23291015625,
          647.4287109375,
          653.3272705078125,
          672.363037109375,
          693.7264404296875,
          718.642578125,
          738.2188720703125,
          731.5220947265625
         ],
         "xaxis": "x",
         "y": [
          5.577764881557492,
          12.167578371082486,
          2.6384789821756613,
          3.965281721486348,
          4.397596575512043,
          5.154173345400095,
          6.794378442897779,
          6.048625364164382,
          5.938313783395448,
          4.103509657305186,
          4.779469637089776,
          7.956560192913758,
          8.358782676091298,
          7.990853469418443,
          8.060608555582535,
          5.484019625577959,
          7.855566318784712,
          6.01536812621182,
          5.367599139497262,
          7.887211491531116,
          3.847113122595786
         ],
         "yaxis": "y"
        },
        {
         "customdata": [
          [
           2000
          ],
          [
           2001
          ],
          [
           2002
          ],
          [
           2003
          ],
          [
           2004
          ],
          [
           2006
          ],
          [
           2007
          ],
          [
           2008
          ],
          [
           2009
          ],
          [
           2010
          ],
          [
           2011
          ],
          [
           2012
          ],
          [
           2013
          ],
          [
           2014
          ],
          [
           2015
          ],
          [
           2016
          ],
          [
           2017
          ],
          [
           2018
          ],
          [
           2019
          ],
          [
           2020
          ]
         ],
         "hovertemplate": "Entity=Burundi<br>GDP per capita (constant 2015 US$)=%{x}<br>a_b_ratio=%{y}<br>Year=%{customdata[0]}<extra></extra>",
         "legendgroup": "Burundi",
         "marker": {
          "color": "#FECB52",
          "symbol": "circle"
         },
         "mode": "markers",
         "name": "Burundi",
         "showlegend": true,
         "type": "scattergl",
         "x": [
          306.58447265625,
          305.8544921875,
          310.9453430175781,
          298.02520751953125,
          302.6820983886719,
          301.7906494140625,
          302.1070861816406,
          306.5074157714844,
          307.9042663574219,
          313.31182861328125,
          315.65692138671875,
          319.43853759765625,
          324.82867431640625,
          328.1471862792969,
          305.5496520996094,
          294.2188415527344,
          286.4315185546875,
          281.9702453613281,
          278.3193664550781,
          270.6914367675781
         ],
         "xaxis": "x",
         "y": [
          1.6852511983436025,
          1.9843077294740528,
          0.6828144770505904,
          0.671928013626292,
          0.692366914579899,
          1.0472442980681869,
          1.6665380679965154,
          1.8687836066967929,
          2.2171520767688047,
          3.4985600352025483,
          3.373613288948286,
          2.624680222376057,
          2.338027089388796,
          1.867570214923029,
          1.242640987781194,
          1.3151946529358145,
          1.789237182571754,
          3.354076695335684,
          7.4982075544946385,
          3.435287505659673
         ],
         "yaxis": "y"
        },
        {
         "customdata": [
          [
           2000
          ],
          [
           2001
          ],
          [
           2002
          ],
          [
           2003
          ],
          [
           2004
          ],
          [
           2005
          ],
          [
           2006
          ],
          [
           2007
          ],
          [
           2008
          ],
          [
           2009
          ],
          [
           2010
          ],
          [
           2011
          ],
          [
           2012
          ],
          [
           2013
          ],
          [
           2014
          ],
          [
           2015
          ],
          [
           2016
          ],
          [
           2017
          ],
          [
           2018
          ],
          [
           2019
          ],
          [
           2020
          ]
         ],
         "hovertemplate": "Entity=Cambodia<br>GDP per capita (constant 2015 US$)=%{x}<br>a_b_ratio=%{y}<br>Year=%{customdata[0]}<extra></extra>",
         "legendgroup": "Cambodia",
         "marker": {
          "color": "#636efa",
          "symbol": "circle"
         },
         "mode": "markers",
         "name": "Cambodia",
         "showlegend": true,
         "type": "scattergl",
         "x": [
          486.5413208007813,
          515.575439453125,
          539.3939208984375,
          575.3292236328125,
          624.6039428710938,
          696.3394165039062,
          759.6475830078125,
          824.849365234375,
          867.1214599609375,
          854.9557495117188,
          892.1004638671875,
          940.11181640625,
          992.5498046875,
          1048.1324462890625,
          1104.75,
          1162.905029296875,
          1224.220458984375,
          1289.98583984375,
          1365.8291015625,
          1441.17919921875,
          1376.4119873046875
         ],
         "xaxis": "x",
         "y": [
          2.0191694851423123,
          2.7921419319093435,
          2.310181603996821,
          3.069352348668417,
          1.8246244711566053,
          1.7000604231066898,
          1.6538330753408146,
          2.021174500710838,
          2.1457416101108606,
          1.200926097692371,
          2.864197627129925,
          3.963937160514548,
          3.897434510183172,
          5.011436568926653,
          4.760428055902586,
          5.321216560866085,
          4.976771864547323,
          10.758846074594077,
          8.167739370176125,
          11.280408762575624,
          12.059013235701656
         ],
         "yaxis": "y"
        },
        {
         "customdata": [
          [
           2000
          ],
          [
           2001
          ],
          [
           2002
          ],
          [
           2003
          ],
          [
           2004
          ],
          [
           2005
          ],
          [
           2006
          ],
          [
           2007
          ],
          [
           2008
          ],
          [
           2009
          ],
          [
           2010
          ],
          [
           2011
          ],
          [
           2012
          ],
          [
           2013
          ],
          [
           2014
          ],
          [
           2015
          ],
          [
           2016
          ],
          [
           2017
          ],
          [
           2018
          ],
          [
           2019
          ],
          [
           2020
          ]
         ],
         "hovertemplate": "Entity=Cameroon<br>GDP per capita (constant 2015 US$)=%{x}<br>a_b_ratio=%{y}<br>Year=%{customdata[0]}<extra></extra>",
         "legendgroup": "Cameroon",
         "marker": {
          "color": "#EF553B",
          "symbol": "circle"
         },
         "mode": "markers",
         "name": "Cameroon",
         "showlegend": true,
         "type": "scattergl",
         "x": [
          1106.6539306640625,
          1124.432373046875,
          1143.9853515625,
          1174.54052734375,
          1223.9342041015625,
          1217.7569580078125,
          1230.13916015625,
          1248.66259765625,
          1249.375244140625,
          1246.807373046875,
          1248.180419921875,
          1255.477294921875,
          1278.1644287109375,
          1306.0274658203125,
          1343.928466796875,
          1382.509765625,
          1407.2745361328125,
          1419.1761474609375,
          1437.271484375,
          1449.277587890625,
          1419.6767578125
         ],
         "xaxis": "x",
         "y": [
          0.3882955270873237,
          0.4995722009627931,
          0.4945322143122901,
          0.473880791404157,
          0.5556412879788851,
          0.3033254542038187,
          0.1661846560524057,
          0.2366881022808186,
          0.8899146310379855,
          0.3385220025843619,
          0.9397302873461796,
          1.7810266381337267,
          0.9913142801936262,
          2.9644727380374998,
          5.1651173855662815,
          4.447988388994749,
          5.689614031530356,
          5.314189842063246,
          4.061530775596457,
          5.974631784808378,
          3.103685050332017
         ],
         "yaxis": "y"
        },
        {
         "customdata": [
          [
           2000
          ],
          [
           2001
          ],
          [
           2002
          ],
          [
           2003
          ],
          [
           2004
          ],
          [
           2005
          ],
          [
           2006
          ],
          [
           2007
          ],
          [
           2008
          ],
          [
           2009
          ],
          [
           2010
          ],
          [
           2011
          ],
          [
           2012
          ],
          [
           2013
          ],
          [
           2014
          ],
          [
           2015
          ],
          [
           2016
          ],
          [
           2017
          ],
          [
           2018
          ],
          [
           2019
          ],
          [
           2020
          ]
         ],
         "hovertemplate": "Entity=Cape Verde<br>GDP per capita (constant 2015 US$)=%{x}<br>a_b_ratio=%{y}<br>Year=%{customdata[0]}<extra></extra>",
         "legendgroup": "Cape Verde",
         "marker": {
          "color": "#00cc96",
          "symbol": "circle"
         },
         "mode": "markers",
         "name": "Cape Verde",
         "showlegend": true,
         "type": "scattergl",
         "x": [
          1974.0888671875,
          1983.297607421875,
          2053.253662109375,
          2105.866455078125,
          2286.58349609375,
          2410.77392578125,
          2569.192138671875,
          2922.233154296875,
          3079.12060546875,
          3003.641357421875,
          3010.72216796875,
          3091.222900390625,
          3085.191650390625,
          3070.463623046875,
          3050.2724609375,
          3043.031494140625,
          3147.83740234375,
          3225.751708984375,
          3333.066162109375,
          3482.448486328125,
          2935.321044921875
         ],
         "xaxis": "x",
         "y": [
          1.8112067874428812,
          24.250488228855936,
          12.277146546022395,
          7.540174340495111,
          18.783742403784697,
          13.716391290497342,
          11.926357249521445,
          7.984277115833438,
          18.39942626709148,
          42.99486272479215,
          24.23165694266709,
          21.723965362975992,
          27.478239369742468,
          25.55796936377325,
          16.81063135091186,
          55.29104314077755,
          46.27515450421652,
          62.92492021544926,
          14.425543014903475,
          12.09627805496008,
          10.09189113114996
         ],
         "yaxis": "y"
        },
        {
         "customdata": [
          [
           2000
          ],
          [
           2001
          ],
          [
           2002
          ],
          [
           2003
          ],
          [
           2004
          ],
          [
           2005
          ],
          [
           2006
          ],
          [
           2007
          ],
          [
           2008
          ],
          [
           2009
          ],
          [
           2010
          ],
          [
           2011
          ],
          [
           2012
          ],
          [
           2013
          ],
          [
           2014
          ],
          [
           2015
          ],
          [
           2016
          ],
          [
           2017
          ],
          [
           2018
          ],
          [
           2019
          ],
          [
           2020
          ]
         ],
         "hovertemplate": "Entity=Central African Republic<br>GDP per capita (constant 2015 US$)=%{x}<br>a_b_ratio=%{y}<br>Year=%{customdata[0]}<extra></extra>",
         "legendgroup": "Central African Republic",
         "marker": {
          "color": "#ab63fa",
          "symbol": "circle"
         },
         "mode": "markers",
         "name": "Central African Republic",
         "showlegend": true,
         "type": "scattergl",
         "x": [
          460.34521484375,
          470.3560485839844,
          477.0975646972656,
          442.1528015136719,
          459.3453063964844,
          454.5074157714844,
          466.9768371582031,
          479.1921691894531,
          480.410888671875,
          513.9373779296875,
          531.7130126953125,
          550.0198974609375,
          575.5018920898438,
          365.1161193847656,
          364.0839538574219,
          377.42291259765625,
          391.4735412597656,
          404.0024719238281,
          412.9902038574219,
          418.3155517578125,
          414.3966064453125
         ],
         "xaxis": "x",
         "y": [
          0.063843812497107,
          0.0858306587112916,
          0.2467782715039278,
          0.062083219824513,
          0.04374085390895,
          0.0855341548572114,
          0.2119062433633759,
          0.4159446674750924,
          0.6379782402411155,
          2.103167370059309,
          1.1437606248495191,
          1.7751340490363876,
          1.4287791312771485,
          1.4409350919127102,
          1.2461607101365588,
          0.9503374009019075,
          1.1418825810298232,
          0.7564930821909721,
          2.2670195758612466,
          1.249681100963291,
          2.8654185345227723
         ],
         "yaxis": "y"
        },
        {
         "customdata": [
          [
           2000
          ],
          [
           2001
          ],
          [
           2002
          ],
          [
           2003
          ],
          [
           2004
          ],
          [
           2005
          ],
          [
           2006
          ],
          [
           2007
          ],
          [
           2008
          ],
          [
           2009
          ],
          [
           2010
          ],
          [
           2011
          ],
          [
           2012
          ],
          [
           2013
          ],
          [
           2014
          ],
          [
           2015
          ],
          [
           2016
          ],
          [
           2017
          ],
          [
           2018
          ],
          [
           2019
          ],
          [
           2020
          ]
         ],
         "hovertemplate": "Entity=Chad<br>GDP per capita (constant 2015 US$)=%{x}<br>a_b_ratio=%{y}<br>Year=%{customdata[0]}<extra></extra>",
         "legendgroup": "Chad",
         "marker": {
          "color": "#FFA15A",
          "symbol": "circle"
         },
         "mode": "markers",
         "name": "Chad",
         "showlegend": true,
         "type": "scattergl",
         "x": [
          374.9696044921875,
          403.1296997070313,
          420.8159484863281,
          464.5002746582031,
          597.7003784179688,
          676.162109375,
          657.084716796875,
          655.9425659179688,
          653.8711547851562,
          659.2523193359375,
          724.0305786132812,
          700.6627197265625,
          737.6126098632812,
          753.962646484375,
          779.8466186523438,
          776.019775390625,
          704.9600830078125,
          663.1647338867188,
          658.6889038085938,
          660.0699462890625,
          634.7517700195312
         ],
         "xaxis": "x",
         "y": [
          4.489569379102726,
          0.4965565443224732,
          2.5932380525777883,
          2.578190056211285,
          1.8765260426759889,
          2.0769588205432616,
          2.244921191400032,
          1.9416682567456185,
          2.1416976733793014,
          2.459956552365673,
          2.817213062519935,
          2.150558759654478,
          1.9764934481711829,
          1.6040228894066315,
          1.8215497438587125,
          2.789195713775621,
          2.3251531753759638,
          3.087652815779616,
          2.551874932750533,
          1.372864216412015,
          1.802374772953348
         ],
         "yaxis": "y"
        },
        {
         "customdata": [
          [
           2000
          ],
          [
           2001
          ],
          [
           2002
          ],
          [
           2003
          ],
          [
           2004
          ],
          [
           2005
          ],
          [
           2006
          ],
          [
           2007
          ],
          [
           2008
          ],
          [
           2009
          ],
          [
           2010
          ],
          [
           2011
          ],
          [
           2012
          ],
          [
           2013
          ],
          [
           2014
          ],
          [
           2015
          ],
          [
           2016
          ],
          [
           2017
          ]
         ],
         "hovertemplate": "Entity=Chile<br>GDP per capita (constant 2015 US$)=%{x}<br>a_b_ratio=%{y}<br>Year=%{customdata[0]}<extra></extra>",
         "legendgroup": "Chile",
         "marker": {
          "color": "#19d3f3",
          "symbol": "circle"
         },
         "mode": "markers",
         "name": "Chile",
         "showlegend": true,
         "type": "scattergl",
         "x": [
          8685.322265625,
          8871.7236328125,
          9049.2109375,
          9321.21875,
          9890.0751953125,
          10349.642578125,
          10887.8642578125,
          11300.548828125,
          11574.728515625,
          11273.6171875,
          11809.1416015625,
          12406.4130859375,
          12941.0302734375,
          13333.3466796875,
          13425.68359375,
          13574.1689453125,
          13624.6787109375,
          13590.9912109375
         ],
         "xaxis": "x",
         "y": [
          0.0280097393120534,
          0.3703948724981678,
          0.005734749485115,
          0.1008883598415397,
          0.3002878143204949,
          1.0175999663685065,
          0.8215702975523144,
          1.117271495700384,
          1.5292774710119994,
          0.7479156085056836,
          0.5081107770883911,
          3.8675713748010896,
          1.673416266044354,
          0.3980599346907577,
          0.0559729719522264,
          0.8886341122908954,
          0.2250623206966647,
          0.2771035891611013
         ],
         "yaxis": "y"
        },
        {
         "customdata": [
          [
           2000
          ],
          [
           2001
          ],
          [
           2002
          ],
          [
           2003
          ],
          [
           2004
          ],
          [
           2005
          ],
          [
           2006
          ],
          [
           2007
          ],
          [
           2008
          ],
          [
           2009
          ],
          [
           2010
          ],
          [
           2011
          ],
          [
           2012
          ],
          [
           2013
          ],
          [
           2014
          ],
          [
           2015
          ],
          [
           2016
          ],
          [
           2017
          ],
          [
           2018
          ],
          [
           2019
          ],
          [
           2020
          ]
         ],
         "hovertemplate": "Entity=China<br>GDP per capita (constant 2015 US$)=%{x}<br>a_b_ratio=%{y}<br>Year=%{customdata[0]}<extra></extra>",
         "legendgroup": "China",
         "marker": {
          "color": "#FF6692",
          "symbol": "circle"
         },
         "mode": "markers",
         "name": "China",
         "showlegend": true,
         "type": "scattergl",
         "x": [
          2193.89306640625,
          2359.568115234375,
          2557.88720703125,
          2797.171630859375,
          3061.827880859375,
          3390.710205078125,
          3800.759033203125,
          4319.02392578125,
          4711.63525390625,
          5128.89501953125,
          5647.05859375,
          6152.68603515625,
          6591.65087890625,
          7056.41064453125,
          7532.77197265625,
          8016.431640625,
          8516.513671875,
          9053.212890625,
          9619.1923828125,
          10155.41796875,
          10370.359375
         ],
         "xaxis": "x",
         "y": [
          0.4771777887991361,
          0.645033760496287,
          0.2010966940418607,
          0.1932230200580515,
          0.1902658926754407,
          0.3302660059401042,
          0.2153247178994879,
          0.2616318897260275,
          0.2159127115066487,
          0.2509323934738933,
          0.217194686665252,
          0.1612193189445166,
          0.1506409409815576,
          0.1607876923208577,
          0.1182076419122374,
          0.1513293112249162,
          0.067587344734143,
          0.0681356005351712,
          0.0525521177000331,
          0.0607582695050094,
          0.0727193722678513
         ],
         "yaxis": "y"
        },
        {
         "customdata": [
          [
           2000
          ],
          [
           2001
          ],
          [
           2002
          ],
          [
           2003
          ],
          [
           2004
          ],
          [
           2005
          ],
          [
           2006
          ],
          [
           2007
          ],
          [
           2008
          ],
          [
           2009
          ],
          [
           2010
          ],
          [
           2011
          ],
          [
           2012
          ],
          [
           2013
          ],
          [
           2014
          ],
          [
           2015
          ],
          [
           2016
          ],
          [
           2017
          ],
          [
           2018
          ],
          [
           2019
          ],
          [
           2020
          ]
         ],
         "hovertemplate": "Entity=Colombia<br>GDP per capita (constant 2015 US$)=%{x}<br>a_b_ratio=%{y}<br>Year=%{customdata[0]}<extra></extra>",
         "legendgroup": "Colombia",
         "marker": {
          "color": "#B6E880",
          "symbol": "circle"
         },
         "mode": "markers",
         "name": "Colombia",
         "showlegend": true,
         "type": "scattergl",
         "x": [
          3961.9296875,
          3965.76416015625,
          4003.4658203125,
          4099.30615234375,
          4257.16259765625,
          4402.89892578125,
          4638.4716796875,
          4890.27783203125,
          4991.7890625,
          4992.8232421875,
          5162.70556640625,
          5468.1953125,
          5631.21728515625,
          5866.8740234375,
          6069.18701171875,
          6175.8759765625,
          6219.14990234375,
          6208.98681640625,
          6271.875,
          6390.3681640625,
          5892.4814453125
         ],
         "xaxis": "x",
         "y": [
          0.0058650822988348,
          0.0143079917212453,
          0.0427645623469745,
          0.0491990683937195,
          0.0230501760073022,
          0.0184742434939398,
          0.0551751070864663,
          0.069504430180052,
          0.0858147411284218,
          1.2819900637984691,
          0.0448499494735196,
          0.0653293340009873,
          2.1530098234213044,
          0.565769296582667,
          0.2838599746381289,
          0.0897713161671901,
          0.0732793627677006,
          0.2744476157471961,
          0.3226659562333461,
          0.3116319784143447,
          0.4688728140473981
         ],
         "yaxis": "y"
        },
        {
         "customdata": [
          [
           2001
          ],
          [
           2002
          ],
          [
           2003
          ],
          [
           2004
          ],
          [
           2005
          ],
          [
           2006
          ],
          [
           2007
          ],
          [
           2008
          ],
          [
           2009
          ],
          [
           2010
          ],
          [
           2011
          ],
          [
           2012
          ],
          [
           2013
          ],
          [
           2014
          ],
          [
           2015
          ],
          [
           2016
          ],
          [
           2017
          ],
          [
           2018
          ],
          [
           2019
          ],
          [
           2020
          ]
         ],
         "hovertemplate": "Entity=Comoros<br>GDP per capita (constant 2015 US$)=%{x}<br>a_b_ratio=%{y}<br>Year=%{customdata[0]}<extra></extra>",
         "legendgroup": "Comoros",
         "marker": {
          "color": "#FF97FF",
          "symbol": "circle"
         },
         "mode": "markers",
         "name": "Comoros",
         "showlegend": true,
         "type": "scattergl",
         "x": [
          1187.8292236328125,
          1186.4510498046875,
          1182.88720703125,
          1177.2991943359375,
          1182.2109375,
          1184.829345703125,
          1166.02099609375,
          1183.8721923828125,
          1192.678466796875,
          1208.480712890625,
          1227.9691162109375,
          1237.003173828125,
          1261.9046630859375,
          1258.0706787109375,
          1242.5855712890625,
          1254.5400390625,
          1273.1365966796875,
          1290.2899169921875,
          1284.2864990234375,
          1255.0439453125
         ],
         "xaxis": "x",
         "y": [
          16.594949950434227,
          3.4164918174126604,
          2.420449642369796,
          1.204485504016959,
          2.1258969682347124,
          2.2326449069235146,
          2.6584492487449363,
          1.9698924184559856,
          2.0389168526594634,
          1.1127505975318277,
          3.133949477749705,
          4.046371120888624,
          4.7040522049708535,
          9.879417925965935,
          8.956192714260478,
          8.040319522297816,
          5.422281507000388,
          10.343646064390803,
          12.288351477193856,
          0.4217483204493356
         ],
         "yaxis": "y"
        },
        {
         "customdata": [
          [
           2000
          ],
          [
           2003
          ],
          [
           2004
          ],
          [
           2005
          ],
          [
           2006
          ],
          [
           2007
          ],
          [
           2008
          ],
          [
           2009
          ],
          [
           2010
          ],
          [
           2011
          ],
          [
           2012
          ],
          [
           2013
          ],
          [
           2014
          ],
          [
           2015
          ],
          [
           2016
          ],
          [
           2017
          ],
          [
           2018
          ],
          [
           2019
          ],
          [
           2020
          ]
         ],
         "hovertemplate": "Entity=Congo<br>GDP per capita (constant 2015 US$)=%{x}<br>a_b_ratio=%{y}<br>Year=%{customdata[0]}<extra></extra>",
         "legendgroup": "Congo",
         "marker": {
          "color": "#FECB52",
          "symbol": "circle"
         },
         "mode": "markers",
         "name": "Congo",
         "showlegend": true,
         "type": "scattergl",
         "x": [
          2061.287353515625,
          2070.836181640625,
          2079.62158203125,
          2171.443115234375,
          2268.244384765625,
          2046.6448974609373,
          2102.29638671875,
          2271.131103515625,
          2421.708984375,
          2406.925537109375,
          2578.661865234375,
          2497.94970703125,
          2601.45849609375,
          2447.539306640625,
          2128.859130859375,
          1983.9005126953125,
          1840.43359375,
          1792.30712890625,
          1608.779296875
         ],
         "xaxis": "x",
         "y": [
          0.2137819819440376,
          2.21627581567126,
          0.8382683915238365,
          0.9311582710405694,
          0.5270990539752054,
          0.3285867710460459,
          0.4279139780423889,
          0.0916087769664528,
          0.4551719817759954,
          0.8551067432801589,
          0.6640838824932213,
          1.859955307220914,
          1.4924573269442138,
          0.833269159760603,
          0.5321169191972747,
          1.9125256689745609,
          4.456851338369484,
          2.269000002872152,
          5.938076697994434
         ],
         "yaxis": "y"
        },
        {
         "customdata": [
          [
           2000
          ],
          [
           2001
          ],
          [
           2002
          ],
          [
           2003
          ],
          [
           2004
          ],
          [
           2005
          ],
          [
           2006
          ],
          [
           2007
          ],
          [
           2008
          ],
          [
           2009
          ],
          [
           2011
          ],
          [
           2012
          ],
          [
           2013
          ],
          [
           2014
          ],
          [
           2015
          ],
          [
           2016
          ],
          [
           2017
          ],
          [
           2018
          ],
          [
           2019
          ],
          [
           2020
          ]
         ],
         "hovertemplate": "Entity=Costa Rica<br>GDP per capita (constant 2015 US$)=%{x}<br>a_b_ratio=%{y}<br>Year=%{customdata[0]}<extra></extra>",
         "legendgroup": "Costa Rica",
         "marker": {
          "color": "#636efa",
          "symbol": "circle"
         },
         "mode": "markers",
         "name": "Costa Rica",
         "showlegend": true,
         "type": "scattergl",
         "x": [
          7678.49169921875,
          7805.31201171875,
          7940.43017578125,
          8157.6513671875,
          8395.4013671875,
          8606.333984375,
          9109.5302734375,
          9725.384765625,
          10052.6826171875,
          9837.876953125,
          10559.2060546875,
          10945.03515625,
          11090.0888671875,
          11355.3310546875,
          11642.7783203125,
          12004.6708984375,
          12375.923828125,
          12573.9560546875,
          12735.0927734375,
          12105.9287109375
         ],
         "xaxis": "x",
         "y": [
          0.2487944151433872,
          35.9763082366798,
          0.1115793130013185,
          0.0501359759290017,
          0.1528403737487958,
          0.4726714789566194,
          2.65407693168607,
          5.53150287734996,
          4.833492191444496,
          13.262823267620412,
          2.8483350274480776,
          1.7713153737295986,
          2.971904028369996,
          4.923319047795004,
          9.35602557667743,
          3.142437977798696,
          6.011395218397673,
          2.3091856787637046,
          2.6767484959761254,
          0.7554009705438516
         ],
         "yaxis": "y"
        },
        {
         "customdata": [
          [
           2000
          ],
          [
           2001
          ],
          [
           2002
          ],
          [
           2003
          ],
          [
           2004
          ],
          [
           2005
          ],
          [
           2006
          ],
          [
           2007
          ],
          [
           2008
          ],
          [
           2009
          ],
          [
           2010
          ],
          [
           2011
          ],
          [
           2012
          ],
          [
           2013
          ],
          [
           2014
          ],
          [
           2015
          ],
          [
           2016
          ],
          [
           2017
          ],
          [
           2018
          ],
          [
           2019
          ],
          [
           2020
          ]
         ],
         "hovertemplate": "Entity=Cote d'Ivoire<br>GDP per capita (constant 2015 US$)=%{x}<br>a_b_ratio=%{y}<br>Year=%{customdata[0]}<extra></extra>",
         "legendgroup": "Cote d'Ivoire",
         "marker": {
          "color": "#EF553B",
          "symbol": "circle"
         },
         "mode": "markers",
         "name": "Cote d'Ivoire",
         "showlegend": true,
         "type": "scattergl",
         "x": [
          1847.8699951171875,
          1765.3280029296875,
          1679.406494140625,
          1566.5771484375,
          1583.112060546875,
          1565.428466796875,
          1575.142822265625,
          1557.9083251953125,
          1596.2552490234375,
          1616.378173828125,
          1687.216552734375,
          1558.96875,
          1637.392822265625,
          1769.21484375,
          1887.1649169921875,
          1972.545654296875,
          2061.21533203125,
          2157.2451171875,
          2247.776611328125,
          2327.745361328125,
          2313.79345703125
         ],
         "xaxis": "x",
         "y": [
          1.0375207504150084,
          1.436899081323965,
          0.7945078190879118,
          0.3107672860852982,
          0.2857928594923671,
          0.1918797339998658,
          0.0649683392782801,
          0.2290881383813459,
          0.3744235704676026,
          1.4488995472527442,
          1.7542580411779525,
          1.3620606786206466,
          1.813662695448052,
          0.8647365166081037,
          1.0802088090593511,
          1.126003094156489,
          4.255043235996931,
          0.3279938879646928,
          1.5223195741427686,
          1.1691346613662836,
          0.5609472130769924
         ],
         "yaxis": "y"
        },
        {
         "customdata": [
          [
           2000
          ],
          [
           2001
          ],
          [
           2002
          ],
          [
           2003
          ],
          [
           2004
          ],
          [
           2005
          ],
          [
           2006
          ],
          [
           2007
          ],
          [
           2008
          ],
          [
           2009
          ],
          [
           2010
          ]
         ],
         "hovertemplate": "Entity=Croatia<br>GDP per capita (constant 2015 US$)=%{x}<br>a_b_ratio=%{y}<br>Year=%{customdata[0]}<extra></extra>",
         "legendgroup": "Croatia",
         "marker": {
          "color": "#00cc96",
          "symbol": "circle"
         },
         "mode": "markers",
         "name": "Croatia",
         "showlegend": true,
         "type": "scattergl",
         "x": [
          8805.5,
          9428.4111328125,
          9962.044921875,
          10509.5498046875,
          10942.572265625,
          11399.775390625,
          11959.9228515625,
          12550.234375,
          12789.6357421875,
          11870.7939453125,
          11748.9453125
         ],
         "xaxis": "x",
         "y": [
          0.0791480503856488,
          0.2951122314034916,
          0.0133842708940737,
          0.0134494740246945,
          0.0022505536924721,
          0.4695591358938001,
          1.9241382463902037,
          2.660285612984736,
          5.457856832995499,
          2.706438997184482,
          2.3325123378228665
         ],
         "yaxis": "y"
        },
        {
         "customdata": [
          [
           2000
          ],
          [
           2001
          ],
          [
           2002
          ],
          [
           2003
          ],
          [
           2004
          ],
          [
           2005
          ],
          [
           2006
          ],
          [
           2007
          ],
          [
           2008
          ],
          [
           2009
          ],
          [
           2010
          ],
          [
           2011
          ],
          [
           2012
          ],
          [
           2013
          ],
          [
           2014
          ],
          [
           2015
          ],
          [
           2016
          ],
          [
           2017
          ],
          [
           2018
          ],
          [
           2019
          ],
          [
           2020
          ]
         ],
         "hovertemplate": "Entity=Cuba<br>GDP per capita (constant 2015 US$)=%{x}<br>a_b_ratio=%{y}<br>Year=%{customdata[0]}<extra></extra>",
         "legendgroup": "Cuba",
         "marker": {
          "color": "#ab63fa",
          "symbol": "circle"
         },
         "mode": "markers",
         "name": "Cuba",
         "showlegend": true,
         "type": "scattergl",
         "x": [
          4105.87939453125,
          4222.13720703125,
          4268.9169921875,
          4419.177734375,
          4665.38671875,
          5182.81982421875,
          5808.349609375,
          6235.76611328125,
          6500.65283203125,
          6601.0263671875,
          6759.3427734375,
          6942.0576171875,
          7138.3681640625,
          7317.85400390625,
          7378.6962890625,
          7694.0146484375,
          7726.4951171875,
          7863.39453125,
          8040.98779296875,
          8031.03564453125,
          7156.10693359375
         ],
         "xaxis": "x",
         "y": [
          0.0621297035899893,
          0.1615925121620808,
          0.1163826065657337,
          0.2107290555632694,
          0.5665774871326333,
          0.3645704075710425,
          0.2229003761421646,
          0.2573228310125476,
          0.2287922244696476,
          0.3031059318008108,
          1.2213894611537923,
          0.9709070404744328,
          0.7675104683829899,
          1.1676812332692346,
          1.2954430936028232,
          1.554689076294228,
          5.045841954672593,
          5.194768535527797,
          9.650216719397704,
          1.5198778371678878,
          1.4096478136964143
         ],
         "yaxis": "y"
        },
        {
         "customdata": [
          [
           2000
          ],
          [
           2001
          ],
          [
           2002
          ],
          [
           2003
          ],
          [
           2004
          ],
          [
           2005
          ],
          [
           2006
          ],
          [
           2007
          ],
          [
           2008
          ],
          [
           2009
          ],
          [
           2010
          ],
          [
           2011
          ],
          [
           2012
          ],
          [
           2013
          ],
          [
           2014
          ],
          [
           2015
          ],
          [
           2016
          ],
          [
           2017
          ],
          [
           2018
          ],
          [
           2019
          ],
          [
           2020
          ]
         ],
         "hovertemplate": "Entity=Democratic Republic of Congo<br>GDP per capita (constant 2015 US$)=%{x}<br>a_b_ratio=%{y}<br>Year=%{customdata[0]}<extra></extra>",
         "legendgroup": "Democratic Republic of Congo",
         "marker": {
          "color": "#FFA15A",
          "symbol": "circle"
         },
         "mode": "markers",
         "name": "Democratic Republic of Congo",
         "showlegend": true,
         "type": "scattergl",
         "x": [
          350.8708190917969,
          334.1200561523437,
          334.01568603515625,
          341.9906616210937,
          353.7319030761719,
          363.6675415039063,
          370.8858337402344,
          381.45556640625,
          392.07470703125,
          390.1121215820313,
          404.151611328125,
          417.7570190429688,
          432.6784057617188,
          453.9989318847656,
          480.7662048339844,
          497.3170471191406,
          492.8027648925781,
          494.78125,
          506.9582824707031,
          512.5863037109375,
          505.3483276367188
         ],
         "xaxis": "x",
         "y": [
          0.0448409020113571,
          0.0357237940026335,
          0.0872980723966205,
          0.1003652996186118,
          0.1815176436609076,
          0.4206878400029538,
          0.4343831680222185,
          0.4604455998783468,
          0.7309269355154089,
          1.052275582121715,
          1.6835047263751284,
          1.633692947760046,
          2.172177780201637,
          2.774433858128458,
          2.11427301046068,
          1.9569801526894572,
          1.858997735701952,
          1.6891845394896392,
          1.7840707798762787,
          1.318586285083182,
          0.7701406590672275
         ],
         "yaxis": "y"
        },
        {
         "customdata": [
          [
           2013
          ],
          [
           2014
          ],
          [
           2015
          ],
          [
           2016
          ],
          [
           2017
          ],
          [
           2018
          ],
          [
           2019
          ],
          [
           2020
          ]
         ],
         "hovertemplate": "Entity=Djibouti<br>GDP per capita (constant 2015 US$)=%{x}<br>a_b_ratio=%{y}<br>Year=%{customdata[0]}<extra></extra>",
         "legendgroup": "Djibouti",
         "marker": {
          "color": "#19d3f3",
          "symbol": "circle"
         },
         "mode": "markers",
         "name": "Djibouti",
         "showlegend": true,
         "type": "scattergl",
         "x": [
          2386.248291015625,
          2510.9453125,
          2658.94921875,
          2789.69384765625,
          2893.7587890625,
          3088.563720703125,
          3278.52734375,
          3246.746826171875
         ],
         "xaxis": "x",
         "y": [
          27.126011436968557,
          26.31709316938482,
          14.976159385291762,
          12.616428329207666,
          21.14892496169161,
          35.05472926700996,
          41.27564364585069,
          24.24410316998758
         ],
         "yaxis": "y"
        },
        {
         "customdata": [
          [
           2002
          ],
          [
           2003
          ],
          [
           2004
          ],
          [
           2005
          ],
          [
           2006
          ],
          [
           2007
          ],
          [
           2008
          ],
          [
           2009
          ],
          [
           2010
          ],
          [
           2011
          ],
          [
           2012
          ],
          [
           2013
          ],
          [
           2014
          ],
          [
           2015
          ],
          [
           2017
          ],
          [
           2018
          ],
          [
           2019
          ],
          [
           2020
          ]
         ],
         "hovertemplate": "Entity=Dominica<br>GDP per capita (constant 2015 US$)=%{x}<br>a_b_ratio=%{y}<br>Year=%{customdata[0]}<extra></extra>",
         "legendgroup": "Dominica",
         "marker": {
          "color": "#FF6692",
          "symbol": "circle"
         },
         "mode": "markers",
         "name": "Dominica",
         "showlegend": true,
         "type": "scattergl",
         "x": [
          5955.85888671875,
          6310.56884765625,
          6476.75341796875,
          6501.4052734375,
          6791.0576171875,
          7214.43212890625,
          7724.6845703125,
          7632.2900390625,
          7680.4833984375,
          7659.53125,
          7573.93115234375,
          7491.33349609375,
          7816.61962890625,
          7597.2890625,
          7232.7734375,
          7375.794921875,
          7914.1357421875,
          6583.2236328125
         ],
         "xaxis": "x",
         "y": [
          14.645362545949824,
          5.404852681245162,
          17.20342318963129,
          21.110561104155146,
          20.6512412559445,
          1.5990928782218088,
          11.483559612756926,
          2.7614272218588765,
          1.4540167211922936,
          12.071322609732686,
          57.75817031404191,
          27.16483388776711,
          7.494091197325186,
          10.852956716694989,
          10.934083099031552,
          14.398644833427442,
          4.198975449990202,
          8.609795725653026
         ],
         "yaxis": "y"
        },
        {
         "customdata": [
          [
           2000
          ],
          [
           2001
          ],
          [
           2002
          ],
          [
           2003
          ],
          [
           2004
          ],
          [
           2005
          ],
          [
           2006
          ],
          [
           2007
          ],
          [
           2008
          ],
          [
           2009
          ],
          [
           2010
          ],
          [
           2011
          ],
          [
           2012
          ],
          [
           2013
          ],
          [
           2014
          ],
          [
           2015
          ],
          [
           2016
          ],
          [
           2017
          ],
          [
           2018
          ],
          [
           2019
          ],
          [
           2020
          ]
         ],
         "hovertemplate": "Entity=Dominican Republic<br>GDP per capita (constant 2015 US$)=%{x}<br>a_b_ratio=%{y}<br>Year=%{customdata[0]}<extra></extra>",
         "legendgroup": "Dominican Republic",
         "marker": {
          "color": "#B6E880",
          "symbol": "circle"
         },
         "mode": "markers",
         "name": "Dominican Republic",
         "showlegend": true,
         "type": "scattergl",
         "x": [
          4209.412109375,
          4249.10009765625,
          4375.7900390625,
          4255.76611328125,
          4304.77001953125,
          4647.0380859375,
          5006.55224609375,
          5308.63232421875,
          5409.94775390625,
          5393.47021484375,
          5771.91845703125,
          5881.13525390625,
          5969.3525390625,
          6187.283203125,
          6547.30810546875,
          6921.5205078125,
          7300.033203125,
          7556.853515625,
          7997.76123046875,
          8314.3447265625,
          7677.71044921875
         ],
         "xaxis": "x",
         "y": [
          6.556770509519612,
          0.9505091568407014,
          0.7333625617161548,
          1.3688560253824698,
          2.982372816506665,
          1.4195664484760666,
          1.8763122472242804,
          0.4339405771558577,
          0.4494403732287271,
          0.5286036230492324,
          1.758431777552549,
          2.037613455841897,
          0.4256852710403918,
          2.4180239663981307,
          1.943179789062874,
          2.8080407217798635,
          3.266654881758777,
          3.6591618471892313,
          0.1541958167975349,
          0.219631045574269,
          17.452344925319565
         ],
         "yaxis": "y"
        },
        {
         "customdata": [
          [
           2000
          ],
          [
           2001
          ],
          [
           2002
          ],
          [
           2003
          ],
          [
           2004
          ],
          [
           2005
          ],
          [
           2006
          ],
          [
           2007
          ],
          [
           2008
          ],
          [
           2009
          ],
          [
           2010
          ],
          [
           2011
          ],
          [
           2012
          ],
          [
           2013
          ],
          [
           2014
          ],
          [
           2015
          ],
          [
           2016
          ],
          [
           2017
          ],
          [
           2018
          ],
          [
           2019
          ],
          [
           2020
          ]
         ],
         "hovertemplate": "Entity=Ecuador<br>GDP per capita (constant 2015 US$)=%{x}<br>a_b_ratio=%{y}<br>Year=%{customdata[0]}<extra></extra>",
         "legendgroup": "Ecuador",
         "marker": {
          "color": "#FF97FF",
          "symbol": "circle"
         },
         "mode": "markers",
         "name": "Ecuador",
         "showlegend": true,
         "type": "scattergl",
         "x": [
          4209.34521484375,
          4299.2021484375,
          4397.4228515625,
          4440.72998046875,
          4725.232421875,
          4892.69140625,
          5023.291015625,
          5048.14453125,
          5280.7138671875,
          5224.83837890625,
          5323.7373046875,
          5654.92822265625,
          5885.10009765625,
          6084.44384765625,
          6218.2392578125,
          6124.49072265625,
          5947.001953125,
          5981.1328125,
          5952.21826171875,
          5853.81298828125,
          5317.67724609375
         ],
         "xaxis": "x",
         "y": [
          5.318967369529081,
          3.092127895454315,
          0.7046339128443592,
          1.6727829123233202,
          0.7839168921012653,
          0.7741458524191877,
          1.0743044645952078,
          1.542257216227128,
          1.375475967109983,
          0.9794632866772373,
          1.889312316334926,
          1.4713473801288302,
          1.4821862524932374,
          1.3108195465136778,
          0.646697783775468,
          0.6952375119042444,
          2.010999302415608,
          2.931673676630824,
          3.366896117884736,
          2.894992326338803,
          3.524442769621862
         ],
         "yaxis": "y"
        },
        {
         "customdata": [
          [
           2000
          ],
          [
           2001
          ],
          [
           2002
          ],
          [
           2003
          ],
          [
           2004
          ],
          [
           2005
          ],
          [
           2006
          ],
          [
           2007
          ],
          [
           2008
          ],
          [
           2009
          ],
          [
           2010
          ],
          [
           2011
          ],
          [
           2012
          ],
          [
           2013
          ],
          [
           2014
          ],
          [
           2015
          ],
          [
           2016
          ],
          [
           2017
          ],
          [
           2018
          ],
          [
           2019
          ],
          [
           2020
          ]
         ],
         "hovertemplate": "Entity=Egypt<br>GDP per capita (constant 2015 US$)=%{x}<br>a_b_ratio=%{y}<br>Year=%{customdata[0]}<extra></extra>",
         "legendgroup": "Egypt",
         "marker": {
          "color": "#FECB52",
          "symbol": "circle"
         },
         "mode": "markers",
         "name": "Egypt",
         "showlegend": true,
         "type": "scattergl",
         "x": [
          2610.4765625,
          2651.865478515625,
          2664.64208984375,
          2699.10107421875,
          2758.56640625,
          2830.35009765625,
          2970.94482421875,
          3126.27490234375,
          3290.940673828125,
          3381.115478515625,
          3485.2822265625,
          3472.598388671875,
          3472.148193359375,
          3468.46875,
          3489.864013671875,
          3562.9326171875,
          3638.89501953125,
          3712.603759765625,
          3831.199951171875,
          3964.987060546875,
          4028.4208984375
         ],
         "xaxis": "x",
         "y": [
          1.5793448151365124,
          2.4179781617699865,
          2.3958998711719905,
          1.5908992296914637,
          4.021288085625392,
          1.705209838438576,
          1.619131142602802,
          1.4898059761543472,
          1.7860383539183546,
          2.318567637941909,
          1.5591545338985229,
          1.426680718675782,
          1.3698977856121255,
          1.17244021004714,
          1.430344912198393,
          2.3070124008286537,
          2.6922143214256966,
          1.5529124333830333,
          3.527157230993316,
          3.4094350286850794,
          3.3990561105552306
         ],
         "yaxis": "y"
        },
        {
         "customdata": [
          [
           2000
          ],
          [
           2001
          ],
          [
           2002
          ],
          [
           2003
          ],
          [
           2004
          ],
          [
           2005
          ],
          [
           2006
          ],
          [
           2007
          ],
          [
           2008
          ],
          [
           2009
          ],
          [
           2010
          ],
          [
           2011
          ],
          [
           2012
          ],
          [
           2013
          ],
          [
           2014
          ],
          [
           2015
          ],
          [
           2016
          ],
          [
           2017
          ],
          [
           2018
          ],
          [
           2019
          ],
          [
           2020
          ]
         ],
         "hovertemplate": "Entity=El Salvador<br>GDP per capita (constant 2015 US$)=%{x}<br>a_b_ratio=%{y}<br>Year=%{customdata[0]}<extra></extra>",
         "legendgroup": "El Salvador",
         "marker": {
          "color": "#636efa",
          "symbol": "circle"
         },
         "mode": "markers",
         "name": "El Salvador",
         "showlegend": true,
         "type": "scattergl",
         "x": [
          2992.90087890625,
          2999.323974609375,
          3028.546142578125,
          3059.56640625,
          3071.5458984375,
          3140.032958984375,
          3261.763916015625,
          3308.049560546875,
          3364.100341796875,
          3280.0205078125,
          3334.932861328125,
          3447.35009765625,
          3528.8671875,
          3591.427001953125,
          3636.01025390625,
          3705.57958984375,
          3781.378662109375,
          3846.973876953125,
          3920.5263671875,
          3993.529052734375,
          3632.453857421875
         ],
         "xaxis": "x",
         "y": [
          0.5706151331832504,
          6.761741867456499,
          2.224152667702276,
          1.96785918490808,
          1.4447483975636108,
          3.027584307374669,
          1.7880701089198183,
          2.210409107679683,
          2.124220597260299,
          6.688358136131565,
          4.568174982200801,
          0.9385151972657924,
          0.5047641785579747,
          1.991709509168088,
          1.1772231319353097,
          0.4942969684831117,
          0.8479304018726143,
          2.192555174119041,
          1.9469945860166915,
          1.6703231191508836,
          44.19223822268668
         ],
         "yaxis": "y"
        },
        {
         "customdata": [
          [
           2000
          ],
          [
           2001
          ],
          [
           2002
          ],
          [
           2003
          ],
          [
           2004
          ],
          [
           2005
          ],
          [
           2006
          ],
          [
           2007
          ],
          [
           2008
          ],
          [
           2009
          ],
          [
           2011
          ],
          [
           2014
          ],
          [
           2018
          ],
          [
           2020
          ]
         ],
         "hovertemplate": "Entity=Equatorial Guinea<br>GDP per capita (constant 2015 US$)=%{x}<br>a_b_ratio=%{y}<br>Year=%{customdata[0]}<extra></extra>",
         "legendgroup": "Equatorial Guinea",
         "marker": {
          "color": "#EF553B",
          "symbol": "circle"
         },
         "mode": "markers",
         "name": "Equatorial Guinea",
         "showlegend": true,
         "type": "scattergl",
         "x": [
          4454.0380859375,
          6983.43896484375,
          8003.9619140625,
          8745.26953125,
          11558.67578125,
          12908.0634765625,
          13282.9423828125,
          14619.7509765625,
          16438.640625,
          15906.4970703125,
          14098.646484375,
          12926.533203125,
          8124.18310546875,
          6777.8359375
         ],
         "xaxis": "x",
         "y": [
          0.1313895466476687,
          0.0973191358616844,
          9.53420312493784,
          1.4689308462814523,
          3.860265644361834,
          1.572727062469644,
          3.4569401109975977,
          0.6323644105309754,
          0.0201008661463222,
          0.0287439470038267,
          0.0174735057968355,
          0.0077208570460155,
          0.0133146750353837,
          0
         ],
         "yaxis": "y"
        },
        {
         "customdata": [
          [
           2000
          ],
          [
           2001
          ],
          [
           2002
          ],
          [
           2003
          ],
          [
           2004
          ],
          [
           2005
          ],
          [
           2006
          ],
          [
           2007
          ],
          [
           2008
          ],
          [
           2009
          ],
          [
           2010
          ],
          [
           2011
          ]
         ],
         "hovertemplate": "Entity=Eritrea<br>GDP per capita (constant 2015 US$)=%{x}<br>a_b_ratio=%{y}<br>Year=%{customdata[0]}<extra></extra>",
         "legendgroup": "Eritrea",
         "marker": {
          "color": "#00cc96",
          "symbol": "circle"
         },
         "mode": "markers",
         "name": "Eritrea",
         "showlegend": true,
         "type": "scattergl",
         "x": [
          828.4016723632812,
          869.7055053710938,
          857.4480590820312,
          796.1970825195312,
          772.46240234375,
          762.3992309570312,
          731.3222045898438,
          722.3670043945312,
          637.6026611328125,
          650.189697265625,
          653.8687744140625,
          700.9981689453125
         ],
         "xaxis": "x",
         "y": [
          0.2591011363674355,
          2.83111217621947,
          1.931359787204977,
          0.4786324528631831,
          0.5754316732793054,
          1.786890369331876,
          2.7394939192956898,
          1.213189108500799,
          2.628266910818246,
          2.260125166185674,
          2.2524146743068743,
          0.8511105277695854
         ],
         "yaxis": "y"
        },
        {
         "customdata": [
          [
           2000
          ],
          [
           2001
          ],
          [
           2002
          ],
          [
           2003
          ],
          [
           2004
          ],
          [
           2005
          ],
          [
           2006
          ],
          [
           2007
          ],
          [
           2008
          ],
          [
           2009
          ],
          [
           2010
          ],
          [
           2011
          ],
          [
           2012
          ],
          [
           2013
          ],
          [
           2014
          ],
          [
           2015
          ],
          [
           2016
          ],
          [
           2017
          ],
          [
           2018
          ],
          [
           2019
          ],
          [
           2020
          ]
         ],
         "hovertemplate": "Entity=Eswatini<br>GDP per capita (constant 2015 US$)=%{x}<br>a_b_ratio=%{y}<br>Year=%{customdata[0]}<extra></extra>",
         "legendgroup": "Eswatini",
         "marker": {
          "color": "#ab63fa",
          "symbol": "circle"
         },
         "mode": "markers",
         "name": "Eswatini",
         "showlegend": true,
         "type": "scattergl",
         "x": [
          2471.558837890625,
          2477.4814453125,
          2572.177734375,
          2662.2080078125,
          2749.300048828125,
          2902.09912109375,
          3059.609619140625,
          3175.223388671875,
          3179.064208984375,
          3205.875244140625,
          3304.439697265625,
          3356.0439453125,
          3513.376953125,
          3623.66015625,
          3629.799072265625,
          3680.349365234375,
          3686.215576171875,
          3724.761962890625,
          3774.621337890625,
          3833.246826171875,
          3723.296142578125
         ],
         "xaxis": "x",
         "y": [
          0.0776319160333196,
          21.480699058959093,
          0.1522623327731348,
          1.548911606259114,
          6.380327573523893,
          4.244818755568409,
          2.67224125884832,
          2.3708159019939763,
          6.661253251489836,
          1.644000767200358,
          3.827530215669054,
          1.5741207314414332,
          0.7467702188036741,
          1.6900214516479497,
          2.407023178478548,
          10.0534331151268,
          11.85090269043499,
          4.750750609911265,
          3.2832656859957083,
          2.487987551512457,
          8.57145519085463
         ],
         "yaxis": "y"
        },
        {
         "customdata": [
          [
           2000
          ],
          [
           2001
          ],
          [
           2002
          ],
          [
           2003
          ],
          [
           2004
          ],
          [
           2005
          ],
          [
           2006
          ],
          [
           2007
          ],
          [
           2008
          ],
          [
           2010
          ],
          [
           2011
          ],
          [
           2012
          ],
          [
           2013
          ],
          [
           2014
          ],
          [
           2015
          ],
          [
           2016
          ],
          [
           2017
          ],
          [
           2018
          ],
          [
           2019
          ],
          [
           2020
          ]
         ],
         "hovertemplate": "Entity=Ethiopia<br>GDP per capita (constant 2015 US$)=%{x}<br>a_b_ratio=%{y}<br>Year=%{customdata[0]}<extra></extra>",
         "legendgroup": "Ethiopia",
         "marker": {
          "color": "#FFA15A",
          "symbol": "circle"
         },
         "mode": "markers",
         "name": "Ethiopia",
         "showlegend": true,
         "type": "scattergl",
         "x": [
          262.0252990722656,
          275.72222900390625,
          271.9869079589844,
          258.6288146972656,
          285.5456848144531,
          310.4826354980469,
          334.7274475097656,
          362.9692993164063,
          391.2555847167969,
          453.298828125,
          489.99267578125,
          517.5134887695312,
          556.3262939453125,
          596.4551391601562,
          640.5419311523438,
          682.2393798828125,
          727.8440551757812,
          757.3504028320312,
          799.7951049804688,
          826.9503173828125
         ],
         "xaxis": "x",
         "y": [
          0.1623108481887541,
          0.5737555849890239,
          0.3580814062972576,
          0.5431273156029462,
          0.4806043540656233,
          1.656900642654395,
          1.7398439292861172,
          1.6778829609924286,
          1.700745914653495,
          1.4408692280625477,
          1.6369350755172716,
          2.042322772121246,
          1.8458170859541807,
          2.1708974069214952,
          2.038802912361453,
          2.0552128174771958,
          2.120095738602944,
          1.7733374702509077,
          2.3858971919809178,
          1.3233960446764987
         ],
         "yaxis": "y"
        },
        {
         "customdata": [
          [
           2000
          ],
          [
           2002
          ],
          [
           2003
          ],
          [
           2004
          ],
          [
           2005
          ],
          [
           2006
          ],
          [
           2007
          ],
          [
           2008
          ],
          [
           2009
          ],
          [
           2010
          ],
          [
           2011
          ],
          [
           2012
          ],
          [
           2013
          ],
          [
           2014
          ],
          [
           2015
          ],
          [
           2016
          ],
          [
           2017
          ],
          [
           2018
          ],
          [
           2019
          ],
          [
           2020
          ]
         ],
         "hovertemplate": "Entity=Fiji<br>GDP per capita (constant 2015 US$)=%{x}<br>a_b_ratio=%{y}<br>Year=%{customdata[0]}<extra></extra>",
         "legendgroup": "Fiji",
         "marker": {
          "color": "#19d3f3",
          "symbol": "circle"
         },
         "mode": "markers",
         "name": "Fiji",
         "showlegend": true,
         "type": "scattergl",
         "x": [
          4106.96630859375,
          4300.64111328125,
          4339.27783203125,
          4559.28125,
          4570.28564453125,
          4619.73388671875,
          4534.8828125,
          4532.01318359375,
          4425.84814453125,
          4523.8662109375,
          4626.68310546875,
          4683.22607421875,
          4901.8974609375,
          5171.52783203125,
          5390.71435546875,
          5498.662109375,
          5759.65869140625,
          5938.427734375,
          5869.02099609375,
          4911.08349609375
         ],
         "xaxis": "x",
         "y": [
          0.5165065896631416,
          0.1176613166066005,
          0.1514611339079535,
          0.2307606216229625,
          0.2857374712690972,
          1.2456176904889162,
          0.965581510236848,
          2.3976055169460526,
          4.359932992378438,
          2.087991727575632,
          3.027437389842562,
          1.196399386653232,
          2.0143037460576023,
          4.281457792690066,
          3.64148193050875,
          3.103320989012066,
          2.4482547751849246,
          7.246991845501968,
          20.468778580076474,
          2.8356311723868197
         ],
         "yaxis": "y"
        },
        {
         "customdata": [
          [
           2000
          ],
          [
           2003
          ],
          [
           2004
          ],
          [
           2005
          ],
          [
           2006
          ],
          [
           2008
          ],
          [
           2009
          ],
          [
           2010
          ],
          [
           2011
          ],
          [
           2012
          ],
          [
           2013
          ],
          [
           2014
          ],
          [
           2015
          ],
          [
           2016
          ],
          [
           2017
          ],
          [
           2018
          ],
          [
           2019
          ],
          [
           2020
          ]
         ],
         "hovertemplate": "Entity=Gabon<br>GDP per capita (constant 2015 US$)=%{x}<br>a_b_ratio=%{y}<br>Year=%{customdata[0]}<extra></extra>",
         "legendgroup": "Gabon",
         "marker": {
          "color": "#FF6692",
          "symbol": "circle"
         },
         "mode": "markers",
         "name": "Gabon",
         "showlegend": true,
         "type": "scattergl",
         "x": [
          7888.06201171875,
          7646.8779296875,
          7507.13134765625,
          7504.259765625,
          7091.72021484375,
          6845.94482421875,
          6634.71875,
          6863.53857421875,
          7086.3876953125,
          7181.2138671875,
          7304.77978515625,
          7350.05126953125,
          7384.70068359375,
          7313.14013671875,
          7145.11767578125,
          7019.82763671875,
          7116.0810546875,
          6818.4970703125
         ],
         "xaxis": "x",
         "y": [
          0.0864140600389177,
          0.0290190263246097,
          0.0423395419567219,
          0.1165691371552467,
          0.0133107937226296,
          9.66257246929352,
          1.1974244488672543,
          4.862320928376025,
          7.243972946807574,
          5.477181766755902,
          11.113272317227676,
          8.404267110284525,
          3.199370576833205,
          2.5021450381313484,
          1.9670829001623664,
          0.465325707466151,
          0.2407717537279493,
          0.348951379295755
         ],
         "yaxis": "y"
        },
        {
         "customdata": [
          [
           2000
          ],
          [
           2001
          ],
          [
           2002
          ],
          [
           2003
          ],
          [
           2004
          ],
          [
           2005
          ],
          [
           2006
          ],
          [
           2007
          ],
          [
           2008
          ],
          [
           2009
          ],
          [
           2010
          ],
          [
           2011
          ],
          [
           2012
          ],
          [
           2013
          ],
          [
           2014
          ],
          [
           2015
          ],
          [
           2016
          ],
          [
           2017
          ],
          [
           2018
          ],
          [
           2019
          ],
          [
           2020
          ]
         ],
         "hovertemplate": "Entity=Gambia<br>GDP per capita (constant 2015 US$)=%{x}<br>a_b_ratio=%{y}<br>Year=%{customdata[0]}<extra></extra>",
         "legendgroup": "Gambia",
         "marker": {
          "color": "#B6E880",
          "symbol": "circle"
         },
         "mode": "markers",
         "name": "Gambia",
         "showlegend": true,
         "type": "scattergl",
         "x": [
          728.7095947265625,
          746.9612426757812,
          699.9417114257812,
          724.4702758789062,
          751.3964233398438,
          711.2819213867188,
          686.1300048828125,
          686.1423950195312,
          707.728515625,
          732.7855224609375,
          753.1768188476562,
          671.36962890625,
          685.4642333984375,
          684.08154296875,
          654.3509521484375,
          660.7235717773438,
          653.7329711914062,
          665.2131958007812,
          692.632080078125,
          714.0818481445312,
          692.20751953125
         ],
         "xaxis": "x",
         "y": [
          0.1669518761217079,
          0.209536478273095,
          0.6372230214882114,
          0.4852314074966976,
          1.2032970338728115,
          1.355113928945053,
          3.435990362865125,
          9.048727710354587,
          4.866677212964916,
          4.504494910879154,
          1.8118148913633727,
          1.7465588037323312,
          1.800079572250633,
          0.2164832206679354,
          0.3654598421304847,
          1.1317554147839213,
          1.3766543587725248,
          0.7517252935403279,
          0.6666895713390563,
          0.701507683502054,
          0.7109543299255441
         ],
         "yaxis": "y"
        },
        {
         "customdata": [
          [
           2000
          ],
          [
           2001
          ],
          [
           2002
          ],
          [
           2003
          ],
          [
           2004
          ],
          [
           2005
          ],
          [
           2006
          ],
          [
           2007
          ],
          [
           2008
          ],
          [
           2009
          ],
          [
           2010
          ],
          [
           2011
          ],
          [
           2012
          ],
          [
           2013
          ],
          [
           2014
          ],
          [
           2015
          ],
          [
           2016
          ],
          [
           2017
          ],
          [
           2018
          ],
          [
           2019
          ],
          [
           2020
          ]
         ],
         "hovertemplate": "Entity=Georgia<br>GDP per capita (constant 2015 US$)=%{x}<br>a_b_ratio=%{y}<br>Year=%{customdata[0]}<extra></extra>",
         "legendgroup": "Georgia",
         "marker": {
          "color": "#FF97FF",
          "symbol": "circle"
         },
         "mode": "markers",
         "name": "Georgia",
         "showlegend": true,
         "type": "scattergl",
         "x": [
          1566.560302734375,
          1667.508056640625,
          1774.636474609375,
          1984.244384765625,
          2112.26123046875,
          2329.57080078125,
          2563.543212890625,
          2901.10400390625,
          2980.3095703125,
          2897.130859375,
          3100.723388671875,
          3356.997802734375,
          3597.203857421875,
          3738.705078125,
          3902.56884765625,
          4014.18603515625,
          4128.3857421875,
          4327.7275390625,
          4539.08740234375,
          4773.42333984375,
          4447.6640625
         ],
         "xaxis": "x",
         "y": [
          0.1875655746833365,
          11.49720652867606,
          1.6547130882634302,
          1.528189622945344,
          3.083587018951024,
          1.7873448411749722,
          3.48512125222364,
          2.595689823769556,
          4.678195561977585,
          8.928193923899727,
          13.834322777581724,
          21.11382284223089,
          15.526929905124597,
          7.078664298307592,
          15.367364804283362,
          12.22708813129204,
          17.4484343079707,
          18.56622013709787,
          16.257886718608137,
          12.896419712030347,
          9.365593248063153
         ],
         "yaxis": "y"
        },
        {
         "customdata": [
          [
           2000
          ],
          [
           2001
          ],
          [
           2002
          ],
          [
           2003
          ],
          [
           2004
          ],
          [
           2005
          ],
          [
           2006
          ],
          [
           2007
          ],
          [
           2008
          ],
          [
           2009
          ],
          [
           2010
          ],
          [
           2011
          ],
          [
           2012
          ],
          [
           2013
          ],
          [
           2014
          ],
          [
           2015
          ],
          [
           2016
          ],
          [
           2017
          ],
          [
           2018
          ],
          [
           2019
          ],
          [
           2020
          ]
         ],
         "hovertemplate": "Entity=Ghana<br>GDP per capita (constant 2015 US$)=%{x}<br>a_b_ratio=%{y}<br>Year=%{customdata[0]}<extra></extra>",
         "legendgroup": "Ghana",
         "marker": {
          "color": "#FECB52",
          "symbol": "circle"
         },
         "mode": "markers",
         "name": "Ghana",
         "showlegend": true,
         "type": "scattergl",
         "x": [
          1040.6341552734375,
          1056.0709228515625,
          1076.9151611328125,
          1105.4013671875,
          1138.6583251953125,
          1175.8616943359375,
          1219.5621337890625,
          1240.1619873046875,
          1319.173583984375,
          1348.3414306640625,
          1419.120361328125,
          1579.6995849609375,
          1686.069580078125,
          1767.8021240234375,
          1777.0966796875,
          1774.0748291015625,
          1793.180908203125,
          1896.36669921875,
          1970.2608642578125,
          2053.586669921875,
          2018.6240234375
         ],
         "xaxis": "x",
         "y": [
          3.100352464869198,
          3.104639113184348,
          2.9299089849450275,
          2.594995105375086,
          2.865822884659348,
          3.247551046026146,
          3.4015063257107903,
          4.988120630016591,
          5.051777326173066,
          2.4235726932333304,
          4.158011961967759,
          2.5910156247018805,
          4.037416470455077,
          2.1351044079497528,
          3.269926085484238,
          5.087121149407436,
          3.7317753241846585,
          2.519665467837521,
          1.99931015377455,
          2.0258677874142026,
          2.16001030689424
         ],
         "yaxis": "y"
        },
        {
         "customdata": [
          [
           2000
          ],
          [
           2002
          ],
          [
           2003
          ],
          [
           2004
          ],
          [
           2005
          ],
          [
           2006
          ],
          [
           2007
          ],
          [
           2008
          ],
          [
           2009
          ],
          [
           2010
          ],
          [
           2011
          ],
          [
           2012
          ],
          [
           2013
          ],
          [
           2014
          ],
          [
           2015
          ],
          [
           2016
          ],
          [
           2017
          ],
          [
           2018
          ],
          [
           2019
          ],
          [
           2020
          ]
         ],
         "hovertemplate": "Entity=Grenada<br>GDP per capita (constant 2015 US$)=%{x}<br>a_b_ratio=%{y}<br>Year=%{customdata[0]}<extra></extra>",
         "legendgroup": "Grenada",
         "marker": {
          "color": "#636efa",
          "symbol": "circle"
         },
         "mode": "markers",
         "name": "Grenada",
         "showlegend": true,
         "type": "scattergl",
         "x": [
          6976.716796875,
          7015.962890625,
          7652.85107421875,
          7578.3095703125,
          8558.8291015625,
          8194.951171875,
          8676.5078125,
          8735.9638671875,
          8132.78076171875,
          8057.6865234375,
          8076.8232421875,
          7934.04150390625,
          8066.552734375,
          8601.0810546875,
          9096.5390625,
          9380.232421875,
          9742.603515625,
          10109.0517578125,
          10133.1318359375,
          8703.9326171875
         ],
         "xaxis": "x",
         "y": [
          78.83323095251392,
          31.04040795964747,
          2.3908045977011496,
          1.0043002309890532,
          1.0882576994232234,
          2.2521305154676323,
          1.163415070699839,
          0.0888912593224708,
          30.637471304962038,
          4.383734591172912,
          5.481454412570802,
          8.108341240403693,
          0.17100740462062,
          0.1695116369738782,
          0.1680757012958636,
          0.1667041751060655,
          31.918236393404666,
          0,
          2.933100857932001,
          42.289281324794615
         ],
         "yaxis": "y"
        },
        {
         "customdata": [
          [
           2000
          ],
          [
           2001
          ],
          [
           2002
          ],
          [
           2003
          ],
          [
           2004
          ],
          [
           2005
          ],
          [
           2006
          ],
          [
           2007
          ],
          [
           2008
          ],
          [
           2009
          ],
          [
           2010
          ],
          [
           2011
          ],
          [
           2012
          ],
          [
           2013
          ],
          [
           2014
          ],
          [
           2015
          ],
          [
           2016
          ],
          [
           2017
          ],
          [
           2018
          ],
          [
           2019
          ],
          [
           2020
          ]
         ],
         "hovertemplate": "Entity=Guatemala<br>GDP per capita (constant 2015 US$)=%{x}<br>a_b_ratio=%{y}<br>Year=%{customdata[0]}<extra></extra>",
         "legendgroup": "Guatemala",
         "marker": {
          "color": "#EF553B",
          "symbol": "circle"
         },
         "mode": "markers",
         "name": "Guatemala",
         "showlegend": true,
         "type": "scattergl",
         "x": [
          3195.394287109375,
          3192.30859375,
          3239.567138671875,
          3250.841064453125,
          3282.321044921875,
          3320.1640625,
          3427.67822265625,
          3573.599609375,
          3620.83056640625,
          3570.302734375,
          3606.4306640625,
          3688.8662109375,
          3731.67578125,
          3802.15380859375,
          3903.0595703125,
          3994.636962890625,
          4034.158447265625,
          4091.26806640625,
          4160.0712890625,
          4254.03515625,
          4126.20556640625
         ],
         "xaxis": "x",
         "y": [
          2.256325956618725,
          0.7286082491610388,
          0.734751645400231,
          1.0071192832556397,
          1.0013668229198316,
          1.388125534062834,
          2.0182814396915214,
          1.104652983815191,
          0.5643998466034181,
          2.1613789906528424,
          2.4857104311686498,
          0.6471855719684513,
          0.3232351115032237,
          0.3183626589000874,
          0.1202768735445861,
          0.1624887781187611,
          0.2424651052814179,
          0.9427749479784866,
          1.4700143191382689,
          1.1709110389377315,
          0.4947382656031464
         ],
         "yaxis": "y"
        },
        {
         "customdata": [
          [
           2000
          ],
          [
           2001
          ],
          [
           2002
          ],
          [
           2003
          ],
          [
           2004
          ],
          [
           2005
          ],
          [
           2006
          ],
          [
           2007
          ],
          [
           2008
          ],
          [
           2009
          ],
          [
           2010
          ],
          [
           2011
          ],
          [
           2012
          ],
          [
           2013
          ],
          [
           2014
          ],
          [
           2015
          ],
          [
           2016
          ],
          [
           2017
          ],
          [
           2019
          ],
          [
           2020
          ]
         ],
         "hovertemplate": "Entity=Guinea<br>GDP per capita (constant 2015 US$)=%{x}<br>a_b_ratio=%{y}<br>Year=%{customdata[0]}<extra></extra>",
         "legendgroup": "Guinea",
         "marker": {
          "color": "#00cc96",
          "symbol": "circle"
         },
         "mode": "markers",
         "name": "Guinea",
         "showlegend": true,
         "type": "scattergl",
         "x": [
          628.1550903320312,
          637.4932250976562,
          657.2218017578125,
          652.7306518554688,
          655.08544921875,
          661.1024780273438,
          654.7476806640625,
          683.900146484375,
          696.0313110351562,
          672.6307373046875,
          689.2567138671875,
          711.9908447265625,
          737.7130737304688,
          749.8700561523438,
          759.587890625,
          769.2554931640625,
          830.2461547851562,
          890.7886352539062,
          945.7693481445312,
          984.0083618164062
         ],
         "xaxis": "x",
         "y": [
          1.029150508224028,
          7.256928418908413,
          1.7067339163352973,
          3.392512692568699,
          3.040939640305384,
          2.7647363620927186,
          2.260297051689532,
          2.086500311561003,
          1.864047633728035,
          1.5167664056996888,
          1.0203755761032711,
          0.8719844228246767,
          0.5589183345234678,
          2.527264196707628,
          0.8294096667873134,
          1.113022248489012,
          0.7543380093070223,
          1.6771791953640904,
          2.3063416552404394,
          0.8072603756244625
         ],
         "yaxis": "y"
        },
        {
         "customdata": [
          [
           2000
          ],
          [
           2001
          ],
          [
           2002
          ],
          [
           2003
          ],
          [
           2004
          ],
          [
           2005
          ],
          [
           2006
          ],
          [
           2007
          ],
          [
           2008
          ],
          [
           2009
          ],
          [
           2010
          ],
          [
           2011
          ],
          [
           2012
          ],
          [
           2013
          ],
          [
           2014
          ],
          [
           2015
          ],
          [
           2016
          ],
          [
           2017
          ],
          [
           2018
          ],
          [
           2019
          ],
          [
           2020
          ]
         ],
         "hovertemplate": "Entity=Guinea-Bissau<br>GDP per capita (constant 2015 US$)=%{x}<br>a_b_ratio=%{y}<br>Year=%{customdata[0]}<extra></extra>",
         "legendgroup": "Guinea-Bissau",
         "marker": {
          "color": "#ab63fa",
          "symbol": "circle"
         },
         "mode": "markers",
         "name": "Guinea-Bissau",
         "showlegend": true,
         "type": "scattergl",
         "x": [
          577.4856567382812,
          577.7188110351562,
          559.5562133789062,
          550.0894165039062,
          552.2847900390625,
          562.3848266601562,
          561.7350463867188,
          566.1073608398438,
          569.9528198242188,
          574.4708251953125,
          585.6915893554688,
          616.6835327148438,
          590.2660522460938,
          593.4814453125,
          583.5661010742188,
          603.3993530273438,
          624.9197387695312,
          645.3590698242188,
          637.5466918945312,
          650.0693969726562,
          619.2891845703125
         ],
         "xaxis": "x",
         "y": [
          0.3655995222832909,
          0.3896961165589037,
          2.6678447703242325,
          4.95564997301755,
          2.887873307735937,
          1.8192176059676133,
          1.6547697677806426,
          2.2818553207213146,
          1.9013233344777103,
          2.422723311247264,
          1.320805040243079,
          3.23177079287146,
          3.77559417203156,
          2.8979412248042564,
          1.5717155447256324,
          2.0347347102822857,
          3.1288258617625866,
          2.675766756124873,
          1.7870556906814397,
          2.7354018858540647,
          1.0963177118807603
         ],
         "yaxis": "y"
        },
        {
         "customdata": [
          [
           2000
          ],
          [
           2002
          ],
          [
           2003
          ],
          [
           2004
          ],
          [
           2005
          ],
          [
           2006
          ],
          [
           2007
          ],
          [
           2008
          ],
          [
           2009
          ],
          [
           2010
          ],
          [
           2011
          ],
          [
           2012
          ],
          [
           2013
          ],
          [
           2014
          ],
          [
           2015
          ],
          [
           2016
          ],
          [
           2017
          ],
          [
           2018
          ],
          [
           2019
          ],
          [
           2020
          ]
         ],
         "hovertemplate": "Entity=Guyana<br>GDP per capita (constant 2015 US$)=%{x}<br>a_b_ratio=%{y}<br>Year=%{customdata[0]}<extra></extra>",
         "legendgroup": "Guyana",
         "marker": {
          "color": "#FFA15A",
          "symbol": "circle"
         },
         "mode": "markers",
         "name": "Guyana",
         "showlegend": true,
         "type": "scattergl",
         "x": [
          3850.81787109375,
          3993.524169921875,
          3966.396240234375,
          4025.190673828125,
          3944.44482421875,
          4145.78466796875,
          4443.07275390625,
          4512.38525390625,
          4681.6484375,
          4847.431640625,
          5088.60693359375,
          5338.712890625,
          5505.39013671875,
          5568.21826171875,
          5576.82568359375,
          5759.69189453125,
          5945.06884765625,
          6178.8896484375,
          6478.28759765625,
          9250.3017578125
         ],
         "xaxis": "x",
         "y": [
          50.83926282410194,
          7.983417639275784,
          16.921541635275695,
          8.61357025254199,
          9.740520433374185,
          13.990421637815542,
          9.160269018463296,
          8.844288803819884,
          17.037929359147572,
          22.542005543247623,
          12.21388405543948,
          18.038361761899,
          9.419017853320204,
          21.74069330578358,
          3.933550804391273,
          1.0407102122653626,
          0.3144386287855463,
          12.628609401694169,
          5.946709967061486,
          3.073229412185292
         ],
         "yaxis": "y"
        },
        {
         "customdata": [
          [
           2000
          ],
          [
           2001
          ],
          [
           2002
          ],
          [
           2003
          ],
          [
           2004
          ],
          [
           2005
          ],
          [
           2006
          ],
          [
           2007
          ],
          [
           2008
          ],
          [
           2009
          ],
          [
           2010
          ],
          [
           2011
          ],
          [
           2012
          ],
          [
           2013
          ],
          [
           2014
          ],
          [
           2015
          ],
          [
           2016
          ],
          [
           2017
          ],
          [
           2018
          ],
          [
           2019
          ],
          [
           2020
          ]
         ],
         "hovertemplate": "Entity=Haiti<br>GDP per capita (constant 2015 US$)=%{x}<br>a_b_ratio=%{y}<br>Year=%{customdata[0]}<extra></extra>",
         "legendgroup": "Haiti",
         "marker": {
          "color": "#19d3f3",
          "symbol": "circle"
         },
         "mode": "markers",
         "name": "Haiti",
         "showlegend": true,
         "type": "scattergl",
         "x": [
          1315.94384765625,
          1289.343505859375,
          1281.2740478515625,
          1304.1282958984375,
          1266.0347900390625,
          1283.8970947265625,
          1285.703369140625,
          1324.8707275390625,
          1338.763427734375,
          1395.7054443359375,
          1296.8056640625,
          1342.543701171875,
          1329.4656982421875,
          1366.99267578125,
          1370.9869384765625,
          1386.854248046875,
          1393.1766357421875,
          1409.632568359375,
          1414.9993896484375,
          1373.883056640625,
          1311.7081298828125
         ],
         "xaxis": "x",
         "y": [
          0.1076526179202854,
          0.5181086613669986,
          0.3936941511365292,
          0.3892309885059976,
          0.3715897849633348,
          0.6606744300667885,
          0.7413968023674624,
          0.8544892850228091,
          1.6104016490011597,
          11.27057751355871,
          4.034387079476613,
          3.3131350635975263,
          4.095546528425813,
          2.951895025974045,
          6.131910896468087,
          4.409413994749219,
          3.7157528413002057,
          3.3745887392569607,
          4.361436402711228,
          3.787484741866383,
          2.669189277535898
         ],
         "yaxis": "y"
        },
        {
         "customdata": [
          [
           2000
          ],
          [
           2001
          ],
          [
           2002
          ],
          [
           2003
          ],
          [
           2004
          ],
          [
           2005
          ],
          [
           2006
          ],
          [
           2007
          ],
          [
           2008
          ],
          [
           2009
          ],
          [
           2010
          ],
          [
           2011
          ],
          [
           2012
          ],
          [
           2013
          ],
          [
           2014
          ],
          [
           2015
          ],
          [
           2016
          ],
          [
           2017
          ],
          [
           2018
          ],
          [
           2019
          ],
          [
           2020
          ]
         ],
         "hovertemplate": "Entity=Honduras<br>GDP per capita (constant 2015 US$)=%{x}<br>a_b_ratio=%{y}<br>Year=%{customdata[0]}<extra></extra>",
         "legendgroup": "Honduras",
         "marker": {
          "color": "#FF6692",
          "symbol": "circle"
         },
         "mode": "markers",
         "name": "Honduras",
         "showlegend": true,
         "type": "scattergl",
         "x": [
          1777.9202880859375,
          1778.3507080078125,
          1797.89013671875,
          1832.80908203125,
          1899.8148193359373,
          1967.21728515625,
          2048.267578125,
          2126.49169921875,
          2168.58740234375,
          2071.770751953125,
          2106.002685546875,
          2144.69970703125,
          2191.888916015625,
          2212.66015625,
          2240.334716796875,
          2286.203125,
          2334.75244140625,
          2406.7470703125,
          2457.966796875,
          2482.1201171875,
          2223.446044921875
         ],
         "xaxis": "x",
         "y": [
          18.51810957547155,
          1.6891247131230074,
          2.3362116220260307,
          3.639325992938236,
          3.60673553459324,
          4.0834860729858695,
          2.9218081279718398,
          3.269622593937608,
          3.1264749852378046,
          4.267087286459887,
          7.5896918400518,
          4.766593486119471,
          3.16979380986014,
          2.884834075727062,
          2.210816105565264,
          3.4805492704833285,
          1.4406818536871835,
          1.143676874406932,
          1.0916123124065773,
          4.594916351636416,
          6.382287985036597
         ],
         "yaxis": "y"
        },
        {
         "customdata": [
          [
           2000
          ],
          [
           2001
          ],
          [
           2002
          ],
          [
           2003
          ],
          [
           2004
          ],
          [
           2005
          ],
          [
           2006
          ],
          [
           2007
          ],
          [
           2008
          ],
          [
           2009
          ],
          [
           2010
          ],
          [
           2011
          ],
          [
           2012
          ],
          [
           2013
          ],
          [
           2014
          ],
          [
           2015
          ],
          [
           2016
          ],
          [
           2017
          ],
          [
           2018
          ],
          [
           2019
          ],
          [
           2020
          ]
         ],
         "hovertemplate": "Entity=India<br>GDP per capita (constant 2015 US$)=%{x}<br>a_b_ratio=%{y}<br>Year=%{customdata[0]}<extra></extra>",
         "legendgroup": "India",
         "marker": {
          "color": "#B6E880",
          "symbol": "circle"
         },
         "mode": "markers",
         "name": "India",
         "showlegend": true,
         "type": "scattergl",
         "x": [
          757.6687622070312,
          780.6062622070312,
          796.7247924804688,
          845.2748413085938,
          897.6282348632812,
          953.5679931640624,
          1014.6276245117188,
          1075.994140625,
          1093.0765380859375,
          1162.498779296875,
          1244.365966796875,
          1292.8211669921875,
          1346.6759033203125,
          1415.8287353515625,
          1503.4215087890625,
          1605.60546875,
          1719.318115234375,
          1816.7308349609373,
          1915.435302734375,
          1972.7578125,
          1811.6842041015625
         ],
         "xaxis": "x",
         "y": [
          0.1735694195536619,
          0.3414828025757284,
          0.2069082144999441,
          0.1584549817029152,
          0.200006235167539,
          0.3515645136168653,
          0.2975245710037045,
          0.2466857432491825,
          0.3039441519467912,
          0.2492317610959938,
          0.374806457067852,
          0.3922166556778786,
          0.3611648760044636,
          0.3640138950560867,
          0.378230129984119,
          0.3632565933180743,
          0.430004778116399,
          0.502445838493395,
          0.4451779013435573,
          0.2780324241319031,
          0.2187645575681754
         ],
         "yaxis": "y"
        },
        {
         "customdata": [
          [
           2000
          ],
          [
           2001
          ],
          [
           2002
          ],
          [
           2004
          ],
          [
           2005
          ],
          [
           2006
          ],
          [
           2007
          ],
          [
           2008
          ],
          [
           2009
          ],
          [
           2010
          ],
          [
           2011
          ],
          [
           2012
          ],
          [
           2013
          ],
          [
           2014
          ],
          [
           2015
          ],
          [
           2016
          ],
          [
           2017
          ],
          [
           2018
          ],
          [
           2019
          ],
          [
           2020
          ]
         ],
         "hovertemplate": "Entity=Indonesia<br>GDP per capita (constant 2015 US$)=%{x}<br>a_b_ratio=%{y}<br>Year=%{customdata[0]}<extra></extra>",
         "legendgroup": "Indonesia",
         "marker": {
          "color": "#FF97FF",
          "symbol": "circle"
         },
         "mode": "markers",
         "name": "Indonesia",
         "showlegend": true,
         "type": "scattergl",
         "x": [
          1867.548828125,
          1909.2918701171875,
          1968.3011474609373,
          2108.641845703125,
          2199.093994140625,
          2289.422119140625,
          2402.66748046875,
          2513.671630859375,
          2595.298828125,
          2720.191650390625,
          2849.35498046875,
          2980.610107421875,
          3104.347900390625,
          3217.3173828125,
          3331.695068359375,
          3456.92822265625,
          3589.715576171875,
          3732.8671875,
          3877.383056640625,
          3756.9072265625
         ],
         "xaxis": "x",
         "y": [
          0.4137852118229002,
          1.3876681184244668,
          0.2273356199916654,
          0.3209279094737388,
          0.4287053815990996,
          0.9048849481605972,
          0.8643935955115197,
          0.8363994729620011,
          1.0254322808522036,
          1.141973473102865,
          1.1668974291251253,
          0.9197407390971676,
          0.8070250026137502,
          0.554268169318037,
          0.5089312533223724,
          0.4788998117763343,
          0.4357296860514114,
          0.4505239077820696,
          0.4965448844526032,
          0.6815323106346585
         ],
         "yaxis": "y"
        },
        {
         "customdata": [
          [
           2000
          ],
          [
           2002
          ],
          [
           2003
          ],
          [
           2004
          ],
          [
           2005
          ],
          [
           2006
          ],
          [
           2007
          ],
          [
           2008
          ],
          [
           2009
          ],
          [
           2010
          ],
          [
           2011
          ],
          [
           2012
          ],
          [
           2013
          ],
          [
           2014
          ],
          [
           2015
          ],
          [
           2016
          ],
          [
           2017
          ],
          [
           2018
          ],
          [
           2019
          ],
          [
           2020
          ]
         ],
         "hovertemplate": "Entity=Iran<br>GDP per capita (constant 2015 US$)=%{x}<br>a_b_ratio=%{y}<br>Year=%{customdata[0]}<extra></extra>",
         "legendgroup": "Iran",
         "marker": {
          "color": "#FECB52",
          "symbol": "circle"
         },
         "mode": "markers",
         "name": "Iran",
         "showlegend": true,
         "type": "scattergl",
         "x": [
          3888.051025390625,
          4103.11083984375,
          4405.6923828125,
          4543.58837890625,
          4634.0107421875,
          4811.05419921875,
          5146.41259765625,
          5103.22802734375,
          5097.791015625,
          5332.10791015625,
          5409.2021484375,
          4946.5361328125,
          4876.12451171875,
          5035.81591796875,
          4904.3271484375,
          5486.408203125,
          5614.11767578125,
          5203.16943359375,
          4785.02783203125,
          4883.60107421875
         ],
         "xaxis": "x",
         "y": [
          0.9831506530384452,
          0.2931953720878005,
          0.1453909651346579,
          0.1003450828303047,
          0.0294944934493157,
          0.0470005458236521,
          0.035813338336323,
          0.0293241532821229,
          0.0201822625145097,
          0.0152572780400378,
          0.0146706373794636,
          0.0146137480347742,
          0.0282950590403172,
          0.0271380018166703,
          0.0136934636012087,
          0.0278490569589079,
          0.0151470183804334,
          0.0108622576957343,
          0.0287647753907712,
          0.0124870844596148
         ],
         "yaxis": "y"
        },
        {
         "customdata": [
          [
           2000
          ],
          [
           2001
          ],
          [
           2002
          ],
          [
           2003
          ],
          [
           2004
          ],
          [
           2005
          ],
          [
           2006
          ],
          [
           2007
          ],
          [
           2008
          ],
          [
           2009
          ],
          [
           2010
          ],
          [
           2011
          ],
          [
           2012
          ],
          [
           2013
          ],
          [
           2014
          ],
          [
           2015
          ],
          [
           2016
          ],
          [
           2017
          ],
          [
           2018
          ],
          [
           2019
          ],
          [
           2020
          ]
         ],
         "hovertemplate": "Entity=Iraq<br>GDP per capita (constant 2015 US$)=%{x}<br>a_b_ratio=%{y}<br>Year=%{customdata[0]}<extra></extra>",
         "legendgroup": "Iraq",
         "marker": {
          "color": "#636efa",
          "symbol": "circle"
         },
         "mode": "markers",
         "name": "Iraq",
         "showlegend": true,
         "type": "scattergl",
         "x": [
          4337.4169921875,
          4284.259765625,
          3818.845458984375,
          2351.712646484375,
          3515.3466796875,
          3493.3447265625,
          3619.885986328125,
          3626.94580078125,
          3859.758056640625,
          3909.29150390625,
          4052.0625,
          4218.38232421875,
          4630.736328125,
          4793.53955078125,
          4627.8349609375,
          4688.31787109375,
          5183.4091796875,
          4961.404296875,
          4975.380859375,
          5154.27685546875,
          4247.814453125
         ],
         "xaxis": "x",
         "y": [
          0.0751151291614796,
          0.0291044490240688,
          0.0521798533662327,
          0.8411890489820283,
          3.2158426645656064,
          40.90500583162547,
          28.89611685813005,
          21.141354727041257,
          7.06644145685812,
          4.7951331841308695,
          5.843937350791047,
          2.1579423551734065,
          2.257529517973597,
          2.983219229777607,
          4.200674001899066,
          5.478601355396335,
          3.987292346827764,
          5.53593135949895,
          2.3342785416363845,
          2.251974591952309,
          1.6417985220194624
         ],
         "yaxis": "y"
        },
        {
         "customdata": [
          [
           2000
          ],
          [
           2001
          ],
          [
           2002
          ],
          [
           2003
          ],
          [
           2004
          ],
          [
           2005
          ],
          [
           2006
          ],
          [
           2007
          ],
          [
           2008
          ],
          [
           2009
          ],
          [
           2010
          ],
          [
           2011
          ],
          [
           2012
          ],
          [
           2013
          ],
          [
           2014
          ],
          [
           2015
          ],
          [
           2016
          ],
          [
           2017
          ],
          [
           2018
          ],
          [
           2019
          ],
          [
           2020
          ]
         ],
         "hovertemplate": "Entity=Jamaica<br>GDP per capita (constant 2015 US$)=%{x}<br>a_b_ratio=%{y}<br>Year=%{customdata[0]}<extra></extra>",
         "legendgroup": "Jamaica",
         "marker": {
          "color": "#EF553B",
          "symbol": "circle"
         },
         "mode": "markers",
         "name": "Jamaica",
         "showlegend": true,
         "type": "scattergl",
         "x": [
          4841.31591796875,
          4869.7255859375,
          4933.5341796875,
          5083.08837890625,
          5120.9296875,
          5138.447265625,
          5259.748046875,
          5308.4404296875,
          5239.53271484375,
          4986.81640625,
          4888.5791015625,
          4945.94873046875,
          4887.5869140625,
          4884.39208984375,
          4889.986328125,
          4907.92724609375,
          4949.36962890625,
          4973.72412109375,
          5043.541015625,
          5065.375,
          4539.001953125
         ],
         "xaxis": "x",
         "y": [
          8.288023557127834,
          0.594192907012619,
          1.8724547502736664,
          4.070110002361343,
          1.966947031692997,
          1.8491759772988432,
          2.8219201102891147,
          0.9995476121547952,
          6.697701316452372,
          4.297670625788595,
          5.570788147645272,
          0.8302475193624281,
          0.4022002892218656,
          0.3029063867811652,
          0.1113289007671638,
          0.3614300462880955,
          0.0606558178384478,
          0.2100849312844236,
          0.2240524183079988,
          0.1386037836700576,
          0.1347308467691897
         ],
         "yaxis": "y"
        },
        {
         "customdata": [
          [
           2000
          ],
          [
           2001
          ],
          [
           2002
          ],
          [
           2003
          ],
          [
           2004
          ],
          [
           2005
          ],
          [
           2006
          ],
          [
           2007
          ],
          [
           2008
          ],
          [
           2009
          ],
          [
           2010
          ],
          [
           2011
          ],
          [
           2012
          ],
          [
           2013
          ],
          [
           2014
          ],
          [
           2015
          ],
          [
           2016
          ],
          [
           2017
          ],
          [
           2018
          ],
          [
           2019
          ],
          [
           2020
          ]
         ],
         "hovertemplate": "Entity=Jordan<br>GDP per capita (constant 2015 US$)=%{x}<br>a_b_ratio=%{y}<br>Year=%{customdata[0]}<extra></extra>",
         "legendgroup": "Jordan",
         "marker": {
          "color": "#00cc96",
          "symbol": "circle"
         },
         "mode": "markers",
         "name": "Jordan",
         "showlegend": true,
         "type": "scattergl",
         "x": [
          3587.82666015625,
          3708.252685546875,
          3848.823486328125,
          3923.033935546875,
          4147.53759765625,
          4341.1884765625,
          4515.59130859375,
          4678.8349609375,
          4786.74853515625,
          4781.60498046875,
          4644.16943359375,
          4521.408203125,
          4386.7451171875,
          4274.5478515625,
          4221.08935546875,
          4164.10888671875,
          4119.251953125,
          4105.72119140625,
          4109.75244140625,
          4133.5498046875,
          4028.962890625
         ],
         "xaxis": "x",
         "y": [
          36.64036745585396,
          21.68762575501427,
          11.318291940659623,
          18.268675170798584,
          20.509989650110096,
          29.23286104652586,
          21.181621416991053,
          18.8260991803456,
          13.603442245299176,
          22.31248750093651,
          15.966787005485148,
          13.995819960112405,
          17.041359337514034,
          17.676831342859572,
          28.961553609770352,
          39.0025541775285,
          47.69756797498038,
          54.13795506855151,
          31.09027038974885,
          28.933470496646223,
          33.55469801915558
         ],
         "yaxis": "y"
        },
        {
         "customdata": [
          [
           2000
          ],
          [
           2001
          ],
          [
           2002
          ],
          [
           2003
          ],
          [
           2004
          ],
          [
           2005
          ],
          [
           2006
          ],
          [
           2007
          ],
          [
           2008
          ],
          [
           2009
          ],
          [
           2010
          ],
          [
           2011
          ],
          [
           2012
          ],
          [
           2013
          ],
          [
           2014
          ],
          [
           2015
          ],
          [
           2016
          ],
          [
           2017
          ],
          [
           2018
          ],
          [
           2019
          ],
          [
           2020
          ]
         ],
         "hovertemplate": "Entity=Kazakhstan<br>GDP per capita (constant 2015 US$)=%{x}<br>a_b_ratio=%{y}<br>Year=%{customdata[0]}<extra></extra>",
         "legendgroup": "Kazakhstan",
         "marker": {
          "color": "#ab63fa",
          "symbol": "circle"
         },
         "mode": "markers",
         "name": "Kazakhstan",
         "showlegend": true,
         "type": "scattergl",
         "x": [
          4446.45263671875,
          5055.31396484375,
          5550.505859375,
          6046.328125,
          6580.88525390625,
          7155.34375,
          7837.62890625,
          8438.1044921875,
          8554.8232421875,
          8487.544921875,
          8979.33203125,
          9506.734375,
          9823.6943359375,
          10264.2978515625,
          10539.044921875,
          10510.771484375,
          10476.34765625,
          10758.5205078125,
          11053.3623046875,
          11402.759765625,
          10974.9638671875
         ],
         "xaxis": "x",
         "y": [
          0.504717169362342,
          2.247192775896901,
          0.0123867573307763,
          1.1455103680039624,
          0.804024192624096,
          0.4209180292477352,
          1.4295870547416183,
          0.06747411524254,
          3.1093097091653203,
          3.1629585123852566,
          1.302634695945757,
          0.2686048910993945,
          0.0555462393792666,
          0.0103771913024839,
          0.0011368612715475,
          0.0100920009230816,
          0.0121691121603835,
          0.0420424506446199,
          0.0399177909278728,
          0.0597197650027247,
          0.0337210374487927
         ],
         "yaxis": "y"
        },
        {
         "customdata": [
          [
           2000
          ],
          [
           2001
          ],
          [
           2002
          ],
          [
           2003
          ],
          [
           2004
          ],
          [
           2005
          ],
          [
           2006
          ],
          [
           2007
          ],
          [
           2008
          ],
          [
           2009
          ],
          [
           2010
          ],
          [
           2011
          ],
          [
           2012
          ],
          [
           2013
          ],
          [
           2014
          ],
          [
           2015
          ],
          [
           2016
          ],
          [
           2017
          ],
          [
           2018
          ],
          [
           2019
          ],
          [
           2020
          ]
         ],
         "hovertemplate": "Entity=Kenya<br>GDP per capita (constant 2015 US$)=%{x}<br>a_b_ratio=%{y}<br>Year=%{customdata[0]}<extra></extra>",
         "legendgroup": "Kenya",
         "marker": {
          "color": "#FFA15A",
          "symbol": "circle"
         },
         "mode": "markers",
         "name": "Kenya",
         "showlegend": true,
         "type": "scattergl",
         "x": [
          1145.984619140625,
          1157.2955322265625,
          1132.4864501953125,
          1134.534912109375,
          1160.4385986328125,
          1195.7738037109375,
          1238.5369873046875,
          1287.249755859375,
          1255.025146484375,
          1261.3485107421875,
          1326.3858642578125,
          1357.253662109375,
          1381.96875,
          1397.378662109375,
          1430.4451904296875,
          1464.553955078125,
          1489.7587890625,
          1510.5814208984375,
          1559.24365234375,
          1600.12841796875,
          1559.551513671875
         ],
         "xaxis": "x",
         "y": [
          0.6466438503489154,
          1.1792325265412222,
          0.7516818882249032,
          0.7969290836766654,
          1.1951079557859494,
          1.3726523459967763,
          1.6024260898907683,
          2.704223562888946,
          2.909901309866441,
          2.8247630191796502,
          3.9103619316354568,
          3.8798974029596422,
          4.138974401570807,
          4.162316223156588,
          4.2226084649412,
          3.553355051885643,
          4.336390848350802,
          4.702528022515258,
          5.582614161626959,
          4.035213756027993,
          3.77468607761584
         ],
         "yaxis": "y"
        },
        {
         "customdata": [
          [
           2001
          ],
          [
           2002
          ],
          [
           2003
          ],
          [
           2005
          ],
          [
           2006
          ],
          [
           2007
          ],
          [
           2009
          ],
          [
           2010
          ],
          [
           2011
          ],
          [
           2012
          ],
          [
           2013
          ],
          [
           2014
          ],
          [
           2015
          ],
          [
           2016
          ],
          [
           2017
          ],
          [
           2018
          ],
          [
           2019
          ],
          [
           2020
          ]
         ],
         "hovertemplate": "Entity=Kiribati<br>GDP per capita (constant 2015 US$)=%{x}<br>a_b_ratio=%{y}<br>Year=%{customdata[0]}<extra></extra>",
         "legendgroup": "Kiribati",
         "marker": {
          "color": "#19d3f3",
          "symbol": "circle"
         },
         "mode": "markers",
         "name": "Kiribati",
         "showlegend": true,
         "type": "scattergl",
         "x": [
          1504.5682373046875,
          1535.3687744140625,
          1539.1654052734375,
          1529.1759033203125,
          1495.66357421875,
          1491.4769287109375,
          1407.8778076171875,
          1367.7401123046875,
          1365.598876953125,
          1408.1341552734375,
          1446.700927734375,
          1416.9068603515625,
          1542.616455078125,
          1598.7822265625,
          1590.06005859375,
          1626.041259765625,
          1664.511474609375,
          1606.97998046875
         ],
         "xaxis": "x",
         "y": [
          6.516240902112808,
          17.74738117911869,
          2.7566902752449214,
          0.101852700624357,
          0.2997152704930316,
          0,
          0,
          1.388747442390127,
          70.61799848935725,
          16.214279315596166,
          49.24282537329238,
          44.17314481487279,
          57.14677382043747,
          30.541049025976765,
          87.05909717722507,
          38.43763289607119,
          40.8041721662428,
          39.6131980738972
         ],
         "yaxis": "y"
        },
        {
         "customdata": [
          [
           2000
          ],
          [
           2001
          ],
          [
           2002
          ],
          [
           2003
          ],
          [
           2004
          ],
          [
           2005
          ],
          [
           2006
          ],
          [
           2007
          ],
          [
           2008
          ],
          [
           2009
          ],
          [
           2010
          ],
          [
           2011
          ],
          [
           2012
          ],
          [
           2013
          ],
          [
           2014
          ],
          [
           2015
          ],
          [
           2016
          ],
          [
           2017
          ],
          [
           2018
          ],
          [
           2019
          ],
          [
           2020
          ]
         ],
         "hovertemplate": "Entity=Kyrgyzstan<br>GDP per capita (constant 2015 US$)=%{x}<br>a_b_ratio=%{y}<br>Year=%{customdata[0]}<extra></extra>",
         "legendgroup": "Kyrgyzstan",
         "marker": {
          "color": "#FF6692",
          "symbol": "circle"
         },
         "mode": "markers",
         "name": "Kyrgyzstan",
         "showlegend": true,
         "type": "scattergl",
         "x": [
          718.3373413085938,
          749.4197998046875,
          742.4436645507812,
          786.351806640625,
          831.4843139648438,
          820.7160034179688,
          837.1337890625,
          900.0255126953125,
          966.4153442382812,
          982.377197265625,
          966.1507568359376,
          1011.3155517578124,
          993.7374267578124,
          1080.5482177734375,
          1101.705322265625,
          1121.0828857421875,
          1146.103271484375,
          1177.438720703125,
          1197.6107177734375,
          1226.824462890625,
          1100.0379638671875
         ],
         "xaxis": "x",
         "y": [
          2.9745592110528785,
          6.094619571076092,
          1.9356843509568809,
          1.4808175057834587,
          1.8006467923278042,
          2.7112837158143326,
          2.7083251934279757,
          2.175729025037315,
          1.3768783585963698,
          2.6874352152644843,
          2.0752105162478225,
          4.7583549923734845,
          3.156985451765861,
          2.935539982876308,
          4.669420506856567,
          3.9087165901519616,
          6.942156285584159,
          2.051863127660193,
          1.360969858936358,
          2.403677753472168,
          3.802405648043232
         ],
         "yaxis": "y"
        },
        {
         "customdata": [
          [
           2000
          ],
          [
           2001
          ],
          [
           2002
          ],
          [
           2003
          ],
          [
           2004
          ],
          [
           2005
          ],
          [
           2006
          ],
          [
           2007
          ],
          [
           2008
          ],
          [
           2009
          ],
          [
           2010
          ],
          [
           2011
          ],
          [
           2012
          ],
          [
           2013
          ],
          [
           2014
          ],
          [
           2015
          ],
          [
           2016
          ],
          [
           2017
          ],
          [
           2018
          ],
          [
           2019
          ],
          [
           2020
          ]
         ],
         "hovertemplate": "Entity=Laos<br>GDP per capita (constant 2015 US$)=%{x}<br>a_b_ratio=%{y}<br>Year=%{customdata[0]}<extra></extra>",
         "legendgroup": "Laos",
         "marker": {
          "color": "#B6E880",
          "symbol": "circle"
         },
         "mode": "markers",
         "name": "Laos",
         "showlegend": true,
         "type": "scattergl",
         "x": [
          935.7513427734376,
          973.8597412109376,
          1015.7901000976562,
          1061.306396484375,
          1111.7244873046875,
          1172.2174072265625,
          1252.69384765625,
          1325.441650390625,
          1405.12353515625,
          1485.4765625,
          1586.202880859375,
          1687.1473388671875,
          1795.1375732421875,
          1910.531005859375,
          2025.47216796875,
          2140.04443359375,
          2255.311767578125,
          2373.597412109375,
          2483.16162109375,
          2579.253662109375,
          2554.425537109375
         ],
         "xaxis": "x",
         "y": [
          7.1903870877219855,
          6.580051067863299,
          2.0994976367719254,
          3.4399283398065625,
          2.5207301449159787,
          1.6248163966014513,
          1.2107765163840765,
          2.143558853932603,
          3.665336074159413,
          4.99684346525075,
          4.282489315521256,
          4.753495416617378,
          4.0391432775842455,
          4.251041096023231,
          8.385306241516247,
          16.32284432081704,
          4.644942671743164,
          8.671141802748672,
          9.757905972801156,
          10.830473077171591,
          10.107389994011802
         ],
         "yaxis": "y"
        },
        {
         "customdata": [
          [
           2000
          ],
          [
           2001
          ],
          [
           2002
          ],
          [
           2003
          ],
          [
           2004
          ],
          [
           2005
          ],
          [
           2006
          ],
          [
           2007
          ],
          [
           2008
          ],
          [
           2009
          ],
          [
           2010
          ],
          [
           2011
          ],
          [
           2012
          ],
          [
           2013
          ],
          [
           2014
          ],
          [
           2015
          ],
          [
           2016
          ],
          [
           2017
          ],
          [
           2018
          ],
          [
           2019
          ],
          [
           2020
          ]
         ],
         "hovertemplate": "Entity=Lebanon<br>GDP per capita (constant 2015 US$)=%{x}<br>a_b_ratio=%{y}<br>Year=%{customdata[0]}<extra></extra>",
         "legendgroup": "Lebanon",
         "marker": {
          "color": "#FF97FF",
          "symbol": "circle"
         },
         "mode": "markers",
         "name": "Lebanon",
         "showlegend": true,
         "type": "scattergl",
         "x": [
          6728.55029296875,
          6727.412109375,
          6639.6025390625,
          6531.86328125,
          6692.1376953125,
          6682.6513671875,
          6699.2314453125,
          7311.3173828125,
          7978.74462890625,
          8706.9150390625,
          9135.5009765625,
          8773.73828125,
          8451.4130859375,
          8216.5,
          7950.171875,
          7663.92041015625,
          7574.603515625,
          7516.1943359375,
          7345.13427734375,
          6823.10400390625,
          5382.3369140625
         ],
         "xaxis": "x",
         "y": [
          0.5230694455695324,
          11.831310527815882,
          0.6949031217342083,
          1.7914196990015332,
          1.610999740097871,
          1.5140903009486002,
          3.26279896454863,
          1.9523420619726184,
          12.63601981743652,
          9.741194852577326,
          10.40474206428241,
          12.848209367537876,
          20.794316632093157,
          13.307250629043615,
          15.598440952800653,
          17.41694446002862,
          19.149564409324217,
          17.19194893649062,
          29.575646605976097,
          21.449651949043847,
          21.32643842650899
         ],
         "yaxis": "y"
        },
        {
         "customdata": [
          [
           2000
          ],
          [
           2001
          ],
          [
           2002
          ],
          [
           2003
          ],
          [
           2004
          ],
          [
           2005
          ],
          [
           2006
          ],
          [
           2007
          ],
          [
           2008
          ],
          [
           2009
          ],
          [
           2010
          ],
          [
           2011
          ],
          [
           2012
          ],
          [
           2013
          ],
          [
           2014
          ],
          [
           2015
          ],
          [
           2016
          ],
          [
           2017
          ],
          [
           2018
          ],
          [
           2019
          ],
          [
           2020
          ]
         ],
         "hovertemplate": "Entity=Lesotho<br>GDP per capita (constant 2015 US$)=%{x}<br>a_b_ratio=%{y}<br>Year=%{customdata[0]}<extra></extra>",
         "legendgroup": "Lesotho",
         "marker": {
          "color": "#FECB52",
          "symbol": "circle"
         },
         "mode": "markers",
         "name": "Lesotho",
         "showlegend": true,
         "type": "scattergl",
         "x": [
          715.0084838867188,
          739.4072875976562,
          746.9263305664062,
          785.4254150390625,
          803.6559448242188,
          835.6098022460938,
          873.66259765625,
          911.62841796875,
          961.8700561523438,
          948.3594970703124,
          995.5813598632812,
          1037.24853515625,
          1096.8284912109375,
          1109.037109375,
          1119.7716064453125,
          1146.064697265625,
          1178.0184326171875,
          1132.00927734375,
          1109.255859375,
          1096.2169189453125,
          982.9703979492188
         ],
         "xaxis": "x",
         "y": [
          2.3315948108506217,
          3.06079886850468,
          1.9724290463706051,
          4.897056447607016,
          3.248738532456661,
          3.590522638498089,
          2.6457074029726013,
          4.431625166185944,
          8.721734562529825,
          11.93025207323592,
          19.26088813655851,
          26.72638143149561,
          38.735167093163945,
          50.801659443727615,
          15.70694871402042,
          10.16741781573278,
          7.542413833635901,
          5.380946106691999,
          4.7087619368252485,
          3.783062483432253,
          4.4097344221917005
         ],
         "yaxis": "y"
        },
        {
         "customdata": [
          [
           2000
          ],
          [
           2002
          ],
          [
           2003
          ],
          [
           2004
          ],
          [
           2005
          ],
          [
           2006
          ],
          [
           2007
          ],
          [
           2008
          ],
          [
           2009
          ],
          [
           2010
          ],
          [
           2011
          ],
          [
           2012
          ],
          [
           2013
          ],
          [
           2014
          ],
          [
           2015
          ],
          [
           2016
          ],
          [
           2017
          ],
          [
           2018
          ],
          [
           2019
          ],
          [
           2020
          ]
         ],
         "hovertemplate": "Entity=Liberia<br>GDP per capita (constant 2015 US$)=%{x}<br>a_b_ratio=%{y}<br>Year=%{customdata[0]}<extra></extra>",
         "legendgroup": "Liberia",
         "marker": {
          "color": "#636efa",
          "symbol": "circle"
         },
         "mode": "markers",
         "name": "Liberia",
         "showlegend": true,
         "type": "scattergl",
         "x": [
          775.9638061523438,
          780.3814697265625,
          535.8639526367188,
          539.626220703125,
          553.5675659179688,
          578.1373291015625,
          608.9904174804688,
          626.1105346679688,
          633.6106567382812,
          648.5526733398438,
          679.7146606445312,
          713.0673217773438,
          754.45849609375,
          740.3759765625,
          721.5810546875,
          692.618896484375,
          692.2030639648438,
          683.2512817382812,
          650.4133911132812,
          616.002685546875
         ],
         "xaxis": "x",
         "y": [
          0.017269791094245,
          0.0751485900000751,
          0,
          0.1088889230501196,
          0.2724773950916105,
          0.1302309428720263,
          0.1651642227867168,
          1.1786805754498275,
          2.181781306641168,
          1.970169837595318,
          1.0977846275711838,
          2.306227807751557,
          4.905903550207247,
          3.4340765719419126,
          8.724440792397768,
          24.43633866300504,
          17.92090783699896,
          9.735353814663409,
          5.291567792445374,
          4.815638678502261
         ],
         "yaxis": "y"
        },
        {
         "customdata": [
          [
           2005
          ],
          [
           2006
          ],
          [
           2007
          ],
          [
           2008
          ],
          [
           2009
          ],
          [
           2011
          ],
          [
           2012
          ],
          [
           2016
          ],
          [
           2017
          ],
          [
           2018
          ],
          [
           2019
          ],
          [
           2020
          ]
         ],
         "hovertemplate": "Entity=Libya<br>GDP per capita (constant 2015 US$)=%{x}<br>a_b_ratio=%{y}<br>Year=%{customdata[0]}<extra></extra>",
         "legendgroup": "Libya",
         "marker": {
          "color": "#EF553B",
          "symbol": "circle"
         },
         "mode": "markers",
         "name": "Libya",
         "showlegend": true,
         "type": "scattergl",
         "x": [
          7825.220703125,
          8208.95703125,
          8601.9580078125,
          8709.0283203125,
          8534.2236328125,
          3337.31591796875,
          7401.4814453125,
          4168.69189453125,
          5209.86572265625,
          5910.388671875,
          5971.849609375,
          4046.635009765625
         ],
         "xaxis": "x",
         "y": [
          0.0017129171424294,
          0.001674096306073,
          0.0016401032805837,
          0.0016055547055035,
          0.0015722790845688,
          0.0355519069962112,
          0.0715517182634057,
          0,
          0.3700064610026516,
          0.0447683477284154,
          0.2800998921463187,
          0.0015028676217089
         ],
         "yaxis": "y"
        },
        {
         "customdata": [
          [
           2000
          ],
          [
           2001
          ],
          [
           2002
          ],
          [
           2003
          ],
          [
           2004
          ],
          [
           2005
          ],
          [
           2006
          ],
          [
           2007
          ],
          [
           2008
          ],
          [
           2009
          ],
          [
           2010
          ],
          [
           2011
          ],
          [
           2012
          ],
          [
           2013
          ],
          [
           2014
          ],
          [
           2015
          ],
          [
           2016
          ],
          [
           2018
          ],
          [
           2019
          ],
          [
           2020
          ]
         ],
         "hovertemplate": "Entity=Madagascar<br>GDP per capita (constant 2015 US$)=%{x}<br>a_b_ratio=%{y}<br>Year=%{customdata[0]}<extra></extra>",
         "legendgroup": "Madagascar",
         "marker": {
          "color": "#00cc96",
          "symbol": "circle"
         },
         "mode": "markers",
         "name": "Madagascar",
         "showlegend": true,
         "type": "scattergl",
         "x": [
          487.6601257324219,
          501.1184692382813,
          425.7392883300781,
          453.4933471679688,
          463.2879943847656,
          471.1949157714844,
          482.33489990234375,
          495.3631286621094,
          513.7330932617188,
          479.5599670410156,
          469.2405395507813,
          463.6627502441406,
          464.7431640625,
          462.7077941894531,
          465.4162902832031,
          467.2354431152344,
          473.0051574707031,
          480.8888854980469,
          488.9395446777344,
          442.1929626464844
         ],
         "xaxis": "x",
         "y": [
          1.170417758974354,
          1.7624531528581304,
          0.6756938120506825,
          1.1317788957651949,
          1.287616482718324,
          1.4309148052801128,
          0.765879519606464,
          0.6665007106664204,
          0.8584551298031929,
          0.6691262224931349,
          0.6065053822520879,
          1.159379667890302,
          1.0990043560457126,
          1.232402233026362,
          1.1645202878429863,
          0.7198930968811125,
          0.6964174966426089,
          0.9233963224465688,
          1.6245880327317623,
          1.8118572273510936
         ],
         "yaxis": "y"
        },
        {
         "customdata": [
          [
           2000
          ],
          [
           2001
          ],
          [
           2002
          ],
          [
           2003
          ],
          [
           2004
          ],
          [
           2005
          ],
          [
           2006
          ],
          [
           2007
          ],
          [
           2008
          ],
          [
           2009
          ],
          [
           2010
          ],
          [
           2011
          ],
          [
           2012
          ],
          [
           2013
          ],
          [
           2014
          ],
          [
           2015
          ],
          [
           2016
          ],
          [
           2017
          ],
          [
           2018
          ],
          [
           2019
          ],
          [
           2020
          ]
         ],
         "hovertemplate": "Entity=Malawi<br>GDP per capita (constant 2015 US$)=%{x}<br>a_b_ratio=%{y}<br>Year=%{customdata[0]}<extra></extra>",
         "legendgroup": "Malawi",
         "marker": {
          "color": "#ab63fa",
          "symbol": "circle"
         },
         "mode": "markers",
         "name": "Malawi",
         "showlegend": true,
         "type": "scattergl",
         "x": [
          294.34393310546875,
          272.7702941894531,
          270.7369689941406,
          279.3512268066406,
          287.27215576171875,
          289.0468444824219,
          294.5203857421875,
          313.8881225585937,
          328.3659362792969,
          345.635009765625,
          358.94091796875,
          365.7361145019531,
          362.1315612792969,
          370.3008117675781,
          380.5889892578125,
          380.5969848632813,
          379.6239318847656,
          384.4207458496094,
          390.8406982421875,
          401.3926696777344,
          394.003173828125
         ],
         "xaxis": "x",
         "y": [
          2.281515097004465,
          0.7705137100130779,
          3.0989859561288133,
          2.8350505229663083,
          1.4913776857186205,
          1.3021683651170342,
          1.0542517332073822,
          1.9391702233558048,
          1.556580476362584,
          1.3686332067901272,
          1.6971923492362566,
          2.3563829488723003,
          4.74929803449659,
          5.95390574906668,
          6.274437169816771,
          3.715697979755999,
          3.7551081190769136,
          6.146129571372614,
          4.657041098796018,
          4.7621975328795685,
          4.668923424804736
         ],
         "yaxis": "y"
        },
        {
         "customdata": [
          [
           2000
          ],
          [
           2001
          ],
          [
           2002
          ],
          [
           2003
          ],
          [
           2004
          ],
          [
           2005
          ],
          [
           2006
          ],
          [
           2007
          ],
          [
           2008
          ],
          [
           2009
          ],
          [
           2010
          ],
          [
           2011
          ],
          [
           2012
          ],
          [
           2013
          ],
          [
           2014
          ],
          [
           2015
          ],
          [
           2016
          ],
          [
           2017
          ],
          [
           2018
          ],
          [
           2019
          ],
          [
           2020
          ]
         ],
         "hovertemplate": "Entity=Malaysia<br>GDP per capita (constant 2015 US$)=%{x}<br>a_b_ratio=%{y}<br>Year=%{customdata[0]}<extra></extra>",
         "legendgroup": "Malaysia",
         "marker": {
          "color": "#FFA15A",
          "symbol": "circle"
         },
         "mode": "markers",
         "name": "Malaysia",
         "showlegend": true,
         "type": "scattergl",
         "x": [
          6392.5810546875,
          6286.134765625,
          6488.384765625,
          6727.6708984375,
          7043.7763671875,
          7274.97119140625,
          7531.36474609375,
          7850.4267578125,
          8073.9345703125,
          7808.658203125,
          8247.7822265625,
          8550.154296875,
          8888.7021484375,
          9179.3671875,
          9601.177734375,
          9955.2431640625,
          10258.0419921875,
          10707.748046875,
          11075.576171875,
          11414.5791015625,
          10631.5078125
         ],
         "xaxis": "x",
         "y": [
          24.53895271646054,
          0.0016990533129798,
          0.2075183096594015,
          0.1443041106056649,
          1.681189740755726,
          0.8266617907893752,
          6.915278707007352,
          3.248857141971292,
          3.2753399471029527,
          3.466678914512024,
          2.1042751014286365,
          4.163905463721049,
          4.732939234157971,
          3.944608105325118,
          2.2991882692454344,
          2.3657147867216386,
          0.7216171176334867,
          0.057230759300186,
          0.0768535834295032,
          0.9084251371112276,
          0.0189759104732206
         ],
         "yaxis": "y"
        },
        {
         "customdata": [
          [
           2001
          ],
          [
           2002
          ],
          [
           2003
          ],
          [
           2004
          ],
          [
           2006
          ],
          [
           2007
          ],
          [
           2008
          ],
          [
           2009
          ],
          [
           2010
          ],
          [
           2011
          ],
          [
           2012
          ],
          [
           2013
          ],
          [
           2014
          ],
          [
           2015
          ],
          [
           2016
          ],
          [
           2017
          ],
          [
           2018
          ],
          [
           2019
          ],
          [
           2020
          ]
         ],
         "hovertemplate": "Entity=Maldives<br>GDP per capita (constant 2015 US$)=%{x}<br>a_b_ratio=%{y}<br>Year=%{customdata[0]}<extra></extra>",
         "legendgroup": "Maldives",
         "marker": {
          "color": "#19d3f3",
          "symbol": "circle"
         },
         "mode": "markers",
         "name": "Maldives",
         "showlegend": true,
         "type": "scattergl",
         "x": [
          6544.2978515625,
          6832.0224609375,
          7553.29150390625,
          7788.1669921875,
          8109.57421875,
          8534.904296875,
          9119.296875,
          8222.044921875,
          8521.837890625,
          8892.9111328125,
          8732.62890625,
          8954.556640625,
          9181.7119140625,
          9033.41015625,
          9190.0029296875,
          9437.90625,
          9822.5400390625,
          10197.0927734375,
          6660.83349609375
         ],
         "xaxis": "x",
         "y": [
          2.1229944662931124,
          0.7526694104887903,
          0,
          0.06619404121241,
          2.5444402390501604,
          7.412305657649899,
          1.60289708807029,
          4.068301627320651,
          5.80785941661435,
          29.50994792362131,
          11.301709189992568,
          17.16819591706364,
          11.27785269684652,
          17.791960329667805,
          8.255129737618956,
          13.990928121342195,
          48.08349990709982,
          16.03510677517948,
          26.59145380220857
         ],
         "yaxis": "y"
        },
        {
         "customdata": [
          [
           2000
          ],
          [
           2001
          ],
          [
           2002
          ],
          [
           2003
          ],
          [
           2004
          ],
          [
           2005
          ],
          [
           2006
          ],
          [
           2007
          ],
          [
           2008
          ],
          [
           2009
          ],
          [
           2010
          ],
          [
           2011
          ],
          [
           2012
          ],
          [
           2013
          ],
          [
           2014
          ],
          [
           2015
          ],
          [
           2016
          ],
          [
           2017
          ],
          [
           2018
          ],
          [
           2019
          ],
          [
           2020
          ]
         ],
         "hovertemplate": "Entity=Mali<br>GDP per capita (constant 2015 US$)=%{x}<br>a_b_ratio=%{y}<br>Year=%{customdata[0]}<extra></extra>",
         "legendgroup": "Mali",
         "marker": {
          "color": "#FF6692",
          "symbol": "circle"
         },
         "mode": "markers",
         "name": "Mali",
         "showlegend": true,
         "type": "scattergl",
         "x": [
          571.65771484375,
          640.5307006835938,
          640.7977905273438,
          677.8865966796875,
          666.9553833007812,
          687.9348754882812,
          696.675048828125,
          697.3486328125,
          706.7108154296875,
          716.9127807617188,
          731.5338134765625,
          732.3973388671875,
          705.1394653320312,
          700.6975708007812,
          728.8782958984375,
          751.472900390625,
          772.1318359375,
          789.0726318359375,
          802.0336303710938,
          815.3790893554688,
          781.7314453125
         ],
         "xaxis": "x",
         "y": [
          10.757086219425162,
          1.520223242322808,
          3.2486492546429,
          2.793674725030053,
          3.0120772456267044,
          4.2813064942025205,
          4.501766464386902,
          4.760343716275276,
          4.372858670279859,
          6.473245393608377,
          8.167203644905209,
          10.633592801476633,
          6.626827789490919,
          6.149127636623724,
          7.845908208742293,
          4.5597311530836295,
          8.725618055254012,
          7.675276661048556,
          7.560835833546032,
          6.151473470433594,
          5.523924236486151
         ],
         "yaxis": "y"
        },
        {
         "customdata": [
          [
           2003
          ],
          [
           2004
          ],
          [
           2005
          ],
          [
           2006
          ],
          [
           2007
          ],
          [
           2009
          ],
          [
           2010
          ],
          [
           2011
          ],
          [
           2012
          ],
          [
           2013
          ],
          [
           2014
          ],
          [
           2015
          ],
          [
           2016
          ],
          [
           2017
          ],
          [
           2018
          ],
          [
           2019
          ],
          [
           2020
          ]
         ],
         "hovertemplate": "Entity=Marshall Islands<br>GDP per capita (constant 2015 US$)=%{x}<br>a_b_ratio=%{y}<br>Year=%{customdata[0]}<extra></extra>",
         "legendgroup": "Marshall Islands",
         "marker": {
          "color": "#B6E880",
          "symbol": "circle"
         },
         "mode": "markers",
         "name": "Marshall Islands",
         "showlegend": true,
         "type": "scattergl",
         "x": [
          3081.13720703125,
          3052.66162109375,
          3080.3427734375,
          3041.57275390625,
          3124.085693359375,
          3013.133056640625,
          3208.023193359375,
          3179.185791015625,
          3095.919677734375,
          3207.812744140625,
          3163.436767578125,
          3199.886962890625,
          3226.239990234375,
          3312.17529296875,
          3409.492919921875,
          3612.602294921875,
          3508.798095703125
         ],
         "xaxis": "x",
         "y": [
          0,
          0.3672959670902813,
          0.1839723305614835,
          3.319563293006787,
          0.5549286916631213,
          1.1190689346463742,
          3.368830828545226,
          8.114585495650205,
          21.44648909484327,
          11.4848555633419,
          19.23076923076923,
          19.82762109011452,
          12.615295528808373,
          43.64036946021523,
          41.51091019733983,
          46.70391061452514,
          84.02974422727168
         ],
         "yaxis": "y"
        },
        {
         "customdata": [
          [
           2000
          ],
          [
           2001
          ],
          [
           2002
          ],
          [
           2003
          ],
          [
           2004
          ],
          [
           2005
          ],
          [
           2006
          ],
          [
           2007
          ],
          [
           2008
          ],
          [
           2009
          ],
          [
           2010
          ],
          [
           2012
          ],
          [
           2013
          ],
          [
           2014
          ],
          [
           2015
          ],
          [
           2016
          ],
          [
           2017
          ],
          [
           2018
          ],
          [
           2019
          ],
          [
           2020
          ]
         ],
         "hovertemplate": "Entity=Mauritania<br>GDP per capita (constant 2015 US$)=%{x}<br>a_b_ratio=%{y}<br>Year=%{customdata[0]}<extra></extra>",
         "legendgroup": "Mauritania",
         "marker": {
          "color": "#FF97FF",
          "symbol": "circle"
         },
         "mode": "markers",
         "name": "Mauritania",
         "showlegend": true,
         "type": "scattergl",
         "x": [
          1296.32177734375,
          1251.606689453125,
          1234.3250732421875,
          1283.3243408203125,
          1306.52001953125,
          1378.59521484375,
          1585.356201171875,
          1510.1650390625,
          1462.367431640625,
          1421.8824462890625,
          1417.0494384765625,
          1453.81201171875,
          1470.1534423828125,
          1488.7763671875,
          1524.07177734375,
          1499.836181640625,
          1549.5762939453125,
          1575.3121337890625,
          1620.9949951171875,
          1549.957275390625
         ],
         "xaxis": "x",
         "y": [
          0.6938729166187387,
          2.5454137293026724,
          2.7182108431450587,
          5.937583237148185,
          3.624537303038808,
          2.4897397823569074,
          3.631668931997243,
          3.9638258085649714,
          41.4679300859606,
          28.278845792107145,
          24.34593512078801,
          14.99674653380717,
          5.963186938696995,
          6.804259284171107,
          15.315903173285864,
          10.849241935133575,
          15.067242497508424,
          15.360418402811517,
          20.669032469838747,
          13.337467948397336
         ],
         "yaxis": "y"
        },
        {
         "customdata": [
          [
           2000
          ],
          [
           2001
          ],
          [
           2002
          ],
          [
           2003
          ],
          [
           2004
          ],
          [
           2005
          ],
          [
           2006
          ],
          [
           2007
          ],
          [
           2008
          ],
          [
           2009
          ],
          [
           2010
          ],
          [
           2011
          ],
          [
           2012
          ],
          [
           2013
          ],
          [
           2014
          ],
          [
           2015
          ],
          [
           2016
          ],
          [
           2017
          ],
          [
           2018
          ],
          [
           2019
          ],
          [
           2020
          ]
         ],
         "hovertemplate": "Entity=Mauritius<br>GDP per capita (constant 2015 US$)=%{x}<br>a_b_ratio=%{y}<br>Year=%{customdata[0]}<extra></extra>",
         "legendgroup": "Mauritius",
         "marker": {
          "color": "#FECB52",
          "symbol": "circle"
         },
         "mode": "markers",
         "name": "Mauritius",
         "showlegend": true,
         "type": "scattergl",
         "x": [
          5533.97705078125,
          5674.22265625,
          5725.96630859375,
          6021.52197265625,
          6242.98193359375,
          6316.44287109375,
          6592.95068359375,
          6938.849609375,
          7286.24609375,
          7507.828125,
          7817.84130859375,
          8123.59716796875,
          8384.32421875,
          8646.9921875,
          8954.5576171875,
          9260.447265625,
          9609.2509765625,
          9966.76953125,
          10335.8486328125,
          10643.771484375,
          9058.20703125
         ],
         "xaxis": "x",
         "y": [
          5.60065135328514,
          9.654999053271435,
          19.959901910413024,
          9.820154337409232,
          18.41028544739713,
          9.188823973609953,
          12.025835384419546,
          9.578219899243738,
          6.968772218350682,
          0.7891438804626727,
          0.374021990934642,
          2.3090576479176885,
          15.130905611858903,
          12.954230966500296,
          0.3018314201864854,
          4.22995161461197,
          9.884775513579394,
          0.1235766480297634,
          0.2933488550902974,
          2.3914512560519143,
          7.2197437260658175
         ],
         "yaxis": "y"
        },
        {
         "customdata": [
          [
           2000
          ],
          [
           2001
          ],
          [
           2002
          ],
          [
           2003
          ],
          [
           2004
          ],
          [
           2005
          ],
          [
           2006
          ],
          [
           2007
          ],
          [
           2008
          ],
          [
           2009
          ],
          [
           2010
          ],
          [
           2011
          ],
          [
           2012
          ],
          [
           2013
          ],
          [
           2014
          ],
          [
           2015
          ],
          [
           2016
          ],
          [
           2017
          ],
          [
           2018
          ],
          [
           2019
          ],
          [
           2020
          ]
         ],
         "hovertemplate": "Entity=Mexico<br>GDP per capita (constant 2015 US$)=%{x}<br>a_b_ratio=%{y}<br>Year=%{customdata[0]}<extra></extra>",
         "legendgroup": "Mexico",
         "marker": {
          "color": "#636efa",
          "symbol": "circle"
         },
         "mode": "markers",
         "name": "Mexico",
         "showlegend": true,
         "type": "scattergl",
         "x": [
          8861.869140625,
          8702.9853515625,
          8580.8876953125,
          8587.0888671875,
          8801.322265625,
          8877.8515625,
          9142.8046875,
          9214.353515625,
          9181.400390625,
          8568.6181640625,
          8878.5615234375,
          9076.3017578125,
          9280.2587890625,
          9282.9921875,
          9426.32421875,
          9616.6455078125,
          9751.5693359375,
          9842.400390625,
          9945.7763671875,
          9820.4482421875,
          8909.677734375
         ],
         "xaxis": "x",
         "y": [
          1.949047508778888,
          0.0196188336295542,
          0.0437983342363849,
          0.2855626996888704,
          0.3711549101697369,
          1.2430483372912604,
          1.1189408697007204,
          0.2767236977864763,
          0.2018516819368892,
          0.1020266435600782,
          0.2651680760385453,
          0.0420497574780237,
          0.0464771077955828,
          0.2368474630720872,
          2.279297511547385,
          0.1380775227637317,
          1.107396801678062,
          0.1143771173605935,
          0.0118535134104038,
          0.0191069595765168,
          0.0106350644615066
         ],
         "yaxis": "y"
        },
        {
         "customdata": [
          [
           2003
          ],
          [
           2006
          ],
          [
           2007
          ],
          [
           2009
          ],
          [
           2010
          ],
          [
           2011
          ],
          [
           2012
          ],
          [
           2013
          ],
          [
           2014
          ],
          [
           2015
          ],
          [
           2016
          ],
          [
           2017
          ],
          [
           2018
          ],
          [
           2019
          ],
          [
           2020
          ]
         ],
         "hovertemplate": "Entity=Micronesia (country)<br>GDP per capita (constant 2015 US$)=%{x}<br>a_b_ratio=%{y}<br>Year=%{customdata[0]}<extra></extra>",
         "legendgroup": "Micronesia (country)",
         "marker": {
          "color": "#EF553B",
          "symbol": "circle"
         },
         "mode": "markers",
         "name": "Micronesia (country)",
         "showlegend": true,
         "type": "scattergl",
         "x": [
          3034.523193359375,
          3042.158203125,
          3012.947021484375,
          3014.98583984375,
          3084.75390625,
          3166.743896484375,
          3076.16552734375,
          2923.359619140625,
          2815.49755859375,
          2906.616943359375,
          2897.41748046875,
          2941.873291015625,
          2917.2421875,
          2921.145751953125,
          2839.38818359375
         ],
         "xaxis": "x",
         "y": [
          0,
          0.5438871615435518,
          0,
          0.1853877384549785,
          1.3939743136999796,
          3.985282259933084,
          1.662848274333013,
          18.137291006849814,
          15.49904162730766,
          17.62927372872841,
          6.367456837739007,
          9.054608342916127,
          2.073099283428726,
          13.825050272910085,
          14.805697517815892
         ],
         "yaxis": "y"
        },
        {
         "customdata": [
          [
           2000
          ],
          [
           2002
          ],
          [
           2003
          ],
          [
           2004
          ],
          [
           2005
          ],
          [
           2006
          ],
          [
           2007
          ],
          [
           2008
          ],
          [
           2009
          ],
          [
           2010
          ],
          [
           2011
          ],
          [
           2012
          ],
          [
           2013
          ],
          [
           2014
          ],
          [
           2015
          ],
          [
           2016
          ],
          [
           2017
          ],
          [
           2018
          ],
          [
           2019
          ],
          [
           2020
          ]
         ],
         "hovertemplate": "Entity=Moldova<br>GDP per capita (constant 2015 US$)=%{x}<br>a_b_ratio=%{y}<br>Year=%{customdata[0]}<extra></extra>",
         "legendgroup": "Moldova",
         "marker": {
          "color": "#00cc96",
          "symbol": "circle"
         },
         "mode": "markers",
         "name": "Moldova",
         "showlegend": true,
         "type": "scattergl",
         "x": [
          1338.2633056640625,
          1537.6328125,
          1643.7386474609375,
          1769.7491455078125,
          1907.1151123046875,
          2004.2193603515625,
          2069.135009765625,
          2234.77783203125,
          2103.3447265625,
          2254.932861328125,
          2387.508544921875,
          2373.739990234375,
          2589.111328125,
          2720.21484375,
          2732.45703125,
          2885.874267578125,
          3072.796875,
          3260.52734375,
          3435.4775390625,
          3250.3056640625
         ],
         "xaxis": "x",
         "y": [
          0.0987870130829286,
          0.9692249383023228,
          0.64240602796689,
          0.3434644642769776,
          0.6622715163268672,
          1.5141723488287864,
          2.2647269804560253,
          1.0754324025159872,
          7.6650301800562,
          5.105777684978411,
          3.134791878469098,
          8.967275006222918,
          10.112593706132415,
          9.13628278502656,
          20.54378636659049,
          3.3642106895081585,
          6.297722224230982,
          3.8448819306145214,
          2.79466511614744,
          8.123576915296962
         ],
         "yaxis": "y"
        },
        {
         "customdata": [
          [
           2000
          ],
          [
           2001
          ],
          [
           2002
          ],
          [
           2003
          ],
          [
           2004
          ],
          [
           2005
          ],
          [
           2006
          ],
          [
           2007
          ],
          [
           2008
          ],
          [
           2009
          ],
          [
           2010
          ],
          [
           2011
          ],
          [
           2012
          ],
          [
           2013
          ],
          [
           2014
          ],
          [
           2015
          ],
          [
           2016
          ],
          [
           2017
          ],
          [
           2018
          ],
          [
           2019
          ],
          [
           2020
          ]
         ],
         "hovertemplate": "Entity=Mongolia<br>GDP per capita (constant 2015 US$)=%{x}<br>a_b_ratio=%{y}<br>Year=%{customdata[0]}<extra></extra>",
         "legendgroup": "Mongolia",
         "marker": {
          "color": "#ab63fa",
          "symbol": "circle"
         },
         "mode": "markers",
         "name": "Mongolia",
         "showlegend": true,
         "type": "scattergl",
         "x": [
          1592.2340087890625,
          1624.223388671875,
          1684.61962890625,
          1783.998779296875,
          1951.71337890625,
          2068.3984375,
          2216.9228515625,
          2411.16650390625,
          2587.77783203125,
          2514.91650390625,
          2629.6484375,
          3028.16162109375,
          3335.793701171875,
          3650.6015625,
          3860.32568359375,
          3875.32177734375,
          3858.51513671875,
          4000.837890625,
          4233.97265625,
          4394.98828125,
          4126.69921875
         ],
         "xaxis": "x",
         "y": [
          0.1264796074072986,
          0.6956206634926951,
          1.7357339107888892,
          2.078315539163929,
          2.202560723101868,
          3.196238909871533,
          4.637297118251077,
          5.326891938931099,
          4.590158457281532,
          5.0661524765648265,
          9.283903546569562,
          11.075290840271638,
          12.57720188772627,
          8.934471172095769,
          6.211188683028194,
          2.6511456592043325,
          2.3303721762804424,
          3.5238642482169924,
          7.756019764892096,
          7.483522483824114,
          9.959506304753004
         ],
         "yaxis": "y"
        },
        {
         "customdata": [
          [
           2004
          ],
          [
           2005
          ],
          [
           2006
          ],
          [
           2007
          ],
          [
           2008
          ],
          [
           2009
          ],
          [
           2010
          ],
          [
           2011
          ],
          [
           2012
          ],
          [
           2013
          ],
          [
           2014
          ],
          [
           2015
          ],
          [
           2016
          ],
          [
           2017
          ],
          [
           2018
          ],
          [
           2019
          ],
          [
           2020
          ]
         ],
         "hovertemplate": "Entity=Montenegro<br>GDP per capita (constant 2015 US$)=%{x}<br>a_b_ratio=%{y}<br>Year=%{customdata[0]}<extra></extra>",
         "legendgroup": "Montenegro",
         "marker": {
          "color": "#FFA15A",
          "symbol": "circle"
         },
         "mode": "markers",
         "name": "Montenegro",
         "showlegend": true,
         "type": "scattergl",
         "x": [
          4816.98876953125,
          5010.94970703125,
          5433.45068359375,
          5795.46728515625,
          6203.041015625,
          5831.0458984375,
          5979.51904296875,
          6166.08447265625,
          5993.087890625,
          6199.7275390625,
          6304.19287109375,
          6514.2724609375,
          6704.84521484375,
          7020.287109375,
          7378.50048828125,
          7680.7412109375,
          6512.61767578125
         ],
         "xaxis": "x",
         "y": [
          0.6955971859932021,
          2.180490926471634,
          2.355541292322674,
          3.971952634069226,
          16.105150639376063,
          12.880493419541278,
          18.9367528302126,
          29.455477278446853,
          66.34515593481115,
          30.759475101387963,
          46.19258049411872,
          25.711036344048367,
          21.886606533767907,
          16.776162354038693,
          42.02964879746745,
          14.419347623662958,
          23.320584111480976
         ],
         "yaxis": "y"
        },
        {
         "customdata": [
          [
           2000
          ],
          [
           2001
          ],
          [
           2002
          ],
          [
           2003
          ],
          [
           2004
          ],
          [
           2005
          ],
          [
           2006
          ],
          [
           2007
          ],
          [
           2008
          ],
          [
           2009
          ],
          [
           2010
          ],
          [
           2011
          ],
          [
           2012
          ],
          [
           2013
          ],
          [
           2014
          ],
          [
           2015
          ],
          [
           2016
          ],
          [
           2017
          ],
          [
           2018
          ],
          [
           2019
          ],
          [
           2020
          ]
         ],
         "hovertemplate": "Entity=Morocco<br>GDP per capita (constant 2015 US$)=%{x}<br>a_b_ratio=%{y}<br>Year=%{customdata[0]}<extra></extra>",
         "legendgroup": "Morocco",
         "marker": {
          "color": "#19d3f3",
          "symbol": "circle"
         },
         "mode": "markers",
         "name": "Morocco",
         "showlegend": true,
         "type": "scattergl",
         "x": [
          1763.4007568359375,
          1869.6668701171875,
          1905.072021484375,
          1994.8154296875,
          2065.999267578125,
          2109.062255859375,
          2242.39697265625,
          2294.51416015625,
          2401.601806640625,
          2472.793212890625,
          2534.259033203125,
          2631.4541015625,
          2673.045654296875,
          2754.84912109375,
          2788.720947265625,
          2875.258056640625,
          2867.015869140625,
          2950.212158203125,
          3004.63232421875,
          3044.90625,
          2818.771728515625
         ],
         "xaxis": "x",
         "y": [
          8.388543700064648,
          8.862395912907317,
          1.5821542825667485,
          2.0454281259414637,
          2.833871028535027,
          4.564289746239291,
          6.6007148698745866,
          3.520356304242543,
          4.907539738585711,
          4.264285856951685,
          4.985081410778039,
          5.96953996795741,
          7.746423425692952,
          5.033498278641211,
          8.451146394037387,
          11.300312775587496,
          7.413848618029905,
          4.638016831514511,
          4.6841535050739385,
          6.541629875909283,
          7.699359106307413
         ],
         "yaxis": "y"
        },
        {
         "customdata": [
          [
           2000
          ],
          [
           2001
          ],
          [
           2002
          ],
          [
           2003
          ],
          [
           2004
          ],
          [
           2005
          ],
          [
           2006
          ],
          [
           2007
          ],
          [
           2008
          ],
          [
           2009
          ],
          [
           2010
          ],
          [
           2011
          ],
          [
           2012
          ],
          [
           2013
          ],
          [
           2014
          ],
          [
           2015
          ],
          [
           2016
          ],
          [
           2017
          ],
          [
           2018
          ],
          [
           2019
          ],
          [
           2020
          ]
         ],
         "hovertemplate": "Entity=Mozambique<br>GDP per capita (constant 2015 US$)=%{x}<br>a_b_ratio=%{y}<br>Year=%{customdata[0]}<extra></extra>",
         "legendgroup": "Mozambique",
         "marker": {
          "color": "#FF6692",
          "symbol": "circle"
         },
         "mode": "markers",
         "name": "Mozambique",
         "showlegend": true,
         "type": "scattergl",
         "x": [
          294.6469116210937,
          321.017822265625,
          340.7047424316406,
          353.4606018066406,
          370.3409729003906,
          383.7107849121094,
          409.2047729492188,
          428.7693786621094,
          447.6843566894531,
          463.1194763183594,
          479.8844909667969,
          501.500244140625,
          523.2940673828125,
          544.447509765625,
          568.59130859375,
          589.8590698242188,
          595.07763671875,
          599.6915283203125,
          602.5300903320312,
          598.8132934570312,
          574.5951538085938
         ],
         "xaxis": "x",
         "y": [
          3.182596627404324,
          3.140380151743696,
          3.117419743558527,
          3.1427925447331955,
          2.9013305906264173,
          5.945735625589156,
          3.4471467241255422,
          4.022458097828436,
          4.084580618900709,
          4.267569237132443,
          4.038358424202899,
          4.799998518544955,
          6.468167948090001,
          8.644949508029903,
          5.2026398856102825,
          5.4408459898972,
          5.173938945354106,
          3.7673111500089194,
          4.060647062138163,
          3.896571050494555,
          4.247513378079495
         ],
         "yaxis": "y"
        },
        {
         "customdata": [
          [
           2000
          ],
          [
           2001
          ],
          [
           2002
          ],
          [
           2003
          ],
          [
           2004
          ],
          [
           2005
          ],
          [
           2006
          ],
          [
           2007
          ],
          [
           2008
          ],
          [
           2009
          ],
          [
           2010
          ],
          [
           2011
          ],
          [
           2012
          ],
          [
           2013
          ],
          [
           2014
          ],
          [
           2015
          ],
          [
           2016
          ],
          [
           2017
          ],
          [
           2018
          ],
          [
           2019
          ],
          [
           2020
          ]
         ],
         "hovertemplate": "Entity=Myanmar<br>GDP per capita (constant 2015 US$)=%{x}<br>a_b_ratio=%{y}<br>Year=%{customdata[0]}<extra></extra>",
         "legendgroup": "Myanmar",
         "marker": {
          "color": "#B6E880",
          "symbol": "circle"
         },
         "mode": "markers",
         "name": "Myanmar",
         "showlegend": true,
         "type": "scattergl",
         "x": [
          309.9657287597656,
          344.8804626464844,
          381.3893737792969,
          426.9196166992188,
          481.2338562011719,
          542.2191162109375,
          609.9960327148438,
          681.8170776367188,
          752.649169921875,
          825.6948852539062,
          902.5418701171876,
          962.9954223632812,
          1017.0143432617188,
          1088.0595703125,
          1167.6309814453125,
          1196.743408203125,
          1313.4075927734375,
          1380.15283203125,
          1459.64306640625,
          1548.4566650390625,
          1586.90234375
         ],
         "xaxis": "x",
         "y": [
          0.032939277101449,
          0.14451863212441,
          0.1338203188124948,
          0.1608974591755196,
          0.0462626105750328,
          0.0190677856006453,
          0.0299449287805618,
          0.0522234688883947,
          0.0888579151675741,
          0.153419804978946,
          0.4053371031978546,
          0.2472159189861183,
          0.1734431081514756,
          0.5492776702476464,
          0.6737489474753074,
          1.6509997794264295,
          1.7952549154064168,
          1.4641886535936193,
          2.2627494739681846,
          2.7556450943295627,
          1.8192470686892583
         ],
         "yaxis": "y"
        },
        {
         "customdata": [
          [
           2000
          ],
          [
           2001
          ],
          [
           2002
          ],
          [
           2003
          ],
          [
           2004
          ],
          [
           2005
          ],
          [
           2006
          ],
          [
           2007
          ],
          [
           2008
          ],
          [
           2009
          ],
          [
           2010
          ],
          [
           2011
          ],
          [
           2012
          ],
          [
           2013
          ],
          [
           2014
          ],
          [
           2016
          ],
          [
           2017
          ],
          [
           2018
          ],
          [
           2019
          ],
          [
           2020
          ]
         ],
         "hovertemplate": "Entity=Namibia<br>GDP per capita (constant 2015 US$)=%{x}<br>a_b_ratio=%{y}<br>Year=%{customdata[0]}<extra></extra>",
         "legendgroup": "Namibia",
         "marker": {
          "color": "#FF97FF",
          "symbol": "circle"
         },
         "mode": "markers",
         "name": "Namibia",
         "showlegend": true,
         "type": "scattergl",
         "x": [
          3124.950439453125,
          3111.336669921875,
          3211.28369140625,
          3298.27978515625,
          3647.40380859375,
          3680.6591796875,
          3875.022216796875,
          4011.639404296875,
          4043.64599609375,
          3982.226318359375,
          4147.3154296875,
          4282.03662109375,
          4420.72705078125,
          4587.97900390625,
          4782.03173828125,
          4808.65087890625,
          4670.94921875,
          4632.39111328125,
          4506.173828125,
          4047.862060546875
         ],
         "xaxis": "x",
         "y": [
          1.4952054478250258,
          8.511069238086927,
          1.4826338566854342,
          3.148114890009147,
          4.351850180854437,
          1.2023186409316136,
          2.300449820997821,
          3.037546259194668,
          5.356732903094151,
          5.6771802499893615,
          6.597515809029308,
          25.19763471449012,
          7.764799024117475,
          7.162566675602864,
          5.510457385796217,
          4.588200405362771,
          2.4106168641680834,
          2.2031174527639146,
          0.9400616680454238,
          0.5624525179593097
         ],
         "yaxis": "y"
        },
        {
         "customdata": [
          [
           2005
          ],
          [
           2007
          ],
          [
           2008
          ],
          [
           2009
          ],
          [
           2010
          ],
          [
           2011
          ],
          [
           2012
          ],
          [
           2013
          ],
          [
           2014
          ],
          [
           2015
          ],
          [
           2016
          ],
          [
           2017
          ],
          [
           2018
          ],
          [
           2019
          ]
         ],
         "hovertemplate": "Entity=Nauru<br>GDP per capita (constant 2015 US$)=%{x}<br>a_b_ratio=%{y}<br>Year=%{customdata[0]}<extra></extra>",
         "legendgroup": "Nauru",
         "marker": {
          "color": "#FECB52",
          "symbol": "circle"
         },
         "mode": "markers",
         "name": "Nauru",
         "showlegend": true,
         "type": "scattergl",
         "x": [
          3347.24609375,
          2824.812744140625,
          3440.66748046875,
          3728.923095703125,
          4116.7548828125,
          4501.4462890625,
          4979.837890625,
          6458.4013671875,
          8109.5654296875,
          8341.0126953125,
          8556.42578125,
          7986.142578125,
          8392.9580078125,
          8325.9013671875
         ],
         "xaxis": "x",
         "y": [
          0.9673986649898424,
          0,
          13.635920911658712,
          10.726474890297416,
          17.540440459949327,
          22.323595069397264,
          18.15749235474006,
          22.39014833473272,
          8.207934336525307,
          439.9036316587847,
          157.89932827357586,
          9.395285275025625,
          5.021340697966357,
          13.984863441921684
         ],
         "yaxis": "y"
        },
        {
         "customdata": [
          [
           2000
          ],
          [
           2001
          ],
          [
           2002
          ],
          [
           2003
          ],
          [
           2004
          ],
          [
           2005
          ],
          [
           2006
          ],
          [
           2007
          ],
          [
           2008
          ],
          [
           2009
          ],
          [
           2010
          ],
          [
           2011
          ],
          [
           2012
          ],
          [
           2013
          ],
          [
           2014
          ],
          [
           2015
          ],
          [
           2016
          ],
          [
           2017
          ],
          [
           2018
          ],
          [
           2019
          ],
          [
           2020
          ]
         ],
         "hovertemplate": "Entity=Nepal<br>GDP per capita (constant 2015 US$)=%{x}<br>a_b_ratio=%{y}<br>Year=%{customdata[0]}<extra></extra>",
         "legendgroup": "Nepal",
         "marker": {
          "color": "#636efa",
          "symbol": "circle"
         },
         "mode": "markers",
         "name": "Nepal",
         "showlegend": true,
         "type": "scattergl",
         "x": [
          562.3031005859375,
          579.4660034179688,
          571.28076171875,
          585.4069213867188,
          604.6596069335938,
          617.7940063476562,
          630.6874389648438,
          644.3944091796875,
          676.45068359375,
          701.4083251953125,
          731.6618041992188,
          755.9141235351562,
          790.9881591796875,
          821.0731811523438,
          870.7816772460938,
          901.7496337890624,
          897.40380859375,
          964.8977661132812,
          1021.3318481445312,
          1069.7890625,
          1028.4632568359375
         ],
         "xaxis": "x",
         "y": [
          2.458925880587816,
          12.038353795289082,
          1.8131090031026944,
          3.530752276065892,
          1.9654691187537905,
          2.016350548553873,
          1.8081393345006485,
          1.083341206960396,
          1.7993759435377628,
          2.1604359973703287,
          2.806538590623547,
          3.071912909068517,
          4.025510363878037,
          3.0699494893606856,
          3.264497884539826,
          4.011904530797316,
          4.719827791968368,
          6.280287306467802,
          4.821319662263471,
          5.175756524755051,
          5.196495399818717
         ],
         "yaxis": "y"
        },
        {
         "customdata": [
          [
           2000
          ],
          [
           2001
          ],
          [
           2002
          ],
          [
           2003
          ],
          [
           2004
          ],
          [
           2005
          ],
          [
           2006
          ],
          [
           2007
          ],
          [
           2008
          ],
          [
           2009
          ],
          [
           2010
          ],
          [
           2011
          ],
          [
           2012
          ],
          [
           2013
          ],
          [
           2014
          ],
          [
           2015
          ],
          [
           2016
          ],
          [
           2017
          ],
          [
           2018
          ],
          [
           2019
          ],
          [
           2020
          ]
         ],
         "hovertemplate": "Entity=Nicaragua<br>GDP per capita (constant 2015 US$)=%{x}<br>a_b_ratio=%{y}<br>Year=%{customdata[0]}<extra></extra>",
         "legendgroup": "Nicaragua",
         "marker": {
          "color": "#EF553B",
          "symbol": "circle"
         },
         "mode": "markers",
         "name": "Nicaragua",
         "showlegend": true,
         "type": "scattergl",
         "x": [
          1444.9525146484375,
          1465.744140625,
          1455.8690185546875,
          1472.037841796875,
          1529.194580078125,
          1573.052978515625,
          1616.079833984375,
          1674.9420166015625,
          1708.82080078125,
          1630.0885009765625,
          1679.037109375,
          1761.214111328125,
          1850.7000732421875,
          1916.277587890625,
          1981.7476806640625,
          2049.8515625,
          2115.934814453125,
          2185.913330078125,
          2086.033447265625,
          1984.8167724609373,
          1922.3538818359373
         ],
         "xaxis": "x",
         "y": [
          14.510397068407917,
          7.235066481922444,
          5.539057964634836,
          3.822986159850793,
          4.2311676834589,
          4.531888213424069,
          3.056162317301622,
          6.020551194301876,
          6.730251248647972,
          19.30458775087516,
          8.555713577251433,
          6.540958651785075,
          6.9959813318895865,
          7.772033002705994,
          6.147844630420637,
          7.479428000781125,
          5.936546100888103,
          4.819047319248692,
          9.499053137791504,
          10.14718216112771,
          23.29075326751432
         ],
         "yaxis": "y"
        },
        {
         "customdata": [
          [
           2000
          ],
          [
           2001
          ],
          [
           2002
          ],
          [
           2003
          ],
          [
           2004
          ],
          [
           2005
          ],
          [
           2006
          ],
          [
           2007
          ],
          [
           2008
          ],
          [
           2009
          ],
          [
           2010
          ],
          [
           2011
          ],
          [
           2012
          ],
          [
           2013
          ],
          [
           2014
          ],
          [
           2015
          ],
          [
           2016
          ],
          [
           2017
          ],
          [
           2018
          ],
          [
           2019
          ],
          [
           2020
          ]
         ],
         "hovertemplate": "Entity=Niger<br>GDP per capita (constant 2015 US$)=%{x}<br>a_b_ratio=%{y}<br>Year=%{customdata[0]}<extra></extra>",
         "legendgroup": "Niger",
         "marker": {
          "color": "#00cc96",
          "symbol": "circle"
         },
         "mode": "markers",
         "name": "Niger",
         "showlegend": true,
         "type": "scattergl",
         "x": [
          399.0727844238281,
          412.7853698730469,
          417.5046081542969,
          411.12060546875,
          397.5924072265625,
          411.1275634765625,
          419.5157775878906,
          416.746826171875,
          432.31939697265625,
          424.3267822265625,
          443.3512573242188,
          436.5496826171875,
          464.1477355957031,
          470.0864562988281,
          482.13623046875,
          484.1531372070313,
          492.56396484375,
          497.7198791503906,
          513.6267700195312,
          523.8842163085938,
          522.5556030273438
         ],
         "xaxis": "x",
         "y": [
          5.852354273410256,
          8.869269166735029,
          1.7573126362740157,
          2.809129640325211,
          4.405662379630742,
          4.142841419031448,
          3.837058396311468,
          2.1539981837680635,
          2.7427695605764826,
          2.6549582467598505,
          2.456218018933122,
          2.049398725392027,
          1.799557880208818,
          2.5287880838058707,
          2.8809604288909174,
          3.622293415007413,
          3.135015296045053,
          3.638341913422827,
          3.674969194394664,
          6.924336913587619,
          8.28030524322621
         ],
         "yaxis": "y"
        },
        {
         "customdata": [
          [
           2000
          ],
          [
           2001
          ],
          [
           2002
          ],
          [
           2003
          ],
          [
           2004
          ],
          [
           2005
          ],
          [
           2006
          ],
          [
           2007
          ],
          [
           2008
          ],
          [
           2009
          ],
          [
           2010
          ],
          [
           2011
          ],
          [
           2012
          ],
          [
           2013
          ],
          [
           2014
          ],
          [
           2015
          ],
          [
           2016
          ],
          [
           2017
          ],
          [
           2018
          ],
          [
           2019
          ],
          [
           2020
          ]
         ],
         "hovertemplate": "Entity=Nigeria<br>GDP per capita (constant 2015 US$)=%{x}<br>a_b_ratio=%{y}<br>Year=%{customdata[0]}<extra></extra>",
         "legendgroup": "Nigeria",
         "marker": {
          "color": "#ab63fa",
          "symbol": "circle"
         },
         "mode": "markers",
         "name": "Nigeria",
         "showlegend": true,
         "type": "scattergl",
         "x": [
          1450.7838134765625,
          1498.52294921875,
          1685.200927734375,
          1763.6939697265625,
          1878.1507568359373,
          1948.0484619140625,
          2012.8447265625,
          2089.777099609375,
          2172.793701171875,
          2285.734619140625,
          2403.645263671875,
          2464.344970703125,
          2500.64111328125,
          2597.009033203125,
          2688.267333984375,
          2687.47998046875,
          2575.45556640625,
          2529.38525390625,
          2512.1923828125,
          2502.65234375,
          2396.036376953125
         ],
         "xaxis": "x",
         "y": [
          0.4270993295476611,
          0.7196834819521868,
          0.0865854103490957,
          0.0867639472556931,
          0.1680354610103327,
          0.2934001619466396,
          0.418901825929732,
          0.5744668133374377,
          0.7035584240795295,
          0.6502731006533613,
          0.6849210213494554,
          0.6379040957758093,
          0.7299092565335051,
          0.7848282427456986,
          0.933330978542954,
          1.123667099836031,
          1.066535625152067,
          0.7839442430781377,
          1.0882735744956984,
          0.9829590782881652,
          0.6334740170146024
         ],
         "yaxis": "y"
        },
        {
         "customdata": [
          [
           2000
          ],
          [
           2001
          ],
          [
           2002
          ],
          [
           2003
          ],
          [
           2004
          ],
          [
           2005
          ],
          [
           2006
          ],
          [
           2007
          ],
          [
           2008
          ],
          [
           2009
          ],
          [
           2010
          ],
          [
           2011
          ],
          [
           2012
          ],
          [
           2013
          ],
          [
           2014
          ],
          [
           2015
          ],
          [
           2016
          ],
          [
           2017
          ],
          [
           2018
          ],
          [
           2019
          ],
          [
           2020
          ]
         ],
         "hovertemplate": "Entity=North Macedonia<br>GDP per capita (constant 2015 US$)=%{x}<br>a_b_ratio=%{y}<br>Year=%{customdata[0]}<extra></extra>",
         "legendgroup": "North Macedonia",
         "marker": {
          "color": "#FFA15A",
          "symbol": "circle"
         },
         "mode": "markers",
         "name": "North Macedonia",
         "showlegend": true,
         "type": "scattergl",
         "x": [
          3283.3779296875,
          3169.32373046875,
          3240.109130859375,
          3301.31201171875,
          3445.806884765625,
          3600.952392578125,
          3779.675048828125,
          4017.7919921875,
          4230.73291015625,
          4207.8046875,
          4339.96435546875,
          4433.8876953125,
          4408.29638671875,
          4530.68212890625,
          4687.29638671875,
          4861.55419921875,
          4994.55908203125,
          5043.6923828125,
          5184.6943359375,
          5386.2001953125,
          5115.91845703125
         ],
         "xaxis": "x",
         "y": [
          27.28735880349765,
          14.191159891126434,
          5.022426563357403,
          9.617845158486832,
          7.818374770398467,
          9.448362820980948,
          12.983636869492344,
          12.719019109246297,
          13.713745573350565,
          14.723946343011006,
          13.30577296702499,
          4.115187090805919,
          6.172939471851682,
          9.218825812712277,
          15.266283600429963,
          6.304658758565726,
          9.52519057489501,
          7.983022582578829,
          8.52142207914182,
          5.6665129424007,
          6.9964255228845165
         ],
         "yaxis": "y"
        },
        {
         "customdata": [
          [
           2000
          ],
          [
           2001
          ],
          [
           2002
          ],
          [
           2003
          ],
          [
           2004
          ],
          [
           2005
          ],
          [
           2006
          ],
          [
           2007
          ],
          [
           2009
          ],
          [
           2010
          ]
         ],
         "hovertemplate": "Entity=Oman<br>GDP per capita (constant 2015 US$)=%{x}<br>a_b_ratio=%{y}<br>Year=%{customdata[0]}<extra></extra>",
         "legendgroup": "Oman",
         "marker": {
          "color": "#19d3f3",
          "symbol": "circle"
         },
         "mode": "markers",
         "name": "Oman",
         "showlegend": true,
         "type": "scattergl",
         "x": [
          20624.7890625,
          21295.9609375,
          20701.587890625,
          19715.927734375,
          19485.951171875,
          19448.46484375,
          19941.337890625,
          20230.298828125,
          21458.38671875,
          20640.30859375
         ],
         "xaxis": "x",
         "y": [
          0.01279720986699,
          0.0084222760779986,
          0.0166412679314862,
          0.0205625671624849,
          0.008100904871074,
          0.0159032952422906,
          0.0429578091829737,
          0.069079167028053,
          0.1445760086122816,
          0.083277959273608
         ],
         "yaxis": "y"
        },
        {
         "customdata": [
          [
           2000
          ],
          [
           2001
          ],
          [
           2002
          ],
          [
           2003
          ],
          [
           2004
          ],
          [
           2005
          ],
          [
           2006
          ],
          [
           2007
          ],
          [
           2008
          ],
          [
           2009
          ],
          [
           2010
          ],
          [
           2011
          ],
          [
           2012
          ],
          [
           2013
          ],
          [
           2014
          ],
          [
           2015
          ],
          [
           2016
          ],
          [
           2017
          ],
          [
           2018
          ],
          [
           2019
          ],
          [
           2020
          ]
         ],
         "hovertemplate": "Entity=Pakistan<br>GDP per capita (constant 2015 US$)=%{x}<br>a_b_ratio=%{y}<br>Year=%{customdata[0]}<extra></extra>",
         "legendgroup": "Pakistan",
         "marker": {
          "color": "#FF6692",
          "symbol": "circle"
         },
         "mode": "markers",
         "name": "Pakistan",
         "showlegend": true,
         "type": "scattergl",
         "x": [
          1029.112548828125,
          1039.1561279296875,
          1039.7838134765625,
          1074.39404296875,
          1129.1368408203125,
          1175.4375,
          1216.5555419921875,
          1246.57958984375,
          1239.4205322265625,
          1246.367919921875,
          1238.87353515625,
          1245.7374267578125,
          1262.2991943359375,
          1290.36865234375,
          1322.7205810546875,
          1356.6678466796875,
          1402.087890625,
          1449.5335693359375,
          1502.891357421875,
          1489.653564453125,
          1446.81201171875
         ],
         "xaxis": "x",
         "y": [
          0.1017037516117129,
          0.1952672003961769,
          0.6220645486908224,
          0.2548588696687335,
          0.3096421099768141,
          0.2603627589588646,
          0.5663503625630696,
          0.6311408431962512,
          0.3503432266445522,
          0.4054738560303877,
          0.4182469506902015,
          0.5688239863926144,
          0.8985892080197717,
          1.1634501223624212,
          1.1898106037411509,
          1.388590688571099,
          0.8550761267840827,
          1.4356248513723435,
          1.008640145375978,
          0.8126532065810489,
          0.7254945775277335
         ],
         "yaxis": "y"
        },
        {
         "customdata": [
          [
           2003
          ],
          [
           2005
          ],
          [
           2006
          ],
          [
           2007
          ],
          [
           2008
          ],
          [
           2009
          ],
          [
           2010
          ],
          [
           2011
          ],
          [
           2012
          ],
          [
           2013
          ],
          [
           2014
          ],
          [
           2015
          ],
          [
           2016
          ],
          [
           2017
          ],
          [
           2018
          ],
          [
           2019
          ],
          [
           2020
          ]
         ],
         "hovertemplate": "Entity=Palau<br>GDP per capita (constant 2015 US$)=%{x}<br>a_b_ratio=%{y}<br>Year=%{customdata[0]}<extra></extra>",
         "legendgroup": "Palau",
         "marker": {
          "color": "#B6E880",
          "symbol": "circle"
         },
         "mode": "markers",
         "name": "Palau",
         "showlegend": true,
         "type": "scattergl",
         "x": [
          12097.11328125,
          13205.5048828125,
          13312.7607421875,
          13855.4677734375,
          13369.0615234375,
          12773.37890625,
          13040.54296875,
          14073.6083984375,
          14400.69140625,
          13938.1865234375,
          14796.94140625,
          15876.4619140625,
          15815.775390625,
          15218.2568359375,
          15115.3681640625,
          14754.603515625,
          13250.8994140625
         ],
         "xaxis": "x",
         "y": [
          1.004823151125402,
          13.5999597038231,
          60.57520997709341,
          47.464272816385495,
          28.241200774018097,
          11.6723259762309,
          8.619296449927274,
          190.0328587075575,
          10.570824524312895,
          26.36154579617477,
          32.5458728466416,
          80.23790820334418,
          431.6143497757848,
          312.4824998599989,
          406.4404315983675,
          409.7218351078656,
          208.9004944719151
         ],
         "yaxis": "y"
        },
        {
         "customdata": [
          [
           2000
          ],
          [
           2001
          ],
          [
           2002
          ],
          [
           2003
          ],
          [
           2004
          ],
          [
           2005
          ],
          [
           2006
          ],
          [
           2007
          ],
          [
           2008
          ],
          [
           2009
          ],
          [
           2010
          ],
          [
           2011
          ],
          [
           2012
          ],
          [
           2013
          ],
          [
           2014
          ],
          [
           2015
          ],
          [
           2016
          ],
          [
           2017
          ],
          [
           2018
          ],
          [
           2019
          ],
          [
           2020
          ]
         ],
         "hovertemplate": "Entity=Palestine<br>GDP per capita (constant 2015 US$)=%{x}<br>a_b_ratio=%{y}<br>Year=%{customdata[0]}<extra></extra>",
         "legendgroup": "Palestine",
         "marker": {
          "color": "#FF97FF",
          "symbol": "circle"
         },
         "mode": "markers",
         "name": "Palestine",
         "showlegend": true,
         "type": "scattergl",
         "x": [
          2436.0029296875,
          2153.4599609375,
          1836.965576171875,
          2041.59228515625,
          2426.415771484375,
          2632.246337890625,
          2540.267578125,
          2569.984375,
          2685.986083984375,
          2840.015869140625,
          2927.0810546875,
          3128.108154296875,
          3237.916259765625,
          3309.631103515625,
          3227.849365234375,
          3272.154296875,
          3483.09912109375,
          3462.97998046875,
          3417.79443359375,
          3378.4345703125,
          2917.8876953125
         ],
         "xaxis": "x",
         "y": [
          43.17584674915206,
          108.64419976564083,
          24.22727589996413,
          25.03106351732096,
          17.08606324039848,
          14.613698528012272,
          19.279587371622178,
          13.677141985678944,
          14.658067687034109,
          13.507202772938715,
          32.943556356100004,
          27.14453707629166,
          25.17111554741799,
          18.975664440188705,
          26.175255503229906,
          27.665697055377105,
          24.52624212126852,
          23.20592798823388,
          30.2691742400296,
          23.970548548558742,
          15.06950920696409
         ],
         "yaxis": "y"
        },
        {
         "customdata": [
          [
           2000
          ],
          [
           2001
          ],
          [
           2002
          ],
          [
           2003
          ],
          [
           2004
          ],
          [
           2005
          ],
          [
           2006
          ],
          [
           2007
          ],
          [
           2008
          ],
          [
           2009
          ],
          [
           2010
          ],
          [
           2011
          ],
          [
           2012
          ],
          [
           2013
          ],
          [
           2014
          ],
          [
           2015
          ],
          [
           2016
          ],
          [
           2017
          ],
          [
           2018
          ],
          [
           2019
          ],
          [
           2020
          ]
         ],
         "hovertemplate": "Entity=Panama<br>GDP per capita (constant 2015 US$)=%{x}<br>a_b_ratio=%{y}<br>Year=%{customdata[0]}<extra></extra>",
         "legendgroup": "Panama",
         "marker": {
          "color": "#FECB52",
          "symbol": "circle"
         },
         "mode": "markers",
         "name": "Panama",
         "showlegend": true,
         "type": "scattergl",
         "x": [
          6955.28515625,
          6860.94873046875,
          6881.2509765625,
          7036.88232421875,
          7426.65087890625,
          7815.22509765625,
          8337.5849609375,
          9169.1533203125,
          9893.6953125,
          9840.3330078125,
          10232.3603515625,
          11193.990234375,
          12079.544921875,
          12695.2353515625,
          13113.2666015625,
          13630.30078125,
          14062.443359375,
          14596.7412109375,
          14880.6630859375,
          15073.0009765625,
          12172.310546875
         ],
         "xaxis": "x",
         "y": [
          0.4863848876883992,
          2.2966133283938177,
          0.0833068193360254,
          0.6443258465813013,
          0.0092498096080855,
          1.00124777857602,
          0.7748078788164854,
          0.125305285930635,
          1.1386771432593177,
          8.577435304701238,
          24.81219067551748,
          18.369719891592627,
          4.210530801191306,
          2.8784079368697104,
          0.6454441542945822,
          0.3209419418554285,
          0.3725469645121696,
          1.2182406017864436,
          4.410291031191825,
          4.85051758542983,
          0.6939284289669944
         ],
         "yaxis": "y"
        },
        {
         "customdata": [
          [
           2000
          ],
          [
           2001
          ],
          [
           2002
          ],
          [
           2003
          ],
          [
           2004
          ],
          [
           2005
          ],
          [
           2006
          ],
          [
           2007
          ],
          [
           2008
          ],
          [
           2009
          ],
          [
           2010
          ],
          [
           2011
          ],
          [
           2012
          ],
          [
           2013
          ],
          [
           2014
          ],
          [
           2015
          ],
          [
           2016
          ],
          [
           2017
          ],
          [
           2018
          ],
          [
           2019
          ],
          [
           2020
          ]
         ],
         "hovertemplate": "Entity=Papua New Guinea<br>GDP per capita (constant 2015 US$)=%{x}<br>a_b_ratio=%{y}<br>Year=%{customdata[0]}<extra></extra>",
         "legendgroup": "Papua New Guinea",
         "marker": {
          "color": "#636efa",
          "symbol": "circle"
         },
         "mode": "markers",
         "name": "Papua New Guinea",
         "showlegend": true,
         "type": "scattergl",
         "x": [
          1883.933837890625,
          1841.639892578125,
          1801.3297119140625,
          1803.4205322265625,
          1814.3416748046875,
          1887.6732177734373,
          1944.2962646484373,
          2046.488525390625,
          1991.3729248046875,
          2076.614990234375,
          2235.096435546875,
          2210.9521484375,
          2265.764404296875,
          2304.8916015625,
          2564.913818359375,
          2679.3466796875,
          2770.39501953125,
          2811.79736328125,
          2749.11767578125,
          2816.71875,
          2666.211181640625
         ],
         "xaxis": "x",
         "y": [
          2.2166548662926857,
          8.391687912038545,
          1.7072260122865968,
          0.5073069438499869,
          0.9661261551007488,
          0.3416000546560087,
          0.5605066144997993,
          0.4825844100094942,
          0.6374335440506506,
          0.1766571493759858,
          1.829026505587498,
          0.900515804692853,
          1.3318303210794975,
          0.2595312864965872,
          0.5907261430225969,
          0.72101773611488,
          4.203759988565233,
          3.2463674749745004,
          3.730210189840901,
          2.8923262393093965,
          1.756987770113792
         ],
         "yaxis": "y"
        },
        {
         "customdata": [
          [
           2000
          ],
          [
           2001
          ],
          [
           2002
          ],
          [
           2003
          ],
          [
           2004
          ],
          [
           2005
          ],
          [
           2006
          ],
          [
           2007
          ],
          [
           2008
          ],
          [
           2009
          ],
          [
           2010
          ],
          [
           2011
          ],
          [
           2012
          ],
          [
           2013
          ],
          [
           2014
          ],
          [
           2015
          ],
          [
           2016
          ],
          [
           2017
          ],
          [
           2018
          ],
          [
           2019
          ],
          [
           2020
          ]
         ],
         "hovertemplate": "Entity=Paraguay<br>GDP per capita (constant 2015 US$)=%{x}<br>a_b_ratio=%{y}<br>Year=%{customdata[0]}<extra></extra>",
         "legendgroup": "Paraguay",
         "marker": {
          "color": "#EF553B",
          "symbol": "circle"
         },
         "mode": "markers",
         "name": "Paraguay",
         "showlegend": true,
         "type": "scattergl",
         "x": [
          3904.30224609375,
          3796.677734375,
          3724.83544921875,
          3816.086669921875,
          3903.30908203125,
          3922.55859375,
          4049.16259765625,
          4208.048828125,
          4420.3505859375,
          4349.67431640625,
          4767.27783203125,
          4904.14697265625,
          4803.05029296875,
          5130.4541015625,
          5329.36962890625,
          5413.77587890625,
          5570.60546875,
          5762.732421875,
          5871.28125,
          5774.166015625,
          5670.751953125
         ],
         "xaxis": "x",
         "y": [
          0.1190518709001512,
          0.0019188186217509,
          0.0680977922128283,
          0.0709847831041272,
          0.0387716620506849,
          0.1351133975706246,
          0.1120208893663628,
          0.1234314368778787,
          0.4924576915957135,
          2.505883741373859,
          1.4561546630406104,
          0.8213639501308878,
          1.5683753404125755,
          1.9398380460019689,
          0.6337502895795527,
          0.5713865787929143,
          3.020765729803756,
          1.408249921405493,
          2.661664289792696,
          4.5620011794740885,
          3.2589481318083613
         ],
         "yaxis": "y"
        },
        {
         "customdata": [
          [
           2000
          ],
          [
           2001
          ],
          [
           2002
          ],
          [
           2003
          ],
          [
           2004
          ],
          [
           2005
          ],
          [
           2006
          ],
          [
           2007
          ],
          [
           2008
          ],
          [
           2009
          ],
          [
           2010
          ],
          [
           2011
          ],
          [
           2012
          ],
          [
           2013
          ],
          [
           2014
          ],
          [
           2015
          ],
          [
           2016
          ],
          [
           2017
          ],
          [
           2018
          ],
          [
           2019
          ],
          [
           2020
          ]
         ],
         "hovertemplate": "Entity=Peru<br>GDP per capita (constant 2015 US$)=%{x}<br>a_b_ratio=%{y}<br>Year=%{customdata[0]}<extra></extra>",
         "legendgroup": "Peru",
         "marker": {
          "color": "#00cc96",
          "symbol": "circle"
         },
         "mode": "markers",
         "name": "Peru",
         "showlegend": true,
         "type": "scattergl",
         "x": [
          3303.5009765625,
          3281.823974609375,
          3422.275390625,
          3529.4873046875,
          3670.69140625,
          3867.52734375,
          4123.79736328125,
          4438.59375,
          4804.8046875,
          4818.59716796875,
          5177.84130859375,
          5460.935546875,
          5748.5908203125,
          6030.42041015625,
          6109.15673828125,
          6229.1005859375,
          6380.02587890625,
          6432.92431640625,
          6574.31689453125,
          6611.49267578125,
          5792.18798828125
         ],
         "xaxis": "x",
         "y": [
          12.370922067768072,
          0.2987239047826622,
          0.6581423994796322,
          1.1812472812849886,
          1.3275297256598697,
          1.542956579077324,
          1.9995715455507683,
          6.299916294818461,
          5.382871955549544,
          3.881855097219425,
          7.210162747485629,
          7.167107417594887,
          2.0588517650931144,
          1.797674408540152,
          1.9028821152669524,
          2.319950361853647,
          1.4428523816828926,
          1.9297281535409292,
          2.3633749727440234,
          1.5494352086272165,
          0.5062338221362178
         ],
         "yaxis": "y"
        },
        {
         "customdata": [
          [
           2000
          ],
          [
           2001
          ],
          [
           2002
          ],
          [
           2003
          ],
          [
           2004
          ],
          [
           2005
          ],
          [
           2006
          ],
          [
           2007
          ],
          [
           2008
          ],
          [
           2009
          ],
          [
           2010
          ],
          [
           2011
          ],
          [
           2012
          ],
          [
           2013
          ],
          [
           2014
          ],
          [
           2015
          ],
          [
           2016
          ],
          [
           2017
          ],
          [
           2018
          ],
          [
           2019
          ],
          [
           2020
          ]
         ],
         "hovertemplate": "Entity=Philippines<br>GDP per capita (constant 2015 US$)=%{x}<br>a_b_ratio=%{y}<br>Year=%{customdata[0]}<extra></extra>",
         "legendgroup": "Philippines",
         "marker": {
          "color": "#ab63fa",
          "symbol": "circle"
         },
         "mode": "markers",
         "name": "Philippines",
         "showlegend": true,
         "type": "scattergl",
         "x": [
          1830.9132080078125,
          1846.931396484375,
          1875.7244873046875,
          1931.1087646484373,
          2017.6741943359373,
          2077.76806640625,
          2149.329833984375,
          2250.609375,
          2309.726318359375,
          2304.83642578125,
          2433.008544921875,
          2484.4892578125,
          2610.9677734375,
          2740.45654296875,
          2866.822021484375,
          3001.043212890625,
          3167.50244140625,
          3338.441650390625,
          3500.933837890625,
          3664.790771484375,
          3269.670654296875
         ],
         "xaxis": "x",
         "y": [
          0.2678357577771397,
          0.9542098815654488,
          0.2482605277964691,
          0.3226318269304499,
          0.3419318456670226,
          0.2951499148261801,
          0.3308235942113243,
          0.6505036278138469,
          1.0638632693294137,
          0.4876975417117497,
          0.4757139470960442,
          0.2505763255487621,
          0.1491344895234551,
          0.2230689570338697,
          0.2472237708113069,
          0.2783618502172542,
          0.202526292375194,
          0.225223334606476,
          1.0840127671263886,
          0.8481547515509944,
          0.2411958522442409
         ],
         "yaxis": "y"
        },
        {
         "customdata": [
          [
           2000
          ],
          [
           2001
          ],
          [
           2002
          ],
          [
           2003
          ],
          [
           2004
          ],
          [
           2005
          ],
          [
           2006
          ],
          [
           2007
          ],
          [
           2008
          ],
          [
           2009
          ],
          [
           2010
          ],
          [
           2011
          ],
          [
           2012
          ],
          [
           2013
          ],
          [
           2014
          ],
          [
           2015
          ],
          [
           2016
          ],
          [
           2017
          ],
          [
           2018
          ],
          [
           2019
          ],
          [
           2020
          ]
         ],
         "hovertemplate": "Entity=Rwanda<br>GDP per capita (constant 2015 US$)=%{x}<br>a_b_ratio=%{y}<br>Year=%{customdata[0]}<extra></extra>",
         "legendgroup": "Rwanda",
         "marker": {
          "color": "#FFA15A",
          "symbol": "circle"
         },
         "mode": "markers",
         "name": "Rwanda",
         "showlegend": true,
         "type": "scattergl",
         "x": [
          344.9399719238281,
          360.683349609375,
          398.773681640625,
          401.3598327636719,
          425.1234436035156,
          456.59075927734375,
          487.51898193359375,
          511.6950988769531,
          553.8304443359375,
          572.9021606445312,
          599.2073974609375,
          630.9321899414062,
          668.7991333007812,
          683.4016723632812,
          707.7367553710938,
          751.077392578125,
          775.4757080078125,
          785.3046264648438,
          830.4293212890625,
          885.599609375,
          834.3895874023438
         ],
         "xaxis": "x",
         "y": [
          4.938351372393124,
          1.4615847615805058,
          0.7859240759121437,
          0.7189548357474148,
          2.3237416904623656,
          3.000122863229517,
          3.446574800435768,
          5.573770181946634,
          4.319158078016569,
          2.37461438651912,
          3.837411698789954,
          4.073014745674833,
          3.1438154425358413,
          3.728374706071837,
          2.988973870668385,
          3.344509468938448,
          5.7372024344848365,
          4.961430762816709,
          3.774394919808072,
          3.8885771119021233,
          3.5363382142001667
         ],
         "yaxis": "y"
        },
        {
         "customdata": [
          [
           2001
          ],
          [
           2002
          ],
          [
           2009
          ],
          [
           2010
          ],
          [
           2011
          ]
         ],
         "hovertemplate": "Entity=Saint Kitts and Nevis<br>GDP per capita (constant 2015 US$)=%{x}<br>a_b_ratio=%{y}<br>Year=%{customdata[0]}<extra></extra>",
         "legendgroup": "Saint Kitts and Nevis",
         "marker": {
          "color": "#19d3f3",
          "symbol": "circle"
         },
         "mode": "markers",
         "name": "Saint Kitts and Nevis",
         "showlegend": true,
         "type": "scattergl",
         "x": [
          15740.791015625,
          15756.134765625,
          16963.189453125,
          16718.1015625,
          16875.37890625
         ],
         "xaxis": "x",
         "y": [
          2.8252885054223804,
          1.0801935706878674,
          0.2113718030014796,
          0.4216829365999704,
          0.4201239365612856
         ],
         "yaxis": "y"
        },
        {
         "customdata": [
          [
           2000
          ],
          [
           2001
          ],
          [
           2002
          ],
          [
           2003
          ],
          [
           2004
          ],
          [
           2005
          ],
          [
           2006
          ],
          [
           2007
          ],
          [
           2008
          ],
          [
           2009
          ],
          [
           2010
          ],
          [
           2011
          ],
          [
           2012
          ],
          [
           2013
          ],
          [
           2014
          ],
          [
           2015
          ],
          [
           2016
          ],
          [
           2017
          ],
          [
           2018
          ],
          [
           2019
          ],
          [
           2020
          ]
         ],
         "hovertemplate": "Entity=Saint Lucia<br>GDP per capita (constant 2015 US$)=%{x}<br>a_b_ratio=%{y}<br>Year=%{customdata[0]}<extra></extra>",
         "legendgroup": "Saint Lucia",
         "marker": {
          "color": "#FF6692",
          "symbol": "circle"
         },
         "mode": "markers",
         "name": "Saint Lucia",
         "showlegend": true,
         "type": "scattergl",
         "x": [
          9326.87109375,
          8926.5947265625,
          8895.8349609375,
          9209.4560546875,
          9799.9326171875,
          9664.9375,
          10141.443359375,
          10173.599609375,
          10528.4697265625,
          10099.23046875,
          10151.046875,
          10619.4658203125,
          10531.2880859375,
          10148.0986328125,
          10280.123046875,
          10093.6181640625,
          10409.537109375,
          10718.8603515625,
          10975.826171875,
          10914.5029296875,
          8651.349609375
         ],
         "xaxis": "x",
         "y": [
          2.633014237084125,
          51.3663447709061,
          48.01809484964218,
          11.222862749908009,
          3.409395319387283,
          3.809086182086412,
          22.645906917513635,
          6.9840739237363,
          8.601053480757367,
          0.1178592053932372,
          0.4094764551038315,
          0.6970381686483849,
          0.2310282489791439,
          0.1724217205388753,
          1.601702380816182,
          1.6511233332194628,
          3.3441214312839724,
          3.047834062367716,
          10.961583864548553,
          1.1758513723865305,
          2.008424223827722
         ],
         "yaxis": "y"
        },
        {
         "customdata": [
          [
           2002
          ],
          [
           2003
          ],
          [
           2004
          ],
          [
           2005
          ],
          [
           2006
          ],
          [
           2007
          ],
          [
           2008
          ],
          [
           2010
          ],
          [
           2012
          ],
          [
           2013
          ],
          [
           2014
          ],
          [
           2015
          ],
          [
           2016
          ],
          [
           2017
          ],
          [
           2019
          ],
          [
           2020
          ]
         ],
         "hovertemplate": "Entity=Saint Vincent and the Grenadines<br>GDP per capita (constant 2015 US$)=%{x}<br>a_b_ratio=%{y}<br>Year=%{customdata[0]}<extra></extra>",
         "legendgroup": "Saint Vincent and the Grenadines",
         "marker": {
          "color": "#B6E880",
          "symbol": "circle"
         },
         "mode": "markers",
         "name": "Saint Vincent and the Grenadines",
         "showlegend": true,
         "type": "scattergl",
         "x": [
          5389.92041015625,
          5792.216796875,
          6021.953125,
          6166.2890625,
          6641.2666015625,
          6868.7109375,
          6984.947265625,
          6617.7783203125,
          6670.00341796875,
          6780.77001953125,
          6847.50634765625,
          6921.70263671875,
          7031.7255859375,
          7078.81201171875,
          7219.89208984375,
          6962.75390625
         ],
         "xaxis": "x",
         "y": [
          14.98246170659052,
          27.758378344928797,
          14.295735253638307,
          11.601342186049832,
          10.678104501852966,
          5.232956801039373,
          3.4441191665231616,
          0.182942446306392,
          0.3700106378058369,
          0.1861001777256697,
          0.0935156264611816,
          0.1878057712713511,
          0.3774617584056015,
          0.2841770233404062,
          0.7623403849818944,
          17.201177325025803
         ],
         "yaxis": "y"
        },
        {
         "customdata": [
          [
           2000
          ],
          [
           2002
          ],
          [
           2003
          ],
          [
           2004
          ],
          [
           2005
          ],
          [
           2006
          ],
          [
           2007
          ],
          [
           2008
          ],
          [
           2009
          ],
          [
           2010
          ],
          [
           2011
          ],
          [
           2012
          ],
          [
           2013
          ],
          [
           2014
          ],
          [
           2015
          ],
          [
           2016
          ],
          [
           2017
          ],
          [
           2018
          ],
          [
           2019
          ],
          [
           2020
          ]
         ],
         "hovertemplate": "Entity=Samoa<br>GDP per capita (constant 2015 US$)=%{x}<br>a_b_ratio=%{y}<br>Year=%{customdata[0]}<extra></extra>",
         "legendgroup": "Samoa",
         "marker": {
          "color": "#FF97FF",
          "symbol": "circle"
         },
         "mode": "markers",
         "name": "Samoa",
         "showlegend": true,
         "type": "scattergl",
         "x": [
          3267.93017578125,
          3606.094970703125,
          3746.184326171875,
          3894.953857421875,
          4031.45263671875,
          4084.64208984375,
          4314.9638671875,
          4329.373046875,
          4092.554443359375,
          4080.91845703125,
          4213.8251953125,
          4007.0849609375,
          3959.38330078125,
          3930.37060546875,
          4071.927001953125,
          4379.5107421875,
          4406.63525390625,
          4335.20751953125,
          4502.92626953125,
          4357.06884765625
         ],
         "xaxis": "x",
         "y": [
          1.3041918901000966,
          28.021109593077767,
          14.296764556826972,
          7.124514177251532,
          9.171199253581008,
          19.48422253199848,
          11.916636043886818,
          46.50896027446544,
          45.60301052337349,
          78.63945019159056,
          101.0368499317594,
          40.22591113959956,
          15.303672881491558,
          75.63104342094177,
          100.64542748519054,
          93.45248809344277,
          73.5400352529835,
          92.36344562859118,
          37.84536252742845,
          3.908176463472508
         ],
         "yaxis": "y"
        },
        {
         "customdata": [
          [
           2001
          ],
          [
           2002
          ],
          [
           2003
          ],
          [
           2004
          ],
          [
           2005
          ],
          [
           2006
          ],
          [
           2007
          ],
          [
           2008
          ],
          [
           2009
          ],
          [
           2010
          ],
          [
           2011
          ],
          [
           2012
          ],
          [
           2013
          ],
          [
           2014
          ],
          [
           2015
          ],
          [
           2016
          ],
          [
           2017
          ],
          [
           2018
          ],
          [
           2019
          ],
          [
           2020
          ]
         ],
         "hovertemplate": "Entity=Sao Tome and Principe<br>GDP per capita (constant 2015 US$)=%{x}<br>a_b_ratio=%{y}<br>Year=%{customdata[0]}<extra></extra>",
         "legendgroup": "Sao Tome and Principe",
         "marker": {
          "color": "#FECB52",
          "symbol": "circle"
         },
         "mode": "markers",
         "name": "Sao Tome and Principe",
         "showlegend": true,
         "type": "scattergl",
         "x": [
          1081.406494140625,
          1086.91259765625,
          1135.602294921875,
          1153.5731201171875,
          1206.09521484375,
          1281.8179931640625,
          1286.7457275390625,
          1352.82958984375,
          1348.1905517578125,
          1402.3021240234375,
          1431.060302734375,
          1445.6798095703125,
          1486.239013671875,
          1554.0472412109375,
          1584.775634765625,
          1620.0565185546875,
          1651.011962890625,
          1667.85791015625,
          1672.8961181640625,
          1692.21875
         ],
         "xaxis": "x",
         "y": [
          13.05795407155212,
          15.882337239409551,
          20.484607280814704,
          17.30981396705429,
          11.379308212273571,
          5.2492171426158,
          4.415426912910119,
          4.5971991564139545,
          5.332734570153527,
          16.579377889038945,
          6.342108374807856,
          2.527167045741724,
          4.283539338889892,
          4.455448050994628,
          32.31547861709638,
          42.70914777169664,
          41.0958904109589,
          40.12150001419393,
          30.00764169757516,
          29.773610793505604
         ],
         "yaxis": "y"
        },
        {
         "customdata": [
          [
           2000
          ],
          [
           2001
          ],
          [
           2002
          ],
          [
           2003
          ],
          [
           2004
          ],
          [
           2005
          ],
          [
           2006
          ],
          [
           2007
          ]
         ],
         "hovertemplate": "Entity=Saudi Arabia<br>GDP per capita (constant 2015 US$)=%{x}<br>a_b_ratio=%{y}<br>Year=%{customdata[0]}<extra></extra>",
         "legendgroup": "Saudi Arabia",
         "marker": {
          "color": "#636efa",
          "symbol": "circle"
         },
         "mode": "markers",
         "name": "Saudi Arabia",
         "showlegend": true,
         "type": "scattergl",
         "x": [
          17690.66796875,
          17032.36328125,
          16094.7060546875,
          17384.80078125,
          18219.86328125,
          18683.384765625,
          18669.62109375,
          18496.33203125
         ],
         "xaxis": "x",
         "y": [
          0.0018563726348768,
          0.000452776907943,
          0.0008840399494116,
          0.0008638991656893,
          0.0021131102260841,
          0.0016395020307691,
          0.0043336313033159,
          0.0238635767046946
         ],
         "yaxis": "y"
        },
        {
         "customdata": [
          [
           2000
          ],
          [
           2001
          ],
          [
           2002
          ],
          [
           2003
          ],
          [
           2004
          ],
          [
           2005
          ],
          [
           2006
          ],
          [
           2007
          ],
          [
           2008
          ],
          [
           2009
          ],
          [
           2010
          ],
          [
           2011
          ],
          [
           2012
          ],
          [
           2013
          ],
          [
           2014
          ],
          [
           2015
          ],
          [
           2016
          ],
          [
           2017
          ],
          [
           2018
          ],
          [
           2019
          ],
          [
           2020
          ]
         ],
         "hovertemplate": "Entity=Senegal<br>GDP per capita (constant 2015 US$)=%{x}<br>a_b_ratio=%{y}<br>Year=%{customdata[0]}<extra></extra>",
         "legendgroup": "Senegal",
         "marker": {
          "color": "#EF553B",
          "symbol": "circle"
         },
         "mode": "markers",
         "name": "Senegal",
         "showlegend": true,
         "type": "scattergl",
         "x": [
          1066.6217041015625,
          1086.17626953125,
          1060.7535400390625,
          1092.701416015625,
          1115.02587890625,
          1133.717041015625,
          1130.364013671875,
          1132.0067138671875,
          1142.866943359375,
          1142.865966796875,
          1149.646484375,
          1133.193359375,
          1146.1781005859375,
          1141.4268798828125,
          1178.912841796875,
          1219.2493896484375,
          1260.8480224609375,
          1316.8447265625,
          1360.2392578125,
          1381.601806640625,
          1364.8382568359375
         ],
         "xaxis": "x",
         "y": [
          2.6895318782175845,
          26.527395575862737,
          4.514316157715827,
          4.76879353644471,
          8.066401344686863,
          5.923055319696455,
          4.176362904628438,
          7.115260122944915,
          6.732961434213434,
          5.803184707734989,
          5.243362238598041,
          8.621547982980267,
          6.572782016711206,
          7.939350248694961,
          10.968973209907809,
          8.394984435634772,
          4.9927613434317495,
          4.204437941592157,
          14.408429968455676,
          10.471987527110391,
          7.840049841446765
         ],
         "yaxis": "y"
        },
        {
         "customdata": [
          [
           2000
          ],
          [
           2001
          ],
          [
           2002
          ],
          [
           2003
          ],
          [
           2004
          ],
          [
           2005
          ],
          [
           2006
          ],
          [
           2007
          ],
          [
           2008
          ],
          [
           2009
          ],
          [
           2010
          ],
          [
           2011
          ],
          [
           2012
          ],
          [
           2013
          ],
          [
           2014
          ],
          [
           2015
          ],
          [
           2016
          ],
          [
           2017
          ],
          [
           2018
          ],
          [
           2019
          ],
          [
           2020
          ]
         ],
         "hovertemplate": "Entity=Serbia<br>GDP per capita (constant 2015 US$)=%{x}<br>a_b_ratio=%{y}<br>Year=%{customdata[0]}<extra></extra>",
         "legendgroup": "Serbia",
         "marker": {
          "color": "#00cc96",
          "symbol": "circle"
         },
         "mode": "markers",
         "name": "Serbia",
         "showlegend": true,
         "type": "scattergl",
         "x": [
          3193.259765625,
          3418.790283203125,
          3640.27587890625,
          3808.094970703125,
          4161.59619140625,
          4404.9609375,
          4648.1982421875,
          4967.62109375,
          5270.95947265625,
          5147.5703125,
          5206.087890625,
          5354.20166015625,
          5343.580078125,
          5524.96923828125,
          5462.73583984375,
          5588.98095703125,
          5805.8994140625,
          5959.5224609375,
          6261.52734375,
          6567.90966796875,
          6549.35009765625
         ],
         "xaxis": "x",
         "y": [
          7.726505644659127,
          5.7667592177213045,
          2.5340727140968835,
          2.850091524958713,
          3.082636401891853,
          3.134998794525922,
          4.472216834009169,
          5.314390061278539,
          3.9920748961419568,
          4.310593198237729,
          4.167892100982146,
          3.3867279890564466,
          3.889950110368937,
          3.8378817430220993,
          3.4809281326199155,
          4.146551745920374,
          4.8296555530763,
          6.029566173986408,
          5.176339233167313,
          6.536905003826481,
          4.93747630133691
         ],
         "yaxis": "y"
        },
        {
         "customdata": [
          [
           2003
          ],
          [
           2004
          ],
          [
           2007
          ],
          [
           2008
          ],
          [
           2009
          ],
          [
           2010
          ],
          [
           2011
          ],
          [
           2012
          ],
          [
           2013
          ],
          [
           2014
          ],
          [
           2015
          ],
          [
           2016
          ],
          [
           2017
          ]
         ],
         "hovertemplate": "Entity=Seychelles<br>GDP per capita (constant 2015 US$)=%{x}<br>a_b_ratio=%{y}<br>Year=%{customdata[0]}<extra></extra>",
         "legendgroup": "Seychelles",
         "marker": {
          "color": "#ab63fa",
          "symbol": "circle"
         },
         "mode": "markers",
         "name": "Seychelles",
         "showlegend": true,
         "type": "scattergl",
         "x": [
          9987.271484375,
          9738.587890625,
          12438.708984375,
          11902.4912109375,
          11724.8251953125,
          12080.94140625,
          13380.955078125,
          13417.396484375,
          13964.5615234375,
          14368.40234375,
          14745.341796875,
          15213.2509765625,
          15740.259765625
         ],
         "xaxis": "x",
         "y": [
          0.5979931350388098,
          3.068462110393825,
          0.4528011410588755,
          2.0075842070042382,
          6.480240757419327,
          6.816411321734615,
          19.50086315295923,
          7.2388505964183425,
          98.9351803990489,
          25.60806398955273,
          0.7052186177715092,
          51.03411227504701,
          1.9640963192834977
         ],
         "yaxis": "y"
        },
        {
         "customdata": [
          [
           2000
          ],
          [
           2001
          ],
          [
           2002
          ],
          [
           2003
          ],
          [
           2004
          ],
          [
           2005
          ],
          [
           2006
          ],
          [
           2007
          ],
          [
           2008
          ],
          [
           2009
          ],
          [
           2010
          ],
          [
           2011
          ],
          [
           2012
          ],
          [
           2013
          ],
          [
           2014
          ],
          [
           2015
          ],
          [
           2016
          ],
          [
           2017
          ],
          [
           2018
          ],
          [
           2019
          ],
          [
           2020
          ]
         ],
         "hovertemplate": "Entity=Sierra Leone<br>GDP per capita (constant 2015 US$)=%{x}<br>a_b_ratio=%{y}<br>Year=%{customdata[0]}<extra></extra>",
         "legendgroup": "Sierra Leone",
         "marker": {
          "color": "#FFA15A",
          "symbol": "circle"
         },
         "mode": "markers",
         "name": "Sierra Leone",
         "showlegend": true,
         "type": "scattergl",
         "x": [
          403.04986572265625,
          364.0162658691406,
          440.5611877441406,
          459.8033142089844,
          469.1316223144531,
          471.8881530761719,
          476.3288269042969,
          500.92822265625,
          515.578125,
          520.21435546875,
          535.8207397460938,
          556.846923828125,
          627.115966796875,
          740.3311157226562,
          757.169189453125,
          588.2288818359375,
          610.4900512695312,
          622.5303344726562,
          630.4824829101562,
          649.7603149414062,
          623.8890991210938
         ],
         "xaxis": "x",
         "y": [
          0.8071422930781659,
          0.6341224589292471,
          1.2567799973541474,
          0.4279640293430079,
          5.405425919911865,
          1.4780046514917815,
          0.953564835007465,
          5.822363364302312,
          2.763156144919413,
          3.696577151670689,
          1.8689704148042343,
          2.4817047996261565,
          4.450111466380226,
          6.304499425473595,
          5.706723430476004,
          2.9392548975163844,
          4.504986577114935,
          5.546025630505485,
          6.554906340399479,
          3.585262768071402,
          3.972565856118304
         ],
         "yaxis": "y"
        },
        {
         "customdata": [
          [
           2000
          ],
          [
           2001
          ],
          [
           2002
          ]
         ],
         "hovertemplate": "Entity=Slovenia<br>GDP per capita (constant 2015 US$)=%{x}<br>a_b_ratio=%{y}<br>Year=%{customdata[0]}<extra></extra>",
         "legendgroup": "Slovenia",
         "marker": {
          "color": "#19d3f3",
          "symbol": "circle"
         },
         "mode": "markers",
         "name": "Slovenia",
         "showlegend": true,
         "type": "scattergl",
         "x": [
          16240.6572265625,
          16736.666015625,
          17301.93359375
         ],
         "xaxis": "x",
         "y": [
          8.92488632234714,
          7.324126388595347,
          0
         ],
         "yaxis": "y"
        },
        {
         "customdata": [
          [
           2000
          ],
          [
           2001
          ],
          [
           2002
          ],
          [
           2003
          ],
          [
           2004
          ],
          [
           2005
          ],
          [
           2006
          ],
          [
           2007
          ],
          [
           2008
          ],
          [
           2009
          ],
          [
           2010
          ],
          [
           2011
          ],
          [
           2012
          ],
          [
           2013
          ],
          [
           2014
          ],
          [
           2015
          ],
          [
           2016
          ],
          [
           2017
          ],
          [
           2018
          ],
          [
           2019
          ],
          [
           2020
          ]
         ],
         "hovertemplate": "Entity=Solomon Islands<br>GDP per capita (constant 2015 US$)=%{x}<br>a_b_ratio=%{y}<br>Year=%{customdata[0]}<extra></extra>",
         "legendgroup": "Solomon Islands",
         "marker": {
          "color": "#FF6692",
          "symbol": "circle"
         },
         "mode": "markers",
         "name": "Solomon Islands",
         "showlegend": true,
         "type": "scattergl",
         "x": [
          1939.074462890625,
          1737.157470703125,
          1644.0390625,
          1705.9586181640625,
          1773.680908203125,
          1826.66162109375,
          1871.02783203125,
          1910.48095703125,
          1976.315185546875,
          1980.355224609375,
          2099.330810546875,
          2195.183837890625,
          2177.541015625,
          2232.352783203125,
          2195.302001953125,
          2167.119873046875,
          2234.14599609375,
          2292.133544921875,
          2321.135986328125,
          2289.5869140625,
          2136.337646484375
         ],
         "xaxis": "x",
         "y": [
          4.860623369132949,
          0.5222489401752486,
          0.4880505265399658,
          0.2818574841834588,
          0.2543472178653486,
          1.8445748773046824,
          1.7631394420372974,
          0.2576175528710485,
          0.6589019592643554,
          0.8904145921901168,
          10.399665434250798,
          8.018391734555115,
          13.773158544554054,
          31.869828236049653,
          13.45863478554904,
          12.861736334405144,
          8.80419034882425,
          16.033782807496724,
          14.667983296397926,
          24.666666666666664,
          30.4543705276925
         ],
         "yaxis": "y"
        },
        {
         "customdata": [
          [
           2013
          ],
          [
           2014
          ],
          [
           2015
          ],
          [
           2016
          ],
          [
           2017
          ],
          [
           2018
          ],
          [
           2019
          ],
          [
           2020
          ]
         ],
         "hovertemplate": "Entity=Somalia<br>GDP per capita (constant 2015 US$)=%{x}<br>a_b_ratio=%{y}<br>Year=%{customdata[0]}<extra></extra>",
         "legendgroup": "Somalia",
         "marker": {
          "color": "#B6E880",
          "symbol": "circle"
         },
         "mode": "markers",
         "name": "Somalia",
         "showlegend": true,
         "type": "scattergl",
         "x": [
          330.4187927246094,
          345.7008056640625,
          386.4378051757813,
          407.42584228515625,
          406.42724609375,
          425.4165954589844,
          446.8542175292969,
          444.7884216308594
         ],
         "xaxis": "x",
         "y": [
          0.6761335215095657,
          0.6424110294535313,
          1.9841746992079068,
          2.409596743770031,
          1.4363346515768332,
          0.99798190927436,
          1.0637424511829818,
          1.3472803863429308
         ],
         "yaxis": "y"
        },
        {
         "customdata": [
          [
           2000
          ],
          [
           2001
          ],
          [
           2002
          ],
          [
           2003
          ],
          [
           2004
          ],
          [
           2005
          ],
          [
           2006
          ],
          [
           2007
          ],
          [
           2008
          ],
          [
           2009
          ],
          [
           2010
          ],
          [
           2011
          ],
          [
           2012
          ],
          [
           2013
          ],
          [
           2014
          ],
          [
           2015
          ],
          [
           2016
          ],
          [
           2017
          ],
          [
           2018
          ],
          [
           2019
          ],
          [
           2020
          ]
         ],
         "hovertemplate": "Entity=South Africa<br>GDP per capita (constant 2015 US$)=%{x}<br>a_b_ratio=%{y}<br>Year=%{customdata[0]}<extra></extra>",
         "legendgroup": "South Africa",
         "marker": {
          "color": "#FF97FF",
          "symbol": "circle"
         },
         "mode": "markers",
         "name": "South Africa",
         "showlegend": true,
         "type": "scattergl",
         "x": [
          4930.025390625,
          4996.07861328125,
          5115.880859375,
          5202.6875,
          5373.80712890625,
          5587.79345703125,
          5826.826171875,
          6060.39404296875,
          6170.9052734375,
          5992.02734375,
          6084.9677734375,
          6182.7939453125,
          6231.62060546875,
          6284.8603515625,
          6273.56640625,
          6259.83984375,
          6209.36572265625,
          6192.892578125,
          6199.8916015625,
          6125.7353515625,
          5659.20703125
         ],
         "xaxis": "x",
         "y": [
          0.213828249390472,
          0.2303634627287162,
          0.2331021111456043,
          0.1908363463163305,
          0.2800886002621629,
          0.7748307551747801,
          1.7602928842867671,
          0.2322181315917146,
          0.9605303314001696,
          1.12837834404713,
          0.9184139446906252,
          2.4515991741178857,
          0.0731959236983111,
          0.0588414275130783,
          0.0562767218502558,
          0.0558374231859602,
          0.550846304097786,
          0.0340741320347546,
          0.0312175006634154,
          1.6692185832782722,
          0.0673447306013503
         ],
         "yaxis": "y"
        },
        {
         "customdata": [
          [
           2011
          ],
          [
           2012
          ],
          [
           2013
          ],
          [
           2014
          ],
          [
           2015
          ]
         ],
         "hovertemplate": "Entity=South Sudan<br>GDP per capita (constant 2015 US$)=%{x}<br>a_b_ratio=%{y}<br>Year=%{customdata[0]}<extra></extra>",
         "legendgroup": "South Sudan",
         "marker": {
          "color": "#FECB52",
          "symbol": "circle"
         },
         "mode": "markers",
         "name": "South Sudan",
         "showlegend": true,
         "type": "scattergl",
         "x": [
          2169.705810546875,
          1137.1298828125,
          1256.4444580078125,
          1274.2396240234375,
          1119.6514892578125
         ],
         "xaxis": "x",
         "y": [
          1.0748744246956743,
          1.740860366272162,
          2.8362952509522525,
          2.012790898225552,
          3.739403089072117
         ],
         "yaxis": "y"
        },
        {
         "customdata": [
          [
           2000
          ],
          [
           2001
          ],
          [
           2002
          ],
          [
           2003
          ],
          [
           2004
          ],
          [
           2005
          ],
          [
           2006
          ],
          [
           2007
          ],
          [
           2008
          ],
          [
           2009
          ],
          [
           2010
          ],
          [
           2011
          ],
          [
           2012
          ],
          [
           2013
          ],
          [
           2014
          ],
          [
           2015
          ],
          [
           2016
          ],
          [
           2017
          ],
          [
           2018
          ],
          [
           2019
          ],
          [
           2020
          ]
         ],
         "hovertemplate": "Entity=Sri Lanka<br>GDP per capita (constant 2015 US$)=%{x}<br>a_b_ratio=%{y}<br>Year=%{customdata[0]}<extra></extra>",
         "legendgroup": "Sri Lanka",
         "marker": {
          "color": "#636efa",
          "symbol": "circle"
         },
         "mode": "markers",
         "name": "Sri Lanka",
         "showlegend": true,
         "type": "scattergl",
         "x": [
          1923.4134521484373,
          1880.2589111328125,
          1939.34619140625,
          2037.2821044921875,
          2130.138916015625,
          2244.8212890625,
          2398.432373046875,
          2542.593505859375,
          2674.746337890625,
          2750.201904296875,
          2950.390625,
          3176.92041015625,
          3462.936767578125,
          3552.698486328125,
          3694.300537109375,
          3843.78076171875,
          3972.1025390625,
          4067.9931640625,
          4157.28369140625,
          4225.1064453125,
          4052.746826171875
         ],
         "xaxis": "x",
         "y": [
          1.8011997417605763,
          2.8160262761466823,
          1.0119981961943216,
          1.9059033893997368,
          2.434527625192953,
          4.306220241613926,
          5.04712816947722,
          3.8897033525955824,
          6.36903740774262,
          4.45160850607768,
          8.168446794251132,
          8.061939009228588,
          7.570959906552506,
          6.119224700713551,
          7.591063571896972,
          7.399928723721559,
          6.129613627578435,
          7.406024211115211,
          8.600735693984518,
          6.842138520025069,
          6.079647153894372
         ],
         "yaxis": "y"
        },
        {
         "customdata": [
          [
           2000
          ],
          [
           2001
          ],
          [
           2002
          ],
          [
           2003
          ],
          [
           2004
          ],
          [
           2005
          ],
          [
           2006
          ],
          [
           2007
          ],
          [
           2008
          ],
          [
           2009
          ],
          [
           2010
          ],
          [
           2011
          ],
          [
           2012
          ],
          [
           2013
          ],
          [
           2014
          ],
          [
           2015
          ],
          [
           2016
          ],
          [
           2017
          ],
          [
           2018
          ],
          [
           2020
          ]
         ],
         "hovertemplate": "Entity=Sudan<br>GDP per capita (constant 2015 US$)=%{x}<br>a_b_ratio=%{y}<br>Year=%{customdata[0]}<extra></extra>",
         "legendgroup": "Sudan",
         "marker": {
          "color": "#EF553B",
          "symbol": "circle"
         },
         "mode": "markers",
         "name": "Sudan",
         "showlegend": true,
         "type": "scattergl",
         "x": [
          1123.552734375,
          1163.75341796875,
          1199.6993408203125,
          1239.9998779296875,
          1267.820556640625,
          1302.5531005859375,
          1349.62158203125,
          1388.2056884765625,
          1402.9080810546875,
          1328.2265625,
          1344.1712646484375,
          1423.379150390625,
          1314.22021484375,
          1308.153564453125,
          1336.5018310546875,
          1329.635986328125,
          1343.1343994140625,
          1320.6461181640625,
          1254.859130859375,
          1127.724365234375
         ],
         "xaxis": "x",
         "y": [
          0.1418316851071939,
          0.5952369466096209,
          0.2023915132523278,
          0.0769804261125551,
          0.0686747534541666,
          0.4072363633704736,
          0.6959424019474519,
          0.6912213098271921,
          1.0550365442454197,
          2.364927493969617,
          3.0435745987869804,
          3.465173998975236,
          3.463615484414697,
          2.8287856965747937,
          3.2540386724970736,
          5.895024653683676,
          1.3860824120210982,
          1.083338126864868,
          0.9135917886170036,
          0.7333403479584066
         ],
         "yaxis": "y"
        },
        {
         "customdata": [
          [
           2000
          ],
          [
           2001
          ],
          [
           2002
          ],
          [
           2003
          ],
          [
           2004
          ],
          [
           2005
          ],
          [
           2006
          ],
          [
           2007
          ],
          [
           2008
          ],
          [
           2009
          ],
          [
           2010
          ],
          [
           2011
          ],
          [
           2013
          ],
          [
           2014
          ],
          [
           2015
          ],
          [
           2016
          ],
          [
           2017
          ],
          [
           2018
          ],
          [
           2019
          ],
          [
           2020
          ]
         ],
         "hovertemplate": "Entity=Suriname<br>GDP per capita (constant 2015 US$)=%{x}<br>a_b_ratio=%{y}<br>Year=%{customdata[0]}<extra></extra>",
         "legendgroup": "Suriname",
         "marker": {
          "color": "#00cc96",
          "symbol": "circle"
         },
         "mode": "markers",
         "name": "Suriname",
         "showlegend": true,
         "type": "scattergl",
         "x": [
          6202.416015625,
          6386.568359375,
          6488.41455078125,
          6816.4716796875,
          7309.85009765625,
          7550.37841796875,
          7895.634765625,
          8203.609375,
          8445.365234375,
          8600.2470703125,
          8941.9931640625,
          9358.0263671875,
          9672.669921875,
          9592.5185546875,
          9168.2373046875,
          8628.85546875,
          8677.7822265625,
          9020.4404296875,
          9035.197265625,
          7529.6142578125
         ],
         "xaxis": "x",
         "y": [
          0.5427850299888729,
          0,
          6.395280807298287,
          2.937755316741632,
          7.912446042601863,
          15.1677165903438,
          13.849646096526095,
          8.618109773883528,
          7.322933893197537,
          11.981570233853583,
          12.58045908603972,
          18.400663582985903,
          0.8156722557948194,
          0.035106997351177,
          0.7645817911371069,
          1.3758422734417726,
          2.961369446155836,
          0.6400226365900942,
          1.7990854648886816,
          0.7412678645555358
         ],
         "yaxis": "y"
        },
        {
         "customdata": [
          [
           2000
          ],
          [
           2001
          ],
          [
           2002
          ],
          [
           2003
          ],
          [
           2004
          ],
          [
           2005
          ],
          [
           2006
          ],
          [
           2007
          ],
          [
           2008
          ],
          [
           2009
          ],
          [
           2010
          ],
          [
           2011
          ],
          [
           2012
          ],
          [
           2013
          ],
          [
           2014
          ],
          [
           2015
          ],
          [
           2016
          ],
          [
           2017
          ],
          [
           2018
          ],
          [
           2019
          ]
         ],
         "hovertemplate": "Entity=Syria<br>GDP per capita (constant 2015 US$)=%{x}<br>a_b_ratio=%{y}<br>Year=%{customdata[0]}<extra></extra>",
         "legendgroup": "Syria",
         "marker": {
          "color": "#ab63fa",
          "symbol": "circle"
         },
         "mode": "markers",
         "name": "Syria",
         "showlegend": true,
         "type": "scattergl",
         "x": [
          1254.598388671875,
          1240.8421630859375,
          1265.9005126953125,
          1331.340087890625,
          1390.302001953125,
          1433.815185546875,
          1451.0023193359375,
          1470.1658935546875,
          1477.572509765625,
          1524.94140625,
          1592.3507080078125,
          1659.5408935546875,
          1260.8887939453125,
          970.1117553710938,
          910.4425048828124,
          916.3580322265624,
          891.095947265625,
          903.753662109375,
          925.2420654296876,
          952.8848876953124
         ],
         "xaxis": "x",
         "y": [
          0.9314641666225668,
          0.83632488358256,
          0.1130270951582105,
          0.8704610820427456,
          0.61159001792191,
          0.3008035706406244,
          0.869184312977987,
          0.854948558179974,
          0.2817352657112814,
          0.3582682212147748,
          0.5103512210242498,
          0.6585797009458647,
          0.0712213470106631,
          0.0595464329593228,
          0.2022694835332712,
          0.2171289430381744,
          0.1397365949366207,
          0.4646171886235162,
          1.260508722078982,
          1.3384248540619352
         ],
         "yaxis": "y"
        },
        {
         "customdata": [
          [
           2000
          ],
          [
           2001
          ],
          [
           2002
          ],
          [
           2003
          ],
          [
           2004
          ],
          [
           2005
          ],
          [
           2006
          ],
          [
           2007
          ],
          [
           2008
          ],
          [
           2009
          ],
          [
           2010
          ],
          [
           2011
          ],
          [
           2012
          ],
          [
           2013
          ],
          [
           2014
          ],
          [
           2015
          ],
          [
           2016
          ],
          [
           2017
          ],
          [
           2018
          ],
          [
           2020
          ]
         ],
         "hovertemplate": "Entity=Tajikistan<br>GDP per capita (constant 2015 US$)=%{x}<br>a_b_ratio=%{y}<br>Year=%{customdata[0]}<extra></extra>",
         "legendgroup": "Tajikistan",
         "marker": {
          "color": "#FFA15A",
          "symbol": "circle"
         },
         "mode": "markers",
         "name": "Tajikistan",
         "showlegend": true,
         "type": "scattergl",
         "x": [
          434.3443298339844,
          468.2610778808594,
          510.0862426757813,
          556.2689819335938,
          602.4359741210938,
          630.781982421875,
          661.9429931640625,
          699.4219360351562,
          739.2625732421875,
          751.9462890625,
          783.5194091796875,
          822.9031982421875,
          864.700439453125,
          907.3781127929688,
          945.5254516601562,
          978.4049682617188,
          1020.6161499023438,
          1066.40673828125,
          1119.642822265625,
          1199.0599365234375
         ],
         "xaxis": "x",
         "y": [
          2.596843201523481,
          1.0704010243394526,
          0.5075088378383914,
          0.8437620878660568,
          2.770096950452611,
          3.4448654835591017,
          1.6011505612882886,
          1.0057875211956158,
          1.985082392523967,
          1.9695785142147733,
          2.924511777752849,
          2.9210694659606773,
          4.279582820485137,
          4.040993966530542,
          4.345239224755518,
          5.086774316388446,
          6.944153146827981,
          2.87938115488729,
          7.94138471500902,
          9.816402466633086
         ],
         "yaxis": "y"
        },
        {
         "customdata": [
          [
           2000
          ],
          [
           2001
          ],
          [
           2002
          ],
          [
           2003
          ],
          [
           2004
          ],
          [
           2005
          ],
          [
           2006
          ],
          [
           2007
          ],
          [
           2008
          ],
          [
           2009
          ],
          [
           2010
          ],
          [
           2011
          ],
          [
           2012
          ],
          [
           2013
          ],
          [
           2014
          ],
          [
           2015
          ],
          [
           2016
          ],
          [
           2017
          ],
          [
           2018
          ],
          [
           2019
          ],
          [
           2020
          ]
         ],
         "hovertemplate": "Entity=Tanzania<br>GDP per capita (constant 2015 US$)=%{x}<br>a_b_ratio=%{y}<br>Year=%{customdata[0]}<extra></extra>",
         "legendgroup": "Tanzania",
         "marker": {
          "color": "#19d3f3",
          "symbol": "circle"
         },
         "mode": "markers",
         "name": "Tanzania",
         "showlegend": true,
         "type": "scattergl",
         "x": [
          567.5401611328125,
          586.5109252929688,
          611.2860717773438,
          634.1104736328125,
          662.7249145507812,
          692.4771118164062,
          717.2611694335938,
          744.5248413085938,
          764.858154296875,
          782.3978271484375,
          808.1405029296875,
          844.9060668945312,
          857.0877075195312,
          888.26318359375,
          920.0780029296876,
          947.933349609375,
          983.1658935546876,
          1018.9896850585938,
          1042.9876708984375,
          1071.35009765625,
          1061.1702880859375
         ],
         "xaxis": "x",
         "y": [
          1.6417271921787628,
          0.7415049399025212,
          1.0997557100922914,
          2.0260398078787127,
          1.0729679743563785,
          1.5395729581616484,
          2.409148096437715,
          3.641964210803879,
          3.652361947809432,
          5.000234314892827,
          4.85429876996352,
          3.691827858098685,
          4.6157739140071925,
          3.87443382873894,
          3.230373850388369,
          2.6414644176719544,
          2.093680569857573,
          1.1262366031694575,
          2.873794526342405,
          3.933018825444381,
          2.214262423563136
         ],
         "yaxis": "y"
        },
        {
         "customdata": [
          [
           2000
          ],
          [
           2001
          ],
          [
           2002
          ],
          [
           2003
          ],
          [
           2004
          ],
          [
           2005
          ],
          [
           2006
          ],
          [
           2007
          ],
          [
           2008
          ],
          [
           2009
          ],
          [
           2010
          ],
          [
           2011
          ],
          [
           2012
          ],
          [
           2013
          ],
          [
           2014
          ],
          [
           2015
          ],
          [
           2016
          ],
          [
           2017
          ],
          [
           2018
          ],
          [
           2019
          ],
          [
           2020
          ]
         ],
         "hovertemplate": "Entity=Thailand<br>GDP per capita (constant 2015 US$)=%{x}<br>a_b_ratio=%{y}<br>Year=%{customdata[0]}<extra></extra>",
         "legendgroup": "Thailand",
         "marker": {
          "color": "#FF6692",
          "symbol": "circle"
         },
         "mode": "markers",
         "name": "Thailand",
         "showlegend": true,
         "type": "scattergl",
         "x": [
          3517.798828125,
          3605.3681640625,
          3795.41064453125,
          4037.97119140625,
          4262.51904296875,
          4412.4443359375,
          4603.75244140625,
          4826.87158203125,
          4884.41796875,
          4826.3212890625,
          5163.59765625,
          5182.04248046875,
          5531.34912109375,
          5654.28564453125,
          5685.40234375,
          5840.05322265625,
          6018.17724609375,
          6247.9921875,
          6489.25732421875,
          6617.54296875,
          6198.4140625
         ],
         "xaxis": "x",
         "y": [
          1.3206672742359808,
          0.4020431016599368,
          0.1074388545236802,
          0.3819259193392218,
          0.2426843900684422,
          0.2518939140728784,
          0.0817255514846245,
          0.0553670482144635,
          0.0451519303044309,
          0.0299349735693353,
          0.1085388462434895,
          0.1571758457748687,
          0.1673004321296416,
          0.2154398047675578,
          0.3782110201371783,
          0.1189283790539924,
          0.0883764665253172,
          0.0387880043456105,
          0.0227759022181591,
          0.0440344732147555,
          0.0211260716654552
         ],
         "yaxis": "y"
        },
        {
         "customdata": [
          [
           2000
          ],
          [
           2001
          ],
          [
           2002
          ],
          [
           2003
          ],
          [
           2004
          ],
          [
           2005
          ],
          [
           2006
          ],
          [
           2007
          ],
          [
           2008
          ],
          [
           2009
          ],
          [
           2010
          ],
          [
           2011
          ],
          [
           2012
          ],
          [
           2013
          ],
          [
           2014
          ],
          [
           2015
          ],
          [
           2016
          ],
          [
           2017
          ],
          [
           2018
          ],
          [
           2019
          ],
          [
           2020
          ]
         ],
         "hovertemplate": "Entity=Timor<br>GDP per capita (constant 2015 US$)=%{x}<br>a_b_ratio=%{y}<br>Year=%{customdata[0]}<extra></extra>",
         "legendgroup": "Timor",
         "marker": {
          "color": "#B6E880",
          "symbol": "circle"
         },
         "mode": "markers",
         "name": "Timor",
         "showlegend": true,
         "type": "scattergl",
         "x": [
          941.5899658203124,
          1075.0377197265625,
          979.6478881835938,
          933.5706787109376,
          913.4077758789062,
          918.7274169921876,
          862.4158935546875,
          932.6149291992188,
          1020.10400390625,
          1103.863037109375,
          1185.623046875,
          1234.0782470703125,
          1271.3046875,
          1287.263671875,
          1321.23583984375,
          1332.7918701171875,
          1351.9244384765625,
          1285.139892578125,
          1251.4266357421875,
          1466.8148193359375,
          1587.857177734375
         ],
         "xaxis": "x",
         "y": [
          4.30344036148899,
          29.473585195122524,
          5.023921341002234,
          4.704739809544363,
          6.279116230246947,
          12.163191027093276,
          11.50242365316573,
          9.378350724811131,
          13.124529640441574,
          15.42875322722781,
          16.10484964519721,
          20.32372403940754,
          13.193481839844669,
          8.80713662167537,
          9.798774857744746,
          14.02362869478248,
          12.976004599172931,
          4.954803505040869,
          2.0763165193961246,
          2.5069468199262444,
          3.000004615391716
         ],
         "yaxis": "y"
        },
        {
         "customdata": [
          [
           2000
          ],
          [
           2001
          ],
          [
           2002
          ],
          [
           2003
          ],
          [
           2004
          ],
          [
           2005
          ],
          [
           2006
          ],
          [
           2007
          ],
          [
           2008
          ],
          [
           2009
          ],
          [
           2010
          ],
          [
           2011
          ],
          [
           2012
          ],
          [
           2013
          ],
          [
           2014
          ],
          [
           2015
          ],
          [
           2016
          ],
          [
           2017
          ],
          [
           2018
          ],
          [
           2019
          ],
          [
           2020
          ]
         ],
         "hovertemplate": "Entity=Togo<br>GDP per capita (constant 2015 US$)=%{x}<br>a_b_ratio=%{y}<br>Year=%{customdata[0]}<extra></extra>",
         "legendgroup": "Togo",
         "marker": {
          "color": "#FF97FF",
          "symbol": "circle"
         },
         "mode": "markers",
         "name": "Togo",
         "showlegend": true,
         "type": "scattergl",
         "x": [
          505.5008850097656,
          495.75390625,
          501.406494140625,
          521.69189453125,
          503.62939453125,
          467.81884765625,
          467.6141052246094,
          449.826904296875,
          455.5532836914063,
          467.9041442871094,
          483.2361145019531,
          500.5705261230469,
          519.3212280273438,
          536.72900390625,
          553.9094848632812,
          570.9099731445312,
          587.6580810546875,
          598.19140625,
          612.7857666015625,
          630.79052734375,
          626.6220703125
         ],
         "xaxis": "x",
         "y": [
          0.0838650946088122,
          0.5500026236874275,
          0.4316916176848151,
          1.2451577199778638,
          1.221875964136503,
          0.2065969197799917,
          0.2110909931558852,
          0.226538431583492,
          0.4290886077617468,
          0.7829805961467352,
          0.6603912255004746,
          1.1098474885810918,
          1.2358094855307786,
          1.2861939045666635,
          1.581969987573372,
          1.4010002633398777,
          2.423851323544211,
          2.329105838567879,
          2.4059612163028725,
          1.828197255568996,
          1.1809182095100517
         ],
         "yaxis": "y"
        },
        {
         "customdata": [
          [
           2000
          ],
          [
           2002
          ],
          [
           2003
          ],
          [
           2004
          ],
          [
           2005
          ],
          [
           2006
          ],
          [
           2007
          ],
          [
           2008
          ],
          [
           2009
          ],
          [
           2010
          ],
          [
           2011
          ],
          [
           2012
          ],
          [
           2013
          ],
          [
           2014
          ],
          [
           2015
          ],
          [
           2016
          ],
          [
           2017
          ],
          [
           2018
          ],
          [
           2019
          ],
          [
           2020
          ]
         ],
         "hovertemplate": "Entity=Tonga<br>GDP per capita (constant 2015 US$)=%{x}<br>a_b_ratio=%{y}<br>Year=%{customdata[0]}<extra></extra>",
         "legendgroup": "Tonga",
         "marker": {
          "color": "#FECB52",
          "symbol": "circle"
         },
         "mode": "markers",
         "name": "Tonga",
         "showlegend": true,
         "type": "scattergl",
         "x": [
          3672.40380859375,
          3951.98974609375,
          4020.1435546875,
          3898.840576171875,
          3875.16357421875,
          3838.741943359375,
          3816.764892578125,
          3966.859375,
          3742.0498046875,
          3769.069580078125,
          4042.500244140625,
          4108.384765625,
          4160.416015625,
          4275.70263671875,
          4336.23974609375,
          4604.5888671875,
          4717.50732421875,
          4676.7783203125,
          4652.58837890625,
          4629.88134765625
         ],
         "xaxis": "x",
         "y": [
          106.9966868056909,
          7.51285854635819,
          5.841457108382969,
          22.36944809336151,
          36.25383362992692,
          13.2765861283215,
          20.346738427206496,
          15.615503296086771,
          10.35843932847451,
          9.49711827636614,
          19.51219512195122,
          7.161658156384572,
          25.02217450165725,
          14.066148407243128,
          15.639721123045035,
          13.526167932577255,
          22.57421986151949,
          10.83990225070602,
          10.57495355594722,
          5.3199069016292215
         ],
         "yaxis": "y"
        },
        {
         "customdata": [
          [
           2004
          ],
          [
           2005
          ],
          [
           2008
          ],
          [
           2009
          ],
          [
           2010
          ]
         ],
         "hovertemplate": "Entity=Trinidad and Tobago<br>GDP per capita (constant 2015 US$)=%{x}<br>a_b_ratio=%{y}<br>Year=%{customdata[0]}<extra></extra>",
         "legendgroup": "Trinidad and Tobago",
         "marker": {
          "color": "#636efa",
          "symbol": "circle"
         },
         "mode": "markers",
         "name": "Trinidad and Tobago",
         "showlegend": true,
         "type": "scattergl",
         "x": [
          14488.8662109375,
          15312.720703125,
          18518.884765625,
          17618.833984375,
          18105.345703125
         ],
         "xaxis": "x",
         "y": [
          0.0881588033911753,
          0.2191255721003478,
          0.1076961074318929,
          0.2997437191201523,
          0.0141814100150535
         ],
         "yaxis": "y"
        },
        {
         "customdata": [
          [
           2000
          ],
          [
           2001
          ],
          [
           2002
          ],
          [
           2003
          ],
          [
           2004
          ],
          [
           2005
          ],
          [
           2006
          ],
          [
           2007
          ],
          [
           2008
          ],
          [
           2009
          ],
          [
           2010
          ],
          [
           2011
          ],
          [
           2012
          ],
          [
           2013
          ],
          [
           2014
          ],
          [
           2015
          ],
          [
           2016
          ],
          [
           2017
          ],
          [
           2018
          ],
          [
           2019
          ],
          [
           2020
          ]
         ],
         "hovertemplate": "Entity=Tunisia<br>GDP per capita (constant 2015 US$)=%{x}<br>a_b_ratio=%{y}<br>Year=%{customdata[0]}<extra></extra>",
         "legendgroup": "Tunisia",
         "marker": {
          "color": "#EF553B",
          "symbol": "circle"
         },
         "mode": "markers",
         "name": "Tunisia",
         "showlegend": true,
         "type": "scattergl",
         "x": [
          2881.283935546875,
          2964.5361328125,
          2980.2080078125,
          3097.125244140625,
          3264.97802734375,
          3350.563720703125,
          3493.6279296875,
          3690.582763671875,
          3806.461181640625,
          3880.846435546875,
          3975.72900390625,
          3870.7578125,
          3983.2509765625,
          4029.255859375,
          4097.0732421875,
          4094.836181640625,
          4095.175537109375,
          4139.65625,
          4195.2509765625,
          4206.9541015625,
          3780.60302734375
         ],
         "xaxis": "x",
         "y": [
          8.743267936384589,
          7.261547265839362,
          3.0868098909472463,
          3.351057182023815,
          3.961240664073772,
          8.558626592156271,
          10.83601372053005,
          8.7151722728037,
          9.99402549403434,
          9.315221782671593,
          11.93292778573194,
          13.590718864187894,
          8.530224126895943,
          4.419357955959337,
          8.782081788244295,
          10.426743754141691,
          13.699689859354187,
          13.279497395787695,
          19.37477792750213,
          9.46526521540346,
          24.05663014770937
         ],
         "yaxis": "y"
        },
        {
         "customdata": [
          [
           2000
          ],
          [
           2001
          ],
          [
           2002
          ],
          [
           2003
          ],
          [
           2004
          ],
          [
           2005
          ],
          [
           2006
          ],
          [
           2007
          ],
          [
           2008
          ],
          [
           2009
          ],
          [
           2010
          ],
          [
           2011
          ],
          [
           2012
          ],
          [
           2013
          ],
          [
           2014
          ],
          [
           2015
          ],
          [
           2016
          ],
          [
           2017
          ],
          [
           2018
          ],
          [
           2019
          ],
          [
           2020
          ]
         ],
         "hovertemplate": "Entity=Turkey<br>GDP per capita (constant 2015 US$)=%{x}<br>a_b_ratio=%{y}<br>Year=%{customdata[0]}<extra></extra>",
         "legendgroup": "Turkey",
         "marker": {
          "color": "#00cc96",
          "symbol": "circle"
         },
         "mode": "markers",
         "name": "Turkey",
         "showlegend": true,
         "type": "scattergl",
         "x": [
          6543.7314453125,
          6075.99560546875,
          6373.1318359375,
          6644.14599609375,
          7194.68212890625,
          7738.578125,
          8173.5361328125,
          8483.9658203125,
          8451.4794921875,
          7942.03125,
          8491.5888671875,
          9299.1376953125,
          9586.76953125,
          10225.7158203125,
          10549.67578125,
          11006.279296875,
          11187.0537109375,
          11835.2607421875,
          12006.8154296875,
          11955.43359375,
          12038.6279296875
         ],
         "xaxis": "x",
         "y": [
          0.9317843398715042,
          2.1428566159683755,
          0.85802616037203,
          1.2417126188570071,
          0.7604918368466925,
          0.2615541129114987,
          0.1298825792519361,
          0.0956450780872528,
          2.463098806282516,
          1.8876950747468544,
          1.4905318031669552,
          1.467902652923963,
          0.6604900485457529,
          1.142784460743114,
          2.1951794795743718,
          1.9551472251473816,
          0.94964909638926,
          0.6690232397136093,
          0.6056082780263435,
          0.624927469123528,
          0.7869455047191056
         ],
         "yaxis": "y"
        },
        {
         "customdata": [
          [
           2000
          ],
          [
           2001
          ],
          [
           2002
          ],
          [
           2003
          ],
          [
           2004
          ],
          [
           2006
          ],
          [
           2007
          ],
          [
           2009
          ],
          [
           2010
          ],
          [
           2011
          ],
          [
           2019
          ]
         ],
         "hovertemplate": "Entity=Turkmenistan<br>GDP per capita (constant 2015 US$)=%{x}<br>a_b_ratio=%{y}<br>Year=%{customdata[0]}<extra></extra>",
         "legendgroup": "Turkmenistan",
         "marker": {
          "color": "#ab63fa",
          "symbol": "circle"
         },
         "mode": "markers",
         "name": "Turkmenistan",
         "showlegend": true,
         "type": "scattergl",
         "x": [
          2288.24462890625,
          2362.55322265625,
          2345.02978515625,
          2397.896484375,
          2492.29638671875,
          3056.9169921875,
          3353.144775390625,
          3968.373046875,
          4265.94873046875,
          4810.89599609375,
          7692.57861328125
         ],
         "xaxis": "x",
         "y": [
          0.0043771961213665,
          0.0043149015123729,
          0.1042781272159102,
          0.0021012853142009,
          0.0020747779002127,
          0.010092789065553,
          0.013930633802046,
          0.0077205753913221,
          0.0037965252302829,
          0.0447693288312798,
          0.0016237920610857
         ],
         "yaxis": "y"
        },
        {
         "customdata": [
          [
           2002
          ],
          [
           2003
          ],
          [
           2007
          ],
          [
           2009
          ],
          [
           2010
          ],
          [
           2011
          ],
          [
           2012
          ],
          [
           2013
          ],
          [
           2014
          ],
          [
           2015
          ],
          [
           2016
          ],
          [
           2017
          ],
          [
           2018
          ],
          [
           2019
          ],
          [
           2020
          ]
         ],
         "hovertemplate": "Entity=Tuvalu<br>GDP per capita (constant 2015 US$)=%{x}<br>a_b_ratio=%{y}<br>Year=%{customdata[0]}<extra></extra>",
         "legendgroup": "Tuvalu",
         "marker": {
          "color": "#FFA15A",
          "symbol": "circle"
         },
         "mode": "markers",
         "name": "Tuvalu",
         "showlegend": true,
         "type": "scattergl",
         "x": [
          3091.979736328125,
          2948.6416015625,
          2892.96875,
          2929.822509765625,
          2820.600830078125,
          3002.629638671875,
          2855.74365234375,
          2957.542236328125,
          2963.538330078125,
          3197.772216796875,
          3255.80126953125,
          3349.43310546875,
          3391.39208984375,
          3674.35400390625,
          3791.45849609375
         ],
         "xaxis": "x",
         "y": [
          53.99792315680166,
          2.063344681729083,
          0,
          31.64860458425242,
          4.7303689687795645,
          227.6331747364493,
          117.69032732622289,
          254.98080789617987,
          18.311664530305805,
          283.59030837004406,
          125.0459727841118,
          93.08755760368663,
          7.350914269962327,
          2.7314941272876263,
          294.86023444544634
         ],
         "yaxis": "y"
        },
        {
         "customdata": [
          [
           2000
          ],
          [
           2001
          ],
          [
           2002
          ],
          [
           2003
          ],
          [
           2004
          ],
          [
           2005
          ],
          [
           2006
          ],
          [
           2007
          ],
          [
           2008
          ],
          [
           2009
          ],
          [
           2010
          ],
          [
           2011
          ],
          [
           2012
          ],
          [
           2013
          ],
          [
           2014
          ],
          [
           2015
          ],
          [
           2016
          ],
          [
           2017
          ],
          [
           2018
          ],
          [
           2019
          ],
          [
           2020
          ]
         ],
         "hovertemplate": "Entity=Uganda<br>GDP per capita (constant 2015 US$)=%{x}<br>a_b_ratio=%{y}<br>Year=%{customdata[0]}<extra></extra>",
         "legendgroup": "Uganda",
         "marker": {
          "color": "#19d3f3",
          "symbol": "circle"
         },
         "mode": "markers",
         "name": "Uganda",
         "showlegend": true,
         "type": "scattergl",
         "x": [
          516.7330322265625,
          527.0538940429688,
          555.3576049804688,
          572.7972412109375,
          592.6114501953125,
          610.4893188476562,
          655.3351440429688,
          688.4214477539062,
          725.1251831054688,
          750.2984008789062,
          767.738525390625,
          813.53515625,
          818.3074951171875,
          820.6864624023438,
          834.1526489257812,
          847.2676391601562,
          855.8971557617188,
          850.1621704101562,
          870.708740234375,
          894.5203857421875,
          891.2958984375
         ],
         "xaxis": "x",
         "y": [
          1.9658036752452364,
          2.8820843466597057,
          1.2569926331854355,
          2.690218154305449,
          2.46444404021177,
          3.443712230180817,
          3.057008198245383,
          5.5113425657490005,
          3.176349369980886,
          5.8928721618885405,
          4.76165092497852,
          2.494012897386446,
          2.8707481183017824,
          2.5537535641418527,
          2.496935316688345,
          3.364698406152238,
          3.44324712191304,
          3.617256529104424,
          3.7335542955144354,
          3.0522193306323984,
          3.7755090642845
         ],
         "yaxis": "y"
        },
        {
         "customdata": [
          [
           2005
          ],
          [
           2006
          ],
          [
           2007
          ],
          [
           2008
          ],
          [
           2009
          ],
          [
           2010
          ],
          [
           2011
          ],
          [
           2012
          ],
          [
           2013
          ],
          [
           2014
          ],
          [
           2015
          ],
          [
           2016
          ],
          [
           2017
          ],
          [
           2018
          ],
          [
           2019
          ],
          [
           2020
          ]
         ],
         "hovertemplate": "Entity=Ukraine<br>GDP per capita (constant 2015 US$)=%{x}<br>a_b_ratio=%{y}<br>Year=%{customdata[0]}<extra></extra>",
         "legendgroup": "Ukraine",
         "marker": {
          "color": "#FF6692",
          "symbol": "circle"
         },
         "mode": "markers",
         "name": "Ukraine",
         "showlegend": true,
         "type": "scattergl",
         "x": [
          2144.247802734375,
          2322.24462890625,
          2528.0810546875,
          2598.8330078125,
          2215.27197265625,
          2315.099853515625,
          2449.957763671875,
          2459.7568359375,
          2466.484130859375,
          2346.237060546875,
          2124.662353515625,
          2185.317138671875,
          2246.738525390625,
          2336.976318359375,
          2425.634521484375,
          2344.363037109375
         ],
         "xaxis": "x",
         "y": [
          0.1023178924833354,
          0.1070986624643355,
          0.0744930199392551,
          0.0301761051444918,
          0.0261643780539825,
          0.1155790387256325,
          0.1849893409229641,
          0.0112319393718412,
          0.0103736491301673,
          0.1577033012616795,
          0.2178621727421164,
          0.1572482475630759,
          0.7756857451621528,
          0.2634601355791506,
          0.7249310693468383,
          0.8189541145202113
         ],
         "yaxis": "y"
        },
        {
         "customdata": [
          [
           2002
          ],
          [
           2003
          ],
          [
           2004
          ],
          [
           2005
          ],
          [
           2006
          ],
          [
           2007
          ],
          [
           2008
          ],
          [
           2009
          ],
          [
           2010
          ],
          [
           2011
          ],
          [
           2012
          ],
          [
           2013
          ],
          [
           2014
          ],
          [
           2015
          ],
          [
           2016
          ],
          [
           2017
          ]
         ],
         "hovertemplate": "Entity=Uruguay<br>GDP per capita (constant 2015 US$)=%{x}<br>a_b_ratio=%{y}<br>Year=%{customdata[0]}<extra></extra>",
         "legendgroup": "Uruguay",
         "marker": {
          "color": "#B6E880",
          "symbol": "circle"
         },
         "mode": "markers",
         "name": "Uruguay",
         "showlegend": true,
         "type": "scattergl",
         "x": [
          8929.181640625,
          9007.5458984375,
          9464.4912109375,
          10169.5966796875,
          10574.9326171875,
          11245.2197265625,
          12021.638671875,
          12496.4033203125,
          13433.0625,
          14086.017578125,
          14541.0322265625,
          15168.4189453125,
          15609.021484375,
          15613.74609375,
          15821.359375,
          16020.380859375
         ],
         "xaxis": "x",
         "y": [
          0.009073186133994,
          0.2175092532061468,
          0.3681569579854451,
          0.4400684095385129,
          0.1986586328312888,
          0.1892660891947989,
          0.1378842737290592,
          0.586096183766272,
          0.2296688622413354,
          0.205257507442072,
          0.0889908262323598,
          0.1951977219834336,
          0.0412777224132135,
          0.1557531694300609,
          0.105455320923976,
          0.2133127618012363
         ],
         "yaxis": "y"
        },
        {
         "customdata": [
          [
           2000
          ],
          [
           2001
          ],
          [
           2002
          ],
          [
           2003
          ],
          [
           2004
          ],
          [
           2005
          ],
          [
           2006
          ],
          [
           2007
          ],
          [
           2008
          ],
          [
           2009
          ],
          [
           2010
          ],
          [
           2011
          ],
          [
           2012
          ],
          [
           2013
          ],
          [
           2014
          ],
          [
           2015
          ],
          [
           2016
          ],
          [
           2017
          ],
          [
           2018
          ],
          [
           2019
          ],
          [
           2020
          ]
         ],
         "hovertemplate": "Entity=Uzbekistan<br>GDP per capita (constant 2015 US$)=%{x}<br>a_b_ratio=%{y}<br>Year=%{customdata[0]}<extra></extra>",
         "legendgroup": "Uzbekistan",
         "marker": {
          "color": "#FF97FF",
          "symbol": "circle"
         },
         "mode": "markers",
         "name": "Uzbekistan",
         "showlegend": true,
         "type": "scattergl",
         "x": [
          1276.76025390625,
          1313.1922607421875,
          1348.7637939453125,
          1389.587158203125,
          1475.9696044921875,
          1560.2919921875,
          1656.2225341796875,
          1787.490234375,
          1917.849365234375,
          2037.58154296875,
          2131.357666015625,
          2231.052734375,
          2354.59375,
          2487.244384765625,
          2613.748291015625,
          2753.97119140625,
          2867.051025390625,
          2943.09912109375,
          3047.308349609375,
          3161.415283203125,
          3154.408203125
         ],
         "xaxis": "x",
         "y": [
          0.0918735700921921,
          0.0269323570089874,
          0.2928179612113546,
          0.4230694522547594,
          0.4040415745057999,
          0.3717999800402116,
          0.3799185525927603,
          0.3899724426797266,
          0.4850898876971827,
          0.3273236428494339,
          1.108888674077384,
          1.2657680699920877,
          1.7652407421630667,
          2.252761886072325,
          3.4338875002619345,
          3.5590332302231484,
          3.6863852936785313,
          2.117344191765522,
          3.0342459307174967,
          4.675084223990906,
          3.775502613412573
         ],
         "yaxis": "y"
        },
        {
         "customdata": [
          [
           2003
          ],
          [
           2004
          ],
          [
           2005
          ],
          [
           2006
          ],
          [
           2007
          ],
          [
           2008
          ],
          [
           2009
          ],
          [
           2010
          ],
          [
           2011
          ],
          [
           2012
          ],
          [
           2013
          ],
          [
           2014
          ],
          [
           2015
          ],
          [
           2016
          ],
          [
           2017
          ],
          [
           2018
          ],
          [
           2019
          ],
          [
           2020
          ]
         ],
         "hovertemplate": "Entity=Vanuatu<br>GDP per capita (constant 2015 US$)=%{x}<br>a_b_ratio=%{y}<br>Year=%{customdata[0]}<extra></extra>",
         "legendgroup": "Vanuatu",
         "marker": {
          "color": "#FECB52",
          "symbol": "circle"
         },
         "mode": "markers",
         "name": "Vanuatu",
         "showlegend": true,
         "type": "scattergl",
         "x": [
          2518.56591796875,
          2552.74755859375,
          2621.912841796875,
          2776.247314453125,
          2789.798583984375,
          2877.4599609375,
          2893.46533203125,
          2855.8681640625,
          2867.2861328125,
          2816.7666015625,
          2751.32080078125,
          2759.370849609375,
          2695.666259765625,
          2749.073974609375,
          2849.263427734375,
          2860.012451171875,
          2900.488037109375,
          2638.892333984375
         ],
         "xaxis": "x",
         "y": [
          2.55700184297114,
          0.9885562841581502,
          1.6540925005283906,
          1.345689755712453,
          14.75746521923813,
          35.34686515619724,
          5.173133083020442,
          3.34061206531304,
          4.735206458980777,
          0.9326581924307016,
          6.867845204081245,
          16.966607641641538,
          10.851871947911016,
          9.073609213420468,
          7.441860465116279,
          4.877113556021217,
          15.833700158337,
          20.693372345954685
         ],
         "yaxis": "y"
        },
        {
         "customdata": [
          [
           2000
          ],
          [
           2001
          ],
          [
           2002
          ],
          [
           2003
          ],
          [
           2004
          ],
          [
           2005
          ],
          [
           2006
          ],
          [
           2007
          ],
          [
           2008
          ],
          [
           2009
          ],
          [
           2010
          ],
          [
           2011
          ],
          [
           2012
          ],
          [
           2013
          ],
          [
           2014
          ],
          [
           2015
          ],
          [
           2016
          ],
          [
           2017
          ],
          [
           2018
          ],
          [
           2019
          ],
          [
           2020
          ]
         ],
         "hovertemplate": "Entity=Vietnam<br>GDP per capita (constant 2015 US$)=%{x}<br>a_b_ratio=%{y}<br>Year=%{customdata[0]}<extra></extra>",
         "legendgroup": "Vietnam",
         "marker": {
          "color": "#636efa",
          "symbol": "circle"
         },
         "mode": "markers",
         "name": "Vietnam",
         "showlegend": true,
         "type": "scattergl",
         "x": [
          957.0037231445312,
          1005.7968139648438,
          1058.985107421875,
          1121.491943359375,
          1194.96044921875,
          1273.345458984375,
          1349.563720703125,
          1432.205810546875,
          1498.83837890625,
          1564.3475341796875,
          1648.2618408203125,
          1733.311279296875,
          1805.3612060546875,
          1883.30859375,
          1975.0791015625,
          2085.101318359375,
          2191.819580078125,
          2317.369140625,
          2456.791259765625,
          2604.22412109375,
          2655.767822265625
         ],
         "xaxis": "x",
         "y": [
          2.1616142672566867,
          6.305613557121768,
          0.9781466561272852,
          1.3797959384659615,
          1.3708943148852395,
          1.7803255765887835,
          1.9764912723729569,
          3.1366549495039493,
          3.3888946315460293,
          3.7807465335351766,
          4.371760190958082,
          4.182045807731112,
          4.476081251557647,
          5.429293141903991,
          5.78031552278157,
          6.239952967413446,
          6.574603532948205,
          5.5612363006674,
          6.008365775923736,
          4.353772344993426,
          4.429134469296425
         ],
         "yaxis": "y"
        },
        {
         "customdata": [
          [
           2000
          ],
          [
           2001
          ],
          [
           2002
          ],
          [
           2003
          ],
          [
           2004
          ],
          [
           2005
          ],
          [
           2006
          ],
          [
           2007
          ],
          [
           2008
          ],
          [
           2009
          ],
          [
           2010
          ],
          [
           2011
          ],
          [
           2012
          ],
          [
           2013
          ],
          [
           2014
          ],
          [
           2015
          ],
          [
           2016
          ],
          [
           2017
          ],
          [
           2018
          ]
         ],
         "hovertemplate": "Entity=Yemen<br>GDP per capita (constant 2015 US$)=%{x}<br>a_b_ratio=%{y}<br>Year=%{customdata[0]}<extra></extra>",
         "legendgroup": "Yemen",
         "marker": {
          "color": "#EF553B",
          "symbol": "circle"
         },
         "mode": "markers",
         "name": "Yemen",
         "showlegend": true,
         "type": "scattergl",
         "x": [
          2383.748046875,
          2404.08642578125,
          2427.52490234375,
          2446.684326171875,
          2471.616943359375,
          2536.188720703125,
          2543.2080078125,
          2554.653076171875,
          2574.10107421875,
          2599.489990234375,
          2722.521484375,
          2311.205078125,
          2302.148193359375,
          2348.517578125,
          2282.69189453125,
          1601.830078125,
          1415.83935546875,
          1311.8433837890625,
          1290.92529296875
         ],
         "xaxis": "x",
         "y": [
          5.59029763959962,
          0.3139454025438249,
          1.8341193190748104,
          1.4096925027738152,
          1.4069082523151286,
          3.536004205495173,
          3.088821860973972,
          3.0360128362304715,
          2.9379731877154827,
          2.517728763956645,
          2.3836135419640456,
          0.9522834548247092,
          1.3930311832299334,
          2.255409945031146,
          2.1114598583015862,
          0.6224455186587775,
          1.4258381410677936,
          1.246238228409264,
          1.7508639186731343
         ],
         "yaxis": "y"
        },
        {
         "customdata": [
          [
           2000
          ],
          [
           2001
          ],
          [
           2002
          ],
          [
           2003
          ],
          [
           2004
          ],
          [
           2005
          ],
          [
           2006
          ],
          [
           2007
          ],
          [
           2008
          ],
          [
           2009
          ],
          [
           2010
          ],
          [
           2011
          ],
          [
           2012
          ],
          [
           2013
          ],
          [
           2014
          ],
          [
           2015
          ],
          [
           2016
          ],
          [
           2017
          ],
          [
           2018
          ],
          [
           2019
          ],
          [
           2020
          ]
         ],
         "hovertemplate": "Entity=Zambia<br>GDP per capita (constant 2015 US$)=%{x}<br>a_b_ratio=%{y}<br>Year=%{customdata[0]}<extra></extra>",
         "legendgroup": "Zambia",
         "marker": {
          "color": "#00cc96",
          "symbol": "circle"
         },
         "mode": "markers",
         "name": "Zambia",
         "showlegend": true,
         "type": "scattergl",
         "x": [
          773.720703125,
          793.8048706054688,
          808.4402465820312,
          842.6937255859375,
          879.00537109375,
          918.3103637695312,
          965.0655517578124,
          1018.1196899414062,
          1067.7552490234375,
          1133.8533935546875,
          1214.6949462890625,
          1244.1378173828125,
          1297.7625732421875,
          1321.248779296875,
          1340.81103515625,
          1338.2908935546875,
          1347.748046875,
          1354.4071044921875,
          1368.601806640625,
          1348.7384033203125,
          1273.8795166015625
         ],
         "xaxis": "x",
         "y": [
          12.637572615492248,
          3.389924966390194,
          3.64093353307397,
          4.227728603444317,
          5.2493536850588,
          5.081767427816335,
          4.93168356934942,
          4.296054258004183,
          3.0739981613585283,
          4.309926029955938,
          2.840757694896968,
          3.862377665671468,
          4.827509779471377,
          6.5946936837970735,
          6.695346667347829,
          6.924446113549223,
          8.815728375850844,
          8.544312725083095,
          8.364591454828908,
          4.703359727641469,
          3.638051204910302
         ],
         "yaxis": "y"
        },
        {
         "customdata": [
          [
           2000
          ],
          [
           2001
          ],
          [
           2002
          ],
          [
           2003
          ],
          [
           2004
          ],
          [
           2005
          ],
          [
           2006
          ],
          [
           2007
          ],
          [
           2008
          ],
          [
           2009
          ],
          [
           2010
          ],
          [
           2011
          ],
          [
           2012
          ],
          [
           2013
          ],
          [
           2014
          ],
          [
           2015
          ],
          [
           2016
          ],
          [
           2017
          ],
          [
           2018
          ],
          [
           2019
          ],
          [
           2020
          ]
         ],
         "hovertemplate": "Entity=Zimbabwe<br>GDP per capita (constant 2015 US$)=%{x}<br>a_b_ratio=%{y}<br>Year=%{customdata[0]}<extra></extra>",
         "legendgroup": "Zimbabwe",
         "marker": {
          "color": "#ab63fa",
          "symbol": "circle"
         },
         "mode": "markers",
         "name": "Zimbabwe",
         "showlegend": true,
         "type": "scattergl",
         "x": [
          1696.7532958984375,
          1715.05615234375,
          1558.546875,
          1290.6556396484375,
          1211.8880615234375,
          1137.30322265625,
          1090.8179931640625,
          1042.3553466796875,
          849.611572265625,
          940.5316772460938,
          1110.447021484375,
          1248.729248046875,
          1432.305908203125,
          1435.0626220703125,
          1443.6177978515625,
          1445.0697021484375,
          1433.6087646484375,
          1479.3760986328125,
          1529.0263671875,
          1414.8291015625,
          1307.013671875
         ],
         "xaxis": "x",
         "y": [
          0.2999658883861573,
          0.2166068437184141,
          0.1660458304848963,
          0.1788696185398359,
          0.0764746973596082,
          0.0924353676367254,
          0.1694985357435106,
          0.0273079954758683,
          0.9840360665552594,
          0.9085308204885056,
          1.264040940284463,
          2.3461150798619568,
          4.353453374062057,
          3.647249587249971,
          3.28094644840073,
          1.763342358923957,
          1.06000918167222,
          1.644623001361051,
          1.962504993459092,
          0.7945498568963606,
          1.1519073511663906
         ],
         "yaxis": "y"
        }
       ],
       "layout": {
        "legend": {
         "title": {
          "text": "Entity"
         },
         "tracegroupgap": 0
        },
        "margin": {
         "t": 60
        },
        "template": {
         "data": {
          "bar": [
           {
            "error_x": {
             "color": "#2a3f5f"
            },
            "error_y": {
             "color": "#2a3f5f"
            },
            "marker": {
             "line": {
              "color": "#E5ECF6",
              "width": 0.5
             },
             "pattern": {
              "fillmode": "overlay",
              "size": 10,
              "solidity": 0.2
             }
            },
            "type": "bar"
           }
          ],
          "barpolar": [
           {
            "marker": {
             "line": {
              "color": "#E5ECF6",
              "width": 0.5
             },
             "pattern": {
              "fillmode": "overlay",
              "size": 10,
              "solidity": 0.2
             }
            },
            "type": "barpolar"
           }
          ],
          "carpet": [
           {
            "aaxis": {
             "endlinecolor": "#2a3f5f",
             "gridcolor": "white",
             "linecolor": "white",
             "minorgridcolor": "white",
             "startlinecolor": "#2a3f5f"
            },
            "baxis": {
             "endlinecolor": "#2a3f5f",
             "gridcolor": "white",
             "linecolor": "white",
             "minorgridcolor": "white",
             "startlinecolor": "#2a3f5f"
            },
            "type": "carpet"
           }
          ],
          "choropleth": [
           {
            "colorbar": {
             "outlinewidth": 0,
             "ticks": ""
            },
            "type": "choropleth"
           }
          ],
          "contour": [
           {
            "colorbar": {
             "outlinewidth": 0,
             "ticks": ""
            },
            "colorscale": [
             [
              0,
              "#0d0887"
             ],
             [
              0.1111111111111111,
              "#46039f"
             ],
             [
              0.2222222222222222,
              "#7201a8"
             ],
             [
              0.3333333333333333,
              "#9c179e"
             ],
             [
              0.4444444444444444,
              "#bd3786"
             ],
             [
              0.5555555555555556,
              "#d8576b"
             ],
             [
              0.6666666666666666,
              "#ed7953"
             ],
             [
              0.7777777777777778,
              "#fb9f3a"
             ],
             [
              0.8888888888888888,
              "#fdca26"
             ],
             [
              1,
              "#f0f921"
             ]
            ],
            "type": "contour"
           }
          ],
          "contourcarpet": [
           {
            "colorbar": {
             "outlinewidth": 0,
             "ticks": ""
            },
            "type": "contourcarpet"
           }
          ],
          "heatmap": [
           {
            "colorbar": {
             "outlinewidth": 0,
             "ticks": ""
            },
            "colorscale": [
             [
              0,
              "#0d0887"
             ],
             [
              0.1111111111111111,
              "#46039f"
             ],
             [
              0.2222222222222222,
              "#7201a8"
             ],
             [
              0.3333333333333333,
              "#9c179e"
             ],
             [
              0.4444444444444444,
              "#bd3786"
             ],
             [
              0.5555555555555556,
              "#d8576b"
             ],
             [
              0.6666666666666666,
              "#ed7953"
             ],
             [
              0.7777777777777778,
              "#fb9f3a"
             ],
             [
              0.8888888888888888,
              "#fdca26"
             ],
             [
              1,
              "#f0f921"
             ]
            ],
            "type": "heatmap"
           }
          ],
          "heatmapgl": [
           {
            "colorbar": {
             "outlinewidth": 0,
             "ticks": ""
            },
            "colorscale": [
             [
              0,
              "#0d0887"
             ],
             [
              0.1111111111111111,
              "#46039f"
             ],
             [
              0.2222222222222222,
              "#7201a8"
             ],
             [
              0.3333333333333333,
              "#9c179e"
             ],
             [
              0.4444444444444444,
              "#bd3786"
             ],
             [
              0.5555555555555556,
              "#d8576b"
             ],
             [
              0.6666666666666666,
              "#ed7953"
             ],
             [
              0.7777777777777778,
              "#fb9f3a"
             ],
             [
              0.8888888888888888,
              "#fdca26"
             ],
             [
              1,
              "#f0f921"
             ]
            ],
            "type": "heatmapgl"
           }
          ],
          "histogram": [
           {
            "marker": {
             "pattern": {
              "fillmode": "overlay",
              "size": 10,
              "solidity": 0.2
             }
            },
            "type": "histogram"
           }
          ],
          "histogram2d": [
           {
            "colorbar": {
             "outlinewidth": 0,
             "ticks": ""
            },
            "colorscale": [
             [
              0,
              "#0d0887"
             ],
             [
              0.1111111111111111,
              "#46039f"
             ],
             [
              0.2222222222222222,
              "#7201a8"
             ],
             [
              0.3333333333333333,
              "#9c179e"
             ],
             [
              0.4444444444444444,
              "#bd3786"
             ],
             [
              0.5555555555555556,
              "#d8576b"
             ],
             [
              0.6666666666666666,
              "#ed7953"
             ],
             [
              0.7777777777777778,
              "#fb9f3a"
             ],
             [
              0.8888888888888888,
              "#fdca26"
             ],
             [
              1,
              "#f0f921"
             ]
            ],
            "type": "histogram2d"
           }
          ],
          "histogram2dcontour": [
           {
            "colorbar": {
             "outlinewidth": 0,
             "ticks": ""
            },
            "colorscale": [
             [
              0,
              "#0d0887"
             ],
             [
              0.1111111111111111,
              "#46039f"
             ],
             [
              0.2222222222222222,
              "#7201a8"
             ],
             [
              0.3333333333333333,
              "#9c179e"
             ],
             [
              0.4444444444444444,
              "#bd3786"
             ],
             [
              0.5555555555555556,
              "#d8576b"
             ],
             [
              0.6666666666666666,
              "#ed7953"
             ],
             [
              0.7777777777777778,
              "#fb9f3a"
             ],
             [
              0.8888888888888888,
              "#fdca26"
             ],
             [
              1,
              "#f0f921"
             ]
            ],
            "type": "histogram2dcontour"
           }
          ],
          "mesh3d": [
           {
            "colorbar": {
             "outlinewidth": 0,
             "ticks": ""
            },
            "type": "mesh3d"
           }
          ],
          "parcoords": [
           {
            "line": {
             "colorbar": {
              "outlinewidth": 0,
              "ticks": ""
             }
            },
            "type": "parcoords"
           }
          ],
          "pie": [
           {
            "automargin": true,
            "type": "pie"
           }
          ],
          "scatter": [
           {
            "fillpattern": {
             "fillmode": "overlay",
             "size": 10,
             "solidity": 0.2
            },
            "type": "scatter"
           }
          ],
          "scatter3d": [
           {
            "line": {
             "colorbar": {
              "outlinewidth": 0,
              "ticks": ""
             }
            },
            "marker": {
             "colorbar": {
              "outlinewidth": 0,
              "ticks": ""
             }
            },
            "type": "scatter3d"
           }
          ],
          "scattercarpet": [
           {
            "marker": {
             "colorbar": {
              "outlinewidth": 0,
              "ticks": ""
             }
            },
            "type": "scattercarpet"
           }
          ],
          "scattergeo": [
           {
            "marker": {
             "colorbar": {
              "outlinewidth": 0,
              "ticks": ""
             }
            },
            "type": "scattergeo"
           }
          ],
          "scattergl": [
           {
            "marker": {
             "colorbar": {
              "outlinewidth": 0,
              "ticks": ""
             }
            },
            "type": "scattergl"
           }
          ],
          "scattermapbox": [
           {
            "marker": {
             "colorbar": {
              "outlinewidth": 0,
              "ticks": ""
             }
            },
            "type": "scattermapbox"
           }
          ],
          "scatterpolar": [
           {
            "marker": {
             "colorbar": {
              "outlinewidth": 0,
              "ticks": ""
             }
            },
            "type": "scatterpolar"
           }
          ],
          "scatterpolargl": [
           {
            "marker": {
             "colorbar": {
              "outlinewidth": 0,
              "ticks": ""
             }
            },
            "type": "scatterpolargl"
           }
          ],
          "scatterternary": [
           {
            "marker": {
             "colorbar": {
              "outlinewidth": 0,
              "ticks": ""
             }
            },
            "type": "scatterternary"
           }
          ],
          "surface": [
           {
            "colorbar": {
             "outlinewidth": 0,
             "ticks": ""
            },
            "colorscale": [
             [
              0,
              "#0d0887"
             ],
             [
              0.1111111111111111,
              "#46039f"
             ],
             [
              0.2222222222222222,
              "#7201a8"
             ],
             [
              0.3333333333333333,
              "#9c179e"
             ],
             [
              0.4444444444444444,
              "#bd3786"
             ],
             [
              0.5555555555555556,
              "#d8576b"
             ],
             [
              0.6666666666666666,
              "#ed7953"
             ],
             [
              0.7777777777777778,
              "#fb9f3a"
             ],
             [
              0.8888888888888888,
              "#fdca26"
             ],
             [
              1,
              "#f0f921"
             ]
            ],
            "type": "surface"
           }
          ],
          "table": [
           {
            "cells": {
             "fill": {
              "color": "#EBF0F8"
             },
             "line": {
              "color": "white"
             }
            },
            "header": {
             "fill": {
              "color": "#C8D4E3"
             },
             "line": {
              "color": "white"
             }
            },
            "type": "table"
           }
          ]
         },
         "layout": {
          "annotationdefaults": {
           "arrowcolor": "#2a3f5f",
           "arrowhead": 0,
           "arrowwidth": 1
          },
          "autotypenumbers": "strict",
          "coloraxis": {
           "colorbar": {
            "outlinewidth": 0,
            "ticks": ""
           }
          },
          "colorscale": {
           "diverging": [
            [
             0,
             "#8e0152"
            ],
            [
             0.1,
             "#c51b7d"
            ],
            [
             0.2,
             "#de77ae"
            ],
            [
             0.3,
             "#f1b6da"
            ],
            [
             0.4,
             "#fde0ef"
            ],
            [
             0.5,
             "#f7f7f7"
            ],
            [
             0.6,
             "#e6f5d0"
            ],
            [
             0.7,
             "#b8e186"
            ],
            [
             0.8,
             "#7fbc41"
            ],
            [
             0.9,
             "#4d9221"
            ],
            [
             1,
             "#276419"
            ]
           ],
           "sequential": [
            [
             0,
             "#0d0887"
            ],
            [
             0.1111111111111111,
             "#46039f"
            ],
            [
             0.2222222222222222,
             "#7201a8"
            ],
            [
             0.3333333333333333,
             "#9c179e"
            ],
            [
             0.4444444444444444,
             "#bd3786"
            ],
            [
             0.5555555555555556,
             "#d8576b"
            ],
            [
             0.6666666666666666,
             "#ed7953"
            ],
            [
             0.7777777777777778,
             "#fb9f3a"
            ],
            [
             0.8888888888888888,
             "#fdca26"
            ],
            [
             1,
             "#f0f921"
            ]
           ],
           "sequentialminus": [
            [
             0,
             "#0d0887"
            ],
            [
             0.1111111111111111,
             "#46039f"
            ],
            [
             0.2222222222222222,
             "#7201a8"
            ],
            [
             0.3333333333333333,
             "#9c179e"
            ],
            [
             0.4444444444444444,
             "#bd3786"
            ],
            [
             0.5555555555555556,
             "#d8576b"
            ],
            [
             0.6666666666666666,
             "#ed7953"
            ],
            [
             0.7777777777777778,
             "#fb9f3a"
            ],
            [
             0.8888888888888888,
             "#fdca26"
            ],
            [
             1,
             "#f0f921"
            ]
           ]
          },
          "colorway": [
           "#636efa",
           "#EF553B",
           "#00cc96",
           "#ab63fa",
           "#FFA15A",
           "#19d3f3",
           "#FF6692",
           "#B6E880",
           "#FF97FF",
           "#FECB52"
          ],
          "font": {
           "color": "#2a3f5f"
          },
          "geo": {
           "bgcolor": "white",
           "lakecolor": "white",
           "landcolor": "#E5ECF6",
           "showlakes": true,
           "showland": true,
           "subunitcolor": "white"
          },
          "hoverlabel": {
           "align": "left"
          },
          "hovermode": "closest",
          "mapbox": {
           "style": "light"
          },
          "paper_bgcolor": "white",
          "plot_bgcolor": "#E5ECF6",
          "polar": {
           "angularaxis": {
            "gridcolor": "white",
            "linecolor": "white",
            "ticks": ""
           },
           "bgcolor": "#E5ECF6",
           "radialaxis": {
            "gridcolor": "white",
            "linecolor": "white",
            "ticks": ""
           }
          },
          "scene": {
           "xaxis": {
            "backgroundcolor": "#E5ECF6",
            "gridcolor": "white",
            "gridwidth": 2,
            "linecolor": "white",
            "showbackground": true,
            "ticks": "",
            "zerolinecolor": "white"
           },
           "yaxis": {
            "backgroundcolor": "#E5ECF6",
            "gridcolor": "white",
            "gridwidth": 2,
            "linecolor": "white",
            "showbackground": true,
            "ticks": "",
            "zerolinecolor": "white"
           },
           "zaxis": {
            "backgroundcolor": "#E5ECF6",
            "gridcolor": "white",
            "gridwidth": 2,
            "linecolor": "white",
            "showbackground": true,
            "ticks": "",
            "zerolinecolor": "white"
           }
          },
          "shapedefaults": {
           "line": {
            "color": "#2a3f5f"
           }
          },
          "ternary": {
           "aaxis": {
            "gridcolor": "white",
            "linecolor": "white",
            "ticks": ""
           },
           "baxis": {
            "gridcolor": "white",
            "linecolor": "white",
            "ticks": ""
           },
           "bgcolor": "#E5ECF6",
           "caxis": {
            "gridcolor": "white",
            "linecolor": "white",
            "ticks": ""
           }
          },
          "title": {
           "x": 0.05
          },
          "xaxis": {
           "automargin": true,
           "gridcolor": "white",
           "linecolor": "white",
           "ticks": "",
           "title": {
            "standoff": 15
           },
           "zerolinecolor": "white",
           "zerolinewidth": 2
          },
          "yaxis": {
           "automargin": true,
           "gridcolor": "white",
           "linecolor": "white",
           "ticks": "",
           "title": {
            "standoff": 15
           },
           "zerolinecolor": "white",
           "zerolinewidth": 2
          }
         }
        },
        "xaxis": {
         "anchor": "y",
         "domain": [
          0,
          1
         ],
         "title": {
          "text": "GDP per capita (constant 2015 US$)"
         }
        },
        "yaxis": {
         "anchor": "x",
         "domain": [
          0,
          1
         ],
         "title": {
          "text": "a_b_ratio"
         }
        }
       }
      }
     },
     "metadata": {},
     "output_type": "display_data"
    }
   ],
   "source": [
    "fig = px.scatter(merged_df_2, x=\"GDP per capita (constant 2015 US$)\", y=\"a_b_ratio\", color=\"Entity\", hover_data=[\"Year\"])\n",
    "fig.show()"
   ]
  },
  {
   "attachments": {},
   "cell_type": "markdown",
   "metadata": {},
   "source": [
    "# Conclusion"
   ]
  },
  {
   "attachments": {},
   "cell_type": "markdown",
   "metadata": {},
   "source": [
    "* For every dollar invested in water and sanitation, there is a $4.3 return in the form of reduced health care costs for individuals and society around the world, where 2.5 billion people still lack access to basic sanitation services, with 1 billion practicing open defection, the United Nations World Health Organization (WHO) said today. \n",
    "(19 November 2014)"
   ]
  },
  {
   "attachments": {},
   "cell_type": "markdown",
   "metadata": {},
   "source": [
    "* Research by Vivid Economics for international NGO WaterAid has shown that each dollar invested in water, sanitation and hygiene (WASH) could generate up to a $21 return.(20 September 2021)"
   ]
  }
 ],
 "metadata": {
  "kernelspec": {
   "display_name": "Python 3",
   "language": "python",
   "name": "python3"
  },
  "language_info": {
   "codemirror_mode": {
    "name": "ipython",
    "version": 3
   },
   "file_extension": ".py",
   "mimetype": "text/x-python",
   "name": "python",
   "nbconvert_exporter": "python",
   "pygments_lexer": "ipython3",
   "version": "3.11.1"
  },
  "orig_nbformat": 4
 },
 "nbformat": 4,
 "nbformat_minor": 2
}
